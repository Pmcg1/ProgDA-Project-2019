{
 "cells": [
  {
   "cell_type": "markdown",
   "metadata": {},
   "source": [
    "<img src=\"images/GMIT logo.jpeg\" width=\"350\" align=\"center\">"
   ]
  },
  {
   "cell_type": "markdown",
   "metadata": {},
   "source": [
    "# Programming for Data Analysis Project 2019"
   ]
  },
  {
   "cell_type": "markdown",
   "metadata": {},
   "source": [
    "Peter McGowan\n",
    "G00190832"
   ]
  },
  {
   "cell_type": "markdown",
   "metadata": {},
   "source": [
    "### Tasks:\n",
    "1. Choose a real-world phenomenon that can be measured and for which you could collect at least one-hundred data points across at least four different variables.\n",
    "2. Investigate the types of variables involved, their likely distributions, and their relationships with each other.\n",
    "3. Synthesise/simulate a data set as closely matching their properties as possible.\n",
    "4. Detail your research and implement the simulation in a Jupyter notebook – the data set itself can simply be displayed in an output cell within the notebook."
   ]
  },
  {
   "cell_type": "markdown",
   "metadata": {},
   "source": [
    "## Background"
   ]
  },
  {
   "cell_type": "markdown",
   "metadata": {},
   "source": [
    "I have chosen to simulate data about Adult Education in Ireland. I have chosen the following variables:\n",
    "* Highest Qualification Awarded\n",
    "* Field of Study\n",
    "* Gender\n",
    "* Age"
   ]
  },
  {
   "cell_type": "markdown",
   "metadata": {},
   "source": []
  },
  {
   "cell_type": "markdown",
   "metadata": {},
   "source": [
    "## Research and Investigate"
   ]
  },
  {
   "cell_type": "markdown",
   "metadata": {},
   "source": [
    "### General"
   ]
  },
  {
   "cell_type": "markdown",
   "metadata": {},
   "source": [
    "The Central Statistics Office (CSO) is perhaps best known for carrying out a census every 5 years in Ireland (most recently in 2016). In addition to this, the CSO carries out a range of other important statistical work covering a broad range of themes on a rotational basis."
   ]
  },
  {
   "cell_type": "markdown",
   "metadata": {},
   "source": [
    "The General Household Survey occurs approximately quarterly and the theme varies. In Q3 & Q4 2019 the theme covered was Adult Education. Considering the HDip in Data Analytics and the makeup of its student cohort (myself included), the Adult Education Survey (AES) immediately piqued my interest when I came across it."
   ]
  },
  {
   "cell_type": "markdown",
   "metadata": {},
   "source": [
    "*** links to documents"
   ]
  },
  {
   "cell_type": "markdown",
   "metadata": {},
   "source": [
    "Considering the results of this survey and the characteristics of its variables studied, I will simulate a dataset matching its qualities."
   ]
  },
  {
   "cell_type": "markdown",
   "metadata": {},
   "source": [
    "### Sample Data Characteristics"
   ]
  },
  {
   "cell_type": "markdown",
   "metadata": {},
   "source": [
    "The design sample size for the survey carried out was 13,200. Of this, 4,863 valid responses were collated. I intend to simulate the 334 <i>\"Persons aged 25-64 who participated in formal education, classified by the level of education participation.\"</i>"
   ]
  },
  {
   "cell_type": "markdown",
   "metadata": {},
   "source": [
    "### Level of Education Participation"
   ]
  },
  {
   "cell_type": "markdown",
   "metadata": {},
   "source": [
    "The National Framework of Qualifications (NFQ) outlines a ten level framework for qualifications."
   ]
  },
  {
   "cell_type": "markdown",
   "metadata": {},
   "source": [
    "https://nfq.qqi.ie/"
   ]
  },
  {
   "cell_type": "markdown",
   "metadata": {},
   "source": [
    "NFQ Level:\n",
    "0. No formal education or training\n",
    "1. Primary or below\n",
    "2. Primary or below\n",
    "3. Lower Secondary\n",
    "4. Higher Secondary, Post Leaving Certificate\n",
    "4. Higher Secondary, Post Leaving Certificate\n",
    "6. Post Leaving Certificate, Higher Certificate and Equivalent\n",
    "7. Ordinary Degree or Equivalent\n",
    "8. Honours Bachelor Degree, Graduate Diploma, Higher Diploma\n",
    "9. Masters Degree, Post Graduate Diploma\n",
    "10. Doctoral Degree, Higher Doctorate"
   ]
  },
  {
   "cell_type": "markdown",
   "metadata": {},
   "source": [
    "Unfortunately, the AES aggregates these levels into the following categories for my sample group:\n",
    "* Higher Secondary or Below (14.60%)\n",
    "* Post Leaving Certificate (30.30%)\n",
    "* Third Level Non-Honours Degree (17.60%)\n",
    "* Third Level Honours Degree or Higher (37.50%)\n",
    "\n",
    "Without further information, I will simulate a dataset approximating this range, with 4 categories. I will try and find another way to break this down if I can."
   ]
  },
  {
   "cell_type": "markdown",
   "metadata": {},
   "source": [
    "### Field of Study"
   ]
  },
  {
   "cell_type": "markdown",
   "metadata": {},
   "source": [
    "The AES categories education into 12 different fields:\n",
    "* General Programmes & Qualifications (5.70%)\n",
    "* Education (8.20%)\n",
    "* Arts and Humanities (4.70%)\n",
    "* Social Sciences, Journalism and Information (1.50%)\n",
    "* Business, Administration and Law (27.10%)\n",
    "* Natural Sciences, Mathematics and Statistics (3.70%)\n",
    "* Information and Communication Technologies (6.70%)\n",
    "* Engineering, Manufacturing and Construction (7.10%)\n",
    "* Agriculture, Forestry, Fisheries and Veterinary (2.80%)\n",
    "* Health and Welfare (18.00%)\n",
    "* Services (2.20%)\n",
    "* Other (12.20%)"
   ]
  },
  {
   "cell_type": "markdown",
   "metadata": {},
   "source": [
    "The AES does <u>not</u> tell us if or how the educational category is related to the level of qualification, in other words the variables are independent of each other, however they may both be related to other variables."
   ]
  },
  {
   "cell_type": "markdown",
   "metadata": {},
   "source": [
    "### Gender"
   ]
  },
  {
   "cell_type": "markdown",
   "metadata": {},
   "source": [
    "The gender breakdown of those who participated in an educational activity as given in the AES report is:\n",
    "* Male: 36.53%\n",
    "* Female: 63.47%\n",
    "\n",
    "The survey would indicate that females are almost twice as likely to participate in adult education. The simulated dataset will therefore reflect this."
   ]
  },
  {
   "cell_type": "markdown",
   "metadata": {},
   "source": [
    "Comparing percentages of males vs females participating in each educational field is interesting, with many fields being strongly weighted towards one gender."
   ]
  },
  {
   "cell_type": "markdown",
   "metadata": {},
   "source": [
    "Looking at how gender relates to level of education participation, it is also clear that gender is correlated with field of study. For example, males are actually twice as likely to study at 3rd Level non honours degree than females."
   ]
  },
  {
   "cell_type": "markdown",
   "metadata": {},
   "source": [
    "The gender for each row in the simulated data will therefore have to take into account three things:\n",
    "* Overall gender ratio participating in adult education\n",
    "* Gender ratio for each level of education participation\n",
    "* Gender ratio for each field of study\n",
    "\n",
    "This is beginning to get quite complex."
   ]
  },
  {
   "cell_type": "markdown",
   "metadata": {},
   "source": [
    "### Age"
   ]
  },
  {
   "cell_type": "markdown",
   "metadata": {},
   "source": [
    "The age range covered by the survey was 18-64, however the results are presented only from ages 25-64. This gives me a convenient range for the simulated ages. Results were presented in the following bands:\n",
    "* 25-34 year olds\n",
    "* 35-44 year olds\n",
    "* 45-54 year olds\n",
    "* 55-64 year olds"
   ]
  },
  {
   "cell_type": "markdown",
   "metadata": {},
   "source": [
    "In constructing the dataset it will not be necessary to limit the simulated ages to these bands - I will use the 2016 census data to generate an appropriate distribution."
   ]
  },
  {
   "cell_type": "markdown",
   "metadata": {},
   "source": [
    "Much like the gender variable, age relates to both level of education participation and field of study. Are age and gender also related? The AES doesn't actually tell us this - presumably this is due to the sample size, as this can be ascertained for those participating in non-formal education. The 2016 Census cannot provide any more information here either."
   ]
  },
  {
   "cell_type": "markdown",
   "metadata": {},
   "source": [
    "It would be reasonable to presume that there is a good chance that age and gender are related here but I have no way of directly controlling it - this will have to be simulated indirectly through the other relationships. Age will therefore have to take into account:\n",
    "* Overall age ranges and their likely distributions\n",
    "* Age distribution for each level of education participation\n",
    "* Age distribution for each field of study"
   ]
  },
  {
   "cell_type": "markdown",
   "metadata": {},
   "source": [
    "### Approach"
   ]
  },
  {
   "cell_type": "markdown",
   "metadata": {},
   "source": [
    "The approach to take now bears some serious consideration - considering the indirect relationships that have to be modelled, the order of variables modelled will be critical. I will therefore take the following approach:\n",
    "1. Simulate the ages first - this will require the combination of distributions for each each range given, based on actual age distributions from the 2016 Census;\n",
    "2. Simulate field of study - the relative probability of each field will take into account the age (range) of the simulated person;\n",
    "3. Simulate the level of education participation - the relative probability of each level will take into account the age (range) of the simulated person;\n",
    "4. Simulate the gender - this must take into account both items 2. and 3., as well as the overall gender ratio in the sample."
   ]
  },
  {
   "cell_type": "markdown",
   "metadata": {},
   "source": [
    "## Synthesise"
   ]
  },
  {
   "cell_type": "markdown",
   "metadata": {},
   "source": [
    "### Preliminaries"
   ]
  },
  {
   "cell_type": "markdown",
   "metadata": {},
   "source": [
    "Firstly, import several libraries to manage, simulate and visualise."
   ]
  },
  {
   "cell_type": "code",
   "execution_count": 1,
   "metadata": {},
   "outputs": [],
   "source": [
    "# Import numpy to analyse it\n",
    "# Import matplotlib.pyplot and seaborn for visualisations\n",
    "import pandas as pd\n",
    "import numpy as np\n",
    "import matplotlib.pyplot as plt\n",
    "import seaborn as sns"
   ]
  },
  {
   "cell_type": "code",
   "execution_count": 2,
   "metadata": {},
   "outputs": [],
   "source": [
    "# Magic command to ensure that plots render inline\n",
    "%matplotlib inline"
   ]
  },
  {
   "cell_type": "code",
   "execution_count": 3,
   "metadata": {},
   "outputs": [],
   "source": [
    "# Control Seaborn aesthetics\n",
    "# Use darkplot plot style for contrast\n",
    "sns.set_style(\"darkgrid\")\n",
    "# Set the default colour palette\n",
    "sns.set_palette(\"colorblind\")"
   ]
  },
  {
   "cell_type": "markdown",
   "metadata": {},
   "source": [
    "## Generate Data"
   ]
  },
  {
   "cell_type": "markdown",
   "metadata": {},
   "source": [
    "First we will create an empty pandas dataframe to hold the data."
   ]
  },
  {
   "cell_type": "code",
   "execution_count": 4,
   "metadata": {},
   "outputs": [],
   "source": [
    "df = pd.DataFrame(columns = [\"Age\", \"Field\", \"Qual\", \"Gender\"])"
   ]
  },
  {
   "cell_type": "code",
   "execution_count": 5,
   "metadata": {},
   "outputs": [
    {
     "data": {
      "text/html": [
       "<div>\n",
       "<style scoped>\n",
       "    .dataframe tbody tr th:only-of-type {\n",
       "        vertical-align: middle;\n",
       "    }\n",
       "\n",
       "    .dataframe tbody tr th {\n",
       "        vertical-align: top;\n",
       "    }\n",
       "\n",
       "    .dataframe thead th {\n",
       "        text-align: right;\n",
       "    }\n",
       "</style>\n",
       "<table border=\"1\" class=\"dataframe\">\n",
       "  <thead>\n",
       "    <tr style=\"text-align: right;\">\n",
       "      <th></th>\n",
       "      <th>Age</th>\n",
       "      <th>Field</th>\n",
       "      <th>Qual</th>\n",
       "      <th>Gender</th>\n",
       "    </tr>\n",
       "  </thead>\n",
       "  <tbody>\n",
       "  </tbody>\n",
       "</table>\n",
       "</div>"
      ],
      "text/plain": [
       "Empty DataFrame\n",
       "Columns: [Age, Field, Qual, Gender]\n",
       "Index: []"
      ]
     },
     "execution_count": 5,
     "metadata": {},
     "output_type": "execute_result"
    }
   ],
   "source": [
    "df"
   ]
  },
  {
   "cell_type": "markdown",
   "metadata": {},
   "source": [
    "### Age Data"
   ]
  },
  {
   "cell_type": "markdown",
   "metadata": {},
   "source": [
    "The age distribution should be realistic. We will import data from the Central Statistics Office that describes the ages recorded by the 2016 Census. Although this is a measure of the distribution of ages of the entire population, we will assume that the distribution holds true for our sample set."
   ]
  },
  {
   "cell_type": "markdown",
   "metadata": {},
   "source": [
    "The data has been generated and downloaded as a csv from ############\n",
    "Only ages from 25 to 64 have been considered. We can read in the CSV to a new DataFrame for some basic analysis."
   ]
  },
  {
   "cell_type": "code",
   "execution_count": 6,
   "metadata": {
    "scrolled": true
   },
   "outputs": [
    {
     "data": {
      "text/html": [
       "<div>\n",
       "<style scoped>\n",
       "    .dataframe tbody tr th:only-of-type {\n",
       "        vertical-align: middle;\n",
       "    }\n",
       "\n",
       "    .dataframe tbody tr th {\n",
       "        vertical-align: top;\n",
       "    }\n",
       "\n",
       "    .dataframe thead th {\n",
       "        text-align: right;\n",
       "    }\n",
       "</style>\n",
       "<table border=\"1\" class=\"dataframe\">\n",
       "  <thead>\n",
       "    <tr style=\"text-align: right;\">\n",
       "      <th></th>\n",
       "      <th>Age</th>\n",
       "      <th>Male</th>\n",
       "      <th>Female</th>\n",
       "      <th>Total</th>\n",
       "    </tr>\n",
       "  </thead>\n",
       "  <tbody>\n",
       "    <tr>\n",
       "      <th>count</th>\n",
       "      <td>40.000000</td>\n",
       "      <td>40.000000</td>\n",
       "      <td>40.000000</td>\n",
       "      <td>40.000000</td>\n",
       "    </tr>\n",
       "    <tr>\n",
       "      <th>mean</th>\n",
       "      <td>44.500000</td>\n",
       "      <td>31263.000000</td>\n",
       "      <td>32269.350000</td>\n",
       "      <td>63532.350000</td>\n",
       "    </tr>\n",
       "    <tr>\n",
       "      <th>std</th>\n",
       "      <td>11.690452</td>\n",
       "      <td>4761.638729</td>\n",
       "      <td>5265.152836</td>\n",
       "      <td>9984.039203</td>\n",
       "    </tr>\n",
       "    <tr>\n",
       "      <th>min</th>\n",
       "      <td>25.000000</td>\n",
       "      <td>22402.000000</td>\n",
       "      <td>22642.000000</td>\n",
       "      <td>45044.000000</td>\n",
       "    </tr>\n",
       "    <tr>\n",
       "      <th>25%</th>\n",
       "      <td>34.750000</td>\n",
       "      <td>28163.750000</td>\n",
       "      <td>28551.500000</td>\n",
       "      <td>56858.500000</td>\n",
       "    </tr>\n",
       "    <tr>\n",
       "      <th>50%</th>\n",
       "      <td>44.500000</td>\n",
       "      <td>30787.000000</td>\n",
       "      <td>31522.000000</td>\n",
       "      <td>62390.000000</td>\n",
       "    </tr>\n",
       "    <tr>\n",
       "      <th>75%</th>\n",
       "      <td>54.250000</td>\n",
       "      <td>35342.750000</td>\n",
       "      <td>35973.750000</td>\n",
       "      <td>71409.000000</td>\n",
       "    </tr>\n",
       "    <tr>\n",
       "      <th>max</th>\n",
       "      <td>64.000000</td>\n",
       "      <td>40892.000000</td>\n",
       "      <td>42304.000000</td>\n",
       "      <td>83196.000000</td>\n",
       "    </tr>\n",
       "  </tbody>\n",
       "</table>\n",
       "</div>"
      ],
      "text/plain": [
       "             Age          Male        Female         Total\n",
       "count  40.000000     40.000000     40.000000     40.000000\n",
       "mean   44.500000  31263.000000  32269.350000  63532.350000\n",
       "std    11.690452   4761.638729   5265.152836   9984.039203\n",
       "min    25.000000  22402.000000  22642.000000  45044.000000\n",
       "25%    34.750000  28163.750000  28551.500000  56858.500000\n",
       "50%    44.500000  30787.000000  31522.000000  62390.000000\n",
       "75%    54.250000  35342.750000  35973.750000  71409.000000\n",
       "max    64.000000  40892.000000  42304.000000  83196.000000"
      ]
     },
     "execution_count": 6,
     "metadata": {},
     "output_type": "execute_result"
    }
   ],
   "source": [
    "f = pd.read_csv(\"data\\Population_2016_by_Age_adj.csv\") # Import csv file using pandas\n",
    "dfAge = pd.DataFrame(f) # Create a dataframe from the csv data\n",
    "dfAge.describe()"
   ]
  },
  {
   "cell_type": "markdown",
   "metadata": {},
   "source": [
    "There is a lot of data here - a visualisation would be appropriate. We can generate a \"relplot\" in Seaborn to relate Age to population numbers."
   ]
  },
  {
   "cell_type": "code",
   "execution_count": 7,
   "metadata": {},
   "outputs": [
    {
     "data": {
      "text/plain": [
       "<seaborn.axisgrid.FacetGrid at 0x160d6af88d0>"
      ]
     },
     "execution_count": 7,
     "metadata": {},
     "output_type": "execute_result"
    },
    {
     "data": {
      "image/png": "[encoded data removed]",
      "text/plain": [
       "<Figure size 720x360 with 1 Axes>"
      ]
     },
     "metadata": {},
     "output_type": "display_data"
    }
   ],
   "source": [
    "sns.relplot(x=\"Age\", y=\"Total\", kind=\"line\", data=dfAge, height=5, aspect=2)"
   ]
  },
  {
   "cell_type": "markdown",
   "metadata": {},
   "source": [
    "The age profile rapidly rises from 25 to the mode (somewhere slightly above 35) and then generally reduces more gradually towards 64."
   ]
  },
  {
   "cell_type": "markdown",
   "metadata": {},
   "source": [
    "We will now need to carry out some more complex statistical analysis of the input data. Simply return the mean or standard deviation of the ages will not prove very useful here as they need to be weighted by the population. The statsmodels package has a descriptive statistics with weights module (DescrStatsW) that will be very useful, we can import that first."
   ]
  },
  {
   "cell_type": "code",
   "execution_count": 8,
   "metadata": {},
   "outputs": [],
   "source": [
    "from statsmodels.stats.weightstats import DescrStatsW"
   ]
  },
  {
   "cell_type": "markdown",
   "metadata": {},
   "source": [
    "Now we can use it to generate a weighted age profile from the Age and Total columns."
   ]
  },
  {
   "cell_type": "code",
   "execution_count": 9,
   "metadata": {},
   "outputs": [
    {
     "name": "stdout",
     "output_type": "stream",
     "text": [
      "Weighted mean age: 43.33\n",
      "Weighted standard deviation: 10.97\n"
     ]
    }
   ],
   "source": [
    "wAge = DescrStatsW(dfAge[\"Age\"], weights=dfAge[\"Total\"])\n",
    "print(\"Weighted mean age:\", round(wAge.mean, 2))\n",
    "print(\"Weighted standard deviation:\", round(wAge.std, 2))"
   ]
  },
  {
   "cell_type": "markdown",
   "metadata": {},
   "source": [
    "#########The next step will be to create a new column with the proportion of population for each age."
   ]
  },
  {
   "cell_type": "code",
   "execution_count": 14,
   "metadata": {},
   "outputs": [],
   "source": [
    "# Creating a proportion column\n",
    "dfAge[\"Proportion\"] = dfAge[\"Total\"]/dfAge[\"Total\"].sum()"
   ]
  },
  {
   "cell_type": "code",
   "execution_count": 15,
   "metadata": {},
   "outputs": [],
   "source": [
    "ageFill = np.random.choice(dfAge[\"Age\"], 334, p=dfAge[\"Proportion\"])"
   ]
  },
  {
   "cell_type": "code",
   "execution_count": 16,
   "metadata": {},
   "outputs": [
    {
     "data": {
      "text/plain": [
       "42.91317365269461"
      ]
     },
     "execution_count": 16,
     "metadata": {},
     "output_type": "execute_result"
    }
   ],
   "source": [
    "ageFill.mean()"
   ]
  },
  {
   "cell_type": "markdown",
   "metadata": {},
   "source": [
    "The age profile of the population range that we are looking at approximates a triangular distribution - conveniently numpy includes this in the numpy.random module. One key piece of information that we need is the mode of the data. We can import the scipy stats module to extract this from the data."
   ]
  },
  {
   "cell_type": "code",
   "execution_count": 17,
   "metadata": {},
   "outputs": [],
   "source": [
    "from scipy import stats\n",
    "m = stats.mode(ageFill)[0][0]"
   ]
  },
  {
   "cell_type": "code",
   "execution_count": 18,
   "metadata": {},
   "outputs": [],
   "source": [
    "ageTri = np.random.triangular(0, m, 100, 100000)"
   ]
  },
  {
   "cell_type": "code",
   "execution_count": 19,
   "metadata": {
    "scrolled": true
   },
   "outputs": [
    {
     "data": {
      "text/plain": [
       "array([30, 56, 46, ..., 23, 52, 25])"
      ]
     },
     "execution_count": 19,
     "metadata": {},
     "output_type": "execute_result"
    }
   ],
   "source": [
    "np.rint(ageTri)\n",
    "ageTri.astype(int)"
   ]
  },
  {
   "cell_type": "code",
   "execution_count": 20,
   "metadata": {},
   "outputs": [],
   "source": [
    "ageExcl = np.concatenate([np.arange(25), np.arange(65, 100)])"
   ]
  },
  {
   "cell_type": "code",
   "execution_count": 21,
   "metadata": {},
   "outputs": [],
   "source": [
    "ageTri = ageTri[ageTri >= 25]\n",
    "ageTri = ageTri[ageTri < 65]"
   ]
  },
  {
   "cell_type": "code",
   "execution_count": 22,
   "metadata": {},
   "outputs": [
    {
     "data": {
      "text/plain": [
       "array([25.00115734, 25.0018321 , 25.00227432, ..., 64.9971961 ,\n",
       "       64.99756672, 64.99940195])"
      ]
     },
     "execution_count": 22,
     "metadata": {},
     "output_type": "execute_result"
    }
   ],
   "source": [
    "ageTri = np.sort(ageTri) \n",
    "ageTri"
   ]
  },
  {
   "cell_type": "code",
   "execution_count": 23,
   "metadata": {},
   "outputs": [
    {
     "data": {
      "text/plain": [
       "(64026,)"
      ]
     },
     "execution_count": 23,
     "metadata": {},
     "output_type": "execute_result"
    }
   ],
   "source": [
    "ageTri.shape"
   ]
  },
  {
   "cell_type": "code",
   "execution_count": 24,
   "metadata": {},
   "outputs": [
    {
     "data": {
      "text/plain": [
       "44.45579888477566"
      ]
     },
     "execution_count": 24,
     "metadata": {},
     "output_type": "execute_result"
    }
   ],
   "source": [
    "ageTri.mean()"
   ]
  },
  {
   "cell_type": "code",
   "execution_count": 25,
   "metadata": {},
   "outputs": [
    {
     "data": {
      "text/plain": [
       "<matplotlib.axes._subplots.AxesSubplot at 0x160d6af85c0>"
      ]
     },
     "execution_count": 25,
     "metadata": {},
     "output_type": "execute_result"
    },
    {
     "data": {
      "image/png": "[encoded data removed]",
      "text/plain": [
       "<Figure size 432x288 with 1 Axes>"
      ]
     },
     "metadata": {},
     "output_type": "display_data"
    }
   ],
   "source": [
    "sns.distplot(ageTri, bins = 30)"
   ]
  },
  {
   "cell_type": "code",
   "execution_count": 26,
   "metadata": {},
   "outputs": [
    {
     "name": "stdout",
     "output_type": "stream",
     "text": [
      "192.69461077844312 193\n"
     ]
    }
   ],
   "source": [
    "ssize = 334\n",
    "\n",
    "skip = ageTri.shape[0]/ssize+1\n",
    "\n",
    "skipint = int(round(skip,0))\n",
    "print(skip, skipint)"
   ]
  },
  {
   "cell_type": "code",
   "execution_count": 27,
   "metadata": {
    "scrolled": true
   },
   "outputs": [],
   "source": [
    "arr = np.array([0])\n",
    "skipcurrent = 0.0\n",
    "skiptotal = 0\n",
    "while skiptotal < ageTri.shape[0]:\n",
    "    skipcurrent = skipcurrent + skip\n",
    "    skiptotal = int(round(skipcurrent,0))  \n",
    "    arr = np.append(arr, skiptotal)"
   ]
  },
  {
   "cell_type": "code",
   "execution_count": 28,
   "metadata": {},
   "outputs": [
    {
     "data": {
      "text/plain": [
       "array([    0,   193,   385,   578,   771,   963,  1156,  1349,  1542,\n",
       "        1734,  1927,  2120,  2312,  2505,  2698,  2890,  3083,  3276,\n",
       "        3469,  3661,  3854,  4047,  4239,  4432,  4625,  4817,  5010,\n",
       "        5203,  5395,  5588,  5781,  5974,  6166,  6359,  6552,  6744,\n",
       "        6937,  7130,  7322,  7515,  7708,  7900,  8093,  8286,  8479,\n",
       "        8671,  8864,  9057,  9249,  9442,  9635,  9827, 10020, 10213,\n",
       "       10406, 10598, 10791, 10984, 11176, 11369, 11562, 11754, 11947,\n",
       "       12140, 12332, 12525, 12718, 12911, 13103, 13296, 13489, 13681,\n",
       "       13874, 14067, 14259, 14452, 14645, 14837, 15030, 15223, 15416,\n",
       "       15608, 15801, 15994, 16186, 16379, 16572, 16764, 16957, 17150,\n",
       "       17343, 17535, 17728, 17921, 18113, 18306, 18499, 18691, 18884,\n",
       "       19077, 19269, 19462, 19655, 19848, 20040, 20233, 20426, 20618,\n",
       "       20811, 21004, 21196, 21389, 21582, 21774, 21967, 22160, 22353,\n",
       "       22545, 22738, 22931, 23123, 23316, 23509, 23701, 23894, 24087,\n",
       "       24280, 24472, 24665, 24858, 25050, 25243, 25436, 25628, 25821,\n",
       "       26014, 26206, 26399, 26592, 26785, 26977, 27170, 27363, 27555,\n",
       "       27748, 27941, 28133, 28326, 28519, 28711, 28904, 29097, 29290,\n",
       "       29482, 29675, 29868, 30060, 30253, 30446, 30638, 30831, 31024,\n",
       "       31217, 31409, 31602, 31795, 31987, 32180, 32373, 32565, 32758,\n",
       "       32951, 33143, 33336, 33529, 33722, 33914, 34107, 34300, 34492,\n",
       "       34685, 34878, 35070, 35263, 35456, 35649, 35841, 36034, 36227,\n",
       "       36419, 36612, 36805, 36997, 37190, 37383, 37575, 37768, 37961,\n",
       "       38154, 38346, 38539, 38732, 38924, 39117, 39310, 39502, 39695,\n",
       "       39888, 40080, 40273, 40466, 40659, 40851, 41044, 41237, 41429,\n",
       "       41622, 41815, 42007, 42200, 42393, 42586, 42778, 42971, 43164,\n",
       "       43356, 43549, 43742, 43934, 44127, 44320, 44512, 44705, 44898,\n",
       "       45091, 45283, 45476, 45669, 45861, 46054, 46247, 46439, 46632,\n",
       "       46825, 47017, 47210, 47403, 47596, 47788, 47981, 48174, 48366,\n",
       "       48559, 48752, 48944, 49137, 49330, 49523, 49715, 49908, 50101,\n",
       "       50293, 50486, 50679, 50871, 51064, 51257, 51449, 51642, 51835,\n",
       "       52028, 52220, 52413, 52606, 52798, 52991, 53184, 53376, 53569,\n",
       "       53762, 53954, 54147, 54340, 54533, 54725, 54918, 55111, 55303,\n",
       "       55496, 55689, 55881, 56074, 56267, 56460, 56652, 56845, 57038,\n",
       "       57230, 57423, 57616, 57808, 58001, 58194, 58386, 58579, 58772,\n",
       "       58965, 59157, 59350, 59543, 59735, 59928, 60121, 60313, 60506,\n",
       "       60699, 60891, 61084, 61277, 61470, 61662, 61855, 62048, 62240,\n",
       "       62433, 62626, 62818, 63011, 63204, 63397, 63589, 63782, 63975,\n",
       "       64167])"
      ]
     },
     "execution_count": 28,
     "metadata": {},
     "output_type": "execute_result"
    }
   ],
   "source": [
    "arr"
   ]
  },
  {
   "cell_type": "code",
   "execution_count": 29,
   "metadata": {},
   "outputs": [
    {
     "data": {
      "text/plain": [
       "(334,)"
      ]
     },
     "execution_count": 29,
     "metadata": {},
     "output_type": "execute_result"
    }
   ],
   "source": [
    "arr.shape"
   ]
  },
  {
   "cell_type": "code",
   "execution_count": 30,
   "metadata": {},
   "outputs": [
    {
     "data": {
      "text/plain": [
       "array([], dtype=float64)"
      ]
     },
     "execution_count": 30,
     "metadata": {},
     "output_type": "execute_result"
    }
   ],
   "source": [
    "ageTriSub = np.array([])\n",
    "ageTriSub"
   ]
  },
  {
   "cell_type": "code",
   "execution_count": 31,
   "metadata": {},
   "outputs": [
    {
     "data": {
      "text/plain": [
       "64025"
      ]
     },
     "execution_count": 31,
     "metadata": {},
     "output_type": "execute_result"
    }
   ],
   "source": [
    "np.argmax(ageTri)"
   ]
  },
  {
   "cell_type": "code",
   "execution_count": 32,
   "metadata": {},
   "outputs": [],
   "source": [
    "for i in arr:\n",
    "    if i <= np.argmax(ageTri):\n",
    "        ageTriSub = np.append(ageTriSub, ageTri[i])"
   ]
  },
  {
   "cell_type": "code",
   "execution_count": 33,
   "metadata": {
    "scrolled": true
   },
   "outputs": [
    {
     "data": {
      "text/plain": [
       "array([25.00115734, 25.16484687, 25.30856142, 25.47885824, 25.64352381,\n",
       "       25.80057664, 25.94553962, 26.12278696, 26.26854302, 26.40283672,\n",
       "       26.56083657, 26.7051152 , 26.83620222, 26.98696245, 27.1283555 ,\n",
       "       27.26359845, 27.39377394, 27.53513201, 27.67654196, 27.80625567,\n",
       "       27.93014073, 28.06943721, 28.20643125, 28.3478984 , 28.50526017,\n",
       "       28.63297744, 28.75647437, 28.88792079, 29.03922487, 29.16132895,\n",
       "       29.29421825, 29.41148434, 29.55690064, 29.6793971 , 29.80762435,\n",
       "       29.94120498, 30.06299932, 30.18756479, 30.31658164, 30.45711804,\n",
       "       30.60036971, 30.73255754, 30.8514522 , 30.98513929, 31.1030673 ,\n",
       "       31.21010285, 31.33771123, 31.46449259, 31.58084031, 31.70442365,\n",
       "       31.8452587 , 31.96140102, 32.09282359, 32.22365149, 32.33023662,\n",
       "       32.45668298, 32.57706987, 32.69345747, 32.80582368, 32.93981512,\n",
       "       33.05450662, 33.17619265, 33.29144698, 33.41721178, 33.52952075,\n",
       "       33.64542536, 33.76265693, 33.8598055 , 33.9660787 , 34.07135794,\n",
       "       34.1854546 , 34.29152321, 34.41026255, 34.53863199, 34.63139354,\n",
       "       34.73174974, 34.84576135, 34.96422004, 35.07985478, 35.1982278 ,\n",
       "       35.31101639, 35.41732203, 35.51344325, 35.61217723, 35.72444933,\n",
       "       35.83226248, 35.95614783, 36.06796762, 36.16784437, 36.26519251,\n",
       "       36.37518068, 36.47363962, 36.57870828, 36.69474436, 36.80445762,\n",
       "       36.90005317, 37.00914329, 37.11425061, 37.22592016, 37.32363475,\n",
       "       37.41950632, 37.51144273, 37.60518717, 37.71054374, 37.81375079,\n",
       "       37.91307313, 38.01535509, 38.12260814, 38.2222439 , 38.32595191,\n",
       "       38.44308455, 38.55401579, 38.65256241, 38.74420375, 38.85110838,\n",
       "       38.95109997, 39.0471157 , 39.14991929, 39.25076223, 39.3471483 ,\n",
       "       39.44362117, 39.53766599, 39.64654713, 39.73933259, 39.83315051,\n",
       "       39.92984382, 40.02064285, 40.11069331, 40.20842646, 40.31364703,\n",
       "       40.40531436, 40.50841944, 40.61532863, 40.700198  , 40.79567131,\n",
       "       40.87657552, 40.97286924, 41.06583134, 41.15587844, 41.24718823,\n",
       "       41.35488209, 41.46615135, 41.5706837 , 41.66546453, 41.75928377,\n",
       "       41.87166906, 41.97474741, 42.07529981, 42.1629943 , 42.26568048,\n",
       "       42.36791136, 42.47601023, 42.56956176, 42.67332868, 42.77100118,\n",
       "       42.87023917, 42.96708956, 43.0621348 , 43.16960324, 43.27230397,\n",
       "       43.37093377, 43.47004319, 43.57005792, 43.67161368, 43.7612742 ,\n",
       "       43.85503768, 43.9533925 , 44.05973438, 44.15501227, 44.25720977,\n",
       "       44.36193255, 44.46336543, 44.56572133, 44.67132359, 44.77184323,\n",
       "       44.88791598, 44.98978711, 45.09910886, 45.20798882, 45.31844117,\n",
       "       45.43527244, 45.54164253, 45.64260476, 45.73807866, 45.83660128,\n",
       "       45.94921632, 46.04690965, 46.1532248 , 46.24703347, 46.35382412,\n",
       "       46.46899931, 46.57437313, 46.6745569 , 46.77636864, 46.8910527 ,\n",
       "       46.99011484, 47.09178149, 47.20477111, 47.3016847 , 47.40243808,\n",
       "       47.51509933, 47.62792733, 47.73735507, 47.84222632, 47.94884373,\n",
       "       48.05520186, 48.16443659, 48.27758216, 48.40090607, 48.50447518,\n",
       "       48.6186269 , 48.73002818, 48.83255617, 48.95094355, 49.07295967,\n",
       "       49.18273797, 49.31039994, 49.43012115, 49.54351089, 49.66713985,\n",
       "       49.78099709, 49.91158174, 50.02294066, 50.13877818, 50.24253173,\n",
       "       50.36042698, 50.47345405, 50.58242553, 50.70255102, 50.822607  ,\n",
       "       50.93549744, 51.06568948, 51.18533266, 51.29940706, 51.41610901,\n",
       "       51.53619256, 51.65119501, 51.77421741, 51.89852978, 52.03062965,\n",
       "       52.14956979, 52.28399773, 52.40113134, 52.52898928, 52.64107065,\n",
       "       52.76262163, 52.89269929, 53.01109012, 53.12266126, 53.23935385,\n",
       "       53.37346248, 53.48390021, 53.60781347, 53.75235207, 53.87519052,\n",
       "       53.98837423, 54.10035731, 54.22782396, 54.35672032, 54.47435497,\n",
       "       54.61181118, 54.73223006, 54.86408469, 54.99932167, 55.147638  ,\n",
       "       55.29203605, 55.42703951, 55.56170343, 55.68488291, 55.81191918,\n",
       "       55.94262745, 56.06193052, 56.19503861, 56.3248497 , 56.44320763,\n",
       "       56.57330118, 56.71074811, 56.83874508, 56.9877871 , 57.10781333,\n",
       "       57.23431912, 57.36123179, 57.49442235, 57.64410793, 57.76373775,\n",
       "       57.90553721, 58.06540919, 58.18956335, 58.33703025, 58.46209595,\n",
       "       58.60556787, 58.75255697, 58.89871748, 59.05000807, 59.20452836,\n",
       "       59.34535089, 59.48211881, 59.63666224, 59.78346631, 59.92171359,\n",
       "       60.05293032, 60.1973507 , 60.34900562, 60.50345095, 60.63897409,\n",
       "       60.77004735, 60.90770934, 61.04883477, 61.19370604, 61.35225397,\n",
       "       61.50191347, 61.66856778, 61.83159643, 61.98188741, 62.14068144,\n",
       "       62.28104228, 62.44085577, 62.6018829 , 62.75847802, 62.93001496,\n",
       "       63.07733614, 63.22510573, 63.37840702, 63.53722445, 63.68383885,\n",
       "       63.85152028, 64.00363046, 64.14742405, 64.30946363, 64.47304996,\n",
       "       64.64256481, 64.79971401, 64.95943991])"
      ]
     },
     "execution_count": 33,
     "metadata": {},
     "output_type": "execute_result"
    }
   ],
   "source": [
    "ageTriSub"
   ]
  },
  {
   "cell_type": "code",
   "execution_count": 34,
   "metadata": {},
   "outputs": [
    {
     "data": {
      "text/plain": [
       "<matplotlib.axes._subplots.AxesSubplot at 0x160d82309e8>"
      ]
     },
     "execution_count": 34,
     "metadata": {},
     "output_type": "execute_result"
    },
    {
     "data": {
      "image/png": "[encoded data removed]",
      "text/plain": [
       "<Figure size 432x288 with 1 Axes>"
      ]
     },
     "metadata": {},
     "output_type": "display_data"
    }
   ],
   "source": [
    "sns.distplot(ageTriSub)"
   ]
  },
  {
   "cell_type": "code",
   "execution_count": 35,
   "metadata": {},
   "outputs": [
    {
     "name": "stdout",
     "output_type": "stream",
     "text": [
      "Full dataset mean: 44.45579888477566\n",
      "Full dataset stdev: 10.83149823257846\n",
      "\n",
      "Sub dataset mean: 44.4412544550422\n",
      "Sub dataset stdev: 10.859399517699865\n"
     ]
    }
   ],
   "source": [
    "print(\"Full dataset mean:\", ageTri.mean())\n",
    "print(\"Full dataset stdev:\", ageTri.std())\n",
    "\n",
    "print(\"\\nSub dataset mean:\",ageTriSub.mean())\n",
    "print(\"Sub dataset stdev:\", ageTriSub.std())"
   ]
  },
  {
   "cell_type": "code",
   "execution_count": 36,
   "metadata": {},
   "outputs": [],
   "source": [
    "df['Age'] = ageTriSub"
   ]
  },
  {
   "cell_type": "code",
   "execution_count": 37,
   "metadata": {
    "scrolled": true
   },
   "outputs": [
    {
     "data": {
      "text/html": [
       "<div>\n",
       "<style scoped>\n",
       "    .dataframe tbody tr th:only-of-type {\n",
       "        vertical-align: middle;\n",
       "    }\n",
       "\n",
       "    .dataframe tbody tr th {\n",
       "        vertical-align: top;\n",
       "    }\n",
       "\n",
       "    .dataframe thead th {\n",
       "        text-align: right;\n",
       "    }\n",
       "</style>\n",
       "<table border=\"1\" class=\"dataframe\">\n",
       "  <thead>\n",
       "    <tr style=\"text-align: right;\">\n",
       "      <th></th>\n",
       "      <th>Age</th>\n",
       "      <th>Field</th>\n",
       "      <th>Qual</th>\n",
       "      <th>Gender</th>\n",
       "    </tr>\n",
       "  </thead>\n",
       "  <tbody>\n",
       "    <tr>\n",
       "      <th>0</th>\n",
       "      <td>25.001157</td>\n",
       "      <td>NaN</td>\n",
       "      <td>NaN</td>\n",
       "      <td>NaN</td>\n",
       "    </tr>\n",
       "    <tr>\n",
       "      <th>1</th>\n",
       "      <td>25.164847</td>\n",
       "      <td>NaN</td>\n",
       "      <td>NaN</td>\n",
       "      <td>NaN</td>\n",
       "    </tr>\n",
       "    <tr>\n",
       "      <th>2</th>\n",
       "      <td>25.308561</td>\n",
       "      <td>NaN</td>\n",
       "      <td>NaN</td>\n",
       "      <td>NaN</td>\n",
       "    </tr>\n",
       "    <tr>\n",
       "      <th>3</th>\n",
       "      <td>25.478858</td>\n",
       "      <td>NaN</td>\n",
       "      <td>NaN</td>\n",
       "      <td>NaN</td>\n",
       "    </tr>\n",
       "    <tr>\n",
       "      <th>4</th>\n",
       "      <td>25.643524</td>\n",
       "      <td>NaN</td>\n",
       "      <td>NaN</td>\n",
       "      <td>NaN</td>\n",
       "    </tr>\n",
       "    <tr>\n",
       "      <th>5</th>\n",
       "      <td>25.800577</td>\n",
       "      <td>NaN</td>\n",
       "      <td>NaN</td>\n",
       "      <td>NaN</td>\n",
       "    </tr>\n",
       "    <tr>\n",
       "      <th>6</th>\n",
       "      <td>25.945540</td>\n",
       "      <td>NaN</td>\n",
       "      <td>NaN</td>\n",
       "      <td>NaN</td>\n",
       "    </tr>\n",
       "    <tr>\n",
       "      <th>7</th>\n",
       "      <td>26.122787</td>\n",
       "      <td>NaN</td>\n",
       "      <td>NaN</td>\n",
       "      <td>NaN</td>\n",
       "    </tr>\n",
       "    <tr>\n",
       "      <th>8</th>\n",
       "      <td>26.268543</td>\n",
       "      <td>NaN</td>\n",
       "      <td>NaN</td>\n",
       "      <td>NaN</td>\n",
       "    </tr>\n",
       "    <tr>\n",
       "      <th>9</th>\n",
       "      <td>26.402837</td>\n",
       "      <td>NaN</td>\n",
       "      <td>NaN</td>\n",
       "      <td>NaN</td>\n",
       "    </tr>\n",
       "    <tr>\n",
       "      <th>10</th>\n",
       "      <td>26.560837</td>\n",
       "      <td>NaN</td>\n",
       "      <td>NaN</td>\n",
       "      <td>NaN</td>\n",
       "    </tr>\n",
       "    <tr>\n",
       "      <th>11</th>\n",
       "      <td>26.705115</td>\n",
       "      <td>NaN</td>\n",
       "      <td>NaN</td>\n",
       "      <td>NaN</td>\n",
       "    </tr>\n",
       "    <tr>\n",
       "      <th>12</th>\n",
       "      <td>26.836202</td>\n",
       "      <td>NaN</td>\n",
       "      <td>NaN</td>\n",
       "      <td>NaN</td>\n",
       "    </tr>\n",
       "    <tr>\n",
       "      <th>13</th>\n",
       "      <td>26.986962</td>\n",
       "      <td>NaN</td>\n",
       "      <td>NaN</td>\n",
       "      <td>NaN</td>\n",
       "    </tr>\n",
       "    <tr>\n",
       "      <th>14</th>\n",
       "      <td>27.128355</td>\n",
       "      <td>NaN</td>\n",
       "      <td>NaN</td>\n",
       "      <td>NaN</td>\n",
       "    </tr>\n",
       "    <tr>\n",
       "      <th>15</th>\n",
       "      <td>27.263598</td>\n",
       "      <td>NaN</td>\n",
       "      <td>NaN</td>\n",
       "      <td>NaN</td>\n",
       "    </tr>\n",
       "    <tr>\n",
       "      <th>16</th>\n",
       "      <td>27.393774</td>\n",
       "      <td>NaN</td>\n",
       "      <td>NaN</td>\n",
       "      <td>NaN</td>\n",
       "    </tr>\n",
       "    <tr>\n",
       "      <th>17</th>\n",
       "      <td>27.535132</td>\n",
       "      <td>NaN</td>\n",
       "      <td>NaN</td>\n",
       "      <td>NaN</td>\n",
       "    </tr>\n",
       "    <tr>\n",
       "      <th>18</th>\n",
       "      <td>27.676542</td>\n",
       "      <td>NaN</td>\n",
       "      <td>NaN</td>\n",
       "      <td>NaN</td>\n",
       "    </tr>\n",
       "    <tr>\n",
       "      <th>19</th>\n",
       "      <td>27.806256</td>\n",
       "      <td>NaN</td>\n",
       "      <td>NaN</td>\n",
       "      <td>NaN</td>\n",
       "    </tr>\n",
       "    <tr>\n",
       "      <th>20</th>\n",
       "      <td>27.930141</td>\n",
       "      <td>NaN</td>\n",
       "      <td>NaN</td>\n",
       "      <td>NaN</td>\n",
       "    </tr>\n",
       "    <tr>\n",
       "      <th>21</th>\n",
       "      <td>28.069437</td>\n",
       "      <td>NaN</td>\n",
       "      <td>NaN</td>\n",
       "      <td>NaN</td>\n",
       "    </tr>\n",
       "    <tr>\n",
       "      <th>22</th>\n",
       "      <td>28.206431</td>\n",
       "      <td>NaN</td>\n",
       "      <td>NaN</td>\n",
       "      <td>NaN</td>\n",
       "    </tr>\n",
       "    <tr>\n",
       "      <th>23</th>\n",
       "      <td>28.347898</td>\n",
       "      <td>NaN</td>\n",
       "      <td>NaN</td>\n",
       "      <td>NaN</td>\n",
       "    </tr>\n",
       "    <tr>\n",
       "      <th>24</th>\n",
       "      <td>28.505260</td>\n",
       "      <td>NaN</td>\n",
       "      <td>NaN</td>\n",
       "      <td>NaN</td>\n",
       "    </tr>\n",
       "    <tr>\n",
       "      <th>25</th>\n",
       "      <td>28.632977</td>\n",
       "      <td>NaN</td>\n",
       "      <td>NaN</td>\n",
       "      <td>NaN</td>\n",
       "    </tr>\n",
       "    <tr>\n",
       "      <th>26</th>\n",
       "      <td>28.756474</td>\n",
       "      <td>NaN</td>\n",
       "      <td>NaN</td>\n",
       "      <td>NaN</td>\n",
       "    </tr>\n",
       "    <tr>\n",
       "      <th>27</th>\n",
       "      <td>28.887921</td>\n",
       "      <td>NaN</td>\n",
       "      <td>NaN</td>\n",
       "      <td>NaN</td>\n",
       "    </tr>\n",
       "    <tr>\n",
       "      <th>28</th>\n",
       "      <td>29.039225</td>\n",
       "      <td>NaN</td>\n",
       "      <td>NaN</td>\n",
       "      <td>NaN</td>\n",
       "    </tr>\n",
       "    <tr>\n",
       "      <th>29</th>\n",
       "      <td>29.161329</td>\n",
       "      <td>NaN</td>\n",
       "      <td>NaN</td>\n",
       "      <td>NaN</td>\n",
       "    </tr>\n",
       "    <tr>\n",
       "      <th>...</th>\n",
       "      <td>...</td>\n",
       "      <td>...</td>\n",
       "      <td>...</td>\n",
       "      <td>...</td>\n",
       "    </tr>\n",
       "    <tr>\n",
       "      <th>303</th>\n",
       "      <td>60.503451</td>\n",
       "      <td>NaN</td>\n",
       "      <td>NaN</td>\n",
       "      <td>NaN</td>\n",
       "    </tr>\n",
       "    <tr>\n",
       "      <th>304</th>\n",
       "      <td>60.638974</td>\n",
       "      <td>NaN</td>\n",
       "      <td>NaN</td>\n",
       "      <td>NaN</td>\n",
       "    </tr>\n",
       "    <tr>\n",
       "      <th>305</th>\n",
       "      <td>60.770047</td>\n",
       "      <td>NaN</td>\n",
       "      <td>NaN</td>\n",
       "      <td>NaN</td>\n",
       "    </tr>\n",
       "    <tr>\n",
       "      <th>306</th>\n",
       "      <td>60.907709</td>\n",
       "      <td>NaN</td>\n",
       "      <td>NaN</td>\n",
       "      <td>NaN</td>\n",
       "    </tr>\n",
       "    <tr>\n",
       "      <th>307</th>\n",
       "      <td>61.048835</td>\n",
       "      <td>NaN</td>\n",
       "      <td>NaN</td>\n",
       "      <td>NaN</td>\n",
       "    </tr>\n",
       "    <tr>\n",
       "      <th>308</th>\n",
       "      <td>61.193706</td>\n",
       "      <td>NaN</td>\n",
       "      <td>NaN</td>\n",
       "      <td>NaN</td>\n",
       "    </tr>\n",
       "    <tr>\n",
       "      <th>309</th>\n",
       "      <td>61.352254</td>\n",
       "      <td>NaN</td>\n",
       "      <td>NaN</td>\n",
       "      <td>NaN</td>\n",
       "    </tr>\n",
       "    <tr>\n",
       "      <th>310</th>\n",
       "      <td>61.501913</td>\n",
       "      <td>NaN</td>\n",
       "      <td>NaN</td>\n",
       "      <td>NaN</td>\n",
       "    </tr>\n",
       "    <tr>\n",
       "      <th>311</th>\n",
       "      <td>61.668568</td>\n",
       "      <td>NaN</td>\n",
       "      <td>NaN</td>\n",
       "      <td>NaN</td>\n",
       "    </tr>\n",
       "    <tr>\n",
       "      <th>312</th>\n",
       "      <td>61.831596</td>\n",
       "      <td>NaN</td>\n",
       "      <td>NaN</td>\n",
       "      <td>NaN</td>\n",
       "    </tr>\n",
       "    <tr>\n",
       "      <th>313</th>\n",
       "      <td>61.981887</td>\n",
       "      <td>NaN</td>\n",
       "      <td>NaN</td>\n",
       "      <td>NaN</td>\n",
       "    </tr>\n",
       "    <tr>\n",
       "      <th>314</th>\n",
       "      <td>62.140681</td>\n",
       "      <td>NaN</td>\n",
       "      <td>NaN</td>\n",
       "      <td>NaN</td>\n",
       "    </tr>\n",
       "    <tr>\n",
       "      <th>315</th>\n",
       "      <td>62.281042</td>\n",
       "      <td>NaN</td>\n",
       "      <td>NaN</td>\n",
       "      <td>NaN</td>\n",
       "    </tr>\n",
       "    <tr>\n",
       "      <th>316</th>\n",
       "      <td>62.440856</td>\n",
       "      <td>NaN</td>\n",
       "      <td>NaN</td>\n",
       "      <td>NaN</td>\n",
       "    </tr>\n",
       "    <tr>\n",
       "      <th>317</th>\n",
       "      <td>62.601883</td>\n",
       "      <td>NaN</td>\n",
       "      <td>NaN</td>\n",
       "      <td>NaN</td>\n",
       "    </tr>\n",
       "    <tr>\n",
       "      <th>318</th>\n",
       "      <td>62.758478</td>\n",
       "      <td>NaN</td>\n",
       "      <td>NaN</td>\n",
       "      <td>NaN</td>\n",
       "    </tr>\n",
       "    <tr>\n",
       "      <th>319</th>\n",
       "      <td>62.930015</td>\n",
       "      <td>NaN</td>\n",
       "      <td>NaN</td>\n",
       "      <td>NaN</td>\n",
       "    </tr>\n",
       "    <tr>\n",
       "      <th>320</th>\n",
       "      <td>63.077336</td>\n",
       "      <td>NaN</td>\n",
       "      <td>NaN</td>\n",
       "      <td>NaN</td>\n",
       "    </tr>\n",
       "    <tr>\n",
       "      <th>321</th>\n",
       "      <td>63.225106</td>\n",
       "      <td>NaN</td>\n",
       "      <td>NaN</td>\n",
       "      <td>NaN</td>\n",
       "    </tr>\n",
       "    <tr>\n",
       "      <th>322</th>\n",
       "      <td>63.378407</td>\n",
       "      <td>NaN</td>\n",
       "      <td>NaN</td>\n",
       "      <td>NaN</td>\n",
       "    </tr>\n",
       "    <tr>\n",
       "      <th>323</th>\n",
       "      <td>63.537224</td>\n",
       "      <td>NaN</td>\n",
       "      <td>NaN</td>\n",
       "      <td>NaN</td>\n",
       "    </tr>\n",
       "    <tr>\n",
       "      <th>324</th>\n",
       "      <td>63.683839</td>\n",
       "      <td>NaN</td>\n",
       "      <td>NaN</td>\n",
       "      <td>NaN</td>\n",
       "    </tr>\n",
       "    <tr>\n",
       "      <th>325</th>\n",
       "      <td>63.851520</td>\n",
       "      <td>NaN</td>\n",
       "      <td>NaN</td>\n",
       "      <td>NaN</td>\n",
       "    </tr>\n",
       "    <tr>\n",
       "      <th>326</th>\n",
       "      <td>64.003630</td>\n",
       "      <td>NaN</td>\n",
       "      <td>NaN</td>\n",
       "      <td>NaN</td>\n",
       "    </tr>\n",
       "    <tr>\n",
       "      <th>327</th>\n",
       "      <td>64.147424</td>\n",
       "      <td>NaN</td>\n",
       "      <td>NaN</td>\n",
       "      <td>NaN</td>\n",
       "    </tr>\n",
       "    <tr>\n",
       "      <th>328</th>\n",
       "      <td>64.309464</td>\n",
       "      <td>NaN</td>\n",
       "      <td>NaN</td>\n",
       "      <td>NaN</td>\n",
       "    </tr>\n",
       "    <tr>\n",
       "      <th>329</th>\n",
       "      <td>64.473050</td>\n",
       "      <td>NaN</td>\n",
       "      <td>NaN</td>\n",
       "      <td>NaN</td>\n",
       "    </tr>\n",
       "    <tr>\n",
       "      <th>330</th>\n",
       "      <td>64.642565</td>\n",
       "      <td>NaN</td>\n",
       "      <td>NaN</td>\n",
       "      <td>NaN</td>\n",
       "    </tr>\n",
       "    <tr>\n",
       "      <th>331</th>\n",
       "      <td>64.799714</td>\n",
       "      <td>NaN</td>\n",
       "      <td>NaN</td>\n",
       "      <td>NaN</td>\n",
       "    </tr>\n",
       "    <tr>\n",
       "      <th>332</th>\n",
       "      <td>64.959440</td>\n",
       "      <td>NaN</td>\n",
       "      <td>NaN</td>\n",
       "      <td>NaN</td>\n",
       "    </tr>\n",
       "  </tbody>\n",
       "</table>\n",
       "<p>333 rows × 4 columns</p>\n",
       "</div>"
      ],
      "text/plain": [
       "           Age Field Qual Gender\n",
       "0    25.001157   NaN  NaN    NaN\n",
       "1    25.164847   NaN  NaN    NaN\n",
       "2    25.308561   NaN  NaN    NaN\n",
       "3    25.478858   NaN  NaN    NaN\n",
       "4    25.643524   NaN  NaN    NaN\n",
       "5    25.800577   NaN  NaN    NaN\n",
       "6    25.945540   NaN  NaN    NaN\n",
       "7    26.122787   NaN  NaN    NaN\n",
       "8    26.268543   NaN  NaN    NaN\n",
       "9    26.402837   NaN  NaN    NaN\n",
       "10   26.560837   NaN  NaN    NaN\n",
       "11   26.705115   NaN  NaN    NaN\n",
       "12   26.836202   NaN  NaN    NaN\n",
       "13   26.986962   NaN  NaN    NaN\n",
       "14   27.128355   NaN  NaN    NaN\n",
       "15   27.263598   NaN  NaN    NaN\n",
       "16   27.393774   NaN  NaN    NaN\n",
       "17   27.535132   NaN  NaN    NaN\n",
       "18   27.676542   NaN  NaN    NaN\n",
       "19   27.806256   NaN  NaN    NaN\n",
       "20   27.930141   NaN  NaN    NaN\n",
       "21   28.069437   NaN  NaN    NaN\n",
       "22   28.206431   NaN  NaN    NaN\n",
       "23   28.347898   NaN  NaN    NaN\n",
       "24   28.505260   NaN  NaN    NaN\n",
       "25   28.632977   NaN  NaN    NaN\n",
       "26   28.756474   NaN  NaN    NaN\n",
       "27   28.887921   NaN  NaN    NaN\n",
       "28   29.039225   NaN  NaN    NaN\n",
       "29   29.161329   NaN  NaN    NaN\n",
       "..         ...   ...  ...    ...\n",
       "303  60.503451   NaN  NaN    NaN\n",
       "304  60.638974   NaN  NaN    NaN\n",
       "305  60.770047   NaN  NaN    NaN\n",
       "306  60.907709   NaN  NaN    NaN\n",
       "307  61.048835   NaN  NaN    NaN\n",
       "308  61.193706   NaN  NaN    NaN\n",
       "309  61.352254   NaN  NaN    NaN\n",
       "310  61.501913   NaN  NaN    NaN\n",
       "311  61.668568   NaN  NaN    NaN\n",
       "312  61.831596   NaN  NaN    NaN\n",
       "313  61.981887   NaN  NaN    NaN\n",
       "314  62.140681   NaN  NaN    NaN\n",
       "315  62.281042   NaN  NaN    NaN\n",
       "316  62.440856   NaN  NaN    NaN\n",
       "317  62.601883   NaN  NaN    NaN\n",
       "318  62.758478   NaN  NaN    NaN\n",
       "319  62.930015   NaN  NaN    NaN\n",
       "320  63.077336   NaN  NaN    NaN\n",
       "321  63.225106   NaN  NaN    NaN\n",
       "322  63.378407   NaN  NaN    NaN\n",
       "323  63.537224   NaN  NaN    NaN\n",
       "324  63.683839   NaN  NaN    NaN\n",
       "325  63.851520   NaN  NaN    NaN\n",
       "326  64.003630   NaN  NaN    NaN\n",
       "327  64.147424   NaN  NaN    NaN\n",
       "328  64.309464   NaN  NaN    NaN\n",
       "329  64.473050   NaN  NaN    NaN\n",
       "330  64.642565   NaN  NaN    NaN\n",
       "331  64.799714   NaN  NaN    NaN\n",
       "332  64.959440   NaN  NaN    NaN\n",
       "\n",
       "[333 rows x 4 columns]"
      ]
     },
     "execution_count": 37,
     "metadata": {},
     "output_type": "execute_result"
    }
   ],
   "source": [
    "df"
   ]
  },
  {
   "cell_type": "markdown",
   "metadata": {},
   "source": [
    "### Field of Study Data"
   ]
  },
  {
   "cell_type": "code",
   "execution_count": 42,
   "metadata": {},
   "outputs": [],
   "source": [
    "f = pd.read_excel(\"data\\AES2017TBL2b.xlsx\") # Import xlsx file using pandas\n",
    "dfField = pd.DataFrame(f) # Create a dataframe from the csv data\n",
    "#dfField"
   ]
  },
  {
   "cell_type": "code",
   "execution_count": 43,
   "metadata": {},
   "outputs": [],
   "source": [
    "dfField.drop(dfField.loc[11:].index, axis=0, inplace=True)\n",
    "dfField.drop([0, 2, 3, 6], axis=0, inplace=True)\n",
    "dfField.drop(dfField.columns[[0, 14]], axis=1, inplace=True)"
   ]
  },
  {
   "cell_type": "code",
   "execution_count": 44,
   "metadata": {},
   "outputs": [
    {
     "data": {
      "text/html": [
       "<div>\n",
       "<style scoped>\n",
       "    .dataframe tbody tr th:only-of-type {\n",
       "        vertical-align: middle;\n",
       "    }\n",
       "\n",
       "    .dataframe tbody tr th {\n",
       "        vertical-align: top;\n",
       "    }\n",
       "\n",
       "    .dataframe thead th {\n",
       "        text-align: right;\n",
       "    }\n",
       "</style>\n",
       "<table border=\"1\" class=\"dataframe\">\n",
       "  <thead>\n",
       "    <tr style=\"text-align: right;\">\n",
       "      <th></th>\n",
       "      <th>ITEM</th>\n",
       "      <th>GEN</th>\n",
       "      <th>EDU</th>\n",
       "      <th>ART</th>\n",
       "      <th>SOC</th>\n",
       "      <th>BUS</th>\n",
       "      <th>NAT</th>\n",
       "      <th>INF</th>\n",
       "      <th>ENG</th>\n",
       "      <th>AGR</th>\n",
       "      <th>HEA</th>\n",
       "      <th>SER</th>\n",
       "      <th>OTH</th>\n",
       "    </tr>\n",
       "  </thead>\n",
       "  <tbody>\n",
       "    <tr>\n",
       "      <th>4</th>\n",
       "      <td>Male</td>\n",
       "      <td>10.3</td>\n",
       "      <td>3.6</td>\n",
       "      <td>2.6</td>\n",
       "      <td>0.8</td>\n",
       "      <td>22.7</td>\n",
       "      <td>6.8</td>\n",
       "      <td>7.6</td>\n",
       "      <td>13.3</td>\n",
       "      <td>4.7</td>\n",
       "      <td>12.3</td>\n",
       "      <td>2.3</td>\n",
       "      <td>13.2</td>\n",
       "    </tr>\n",
       "    <tr>\n",
       "      <th>5</th>\n",
       "      <td>Female</td>\n",
       "      <td>2.5</td>\n",
       "      <td>11.4</td>\n",
       "      <td>6.2</td>\n",
       "      <td>2</td>\n",
       "      <td>30.1</td>\n",
       "      <td>1.6</td>\n",
       "      <td>6.2</td>\n",
       "      <td>2.8</td>\n",
       "      <td>1.5</td>\n",
       "      <td>22.1</td>\n",
       "      <td>2.1</td>\n",
       "      <td>11.5</td>\n",
       "    </tr>\n",
       "    <tr>\n",
       "      <th>7</th>\n",
       "      <td>25-34</td>\n",
       "      <td>6.6</td>\n",
       "      <td>8.1</td>\n",
       "      <td>1.7</td>\n",
       "      <td>0.6</td>\n",
       "      <td>30</td>\n",
       "      <td>5.9</td>\n",
       "      <td>10.4</td>\n",
       "      <td>8.9</td>\n",
       "      <td>1.8</td>\n",
       "      <td>15.2</td>\n",
       "      <td>1.4</td>\n",
       "      <td>9.3</td>\n",
       "    </tr>\n",
       "    <tr>\n",
       "      <th>8</th>\n",
       "      <td>35-44</td>\n",
       "      <td>6.8</td>\n",
       "      <td>8.4</td>\n",
       "      <td>7.8</td>\n",
       "      <td>0.6</td>\n",
       "      <td>28.6</td>\n",
       "      <td>1.5</td>\n",
       "      <td>2.9</td>\n",
       "      <td>6.5</td>\n",
       "      <td>5.5</td>\n",
       "      <td>15.2</td>\n",
       "      <td>0.9</td>\n",
       "      <td>15.3</td>\n",
       "    </tr>\n",
       "    <tr>\n",
       "      <th>9</th>\n",
       "      <td>45-54</td>\n",
       "      <td>2.2</td>\n",
       "      <td>9.9</td>\n",
       "      <td>3.5</td>\n",
       "      <td>2.2</td>\n",
       "      <td>20.5</td>\n",
       "      <td>4.1</td>\n",
       "      <td>6.4</td>\n",
       "      <td>5.4</td>\n",
       "      <td>0</td>\n",
       "      <td>27.1</td>\n",
       "      <td>6.4</td>\n",
       "      <td>12.3</td>\n",
       "    </tr>\n",
       "    <tr>\n",
       "      <th>10</th>\n",
       "      <td>55-64</td>\n",
       "      <td>[3.3]3</td>\n",
       "      <td>[2.8]</td>\n",
       "      <td>[11.2]</td>\n",
       "      <td>[9.4]</td>\n",
       "      <td>[17.7]</td>\n",
       "      <td>[0.0]</td>\n",
       "      <td>[3.8]</td>\n",
       "      <td>[3.4]</td>\n",
       "      <td>[3.5]</td>\n",
       "      <td>[26.8]</td>\n",
       "      <td>[2.8]</td>\n",
       "      <td>[15.3]</td>\n",
       "    </tr>\n",
       "  </tbody>\n",
       "</table>\n",
       "</div>"
      ],
      "text/plain": [
       "      ITEM     GEN    EDU     ART    SOC     BUS    NAT    INF    ENG    AGR  \\\n",
       "4     Male    10.3    3.6     2.6    0.8    22.7    6.8    7.6   13.3    4.7   \n",
       "5   Female     2.5   11.4     6.2      2    30.1    1.6    6.2    2.8    1.5   \n",
       "7    25-34     6.6    8.1     1.7    0.6      30    5.9   10.4    8.9    1.8   \n",
       "8    35-44     6.8    8.4     7.8    0.6    28.6    1.5    2.9    6.5    5.5   \n",
       "9    45-54     2.2    9.9     3.5    2.2    20.5    4.1    6.4    5.4      0   \n",
       "10   55-64  [3.3]3  [2.8]  [11.2]  [9.4]  [17.7]  [0.0]  [3.8]  [3.4]  [3.5]   \n",
       "\n",
       "       HEA    SER     OTH  \n",
       "4     12.3    2.3    13.2  \n",
       "5     22.1    2.1    11.5  \n",
       "7     15.2    1.4     9.3  \n",
       "8     15.2    0.9    15.3  \n",
       "9     27.1    6.4    12.3  \n",
       "10  [26.8]  [2.8]  [15.3]  "
      ]
     },
     "execution_count": 44,
     "metadata": {},
     "output_type": "execute_result"
    }
   ],
   "source": [
    "dfField.columns = ['ITEM', 'GEN', 'EDU', 'ART', 'SOC', 'BUS', 'NAT', 'INF', 'ENG', 'AGR', 'HEA', 'SER', 'OTH']\n",
    "dfField.drop([1], axis=0, inplace=True)\n",
    "dfField"
   ]
  },
  {
   "cell_type": "code",
   "execution_count": 45,
   "metadata": {},
   "outputs": [
    {
     "data": {
      "text/html": [
       "<div>\n",
       "<style scoped>\n",
       "    .dataframe tbody tr th:only-of-type {\n",
       "        vertical-align: middle;\n",
       "    }\n",
       "\n",
       "    .dataframe tbody tr th {\n",
       "        vertical-align: top;\n",
       "    }\n",
       "\n",
       "    .dataframe thead th {\n",
       "        text-align: right;\n",
       "    }\n",
       "</style>\n",
       "<table border=\"1\" class=\"dataframe\">\n",
       "  <thead>\n",
       "    <tr style=\"text-align: right;\">\n",
       "      <th></th>\n",
       "      <th>ITEM</th>\n",
       "      <th>GEN</th>\n",
       "      <th>EDU</th>\n",
       "      <th>ART</th>\n",
       "      <th>SOC</th>\n",
       "      <th>BUS</th>\n",
       "      <th>NAT</th>\n",
       "      <th>INF</th>\n",
       "      <th>ENG</th>\n",
       "      <th>AGR</th>\n",
       "      <th>HEA</th>\n",
       "      <th>SER</th>\n",
       "      <th>OTH</th>\n",
       "    </tr>\n",
       "  </thead>\n",
       "  <tbody>\n",
       "    <tr>\n",
       "      <th>4</th>\n",
       "      <td>Male</td>\n",
       "      <td>10.3</td>\n",
       "      <td>3.6</td>\n",
       "      <td>2.6</td>\n",
       "      <td>0.8</td>\n",
       "      <td>22.7</td>\n",
       "      <td>6.8</td>\n",
       "      <td>7.6</td>\n",
       "      <td>13.3</td>\n",
       "      <td>4.7</td>\n",
       "      <td>12.3</td>\n",
       "      <td>2.3</td>\n",
       "      <td>13.2</td>\n",
       "    </tr>\n",
       "    <tr>\n",
       "      <th>5</th>\n",
       "      <td>Female</td>\n",
       "      <td>2.5</td>\n",
       "      <td>11.4</td>\n",
       "      <td>6.2</td>\n",
       "      <td>2</td>\n",
       "      <td>30.1</td>\n",
       "      <td>1.6</td>\n",
       "      <td>6.2</td>\n",
       "      <td>2.8</td>\n",
       "      <td>1.5</td>\n",
       "      <td>22.1</td>\n",
       "      <td>2.1</td>\n",
       "      <td>11.5</td>\n",
       "    </tr>\n",
       "    <tr>\n",
       "      <th>7</th>\n",
       "      <td>25-34</td>\n",
       "      <td>6.6</td>\n",
       "      <td>8.1</td>\n",
       "      <td>1.7</td>\n",
       "      <td>0.6</td>\n",
       "      <td>30</td>\n",
       "      <td>5.9</td>\n",
       "      <td>10.4</td>\n",
       "      <td>8.9</td>\n",
       "      <td>1.8</td>\n",
       "      <td>15.2</td>\n",
       "      <td>1.4</td>\n",
       "      <td>9.3</td>\n",
       "    </tr>\n",
       "    <tr>\n",
       "      <th>8</th>\n",
       "      <td>35-44</td>\n",
       "      <td>6.8</td>\n",
       "      <td>8.4</td>\n",
       "      <td>7.8</td>\n",
       "      <td>0.6</td>\n",
       "      <td>28.6</td>\n",
       "      <td>1.5</td>\n",
       "      <td>2.9</td>\n",
       "      <td>6.5</td>\n",
       "      <td>5.5</td>\n",
       "      <td>15.2</td>\n",
       "      <td>0.9</td>\n",
       "      <td>15.3</td>\n",
       "    </tr>\n",
       "    <tr>\n",
       "      <th>9</th>\n",
       "      <td>45-54</td>\n",
       "      <td>2.2</td>\n",
       "      <td>9.9</td>\n",
       "      <td>3.5</td>\n",
       "      <td>2.2</td>\n",
       "      <td>20.5</td>\n",
       "      <td>4.1</td>\n",
       "      <td>6.4</td>\n",
       "      <td>5.4</td>\n",
       "      <td>0</td>\n",
       "      <td>27.1</td>\n",
       "      <td>6.4</td>\n",
       "      <td>12.3</td>\n",
       "    </tr>\n",
       "    <tr>\n",
       "      <th>10</th>\n",
       "      <td>55-64</td>\n",
       "      <td>3.3</td>\n",
       "      <td>2.8</td>\n",
       "      <td>11.2</td>\n",
       "      <td>9.4</td>\n",
       "      <td>17.7</td>\n",
       "      <td>0.0</td>\n",
       "      <td>3.8</td>\n",
       "      <td>3.4</td>\n",
       "      <td>3.5</td>\n",
       "      <td>26.8</td>\n",
       "      <td>2.8</td>\n",
       "      <td>15.3</td>\n",
       "    </tr>\n",
       "  </tbody>\n",
       "</table>\n",
       "</div>"
      ],
      "text/plain": [
       "      ITEM   GEN   EDU   ART  SOC   BUS  NAT   INF   ENG  AGR   HEA  SER   OTH\n",
       "4     Male  10.3   3.6   2.6  0.8  22.7  6.8   7.6  13.3  4.7  12.3  2.3  13.2\n",
       "5   Female   2.5  11.4   6.2    2  30.1  1.6   6.2   2.8  1.5  22.1  2.1  11.5\n",
       "7    25-34   6.6   8.1   1.7  0.6    30  5.9  10.4   8.9  1.8  15.2  1.4   9.3\n",
       "8    35-44   6.8   8.4   7.8  0.6  28.6  1.5   2.9   6.5  5.5  15.2  0.9  15.3\n",
       "9    45-54   2.2   9.9   3.5  2.2  20.5  4.1   6.4   5.4    0  27.1  6.4  12.3\n",
       "10   55-64   3.3   2.8  11.2  9.4  17.7  0.0   3.8   3.4  3.5  26.8  2.8  15.3"
      ]
     },
     "execution_count": 45,
     "metadata": {},
     "output_type": "execute_result"
    }
   ],
   "source": [
    "dfField.replace(to_replace=r'\\[||\\]\\d||\\]', value='', regex=True, inplace=True)\n",
    "dfField"
   ]
  },
  {
   "cell_type": "markdown",
   "metadata": {},
   "source": [
    "### Qualification Data"
   ]
  },
  {
   "cell_type": "markdown",
   "metadata": {},
   "source": [
    "### Gender Data"
   ]
  },
  {
   "cell_type": "markdown",
   "metadata": {},
   "source": [
    "This will be a categorical variable, either \"F\" or \"M\"."
   ]
  },
  {
   "cell_type": "code",
   "execution_count": null,
   "metadata": {},
   "outputs": [],
   "source": [
    "genders = [\"F\", \"M\"]\n",
    "\n",
    "np.random.choice(genders, size=200)"
   ]
  },
  {
   "cell_type": "markdown",
   "metadata": {},
   "source": [
    "## Results"
   ]
  },
  {
   "cell_type": "markdown",
   "metadata": {},
   "source": []
  }
 ],
 "metadata": {
  "kernelspec": {
   "display_name": "Python 3",
   "language": "python",
   "name": "python3"
  },
  "language_info": {
   "codemirror_mode": {
    "name": "ipython",
    "version": 3
   },
   "file_extension": ".py",
   "mimetype": "text/x-python",
   "name": "python",
   "nbconvert_exporter": "python",
   "pygments_lexer": "ipython3",
   "version": "3.7.3"
  }
 },
 "nbformat": 4,
 "nbformat_minor": 4
}
