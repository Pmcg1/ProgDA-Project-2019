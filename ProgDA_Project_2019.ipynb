{
 "cells": [
  {
   "cell_type": "markdown",
   "metadata": {},
   "source": [
    "<img src=\"images/GMIT logo.jpeg\" width=\"350\" align=\"center\">"
   ]
  },
  {
   "cell_type": "markdown",
   "metadata": {},
   "source": [
    "# Programming for Data Analysis Project 2019"
   ]
  },
  {
   "cell_type": "markdown",
   "metadata": {},
   "source": [
    "Peter McGowan\n",
    "G00190832"
   ]
  },
  {
   "cell_type": "markdown",
   "metadata": {},
   "source": [
    "### Tasks:\n",
    "1. Choose a real-world phenomenon that can be measured and for which you could collect at least one-hundred data points across at least four different variables.\n",
    "2. Investigate the types of variables involved, their likely distributions, and their relationships with each other.\n",
    "3. Synthesise/simulate a data set as closely matching their properties as possible.\n",
    "4. Detail your research and implement the simulation in a Jupyter notebook – the data set itself can simply be displayed in an output cell within the notebook."
   ]
  },
  {
   "cell_type": "markdown",
   "metadata": {},
   "source": [
    "## Background"
   ]
  },
  {
   "cell_type": "markdown",
   "metadata": {},
   "source": [
    "I have chosen to simulate data about Higher Education graduates in Ireland. I have chosen the following variables:\n",
    "* Highest Qualification Awarded\n",
    "* Field of Study\n",
    "* Gender\n",
    "* Age"
   ]
  },
  {
   "cell_type": "markdown",
   "metadata": {},
   "source": []
  },
  {
   "cell_type": "markdown",
   "metadata": {},
   "source": [
    "## Research and Investigate"
   ]
  },
  {
   "cell_type": "markdown",
   "metadata": {},
   "source": [
    "### General"
   ]
  },
  {
   "cell_type": "markdown",
   "metadata": {},
   "source": [
    "The Higher Education Authority (HEA) periodically release statistical information on Higher Education. The latest year this is available for is 2017/2018."
   ]
  },
  {
   "cell_type": "markdown",
   "metadata": {},
   "source": [
    "The total number of people graduating from Postgratuate programmes in this year was 21,584. I intend to use this as the number of rows of data to simulate."
   ]
  },
  {
   "cell_type": "markdown",
   "metadata": {},
   "source": [
    "### Highest Qualification Awarded"
   ]
  },
  {
   "cell_type": "markdown",
   "metadata": {},
   "source": [
    "The National Framework of Qualifications (NFQ) outlines a ten level framework for qualifications. I am interested only in those levels which cover postgraduate qualifications:"
   ]
  },
  {
   "cell_type": "markdown",
   "metadata": {},
   "source": [
    "https://nfq.qqi.ie/"
   ]
  },
  {
   "cell_type": "markdown",
   "metadata": {},
   "source": [
    "NFQ Level:\n",
    "8. Postgraduate Certificates, Higher Diplomas\n",
    "9. Masters Degrees, Post Graduate Diplomas\n",
    "10. Doctoral Degrees, Higher Doctorates"
   ]
  },
  {
   "cell_type": "markdown",
   "metadata": {},
   "source": [
    "### Field of Study"
   ]
  },
  {
   "cell_type": "markdown",
   "metadata": {},
   "source": [
    "The HEA groups awards into 11 fields of study"
   ]
  },
  {
   "cell_type": "markdown",
   "metadata": {},
   "source": [
    "Fields:\n",
    "* General Programmes & Qualifications (GEN): 0.23%\n",
    "* Education (EDU): 9.16%\n",
    "* Arts and Humanities (AHU): 13.03%\n",
    "* Social Sciences, Journalism and Information (SJI): 6.35%\n",
    "* Business, Administration and Law (BAL): 23.16%\n",
    "* Natural Sciences, Mathematics and Statistics (NMS): 7.90%\n",
    "* Information and Communication Technologies (ICT): 6.13%\n",
    "* Engineering, Manufacturing and Construction (EMC): 10.14%\n",
    "* Agriculture, Forestry, Fisheries and Veterinary (AFV): 1.54%\n",
    "* Health and Welfare (HWE): 17.60%\n",
    "* Services (SVC): 4.65%"
   ]
  },
  {
   "cell_type": "markdown",
   "metadata": {},
   "source": [
    "### Gender"
   ]
  },
  {
   "cell_type": "markdown",
   "metadata": {},
   "source": [
    "The gender breakdown given in the "
   ]
  },
  {
   "cell_type": "code",
   "execution_count": null,
   "metadata": {},
   "outputs": [],
   "source": []
  },
  {
   "cell_type": "markdown",
   "metadata": {},
   "source": [
    "Gender Breakdown:\n",
    "* Male\n",
    "* Female"
   ]
  },
  {
   "cell_type": "markdown",
   "metadata": {},
   "source": [
    "### Age"
   ]
  },
  {
   "cell_type": "markdown",
   "metadata": {},
   "source": [
    "*** Continuous or ranges?"
   ]
  },
  {
   "cell_type": "markdown",
   "metadata": {},
   "source": [
    "## Synthesise"
   ]
  },
  {
   "cell_type": "markdown",
   "metadata": {},
   "source": [
    "### Preliminaries"
   ]
  },
  {
   "cell_type": "markdown",
   "metadata": {},
   "source": [
    "Firstly, import several libraries to manage, simulate and visualise."
   ]
  },
  {
   "cell_type": "code",
   "execution_count": 6,
   "metadata": {},
   "outputs": [],
   "source": [
    "# Import numpy to analyse it\n",
    "# Import matplotlib.pyplot and seaborn for visualisations\n",
    "import pandas as pd\n",
    "import numpy as np\n",
    "import matplotlib.pyplot as plt\n",
    "import seaborn as sns"
   ]
  },
  {
   "cell_type": "code",
   "execution_count": 2,
   "metadata": {},
   "outputs": [],
   "source": [
    "# Magic command to ensure that plots render inline\n",
    "%matplotlib inline"
   ]
  },
  {
   "cell_type": "code",
   "execution_count": 3,
   "metadata": {},
   "outputs": [],
   "source": [
    "# Control Seaborn aesthetics\n",
    "# Use darkplot plot style for contrast\n",
    "sns.set_style(\"darkgrid\")\n",
    "# Set the default colour palette\n",
    "sns.set_palette(\"colorblind\")"
   ]
  },
  {
   "cell_type": "markdown",
   "metadata": {},
   "source": [
    "## Generate Data"
   ]
  },
  {
   "cell_type": "code",
   "execution_count": null,
   "metadata": {},
   "outputs": [],
   "source": []
  },
  {
   "cell_type": "code",
   "execution_count": null,
   "metadata": {},
   "outputs": [],
   "source": []
  },
  {
   "cell_type": "markdown",
   "metadata": {},
   "source": [
    "## Results"
   ]
  },
  {
   "cell_type": "markdown",
   "metadata": {},
   "source": []
  }
 ],
 "metadata": {
  "kernelspec": {
   "display_name": "Python 3",
   "language": "python",
   "name": "python3"
  },
  "language_info": {
   "codemirror_mode": {
    "name": "ipython",
    "version": 3
   },
   "file_extension": ".py",
   "mimetype": "text/x-python",
   "name": "python",
   "nbconvert_exporter": "python",
   "pygments_lexer": "ipython3",
   "version": "3.7.3"
  }
 },
 "nbformat": 4,
 "nbformat_minor": 4
}
