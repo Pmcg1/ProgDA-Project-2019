{
 "cells": [
  {
   "cell_type": "markdown",
   "metadata": {},
   "source": [
    "<img src=\"images/GMIT logo.jpeg\" width=\"350\" align=\"center\">"
   ]
  },
  {
   "cell_type": "markdown",
   "metadata": {},
   "source": [
    "# Programming for Data Analysis Project 2019"
   ]
  },
  {
   "cell_type": "markdown",
   "metadata": {},
   "source": [
    "Peter McGowan\n",
    "G00190832"
   ]
  },
  {
   "cell_type": "markdown",
   "metadata": {},
   "source": [
    "### Tasks:\n",
    "1. Choose a real-world phenomenon that can be measured and for which you could collect at least one-hundred data points across at least four different variables.\n",
    "2. Investigate the types of variables involved, their likely distributions, and their relationships with each other.\n",
    "3. Synthesise/simulate a data set as closely matching their properties as possible.\n",
    "4. Detail your research and implement the simulation in a Jupyter notebook – the data set itself can simply be displayed in an output cell within the notebook."
   ]
  },
  {
   "cell_type": "markdown",
   "metadata": {},
   "source": [
    "## Background"
   ]
  },
  {
   "cell_type": "markdown",
   "metadata": {},
   "source": [
    "I have chosen to simulate data about Adult Education in Ireland. I have chosen the following variables:\n",
    "* Highest Qualification Awarded\n",
    "* Field of Study\n",
    "* Gender\n",
    "* Age"
   ]
  },
  {
   "cell_type": "markdown",
   "metadata": {},
   "source": []
  },
  {
   "cell_type": "markdown",
   "metadata": {},
   "source": [
    "## Research and Investigate"
   ]
  },
  {
   "cell_type": "markdown",
   "metadata": {},
   "source": [
    "### General"
   ]
  },
  {
   "cell_type": "markdown",
   "metadata": {},
   "source": [
    "The Central Statistics Office (CSO) is perhaps best known for carrying out a census every 5 years in Ireland (most recently in 2016). In addition to this, the CSO carries out a range of other important statistical work covering a broad range of themes on a rotational basis."
   ]
  },
  {
   "cell_type": "markdown",
   "metadata": {},
   "source": [
    "The General Household Survey occurs approximately quarterly and the theme varies. In Q3 & Q4 2019 the theme covered was Adult Education. Considering the HDip in Data Analytics and the makeup of its student cohort (myself included), the Adult Education Survey (AES) immediately piqued my interest when I came across it."
   ]
  },
  {
   "cell_type": "markdown",
   "metadata": {},
   "source": [
    "*** links to documents"
   ]
  },
  {
   "cell_type": "markdown",
   "metadata": {},
   "source": [
    "Considering the results of this survey and the characteristics of its variables studied, I will simulate a dataset matching its qualities."
   ]
  },
  {
   "cell_type": "markdown",
   "metadata": {},
   "source": [
    "### Sample Data Characteristics"
   ]
  },
  {
   "cell_type": "markdown",
   "metadata": {},
   "source": [
    "The design sample size for the survey carried out was 13,200. Of this, 4,863 valid responses were collated. I intend to simulate the 334 <i>\"Persons aged 25-64 who participated in formal education, classified by the level of education participation.\"</i>"
   ]
  },
  {
   "cell_type": "markdown",
   "metadata": {},
   "source": [
    "### Level of Education Participation"
   ]
  },
  {
   "cell_type": "markdown",
   "metadata": {},
   "source": [
    "The National Framework of Qualifications (NFQ) outlines a ten level framework for qualifications."
   ]
  },
  {
   "cell_type": "markdown",
   "metadata": {},
   "source": [
    "https://nfq.qqi.ie/"
   ]
  },
  {
   "cell_type": "markdown",
   "metadata": {},
   "source": [
    "NFQ Level:\n",
    "0. No formal education or training\n",
    "1. Primary or below\n",
    "2. Primary or below\n",
    "3. Lower Secondary\n",
    "4. Higher Secondary, Post Leaving Certificate\n",
    "4. Higher Secondary, Post Leaving Certificate\n",
    "6. Post Leaving Certificate, Higher Certificate and Equivalent\n",
    "7. Ordinary Degree or Equivalent\n",
    "8. Honours Bachelor Degree, Graduate Diploma, Higher Diploma\n",
    "9. Masters Degree, Post Graduate Diploma\n",
    "10. Doctoral Degree, Higher Doctorate"
   ]
  },
  {
   "cell_type": "markdown",
   "metadata": {},
   "source": [
    "Unfortunately, the AES aggregates these levels into the following categories for my sample group:\n",
    "* Higher Secondary or Below (14.60%)\n",
    "* Post Leaving Certificate (30.30%)\n",
    "* Third Level Non-Honours Degree (17.60%)\n",
    "* Third Level Honours Degree or Higher (37.50%)\n",
    "\n",
    "Without further information, I will simulate a dataset approximating this range, with 4 categories. I will try and find another way to break this down if I can."
   ]
  },
  {
   "cell_type": "markdown",
   "metadata": {},
   "source": [
    "### Field of Study"
   ]
  },
  {
   "cell_type": "markdown",
   "metadata": {},
   "source": [
    "The AES categories education into 12 different fields:\n",
    "* General Programmes & Qualifications (5.70%)\n",
    "* Education (8.20%)\n",
    "* Arts and Humanities (4.70%)\n",
    "* Social Sciences, Journalism and Information (1.50%)\n",
    "* Business, Administration and Law (27.10%)\n",
    "* Natural Sciences, Mathematics and Statistics (3.70%)\n",
    "* Information and Communication Technologies (6.70%)\n",
    "* Engineering, Manufacturing and Construction (7.10%)\n",
    "* Agriculture, Forestry, Fisheries and Veterinary (2.80%)\n",
    "* Health and Welfare (18.00%)\n",
    "* Services (2.20%)\n",
    "* Other (12.20%)"
   ]
  },
  {
   "cell_type": "markdown",
   "metadata": {},
   "source": [
    "The AES does <u>not</u> tell us if or how the educational category is related to the level of qualification, in other words the variables are independent of each other, however they may both be related to other variables."
   ]
  },
  {
   "cell_type": "markdown",
   "metadata": {},
   "source": [
    "### Gender"
   ]
  },
  {
   "cell_type": "markdown",
   "metadata": {},
   "source": [
    "The gender breakdown of those who participated in an educational activity as given in the AES report is:\n",
    "* Male: 36.53%\n",
    "* Female: 63.47%\n",
    "\n",
    "The survey would indicate that females are almost twice as likely to participate in adult education. The simulated dataset will therefore reflect this."
   ]
  },
  {
   "cell_type": "markdown",
   "metadata": {},
   "source": [
    "Comparing percentages of males vs females participating in each educational field is interesting, with many fields being strongly weighted towards one gender."
   ]
  },
  {
   "cell_type": "markdown",
   "metadata": {},
   "source": [
    "Looking at how gender relates to level of education participation, it is also clear that gender is correlated with field of study. For example, males are actually twice as likely to study at 3rd Level non honours degree than females."
   ]
  },
  {
   "cell_type": "markdown",
   "metadata": {},
   "source": [
    "The gender for each row in the simulated data will therefore have to take into account three things:\n",
    "* Overall gender ratio participating in adult education\n",
    "* Gender ratio for each level of education participation\n",
    "* Gender ratio for each field of study\n",
    "\n",
    "This is beginning to get quite complex."
   ]
  },
  {
   "cell_type": "markdown",
   "metadata": {},
   "source": [
    "### Age"
   ]
  },
  {
   "cell_type": "markdown",
   "metadata": {},
   "source": [
    "The age range covered by the survey was 18-64, however the results are presented only from ages 25-64. This gives me a convenient range for the simulated ages. Results were presented in the following bands:\n",
    "* 25-34 year olds\n",
    "* 35-44 year olds\n",
    "* 45-54 year olds\n",
    "* 55-64 year olds"
   ]
  },
  {
   "cell_type": "markdown",
   "metadata": {},
   "source": [
    "In constructing the dataset it will not be necessary to limit the simulated ages to these bands - I will use the 2016 census data to generate an appropriate distribution."
   ]
  },
  {
   "cell_type": "markdown",
   "metadata": {},
   "source": [
    "Much like the gender variable, age relates to both level of education participation and field of study. Are age and gender also related? The AES doesn't actually tell us this - presumably this is due to the sample size, as this can be ascertained for those participating in non-formal education. The 2016 Census cannot provide any more information here either."
   ]
  },
  {
   "cell_type": "markdown",
   "metadata": {},
   "source": [
    "It would be reasonable to presume that there is a good chance that age and gender are related here but I have no way of directly controlling it - this will have to be simulated indirectly through the other relationships. Age will therefore have to take into account:\n",
    "* Overall age ranges and their likely distributions\n",
    "* Age distribution for each level of education participation\n",
    "* Age distribution for each field of study"
   ]
  },
  {
   "cell_type": "markdown",
   "metadata": {},
   "source": [
    "### Approach"
   ]
  },
  {
   "cell_type": "markdown",
   "metadata": {},
   "source": [
    "The approach to take now bears some serious consideration - considering the indirect relationships that have to be modelled, the order of variables modelled will be critical. I will therefore take the following approach:\n",
    "1. Simulate the ages first - this will require the combination of distributions for each each range given, based on actual age distributions from the 2016 Census;\n",
    "2. Simulate field of study - the relative probability of each field will take into account the age (range) of the simulated person;\n",
    "3. Simulate the level of education participation - the relative probability of each level will take into account the age (range) of the simulated person;\n",
    "4. Simulate the gender - this must take into account both items 2. and 3., as well as the overall gender ratio in the sample."
   ]
  },
  {
   "cell_type": "markdown",
   "metadata": {},
   "source": [
    "## Synthesise"
   ]
  },
  {
   "cell_type": "markdown",
   "metadata": {},
   "source": [
    "### Preliminaries"
   ]
  },
  {
   "cell_type": "markdown",
   "metadata": {},
   "source": [
    "Firstly, import several libraries to manage, simulate and visualise."
   ]
  },
  {
   "cell_type": "code",
   "execution_count": 1,
   "metadata": {},
   "outputs": [],
   "source": [
    "# Import numpy to analyse it\n",
    "# Import matplotlib.pyplot and seaborn for visualisations\n",
    "import pandas as pd\n",
    "import numpy as np\n",
    "import matplotlib.pyplot as plt\n",
    "import seaborn as sns"
   ]
  },
  {
   "cell_type": "code",
   "execution_count": 2,
   "metadata": {},
   "outputs": [],
   "source": [
    "# Magic command to ensure that plots render inline\n",
    "%matplotlib inline"
   ]
  },
  {
   "cell_type": "code",
   "execution_count": 3,
   "metadata": {},
   "outputs": [],
   "source": [
    "# Control Seaborn aesthetics\n",
    "# Use darkplot plot style for contrast\n",
    "sns.set_style(\"darkgrid\")\n",
    "# Set the default colour palette\n",
    "sns.set_palette(\"colorblind\")"
   ]
  },
  {
   "cell_type": "markdown",
   "metadata": {},
   "source": [
    "## Generate Data"
   ]
  },
  {
   "cell_type": "markdown",
   "metadata": {},
   "source": [
    "First we will create an empty pandas dataframe to hold the data."
   ]
  },
  {
   "cell_type": "code",
   "execution_count": 4,
   "metadata": {},
   "outputs": [],
   "source": [
    "df = pd.DataFrame(columns = [\"Age\", \"Field\", \"Qual\", \"Gender\"])"
   ]
  },
  {
   "cell_type": "code",
   "execution_count": 5,
   "metadata": {},
   "outputs": [
    {
     "data": {
      "text/html": [
       "<div>\n",
       "<style scoped>\n",
       "    .dataframe tbody tr th:only-of-type {\n",
       "        vertical-align: middle;\n",
       "    }\n",
       "\n",
       "    .dataframe tbody tr th {\n",
       "        vertical-align: top;\n",
       "    }\n",
       "\n",
       "    .dataframe thead th {\n",
       "        text-align: right;\n",
       "    }\n",
       "</style>\n",
       "<table border=\"1\" class=\"dataframe\">\n",
       "  <thead>\n",
       "    <tr style=\"text-align: right;\">\n",
       "      <th></th>\n",
       "      <th>Age</th>\n",
       "      <th>Field</th>\n",
       "      <th>Qual</th>\n",
       "      <th>Gender</th>\n",
       "    </tr>\n",
       "  </thead>\n",
       "  <tbody>\n",
       "  </tbody>\n",
       "</table>\n",
       "</div>"
      ],
      "text/plain": [
       "Empty DataFrame\n",
       "Columns: [Age, Field, Qual, Gender]\n",
       "Index: []"
      ]
     },
     "execution_count": 5,
     "metadata": {},
     "output_type": "execute_result"
    }
   ],
   "source": [
    "df"
   ]
  },
  {
   "cell_type": "markdown",
   "metadata": {},
   "source": [
    "### Age Data"
   ]
  },
  {
   "cell_type": "markdown",
   "metadata": {},
   "source": [
    "The age distribution should be realistic. We will import data from the Central Statistics Office that describes the ages recorded by the 2016 Census. Although this is a measure of the distribution of ages of the entire population, we will assume that the distribution holds true for our sample set."
   ]
  },
  {
   "cell_type": "markdown",
   "metadata": {},
   "source": [
    "The data has been generated and downloaded as a csv from ############\n",
    "Only ages from 25 to 64 have been considered. We can read in the CSV to a new DataFrame for some basic analysis."
   ]
  },
  {
   "cell_type": "code",
   "execution_count": 6,
   "metadata": {
    "scrolled": true
   },
   "outputs": [
    {
     "data": {
      "text/html": [
       "<div>\n",
       "<style scoped>\n",
       "    .dataframe tbody tr th:only-of-type {\n",
       "        vertical-align: middle;\n",
       "    }\n",
       "\n",
       "    .dataframe tbody tr th {\n",
       "        vertical-align: top;\n",
       "    }\n",
       "\n",
       "    .dataframe thead th {\n",
       "        text-align: right;\n",
       "    }\n",
       "</style>\n",
       "<table border=\"1\" class=\"dataframe\">\n",
       "  <thead>\n",
       "    <tr style=\"text-align: right;\">\n",
       "      <th></th>\n",
       "      <th>Age</th>\n",
       "      <th>Male</th>\n",
       "      <th>Female</th>\n",
       "      <th>Total</th>\n",
       "    </tr>\n",
       "  </thead>\n",
       "  <tbody>\n",
       "    <tr>\n",
       "      <th>count</th>\n",
       "      <td>40.000000</td>\n",
       "      <td>40.000000</td>\n",
       "      <td>40.000000</td>\n",
       "      <td>40.000000</td>\n",
       "    </tr>\n",
       "    <tr>\n",
       "      <th>mean</th>\n",
       "      <td>44.500000</td>\n",
       "      <td>31263.000000</td>\n",
       "      <td>32269.350000</td>\n",
       "      <td>63532.350000</td>\n",
       "    </tr>\n",
       "    <tr>\n",
       "      <th>std</th>\n",
       "      <td>11.690452</td>\n",
       "      <td>4761.638729</td>\n",
       "      <td>5265.152836</td>\n",
       "      <td>9984.039203</td>\n",
       "    </tr>\n",
       "    <tr>\n",
       "      <th>min</th>\n",
       "      <td>25.000000</td>\n",
       "      <td>22402.000000</td>\n",
       "      <td>22642.000000</td>\n",
       "      <td>45044.000000</td>\n",
       "    </tr>\n",
       "    <tr>\n",
       "      <th>25%</th>\n",
       "      <td>34.750000</td>\n",
       "      <td>28163.750000</td>\n",
       "      <td>28551.500000</td>\n",
       "      <td>56858.500000</td>\n",
       "    </tr>\n",
       "    <tr>\n",
       "      <th>50%</th>\n",
       "      <td>44.500000</td>\n",
       "      <td>30787.000000</td>\n",
       "      <td>31522.000000</td>\n",
       "      <td>62390.000000</td>\n",
       "    </tr>\n",
       "    <tr>\n",
       "      <th>75%</th>\n",
       "      <td>54.250000</td>\n",
       "      <td>35342.750000</td>\n",
       "      <td>35973.750000</td>\n",
       "      <td>71409.000000</td>\n",
       "    </tr>\n",
       "    <tr>\n",
       "      <th>max</th>\n",
       "      <td>64.000000</td>\n",
       "      <td>40892.000000</td>\n",
       "      <td>42304.000000</td>\n",
       "      <td>83196.000000</td>\n",
       "    </tr>\n",
       "  </tbody>\n",
       "</table>\n",
       "</div>"
      ],
      "text/plain": [
       "             Age          Male        Female         Total\n",
       "count  40.000000     40.000000     40.000000     40.000000\n",
       "mean   44.500000  31263.000000  32269.350000  63532.350000\n",
       "std    11.690452   4761.638729   5265.152836   9984.039203\n",
       "min    25.000000  22402.000000  22642.000000  45044.000000\n",
       "25%    34.750000  28163.750000  28551.500000  56858.500000\n",
       "50%    44.500000  30787.000000  31522.000000  62390.000000\n",
       "75%    54.250000  35342.750000  35973.750000  71409.000000\n",
       "max    64.000000  40892.000000  42304.000000  83196.000000"
      ]
     },
     "execution_count": 6,
     "metadata": {},
     "output_type": "execute_result"
    }
   ],
   "source": [
    "f = pd.read_csv(\"data\\Population_2016_by_Age_adj.csv\") # Import csv file using pandas\n",
    "dfAge = pd.DataFrame(f) # Create a dataframe from the csv data\n",
    "dfAge.describe()"
   ]
  },
  {
   "cell_type": "markdown",
   "metadata": {},
   "source": [
    "There is a lot of data here - a visualisation would be appropriate. We can generate a \"relplot\" in Seaborn to relate Age to population numbers."
   ]
  },
  {
   "cell_type": "code",
   "execution_count": 7,
   "metadata": {},
   "outputs": [
    {
     "data": {
      "text/plain": [
       "<seaborn.axisgrid.FacetGrid at 0x200f40d9a90>"
      ]
     },
     "execution_count": 7,
     "metadata": {},
     "output_type": "execute_result"
    },
    {
     "data": {
      "image/png": "[encoded data removed]",
      "text/plain": [
       "<Figure size 720x360 with 1 Axes>"
      ]
     },
     "metadata": {},
     "output_type": "display_data"
    }
   ],
   "source": [
    "sns.relplot(x=\"Age\", y=\"Total\", kind=\"line\", data=dfAge, height=5, aspect=2)"
   ]
  },
  {
   "cell_type": "markdown",
   "metadata": {},
   "source": [
    "The age profile rapidly rises from 25 to the mode (somewhere slightly above 35) and then generally reduces more gradually towards 64."
   ]
  },
  {
   "cell_type": "markdown",
   "metadata": {},
   "source": [
    "We will now need to carry out some more complex statistical analysis of the input data. Simply return the mean or standard deviation of the ages will not prove very useful here as they need to be weighted by the population. The statsmodels package has a descriptive statistics with weights module (DescrStatsW) that will be very useful, we can import that first."
   ]
  },
  {
   "cell_type": "code",
   "execution_count": 8,
   "metadata": {},
   "outputs": [],
   "source": [
    "from statsmodels.stats.weightstats import DescrStatsW"
   ]
  },
  {
   "cell_type": "markdown",
   "metadata": {},
   "source": [
    "Now we can use it to generate a weighted age profile from the Age and Total columns."
   ]
  },
  {
   "cell_type": "code",
   "execution_count": 9,
   "metadata": {},
   "outputs": [
    {
     "name": "stdout",
     "output_type": "stream",
     "text": [
      "Weighted mean age: 43.33\n",
      "Weighted standard deviation: 10.97\n"
     ]
    }
   ],
   "source": [
    "wAge = DescrStatsW(dfAge[\"Age\"], weights=dfAge[\"Total\"])\n",
    "print(\"Weighted mean age:\", round(wAge.mean, 2))\n",
    "print(\"Weighted standard deviation:\", round(wAge.std, 2))"
   ]
  },
  {
   "cell_type": "markdown",
   "metadata": {},
   "source": [
    "#########The next step will be to create a new column with the proportion of population for each age."
   ]
  },
  {
   "cell_type": "code",
   "execution_count": 10,
   "metadata": {},
   "outputs": [],
   "source": [
    "# Creating a proportion column\n",
    "dfAge[\"Proportion\"] = dfAge[\"Total\"]/dfAge[\"Total\"].sum()"
   ]
  },
  {
   "cell_type": "code",
   "execution_count": 11,
   "metadata": {},
   "outputs": [],
   "source": [
    "ageFill = np.random.choice(dfAge[\"Age\"], 334, p=dfAge[\"Proportion\"])"
   ]
  },
  {
   "cell_type": "code",
   "execution_count": 12,
   "metadata": {},
   "outputs": [
    {
     "data": {
      "text/plain": [
       "42.90119760479042"
      ]
     },
     "execution_count": 12,
     "metadata": {},
     "output_type": "execute_result"
    }
   ],
   "source": [
    "ageFill.mean()"
   ]
  },
  {
   "cell_type": "markdown",
   "metadata": {},
   "source": [
    "The age profile of the population range that we are looking at approximates a triangular distribution - conveniently numpy includes this in the numpy.random module. One key piece of information that we need is the mode of the data. We can import the scipy stats module to extract this from the data."
   ]
  },
  {
   "cell_type": "code",
   "execution_count": 13,
   "metadata": {},
   "outputs": [],
   "source": [
    "from scipy import stats\n",
    "m = stats.mode(ageFill)[0][0]"
   ]
  },
  {
   "cell_type": "code",
   "execution_count": 14,
   "metadata": {},
   "outputs": [],
   "source": [
    "ageTri = np.random.triangular(0, m, 100, 100000)"
   ]
  },
  {
   "cell_type": "code",
   "execution_count": 15,
   "metadata": {
    "scrolled": true
   },
   "outputs": [
    {
     "data": {
      "text/plain": [
       "array([32, 57, 71, ..., 47, 80, 79])"
      ]
     },
     "execution_count": 15,
     "metadata": {},
     "output_type": "execute_result"
    }
   ],
   "source": [
    "np.rint(ageTri) \n",
    "ageTri.astype(int) ## this may not be working properly"
   ]
  },
  {
   "cell_type": "code",
   "execution_count": 16,
   "metadata": {},
   "outputs": [],
   "source": [
    "ageExcl = np.concatenate([np.arange(25), np.arange(65, 100)])"
   ]
  },
  {
   "cell_type": "code",
   "execution_count": 17,
   "metadata": {},
   "outputs": [],
   "source": [
    "ageTri = ageTri[ageTri >= 25]\n",
    "ageTri = ageTri[ageTri < 65]"
   ]
  },
  {
   "cell_type": "code",
   "execution_count": 18,
   "metadata": {},
   "outputs": [
    {
     "data": {
      "text/plain": [
       "array([25.00022967, 25.00258932, 25.00279408, ..., 64.99855914,\n",
       "       64.99937586, 64.99937675])"
      ]
     },
     "execution_count": 18,
     "metadata": {},
     "output_type": "execute_result"
    }
   ],
   "source": [
    "ageTri = np.sort(ageTri) \n",
    "ageTri"
   ]
  },
  {
   "cell_type": "code",
   "execution_count": 19,
   "metadata": {},
   "outputs": [
    {
     "data": {
      "text/plain": [
       "(63801,)"
      ]
     },
     "execution_count": 19,
     "metadata": {},
     "output_type": "execute_result"
    }
   ],
   "source": [
    "ageTri.shape"
   ]
  },
  {
   "cell_type": "code",
   "execution_count": 20,
   "metadata": {},
   "outputs": [
    {
     "data": {
      "text/plain": [
       "44.82587769419755"
      ]
     },
     "execution_count": 20,
     "metadata": {},
     "output_type": "execute_result"
    }
   ],
   "source": [
    "ageTri.mean()"
   ]
  },
  {
   "cell_type": "code",
   "execution_count": 21,
   "metadata": {},
   "outputs": [
    {
     "data": {
      "text/plain": [
       "<matplotlib.axes._subplots.AxesSubplot at 0x200f546ba58>"
      ]
     },
     "execution_count": 21,
     "metadata": {},
     "output_type": "execute_result"
    },
    {
     "data": {
      "image/png": "[encoded data removed]",
      "text/plain": [
       "<Figure size 432x288 with 1 Axes>"
      ]
     },
     "metadata": {},
     "output_type": "display_data"
    }
   ],
   "source": [
    "sns.distplot(ageTri, bins = 30)"
   ]
  },
  {
   "cell_type": "code",
   "execution_count": 22,
   "metadata": {},
   "outputs": [
    {
     "name": "stdout",
     "output_type": "stream",
     "text": [
      "192.02095808383234 192\n"
     ]
    }
   ],
   "source": [
    "ssize = 334\n",
    "\n",
    "skip = ageTri.shape[0]/ssize+1\n",
    "\n",
    "skipint = int(round(skip,0))\n",
    "print(skip, skipint)"
   ]
  },
  {
   "cell_type": "code",
   "execution_count": 23,
   "metadata": {
    "scrolled": true
   },
   "outputs": [],
   "source": [
    "arr = np.array([0])\n",
    "skipcurrent = 0.0\n",
    "skiptotal = 0\n",
    "while skiptotal < ageTri.shape[0]:\n",
    "    skipcurrent = skipcurrent + skip\n",
    "    skiptotal = int(round(skipcurrent,0))  \n",
    "    arr = np.append(arr, skiptotal)"
   ]
  },
  {
   "cell_type": "code",
   "execution_count": 24,
   "metadata": {},
   "outputs": [
    {
     "data": {
      "text/plain": [
       "array([    0,   192,   384,   576,   768,   960,  1152,  1344,  1536,\n",
       "        1728,  1920,  2112,  2304,  2496,  2688,  2880,  3072,  3264,\n",
       "        3456,  3648,  3840,  4032,  4224,  4416,  4609,  4801,  4993,\n",
       "        5185,  5377,  5569,  5761,  5953,  6145,  6337,  6529,  6721,\n",
       "        6913,  7105,  7297,  7489,  7681,  7873,  8065,  8257,  8449,\n",
       "        8641,  8833,  9025,  9217,  9409,  9601,  9793,  9985, 10177,\n",
       "       10369, 10561, 10753, 10945, 11137, 11329, 11521, 11713, 11905,\n",
       "       12097, 12289, 12481, 12673, 12865, 13057, 13249, 13441, 13633,\n",
       "       13826, 14018, 14210, 14402, 14594, 14786, 14978, 15170, 15362,\n",
       "       15554, 15746, 15938, 16130, 16322, 16514, 16706, 16898, 17090,\n",
       "       17282, 17474, 17666, 17858, 18050, 18242, 18434, 18626, 18818,\n",
       "       19010, 19202, 19394, 19586, 19778, 19970, 20162, 20354, 20546,\n",
       "       20738, 20930, 21122, 21314, 21506, 21698, 21890, 22082, 22274,\n",
       "       22466, 22658, 22850, 23043, 23235, 23427, 23619, 23811, 24003,\n",
       "       24195, 24387, 24579, 24771, 24963, 25155, 25347, 25539, 25731,\n",
       "       25923, 26115, 26307, 26499, 26691, 26883, 27075, 27267, 27459,\n",
       "       27651, 27843, 28035, 28227, 28419, 28611, 28803, 28995, 29187,\n",
       "       29379, 29571, 29763, 29955, 30147, 30339, 30531, 30723, 30915,\n",
       "       31107, 31299, 31491, 31683, 31875, 32067, 32260, 32452, 32644,\n",
       "       32836, 33028, 33220, 33412, 33604, 33796, 33988, 34180, 34372,\n",
       "       34564, 34756, 34948, 35140, 35332, 35524, 35716, 35908, 36100,\n",
       "       36292, 36484, 36676, 36868, 37060, 37252, 37444, 37636, 37828,\n",
       "       38020, 38212, 38404, 38596, 38788, 38980, 39172, 39364, 39556,\n",
       "       39748, 39940, 40132, 40324, 40516, 40708, 40900, 41092, 41285,\n",
       "       41477, 41669, 41861, 42053, 42245, 42437, 42629, 42821, 43013,\n",
       "       43205, 43397, 43589, 43781, 43973, 44165, 44357, 44549, 44741,\n",
       "       44933, 45125, 45317, 45509, 45701, 45893, 46085, 46277, 46469,\n",
       "       46661, 46853, 47045, 47237, 47429, 47621, 47813, 48005, 48197,\n",
       "       48389, 48581, 48773, 48965, 49157, 49349, 49541, 49733, 49925,\n",
       "       50117, 50309, 50502, 50694, 50886, 51078, 51270, 51462, 51654,\n",
       "       51846, 52038, 52230, 52422, 52614, 52806, 52998, 53190, 53382,\n",
       "       53574, 53766, 53958, 54150, 54342, 54534, 54726, 54918, 55110,\n",
       "       55302, 55494, 55686, 55878, 56070, 56262, 56454, 56646, 56838,\n",
       "       57030, 57222, 57414, 57606, 57798, 57990, 58182, 58374, 58566,\n",
       "       58758, 58950, 59142, 59334, 59526, 59719, 59911, 60103, 60295,\n",
       "       60487, 60679, 60871, 61063, 61255, 61447, 61639, 61831, 62023,\n",
       "       62215, 62407, 62599, 62791, 62983, 63175, 63367, 63559, 63751,\n",
       "       63943])"
      ]
     },
     "execution_count": 24,
     "metadata": {},
     "output_type": "execute_result"
    }
   ],
   "source": [
    "arr"
   ]
  },
  {
   "cell_type": "code",
   "execution_count": 25,
   "metadata": {},
   "outputs": [
    {
     "data": {
      "text/plain": [
       "(334,)"
      ]
     },
     "execution_count": 25,
     "metadata": {},
     "output_type": "execute_result"
    }
   ],
   "source": [
    "arr.shape"
   ]
  },
  {
   "cell_type": "code",
   "execution_count": 26,
   "metadata": {},
   "outputs": [
    {
     "data": {
      "text/plain": [
       "array([], dtype=float64)"
      ]
     },
     "execution_count": 26,
     "metadata": {},
     "output_type": "execute_result"
    }
   ],
   "source": [
    "ageTriSub = np.array([])\n",
    "ageTriSub"
   ]
  },
  {
   "cell_type": "code",
   "execution_count": 27,
   "metadata": {},
   "outputs": [
    {
     "data": {
      "text/plain": [
       "63800"
      ]
     },
     "execution_count": 27,
     "metadata": {},
     "output_type": "execute_result"
    }
   ],
   "source": [
    "np.argmax(ageTri)"
   ]
  },
  {
   "cell_type": "code",
   "execution_count": 28,
   "metadata": {},
   "outputs": [],
   "source": [
    "for i in arr:\n",
    "    if i <= np.argmax(ageTri):\n",
    "        ageTriSub = np.append(ageTriSub, ageTri[i])"
   ]
  },
  {
   "cell_type": "code",
   "execution_count": 29,
   "metadata": {
    "scrolled": true
   },
   "outputs": [
    {
     "data": {
      "text/plain": [
       "array([25.00022967, 25.17242811, 25.35477792, 25.5012266 , 25.64859478,\n",
       "       25.81031342, 25.95033026, 26.12738759, 26.29468861, 26.44886072,\n",
       "       26.59408234, 26.75772155, 26.88965992, 27.03889951, 27.17619588,\n",
       "       27.35657948, 27.52250939, 27.68690202, 27.84255391, 27.98663446,\n",
       "       28.11919777, 28.24731009, 28.37325638, 28.51748377, 28.6660904 ,\n",
       "       28.8083616 , 28.96483478, 29.10847568, 29.26027849, 29.40370356,\n",
       "       29.53714514, 29.66404665, 29.81173589, 29.95132688, 30.08688118,\n",
       "       30.22828019, 30.35890965, 30.49434714, 30.6291005 , 30.76903802,\n",
       "       30.90214481, 31.02666291, 31.16407614, 31.29592867, 31.41961429,\n",
       "       31.55356603, 31.67840178, 31.8129288 , 31.94258083, 32.07168799,\n",
       "       32.19985123, 32.32008924, 32.44901936, 32.5729853 , 32.70477408,\n",
       "       32.83109818, 32.95294877, 33.07685463, 33.19416919, 33.3164669 ,\n",
       "       33.42835411, 33.54818259, 33.66688905, 33.77837057, 33.90757109,\n",
       "       34.02492146, 34.13024241, 34.25160444, 34.36656016, 34.48954136,\n",
       "       34.6025841 , 34.72869811, 34.83494222, 34.94200493, 35.06603331,\n",
       "       35.18486449, 35.28529975, 35.38672637, 35.50746315, 35.60835215,\n",
       "       35.73136792, 35.83748386, 35.94538315, 36.05552778, 36.17380067,\n",
       "       36.28594592, 36.3936279 , 36.51171451, 36.62203408, 36.72651519,\n",
       "       36.82608545, 36.94043107, 37.05828593, 37.16512604, 37.28118703,\n",
       "       37.38079881, 37.48869758, 37.60412556, 37.72277812, 37.83021967,\n",
       "       37.9409244 , 38.05199522, 38.15857972, 38.26542117, 38.36385918,\n",
       "       38.46825542, 38.57375417, 38.66430175, 38.76819996, 38.87777888,\n",
       "       38.98741847, 39.08035536, 39.18817659, 39.29493541, 39.39483703,\n",
       "       39.50687011, 39.6133351 , 39.72082322, 39.81891596, 39.93140356,\n",
       "       40.04075714, 40.1408747 , 40.2502162 , 40.34285324, 40.4471491 ,\n",
       "       40.53464453, 40.63599593, 40.72977703, 40.8262227 , 40.92169723,\n",
       "       41.0244748 , 41.13092932, 41.22063484, 41.32097605, 41.42786047,\n",
       "       41.52757599, 41.61968449, 41.72240833, 41.82296581, 41.91126516,\n",
       "       41.99846692, 42.09642906, 42.19498551, 42.30569527, 42.38679952,\n",
       "       42.476084  , 42.57647018, 42.67318226, 42.78098282, 42.88603721,\n",
       "       42.98251067, 43.08690221, 43.1800954 , 43.27682195, 43.36700694,\n",
       "       43.45622558, 43.54842395, 43.63756792, 43.72252709, 43.82170618,\n",
       "       43.91977246, 44.0318768 , 44.13563048, 44.22531062, 44.31800469,\n",
       "       44.42168348, 44.52724422, 44.62422212, 44.71734203, 44.81990862,\n",
       "       44.9294561 , 45.02886516, 45.13085449, 45.24522338, 45.3439074 ,\n",
       "       45.43969833, 45.55342652, 45.65213453, 45.7409216 , 45.84875165,\n",
       "       45.95209421, 46.05695988, 46.16178164, 46.26104386, 46.35996991,\n",
       "       46.46622844, 46.56809371, 46.67398011, 46.76715373, 46.87056507,\n",
       "       46.95959149, 47.06478616, 47.1701871 , 47.27644678, 47.37374275,\n",
       "       47.4723987 , 47.5760225 , 47.67135201, 47.76984   , 47.87225472,\n",
       "       47.98334096, 48.09969799, 48.2152781 , 48.34765937, 48.45258994,\n",
       "       48.55943339, 48.66711877, 48.78566137, 48.87257664, 48.98351526,\n",
       "       49.09748613, 49.20406276, 49.31919277, 49.44289999, 49.54436723,\n",
       "       49.66217341, 49.77698435, 49.89516341, 50.01054546, 50.12267725,\n",
       "       50.23794722, 50.34435403, 50.46271491, 50.56803336, 50.67467188,\n",
       "       50.78312924, 50.90959876, 51.04126164, 51.14605397, 51.27670061,\n",
       "       51.39636446, 51.51112379, 51.6320417 , 51.74777325, 51.86677211,\n",
       "       52.00157717, 52.11093869, 52.21983097, 52.33912837, 52.45887287,\n",
       "       52.56872658, 52.67608165, 52.78773725, 52.90730707, 53.02213467,\n",
       "       53.13087731, 53.2439078 , 53.36863945, 53.47665184, 53.59112845,\n",
       "       53.69194598, 53.8092566 , 53.93618472, 54.05541485, 54.17626393,\n",
       "       54.29809909, 54.42363251, 54.53131764, 54.65627537, 54.78752923,\n",
       "       54.90154888, 55.03119036, 55.15160464, 55.29305336, 55.42990081,\n",
       "       55.54731084, 55.65954694, 55.78961672, 55.92885828, 56.06163758,\n",
       "       56.17995665, 56.30388288, 56.43154997, 56.56106735, 56.69347402,\n",
       "       56.82221753, 56.95647602, 57.08127264, 57.20646352, 57.35416899,\n",
       "       57.47987141, 57.61190283, 57.74050448, 57.86923007, 57.98783939,\n",
       "       58.11973929, 58.24634247, 58.38032135, 58.50816299, 58.64354835,\n",
       "       58.78119778, 58.93064769, 59.06811307, 59.20942289, 59.36554694,\n",
       "       59.50304582, 59.64760156, 59.78965602, 59.93219559, 60.06128533,\n",
       "       60.21057175, 60.35308911, 60.48602888, 60.62358745, 60.75935787,\n",
       "       60.8954416 , 61.03104783, 61.17279654, 61.3190598 , 61.45256221,\n",
       "       61.61197541, 61.7564084 , 61.89403735, 62.04244326, 62.20450144,\n",
       "       62.33375276, 62.48959647, 62.62857738, 62.78281638, 62.92928101,\n",
       "       63.11292915, 63.22436566, 63.39408976, 63.52453766, 63.69366151,\n",
       "       63.84909029, 64.00569291, 64.16738375, 64.3184094 , 64.47993404,\n",
       "       64.64812137, 64.80576491, 64.95506369])"
      ]
     },
     "execution_count": 29,
     "metadata": {},
     "output_type": "execute_result"
    }
   ],
   "source": [
    "ageTriSub"
   ]
  },
  {
   "cell_type": "code",
   "execution_count": 30,
   "metadata": {},
   "outputs": [
    {
     "data": {
      "text/plain": [
       "<matplotlib.axes._subplots.AxesSubplot at 0x200f5550080>"
      ]
     },
     "execution_count": 30,
     "metadata": {},
     "output_type": "execute_result"
    },
    {
     "data": {
      "image/png": "[encoded data removed]",
      "text/plain": [
       "<Figure size 432x288 with 1 Axes>"
      ]
     },
     "metadata": {},
     "output_type": "display_data"
    }
   ],
   "source": [
    "sns.distplot(ageTriSub)"
   ]
  },
  {
   "cell_type": "code",
   "execution_count": 31,
   "metadata": {},
   "outputs": [
    {
     "name": "stdout",
     "output_type": "stream",
     "text": [
      "Full dataset mean: 44.82587769419755\n",
      "Full dataset stdev: 10.786795007834314\n",
      "\n",
      "Sub dataset mean: 44.81086095720953\n",
      "Sub dataset stdev: 10.815950241152857\n"
     ]
    }
   ],
   "source": [
    "print(\"Full dataset mean:\", ageTri.mean())\n",
    "print(\"Full dataset stdev:\", ageTri.std())\n",
    "\n",
    "print(\"\\nSub dataset mean:\",ageTriSub.mean())\n",
    "print(\"Sub dataset stdev:\", ageTriSub.std())"
   ]
  },
  {
   "cell_type": "code",
   "execution_count": 32,
   "metadata": {},
   "outputs": [],
   "source": [
    "np.rint(ageTriSub)\n",
    "df['Age'] = ageTriSub.astype(int)"
   ]
  },
  {
   "cell_type": "code",
   "execution_count": 33,
   "metadata": {
    "scrolled": true
   },
   "outputs": [],
   "source": [
    "df.loc[df['Age'] <= 34, \"Age_Range\"] = \"25-34\"\n",
    "df.loc[(df['Age'] > 34) & (df['Age'] <=44), \"Age_Range\"] = \"35-44\"\n",
    "df.loc[(df['Age'] > 44) & (df['Age'] <=54), \"Age_Range\"] = \"45-54\"\n",
    "df.loc[df['Age'] > 54, \"Age_Range\"] = \"55-64\""
   ]
  },
  {
   "cell_type": "code",
   "execution_count": 34,
   "metadata": {},
   "outputs": [
    {
     "data": {
      "text/html": [
       "<div>\n",
       "<style scoped>\n",
       "    .dataframe tbody tr th:only-of-type {\n",
       "        vertical-align: middle;\n",
       "    }\n",
       "\n",
       "    .dataframe tbody tr th {\n",
       "        vertical-align: top;\n",
       "    }\n",
       "\n",
       "    .dataframe thead th {\n",
       "        text-align: right;\n",
       "    }\n",
       "</style>\n",
       "<table border=\"1\" class=\"dataframe\">\n",
       "  <thead>\n",
       "    <tr style=\"text-align: right;\">\n",
       "      <th></th>\n",
       "      <th>Age</th>\n",
       "      <th>Field</th>\n",
       "      <th>Qual</th>\n",
       "      <th>Gender</th>\n",
       "      <th>Age_Range</th>\n",
       "    </tr>\n",
       "  </thead>\n",
       "  <tbody>\n",
       "    <tr>\n",
       "      <th>0</th>\n",
       "      <td>25</td>\n",
       "      <td>NaN</td>\n",
       "      <td>NaN</td>\n",
       "      <td>NaN</td>\n",
       "      <td>25-34</td>\n",
       "    </tr>\n",
       "    <tr>\n",
       "      <th>1</th>\n",
       "      <td>25</td>\n",
       "      <td>NaN</td>\n",
       "      <td>NaN</td>\n",
       "      <td>NaN</td>\n",
       "      <td>25-34</td>\n",
       "    </tr>\n",
       "    <tr>\n",
       "      <th>2</th>\n",
       "      <td>25</td>\n",
       "      <td>NaN</td>\n",
       "      <td>NaN</td>\n",
       "      <td>NaN</td>\n",
       "      <td>25-34</td>\n",
       "    </tr>\n",
       "    <tr>\n",
       "      <th>3</th>\n",
       "      <td>25</td>\n",
       "      <td>NaN</td>\n",
       "      <td>NaN</td>\n",
       "      <td>NaN</td>\n",
       "      <td>25-34</td>\n",
       "    </tr>\n",
       "    <tr>\n",
       "      <th>4</th>\n",
       "      <td>25</td>\n",
       "      <td>NaN</td>\n",
       "      <td>NaN</td>\n",
       "      <td>NaN</td>\n",
       "      <td>25-34</td>\n",
       "    </tr>\n",
       "    <tr>\n",
       "      <th>5</th>\n",
       "      <td>25</td>\n",
       "      <td>NaN</td>\n",
       "      <td>NaN</td>\n",
       "      <td>NaN</td>\n",
       "      <td>25-34</td>\n",
       "    </tr>\n",
       "    <tr>\n",
       "      <th>6</th>\n",
       "      <td>25</td>\n",
       "      <td>NaN</td>\n",
       "      <td>NaN</td>\n",
       "      <td>NaN</td>\n",
       "      <td>25-34</td>\n",
       "    </tr>\n",
       "    <tr>\n",
       "      <th>7</th>\n",
       "      <td>26</td>\n",
       "      <td>NaN</td>\n",
       "      <td>NaN</td>\n",
       "      <td>NaN</td>\n",
       "      <td>25-34</td>\n",
       "    </tr>\n",
       "    <tr>\n",
       "      <th>8</th>\n",
       "      <td>26</td>\n",
       "      <td>NaN</td>\n",
       "      <td>NaN</td>\n",
       "      <td>NaN</td>\n",
       "      <td>25-34</td>\n",
       "    </tr>\n",
       "    <tr>\n",
       "      <th>9</th>\n",
       "      <td>26</td>\n",
       "      <td>NaN</td>\n",
       "      <td>NaN</td>\n",
       "      <td>NaN</td>\n",
       "      <td>25-34</td>\n",
       "    </tr>\n",
       "    <tr>\n",
       "      <th>10</th>\n",
       "      <td>26</td>\n",
       "      <td>NaN</td>\n",
       "      <td>NaN</td>\n",
       "      <td>NaN</td>\n",
       "      <td>25-34</td>\n",
       "    </tr>\n",
       "    <tr>\n",
       "      <th>11</th>\n",
       "      <td>26</td>\n",
       "      <td>NaN</td>\n",
       "      <td>NaN</td>\n",
       "      <td>NaN</td>\n",
       "      <td>25-34</td>\n",
       "    </tr>\n",
       "    <tr>\n",
       "      <th>12</th>\n",
       "      <td>26</td>\n",
       "      <td>NaN</td>\n",
       "      <td>NaN</td>\n",
       "      <td>NaN</td>\n",
       "      <td>25-34</td>\n",
       "    </tr>\n",
       "    <tr>\n",
       "      <th>13</th>\n",
       "      <td>27</td>\n",
       "      <td>NaN</td>\n",
       "      <td>NaN</td>\n",
       "      <td>NaN</td>\n",
       "      <td>25-34</td>\n",
       "    </tr>\n",
       "    <tr>\n",
       "      <th>14</th>\n",
       "      <td>27</td>\n",
       "      <td>NaN</td>\n",
       "      <td>NaN</td>\n",
       "      <td>NaN</td>\n",
       "      <td>25-34</td>\n",
       "    </tr>\n",
       "    <tr>\n",
       "      <th>15</th>\n",
       "      <td>27</td>\n",
       "      <td>NaN</td>\n",
       "      <td>NaN</td>\n",
       "      <td>NaN</td>\n",
       "      <td>25-34</td>\n",
       "    </tr>\n",
       "    <tr>\n",
       "      <th>16</th>\n",
       "      <td>27</td>\n",
       "      <td>NaN</td>\n",
       "      <td>NaN</td>\n",
       "      <td>NaN</td>\n",
       "      <td>25-34</td>\n",
       "    </tr>\n",
       "    <tr>\n",
       "      <th>17</th>\n",
       "      <td>27</td>\n",
       "      <td>NaN</td>\n",
       "      <td>NaN</td>\n",
       "      <td>NaN</td>\n",
       "      <td>25-34</td>\n",
       "    </tr>\n",
       "    <tr>\n",
       "      <th>18</th>\n",
       "      <td>27</td>\n",
       "      <td>NaN</td>\n",
       "      <td>NaN</td>\n",
       "      <td>NaN</td>\n",
       "      <td>25-34</td>\n",
       "    </tr>\n",
       "    <tr>\n",
       "      <th>19</th>\n",
       "      <td>27</td>\n",
       "      <td>NaN</td>\n",
       "      <td>NaN</td>\n",
       "      <td>NaN</td>\n",
       "      <td>25-34</td>\n",
       "    </tr>\n",
       "    <tr>\n",
       "      <th>20</th>\n",
       "      <td>28</td>\n",
       "      <td>NaN</td>\n",
       "      <td>NaN</td>\n",
       "      <td>NaN</td>\n",
       "      <td>25-34</td>\n",
       "    </tr>\n",
       "    <tr>\n",
       "      <th>21</th>\n",
       "      <td>28</td>\n",
       "      <td>NaN</td>\n",
       "      <td>NaN</td>\n",
       "      <td>NaN</td>\n",
       "      <td>25-34</td>\n",
       "    </tr>\n",
       "    <tr>\n",
       "      <th>22</th>\n",
       "      <td>28</td>\n",
       "      <td>NaN</td>\n",
       "      <td>NaN</td>\n",
       "      <td>NaN</td>\n",
       "      <td>25-34</td>\n",
       "    </tr>\n",
       "    <tr>\n",
       "      <th>23</th>\n",
       "      <td>28</td>\n",
       "      <td>NaN</td>\n",
       "      <td>NaN</td>\n",
       "      <td>NaN</td>\n",
       "      <td>25-34</td>\n",
       "    </tr>\n",
       "    <tr>\n",
       "      <th>24</th>\n",
       "      <td>28</td>\n",
       "      <td>NaN</td>\n",
       "      <td>NaN</td>\n",
       "      <td>NaN</td>\n",
       "      <td>25-34</td>\n",
       "    </tr>\n",
       "    <tr>\n",
       "      <th>25</th>\n",
       "      <td>28</td>\n",
       "      <td>NaN</td>\n",
       "      <td>NaN</td>\n",
       "      <td>NaN</td>\n",
       "      <td>25-34</td>\n",
       "    </tr>\n",
       "    <tr>\n",
       "      <th>26</th>\n",
       "      <td>28</td>\n",
       "      <td>NaN</td>\n",
       "      <td>NaN</td>\n",
       "      <td>NaN</td>\n",
       "      <td>25-34</td>\n",
       "    </tr>\n",
       "    <tr>\n",
       "      <th>27</th>\n",
       "      <td>29</td>\n",
       "      <td>NaN</td>\n",
       "      <td>NaN</td>\n",
       "      <td>NaN</td>\n",
       "      <td>25-34</td>\n",
       "    </tr>\n",
       "    <tr>\n",
       "      <th>28</th>\n",
       "      <td>29</td>\n",
       "      <td>NaN</td>\n",
       "      <td>NaN</td>\n",
       "      <td>NaN</td>\n",
       "      <td>25-34</td>\n",
       "    </tr>\n",
       "    <tr>\n",
       "      <th>29</th>\n",
       "      <td>29</td>\n",
       "      <td>NaN</td>\n",
       "      <td>NaN</td>\n",
       "      <td>NaN</td>\n",
       "      <td>25-34</td>\n",
       "    </tr>\n",
       "    <tr>\n",
       "      <th>...</th>\n",
       "      <td>...</td>\n",
       "      <td>...</td>\n",
       "      <td>...</td>\n",
       "      <td>...</td>\n",
       "      <td>...</td>\n",
       "    </tr>\n",
       "    <tr>\n",
       "      <th>303</th>\n",
       "      <td>60</td>\n",
       "      <td>NaN</td>\n",
       "      <td>NaN</td>\n",
       "      <td>NaN</td>\n",
       "      <td>55-64</td>\n",
       "    </tr>\n",
       "    <tr>\n",
       "      <th>304</th>\n",
       "      <td>60</td>\n",
       "      <td>NaN</td>\n",
       "      <td>NaN</td>\n",
       "      <td>NaN</td>\n",
       "      <td>55-64</td>\n",
       "    </tr>\n",
       "    <tr>\n",
       "      <th>305</th>\n",
       "      <td>60</td>\n",
       "      <td>NaN</td>\n",
       "      <td>NaN</td>\n",
       "      <td>NaN</td>\n",
       "      <td>55-64</td>\n",
       "    </tr>\n",
       "    <tr>\n",
       "      <th>306</th>\n",
       "      <td>61</td>\n",
       "      <td>NaN</td>\n",
       "      <td>NaN</td>\n",
       "      <td>NaN</td>\n",
       "      <td>55-64</td>\n",
       "    </tr>\n",
       "    <tr>\n",
       "      <th>307</th>\n",
       "      <td>61</td>\n",
       "      <td>NaN</td>\n",
       "      <td>NaN</td>\n",
       "      <td>NaN</td>\n",
       "      <td>55-64</td>\n",
       "    </tr>\n",
       "    <tr>\n",
       "      <th>308</th>\n",
       "      <td>61</td>\n",
       "      <td>NaN</td>\n",
       "      <td>NaN</td>\n",
       "      <td>NaN</td>\n",
       "      <td>55-64</td>\n",
       "    </tr>\n",
       "    <tr>\n",
       "      <th>309</th>\n",
       "      <td>61</td>\n",
       "      <td>NaN</td>\n",
       "      <td>NaN</td>\n",
       "      <td>NaN</td>\n",
       "      <td>55-64</td>\n",
       "    </tr>\n",
       "    <tr>\n",
       "      <th>310</th>\n",
       "      <td>61</td>\n",
       "      <td>NaN</td>\n",
       "      <td>NaN</td>\n",
       "      <td>NaN</td>\n",
       "      <td>55-64</td>\n",
       "    </tr>\n",
       "    <tr>\n",
       "      <th>311</th>\n",
       "      <td>61</td>\n",
       "      <td>NaN</td>\n",
       "      <td>NaN</td>\n",
       "      <td>NaN</td>\n",
       "      <td>55-64</td>\n",
       "    </tr>\n",
       "    <tr>\n",
       "      <th>312</th>\n",
       "      <td>61</td>\n",
       "      <td>NaN</td>\n",
       "      <td>NaN</td>\n",
       "      <td>NaN</td>\n",
       "      <td>55-64</td>\n",
       "    </tr>\n",
       "    <tr>\n",
       "      <th>313</th>\n",
       "      <td>62</td>\n",
       "      <td>NaN</td>\n",
       "      <td>NaN</td>\n",
       "      <td>NaN</td>\n",
       "      <td>55-64</td>\n",
       "    </tr>\n",
       "    <tr>\n",
       "      <th>314</th>\n",
       "      <td>62</td>\n",
       "      <td>NaN</td>\n",
       "      <td>NaN</td>\n",
       "      <td>NaN</td>\n",
       "      <td>55-64</td>\n",
       "    </tr>\n",
       "    <tr>\n",
       "      <th>315</th>\n",
       "      <td>62</td>\n",
       "      <td>NaN</td>\n",
       "      <td>NaN</td>\n",
       "      <td>NaN</td>\n",
       "      <td>55-64</td>\n",
       "    </tr>\n",
       "    <tr>\n",
       "      <th>316</th>\n",
       "      <td>62</td>\n",
       "      <td>NaN</td>\n",
       "      <td>NaN</td>\n",
       "      <td>NaN</td>\n",
       "      <td>55-64</td>\n",
       "    </tr>\n",
       "    <tr>\n",
       "      <th>317</th>\n",
       "      <td>62</td>\n",
       "      <td>NaN</td>\n",
       "      <td>NaN</td>\n",
       "      <td>NaN</td>\n",
       "      <td>55-64</td>\n",
       "    </tr>\n",
       "    <tr>\n",
       "      <th>318</th>\n",
       "      <td>62</td>\n",
       "      <td>NaN</td>\n",
       "      <td>NaN</td>\n",
       "      <td>NaN</td>\n",
       "      <td>55-64</td>\n",
       "    </tr>\n",
       "    <tr>\n",
       "      <th>319</th>\n",
       "      <td>62</td>\n",
       "      <td>NaN</td>\n",
       "      <td>NaN</td>\n",
       "      <td>NaN</td>\n",
       "      <td>55-64</td>\n",
       "    </tr>\n",
       "    <tr>\n",
       "      <th>320</th>\n",
       "      <td>63</td>\n",
       "      <td>NaN</td>\n",
       "      <td>NaN</td>\n",
       "      <td>NaN</td>\n",
       "      <td>55-64</td>\n",
       "    </tr>\n",
       "    <tr>\n",
       "      <th>321</th>\n",
       "      <td>63</td>\n",
       "      <td>NaN</td>\n",
       "      <td>NaN</td>\n",
       "      <td>NaN</td>\n",
       "      <td>55-64</td>\n",
       "    </tr>\n",
       "    <tr>\n",
       "      <th>322</th>\n",
       "      <td>63</td>\n",
       "      <td>NaN</td>\n",
       "      <td>NaN</td>\n",
       "      <td>NaN</td>\n",
       "      <td>55-64</td>\n",
       "    </tr>\n",
       "    <tr>\n",
       "      <th>323</th>\n",
       "      <td>63</td>\n",
       "      <td>NaN</td>\n",
       "      <td>NaN</td>\n",
       "      <td>NaN</td>\n",
       "      <td>55-64</td>\n",
       "    </tr>\n",
       "    <tr>\n",
       "      <th>324</th>\n",
       "      <td>63</td>\n",
       "      <td>NaN</td>\n",
       "      <td>NaN</td>\n",
       "      <td>NaN</td>\n",
       "      <td>55-64</td>\n",
       "    </tr>\n",
       "    <tr>\n",
       "      <th>325</th>\n",
       "      <td>63</td>\n",
       "      <td>NaN</td>\n",
       "      <td>NaN</td>\n",
       "      <td>NaN</td>\n",
       "      <td>55-64</td>\n",
       "    </tr>\n",
       "    <tr>\n",
       "      <th>326</th>\n",
       "      <td>64</td>\n",
       "      <td>NaN</td>\n",
       "      <td>NaN</td>\n",
       "      <td>NaN</td>\n",
       "      <td>55-64</td>\n",
       "    </tr>\n",
       "    <tr>\n",
       "      <th>327</th>\n",
       "      <td>64</td>\n",
       "      <td>NaN</td>\n",
       "      <td>NaN</td>\n",
       "      <td>NaN</td>\n",
       "      <td>55-64</td>\n",
       "    </tr>\n",
       "    <tr>\n",
       "      <th>328</th>\n",
       "      <td>64</td>\n",
       "      <td>NaN</td>\n",
       "      <td>NaN</td>\n",
       "      <td>NaN</td>\n",
       "      <td>55-64</td>\n",
       "    </tr>\n",
       "    <tr>\n",
       "      <th>329</th>\n",
       "      <td>64</td>\n",
       "      <td>NaN</td>\n",
       "      <td>NaN</td>\n",
       "      <td>NaN</td>\n",
       "      <td>55-64</td>\n",
       "    </tr>\n",
       "    <tr>\n",
       "      <th>330</th>\n",
       "      <td>64</td>\n",
       "      <td>NaN</td>\n",
       "      <td>NaN</td>\n",
       "      <td>NaN</td>\n",
       "      <td>55-64</td>\n",
       "    </tr>\n",
       "    <tr>\n",
       "      <th>331</th>\n",
       "      <td>64</td>\n",
       "      <td>NaN</td>\n",
       "      <td>NaN</td>\n",
       "      <td>NaN</td>\n",
       "      <td>55-64</td>\n",
       "    </tr>\n",
       "    <tr>\n",
       "      <th>332</th>\n",
       "      <td>64</td>\n",
       "      <td>NaN</td>\n",
       "      <td>NaN</td>\n",
       "      <td>NaN</td>\n",
       "      <td>55-64</td>\n",
       "    </tr>\n",
       "  </tbody>\n",
       "</table>\n",
       "<p>333 rows × 5 columns</p>\n",
       "</div>"
      ],
      "text/plain": [
       "     Age Field Qual Gender Age_Range\n",
       "0     25   NaN  NaN    NaN     25-34\n",
       "1     25   NaN  NaN    NaN     25-34\n",
       "2     25   NaN  NaN    NaN     25-34\n",
       "3     25   NaN  NaN    NaN     25-34\n",
       "4     25   NaN  NaN    NaN     25-34\n",
       "5     25   NaN  NaN    NaN     25-34\n",
       "6     25   NaN  NaN    NaN     25-34\n",
       "7     26   NaN  NaN    NaN     25-34\n",
       "8     26   NaN  NaN    NaN     25-34\n",
       "9     26   NaN  NaN    NaN     25-34\n",
       "10    26   NaN  NaN    NaN     25-34\n",
       "11    26   NaN  NaN    NaN     25-34\n",
       "12    26   NaN  NaN    NaN     25-34\n",
       "13    27   NaN  NaN    NaN     25-34\n",
       "14    27   NaN  NaN    NaN     25-34\n",
       "15    27   NaN  NaN    NaN     25-34\n",
       "16    27   NaN  NaN    NaN     25-34\n",
       "17    27   NaN  NaN    NaN     25-34\n",
       "18    27   NaN  NaN    NaN     25-34\n",
       "19    27   NaN  NaN    NaN     25-34\n",
       "20    28   NaN  NaN    NaN     25-34\n",
       "21    28   NaN  NaN    NaN     25-34\n",
       "22    28   NaN  NaN    NaN     25-34\n",
       "23    28   NaN  NaN    NaN     25-34\n",
       "24    28   NaN  NaN    NaN     25-34\n",
       "25    28   NaN  NaN    NaN     25-34\n",
       "26    28   NaN  NaN    NaN     25-34\n",
       "27    29   NaN  NaN    NaN     25-34\n",
       "28    29   NaN  NaN    NaN     25-34\n",
       "29    29   NaN  NaN    NaN     25-34\n",
       "..   ...   ...  ...    ...       ...\n",
       "303   60   NaN  NaN    NaN     55-64\n",
       "304   60   NaN  NaN    NaN     55-64\n",
       "305   60   NaN  NaN    NaN     55-64\n",
       "306   61   NaN  NaN    NaN     55-64\n",
       "307   61   NaN  NaN    NaN     55-64\n",
       "308   61   NaN  NaN    NaN     55-64\n",
       "309   61   NaN  NaN    NaN     55-64\n",
       "310   61   NaN  NaN    NaN     55-64\n",
       "311   61   NaN  NaN    NaN     55-64\n",
       "312   61   NaN  NaN    NaN     55-64\n",
       "313   62   NaN  NaN    NaN     55-64\n",
       "314   62   NaN  NaN    NaN     55-64\n",
       "315   62   NaN  NaN    NaN     55-64\n",
       "316   62   NaN  NaN    NaN     55-64\n",
       "317   62   NaN  NaN    NaN     55-64\n",
       "318   62   NaN  NaN    NaN     55-64\n",
       "319   62   NaN  NaN    NaN     55-64\n",
       "320   63   NaN  NaN    NaN     55-64\n",
       "321   63   NaN  NaN    NaN     55-64\n",
       "322   63   NaN  NaN    NaN     55-64\n",
       "323   63   NaN  NaN    NaN     55-64\n",
       "324   63   NaN  NaN    NaN     55-64\n",
       "325   63   NaN  NaN    NaN     55-64\n",
       "326   64   NaN  NaN    NaN     55-64\n",
       "327   64   NaN  NaN    NaN     55-64\n",
       "328   64   NaN  NaN    NaN     55-64\n",
       "329   64   NaN  NaN    NaN     55-64\n",
       "330   64   NaN  NaN    NaN     55-64\n",
       "331   64   NaN  NaN    NaN     55-64\n",
       "332   64   NaN  NaN    NaN     55-64\n",
       "\n",
       "[333 rows x 5 columns]"
      ]
     },
     "execution_count": 34,
     "metadata": {},
     "output_type": "execute_result"
    }
   ],
   "source": [
    "df"
   ]
  },
  {
   "cell_type": "markdown",
   "metadata": {},
   "source": [
    "### Field of Study Data"
   ]
  },
  {
   "cell_type": "code",
   "execution_count": 35,
   "metadata": {},
   "outputs": [],
   "source": [
    "f = pd.read_excel(\"data\\AES2017TBL2b.xlsx\") # Import xlsx file using pandas\n",
    "dfField = pd.DataFrame(f) # Create a dataframe from the csv data\n",
    "#dfField"
   ]
  },
  {
   "cell_type": "code",
   "execution_count": 36,
   "metadata": {},
   "outputs": [],
   "source": [
    "dfField.drop(dfField.loc[11:].index, axis=0, inplace=True)\n",
    "dfField.drop([0, 2, 3, 6], axis=0, inplace=True)\n",
    "dfField.drop(dfField.columns[[0, 14]], axis=1, inplace=True)"
   ]
  },
  {
   "cell_type": "code",
   "execution_count": 37,
   "metadata": {},
   "outputs": [
    {
     "data": {
      "text/html": [
       "<div>\n",
       "<style scoped>\n",
       "    .dataframe tbody tr th:only-of-type {\n",
       "        vertical-align: middle;\n",
       "    }\n",
       "\n",
       "    .dataframe tbody tr th {\n",
       "        vertical-align: top;\n",
       "    }\n",
       "\n",
       "    .dataframe thead th {\n",
       "        text-align: right;\n",
       "    }\n",
       "</style>\n",
       "<table border=\"1\" class=\"dataframe\">\n",
       "  <thead>\n",
       "    <tr style=\"text-align: right;\">\n",
       "      <th></th>\n",
       "      <th>ITEM</th>\n",
       "      <th>GEN</th>\n",
       "      <th>EDU</th>\n",
       "      <th>ART</th>\n",
       "      <th>SOC</th>\n",
       "      <th>BUS</th>\n",
       "      <th>NAT</th>\n",
       "      <th>INF</th>\n",
       "      <th>ENG</th>\n",
       "      <th>AGR</th>\n",
       "      <th>HEA</th>\n",
       "      <th>SER</th>\n",
       "      <th>OTH</th>\n",
       "    </tr>\n",
       "  </thead>\n",
       "  <tbody>\n",
       "    <tr>\n",
       "      <th>4</th>\n",
       "      <td>Male</td>\n",
       "      <td>10.3</td>\n",
       "      <td>3.6</td>\n",
       "      <td>2.6</td>\n",
       "      <td>0.8</td>\n",
       "      <td>22.7</td>\n",
       "      <td>6.8</td>\n",
       "      <td>7.6</td>\n",
       "      <td>13.3</td>\n",
       "      <td>4.7</td>\n",
       "      <td>12.3</td>\n",
       "      <td>2.3</td>\n",
       "      <td>13.2</td>\n",
       "    </tr>\n",
       "    <tr>\n",
       "      <th>5</th>\n",
       "      <td>Female</td>\n",
       "      <td>2.5</td>\n",
       "      <td>11.4</td>\n",
       "      <td>6.2</td>\n",
       "      <td>2</td>\n",
       "      <td>30.1</td>\n",
       "      <td>1.6</td>\n",
       "      <td>6.2</td>\n",
       "      <td>2.8</td>\n",
       "      <td>1.5</td>\n",
       "      <td>22.1</td>\n",
       "      <td>2.1</td>\n",
       "      <td>11.5</td>\n",
       "    </tr>\n",
       "    <tr>\n",
       "      <th>7</th>\n",
       "      <td>25-34</td>\n",
       "      <td>6.6</td>\n",
       "      <td>8.1</td>\n",
       "      <td>1.7</td>\n",
       "      <td>0.6</td>\n",
       "      <td>30</td>\n",
       "      <td>5.9</td>\n",
       "      <td>10.4</td>\n",
       "      <td>8.9</td>\n",
       "      <td>1.8</td>\n",
       "      <td>15.2</td>\n",
       "      <td>1.4</td>\n",
       "      <td>9.3</td>\n",
       "    </tr>\n",
       "    <tr>\n",
       "      <th>8</th>\n",
       "      <td>35-44</td>\n",
       "      <td>6.8</td>\n",
       "      <td>8.4</td>\n",
       "      <td>7.8</td>\n",
       "      <td>0.6</td>\n",
       "      <td>28.6</td>\n",
       "      <td>1.5</td>\n",
       "      <td>2.9</td>\n",
       "      <td>6.5</td>\n",
       "      <td>5.5</td>\n",
       "      <td>15.2</td>\n",
       "      <td>0.9</td>\n",
       "      <td>15.3</td>\n",
       "    </tr>\n",
       "    <tr>\n",
       "      <th>9</th>\n",
       "      <td>45-54</td>\n",
       "      <td>2.2</td>\n",
       "      <td>9.9</td>\n",
       "      <td>3.5</td>\n",
       "      <td>2.2</td>\n",
       "      <td>20.5</td>\n",
       "      <td>4.1</td>\n",
       "      <td>6.4</td>\n",
       "      <td>5.4</td>\n",
       "      <td>0</td>\n",
       "      <td>27.1</td>\n",
       "      <td>6.4</td>\n",
       "      <td>12.3</td>\n",
       "    </tr>\n",
       "    <tr>\n",
       "      <th>10</th>\n",
       "      <td>55-64</td>\n",
       "      <td>[3.3]3</td>\n",
       "      <td>[2.8]</td>\n",
       "      <td>[11.2]</td>\n",
       "      <td>[9.4]</td>\n",
       "      <td>[17.7]</td>\n",
       "      <td>[0.0]</td>\n",
       "      <td>[3.8]</td>\n",
       "      <td>[3.4]</td>\n",
       "      <td>[3.5]</td>\n",
       "      <td>[26.8]</td>\n",
       "      <td>[2.8]</td>\n",
       "      <td>[15.3]</td>\n",
       "    </tr>\n",
       "  </tbody>\n",
       "</table>\n",
       "</div>"
      ],
      "text/plain": [
       "      ITEM     GEN    EDU     ART    SOC     BUS    NAT    INF    ENG    AGR  \\\n",
       "4     Male    10.3    3.6     2.6    0.8    22.7    6.8    7.6   13.3    4.7   \n",
       "5   Female     2.5   11.4     6.2      2    30.1    1.6    6.2    2.8    1.5   \n",
       "7    25-34     6.6    8.1     1.7    0.6      30    5.9   10.4    8.9    1.8   \n",
       "8    35-44     6.8    8.4     7.8    0.6    28.6    1.5    2.9    6.5    5.5   \n",
       "9    45-54     2.2    9.9     3.5    2.2    20.5    4.1    6.4    5.4      0   \n",
       "10   55-64  [3.3]3  [2.8]  [11.2]  [9.4]  [17.7]  [0.0]  [3.8]  [3.4]  [3.5]   \n",
       "\n",
       "       HEA    SER     OTH  \n",
       "4     12.3    2.3    13.2  \n",
       "5     22.1    2.1    11.5  \n",
       "7     15.2    1.4     9.3  \n",
       "8     15.2    0.9    15.3  \n",
       "9     27.1    6.4    12.3  \n",
       "10  [26.8]  [2.8]  [15.3]  "
      ]
     },
     "execution_count": 37,
     "metadata": {},
     "output_type": "execute_result"
    }
   ],
   "source": [
    "dfField.columns = ['ITEM', 'GEN', 'EDU', 'ART', 'SOC', 'BUS', 'NAT', 'INF', 'ENG', 'AGR', 'HEA', 'SER', 'OTH']\n",
    "dfField.drop([1], axis=0, inplace=True)\n",
    "dfField"
   ]
  },
  {
   "cell_type": "code",
   "execution_count": 70,
   "metadata": {},
   "outputs": [],
   "source": [
    "fieldList = list(dfField.columns.values)"
   ]
  },
  {
   "cell_type": "code",
   "execution_count": 40,
   "metadata": {},
   "outputs": [
    {
     "data": {
      "text/html": [
       "<div>\n",
       "<style scoped>\n",
       "    .dataframe tbody tr th:only-of-type {\n",
       "        vertical-align: middle;\n",
       "    }\n",
       "\n",
       "    .dataframe tbody tr th {\n",
       "        vertical-align: top;\n",
       "    }\n",
       "\n",
       "    .dataframe thead th {\n",
       "        text-align: right;\n",
       "    }\n",
       "</style>\n",
       "<table border=\"1\" class=\"dataframe\">\n",
       "  <thead>\n",
       "    <tr style=\"text-align: right;\">\n",
       "      <th></th>\n",
       "      <th>GEN</th>\n",
       "      <th>EDU</th>\n",
       "      <th>ART</th>\n",
       "      <th>SOC</th>\n",
       "      <th>BUS</th>\n",
       "      <th>NAT</th>\n",
       "      <th>INF</th>\n",
       "      <th>ENG</th>\n",
       "      <th>AGR</th>\n",
       "      <th>HEA</th>\n",
       "      <th>SER</th>\n",
       "      <th>OTH</th>\n",
       "    </tr>\n",
       "    <tr>\n",
       "      <th>ITEM</th>\n",
       "      <th></th>\n",
       "      <th></th>\n",
       "      <th></th>\n",
       "      <th></th>\n",
       "      <th></th>\n",
       "      <th></th>\n",
       "      <th></th>\n",
       "      <th></th>\n",
       "      <th></th>\n",
       "      <th></th>\n",
       "      <th></th>\n",
       "      <th></th>\n",
       "    </tr>\n",
       "  </thead>\n",
       "  <tbody>\n",
       "    <tr>\n",
       "      <th>Male</th>\n",
       "      <td>10.3</td>\n",
       "      <td>3.6</td>\n",
       "      <td>2.6</td>\n",
       "      <td>0.8</td>\n",
       "      <td>22.7</td>\n",
       "      <td>6.8</td>\n",
       "      <td>7.6</td>\n",
       "      <td>13.3</td>\n",
       "      <td>4.7</td>\n",
       "      <td>12.3</td>\n",
       "      <td>2.3</td>\n",
       "      <td>13.2</td>\n",
       "    </tr>\n",
       "    <tr>\n",
       "      <th>Female</th>\n",
       "      <td>2.5</td>\n",
       "      <td>11.4</td>\n",
       "      <td>6.2</td>\n",
       "      <td>2</td>\n",
       "      <td>30.1</td>\n",
       "      <td>1.6</td>\n",
       "      <td>6.2</td>\n",
       "      <td>2.8</td>\n",
       "      <td>1.5</td>\n",
       "      <td>22.1</td>\n",
       "      <td>2.1</td>\n",
       "      <td>11.5</td>\n",
       "    </tr>\n",
       "    <tr>\n",
       "      <th>25-34</th>\n",
       "      <td>6.6</td>\n",
       "      <td>8.1</td>\n",
       "      <td>1.7</td>\n",
       "      <td>0.6</td>\n",
       "      <td>30</td>\n",
       "      <td>5.9</td>\n",
       "      <td>10.4</td>\n",
       "      <td>8.9</td>\n",
       "      <td>1.8</td>\n",
       "      <td>15.2</td>\n",
       "      <td>1.4</td>\n",
       "      <td>9.3</td>\n",
       "    </tr>\n",
       "    <tr>\n",
       "      <th>35-44</th>\n",
       "      <td>6.8</td>\n",
       "      <td>8.4</td>\n",
       "      <td>7.8</td>\n",
       "      <td>0.6</td>\n",
       "      <td>28.6</td>\n",
       "      <td>1.5</td>\n",
       "      <td>2.9</td>\n",
       "      <td>6.5</td>\n",
       "      <td>5.5</td>\n",
       "      <td>15.2</td>\n",
       "      <td>0.9</td>\n",
       "      <td>15.3</td>\n",
       "    </tr>\n",
       "    <tr>\n",
       "      <th>45-54</th>\n",
       "      <td>2.2</td>\n",
       "      <td>9.9</td>\n",
       "      <td>3.5</td>\n",
       "      <td>2.2</td>\n",
       "      <td>20.5</td>\n",
       "      <td>4.1</td>\n",
       "      <td>6.4</td>\n",
       "      <td>5.4</td>\n",
       "      <td>0</td>\n",
       "      <td>27.1</td>\n",
       "      <td>6.4</td>\n",
       "      <td>12.3</td>\n",
       "    </tr>\n",
       "    <tr>\n",
       "      <th>55-64</th>\n",
       "      <td>3.3</td>\n",
       "      <td>2.8</td>\n",
       "      <td>11.2</td>\n",
       "      <td>9.4</td>\n",
       "      <td>17.7</td>\n",
       "      <td>0.0</td>\n",
       "      <td>3.8</td>\n",
       "      <td>3.4</td>\n",
       "      <td>3.5</td>\n",
       "      <td>26.8</td>\n",
       "      <td>2.8</td>\n",
       "      <td>15.3</td>\n",
       "    </tr>\n",
       "  </tbody>\n",
       "</table>\n",
       "</div>"
      ],
      "text/plain": [
       "         GEN   EDU   ART  SOC   BUS  NAT   INF   ENG  AGR   HEA  SER   OTH\n",
       "ITEM                                                                      \n",
       "Male    10.3   3.6   2.6  0.8  22.7  6.8   7.6  13.3  4.7  12.3  2.3  13.2\n",
       "Female   2.5  11.4   6.2    2  30.1  1.6   6.2   2.8  1.5  22.1  2.1  11.5\n",
       "25-34    6.6   8.1   1.7  0.6    30  5.9  10.4   8.9  1.8  15.2  1.4   9.3\n",
       "35-44    6.8   8.4   7.8  0.6  28.6  1.5   2.9   6.5  5.5  15.2  0.9  15.3\n",
       "45-54    2.2   9.9   3.5  2.2  20.5  4.1   6.4   5.4    0  27.1  6.4  12.3\n",
       "55-64    3.3   2.8  11.2  9.4  17.7  0.0   3.8   3.4  3.5  26.8  2.8  15.3"
      ]
     },
     "execution_count": 40,
     "metadata": {},
     "output_type": "execute_result"
    }
   ],
   "source": [
    "dfField.replace(to_replace=r'\\[||\\]\\d||\\]', value='', regex=True, inplace=True)\n",
    "dfField.index  = dfField['ITEM']\n",
    "dfField.drop(dfField.columns[[0]], axis=1, inplace=True)\n",
    "dfField"
   ]
  },
  {
   "cell_type": "code",
   "execution_count": null,
   "metadata": {},
   "outputs": [],
   "source": [
    "## for row in df, select from dfField based on range. use to create a list of probabilities (*0.01)\n",
    "## np.random.choice(5, 3, p=[0.1, 0, 0.3, 0.6, 0])\n",
    "## np.random.choice(fieldList, 1, p=fieldProb)\n",
    "## need to create a probability list from this"
   ]
  },
  {
   "cell_type": "code",
   "execution_count": null,
   "metadata": {},
   "outputs": [],
   "source": [
    "https://stackoverflow.com/a/46539921"
   ]
  },
  {
   "cell_type": "code",
   "execution_count": 125,
   "metadata": {},
   "outputs": [],
   "source": [
    "def fieldGenerator(item):\n",
    "    probList = 0.01 * pd.Series(dfField.loc[(item)].values)\n",
    "    probList /= probList.sum() # normalise to add up to 1\n",
    "    x = np.random.choice(fieldList, 1, p=probList)\n",
    "    return x"
   ]
  },
  {
   "cell_type": "code",
   "execution_count": 126,
   "metadata": {},
   "outputs": [
    {
     "data": {
      "text/plain": [
       "array(['HEA'], dtype='<U3')"
      ]
     },
     "execution_count": 126,
     "metadata": {},
     "output_type": "execute_result"
    }
   ],
   "source": [
    "fieldGenerator(\"25-34\") # testing"
   ]
  },
  {
   "cell_type": "markdown",
   "metadata": {},
   "source": [
    "### Qualification Data"
   ]
  },
  {
   "cell_type": "code",
   "execution_count": null,
   "metadata": {},
   "outputs": [],
   "source": [
    "f = pd.read_excel(\"data\\AES2017TBL2a.xlsx\") # Import xlsx file using pandas\n",
    "dfQual = pd.DataFrame(f) # Create a dataframe from the csv data\n",
    "#dfQual"
   ]
  },
  {
   "cell_type": "code",
   "execution_count": null,
   "metadata": {},
   "outputs": [],
   "source": [
    "dfQual.drop(dfQual.loc[11:].index, axis=0, inplace=True)\n",
    "dfQual.drop([0, 2, 3, 6], axis=0, inplace=True)\n",
    "dfQual.drop(dfQual.columns[[0, 6]], axis=1, inplace=True)\n",
    "#dfQual"
   ]
  },
  {
   "cell_type": "code",
   "execution_count": null,
   "metadata": {},
   "outputs": [],
   "source": [
    "dfQual.columns = ['ITEM', 'SEC', 'PLC', '3LO', '3LH']\n",
    "dfQual.drop([1], axis=0, inplace=True)\n",
    "dfQual"
   ]
  },
  {
   "cell_type": "code",
   "execution_count": null,
   "metadata": {},
   "outputs": [],
   "source": [
    "dfQual.replace(to_replace=r'\\[||\\]\\d||\\]', value='', regex=True, inplace=True)\n",
    "dfQual.index  = dfQual['ITEM']\n",
    "dfQual.drop(dfQual.columns[[0]], axis=1, inplace=True)\n",
    "dfQual"
   ]
  },
  {
   "cell_type": "markdown",
   "metadata": {},
   "source": [
    "### Gender Data"
   ]
  },
  {
   "cell_type": "markdown",
   "metadata": {},
   "source": [
    "This will be a categorical variable, either \"F\" or \"M\"."
   ]
  },
  {
   "cell_type": "code",
   "execution_count": null,
   "metadata": {},
   "outputs": [],
   "source": [
    "genders = [\"F\", \"M\"]\n",
    "\n",
    "np.random.choice(genders, size=200)"
   ]
  },
  {
   "cell_type": "markdown",
   "metadata": {},
   "source": [
    "## Results"
   ]
  },
  {
   "cell_type": "markdown",
   "metadata": {},
   "source": []
  }
 ],
 "metadata": {
  "kernelspec": {
   "display_name": "Python 3",
   "language": "python",
   "name": "python3"
  },
  "language_info": {
   "codemirror_mode": {
    "name": "ipython",
    "version": 3
   },
   "file_extension": ".py",
   "mimetype": "text/x-python",
   "name": "python",
   "nbconvert_exporter": "python",
   "pygments_lexer": "ipython3",
   "version": "3.7.3"
  }
 },
 "nbformat": 4,
 "nbformat_minor": 4
}
