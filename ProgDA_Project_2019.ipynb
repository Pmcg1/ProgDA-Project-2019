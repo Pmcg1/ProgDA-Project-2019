{
 "cells": [
  {
   "cell_type": "markdown",
   "metadata": {},
   "source": [
    "<img src=\"images/GMIT logo.jpeg\" width=\"350\" align=\"center\">"
   ]
  },
  {
   "cell_type": "markdown",
   "metadata": {},
   "source": [
    "# Programming for Data Analysis Project 2019"
   ]
  },
  {
   "cell_type": "markdown",
   "metadata": {},
   "source": [
    "Peter McGowan\n",
    "G00190832"
   ]
  },
  {
   "cell_type": "markdown",
   "metadata": {},
   "source": [
    "### Tasks:\n",
    "1. Choose a real-world phenomenon that can be measured and for which you could collect at least one-hundred data points across at least four different variables.\n",
    "2. Investigate the types of variables involved, their likely distributions, and their relationships with each other.\n",
    "3. Synthesise/simulate a data set as closely matching their properties as possible.\n",
    "4. Detail your research and implement the simulation in a Jupyter notebook – the data set itself can simply be displayed in an output cell within the notebook."
   ]
  },
  {
   "cell_type": "markdown",
   "metadata": {},
   "source": [
    "## Background"
   ]
  },
  {
   "cell_type": "markdown",
   "metadata": {},
   "source": [
    "I have chosen to simulate data about Adult Education in Ireland. I have chosen the following variables:\n",
    "* Highest Qualification Awarded\n",
    "* Field of Study\n",
    "* Gender\n",
    "* Age"
   ]
  },
  {
   "cell_type": "markdown",
   "metadata": {},
   "source": []
  },
  {
   "cell_type": "markdown",
   "metadata": {},
   "source": [
    "## Research and Investigate"
   ]
  },
  {
   "cell_type": "markdown",
   "metadata": {},
   "source": [
    "### General"
   ]
  },
  {
   "cell_type": "markdown",
   "metadata": {},
   "source": [
    "The Central Statistics Office (CSO) is perhaps best known for carrying out a census every 5 years in Ireland (most recently in 2016). In addition to this, the CSO carries out a range of other important statistical work covering a broad range of themes on a rotational basis."
   ]
  },
  {
   "cell_type": "markdown",
   "metadata": {},
   "source": [
    "The General Household Survey occurs approximately quarterly and the theme varies. In Q3 & Q4 2019 the theme covered was Adult Education. Considering the HDip in Data Analytics and the makeup of its student cohort (myself included), the Adult Education Survey (AES) immediately piqued my interest when I came across it."
   ]
  },
  {
   "cell_type": "markdown",
   "metadata": {},
   "source": [
    "*** links to documents"
   ]
  },
  {
   "cell_type": "markdown",
   "metadata": {},
   "source": [
    "Considering the results of this survey and the characteristics of its variables studied, I will simulate a dataset matching its qualities."
   ]
  },
  {
   "cell_type": "markdown",
   "metadata": {},
   "source": [
    "### Sample Data Characteristics"
   ]
  },
  {
   "cell_type": "markdown",
   "metadata": {},
   "source": [
    "The design sample size for the survey carried out was 13,200. Of this, 4,863 valid responses were collated. I intend to simulate the 334 <i>\"Persons aged 25-64 who participated in formal education, classified by the level of education participation.\"</i>"
   ]
  },
  {
   "cell_type": "markdown",
   "metadata": {},
   "source": [
    "### Level of Education Participation"
   ]
  },
  {
   "cell_type": "markdown",
   "metadata": {},
   "source": [
    "The National Framework of Qualifications (NFQ) outlines a ten level framework for qualifications."
   ]
  },
  {
   "cell_type": "markdown",
   "metadata": {},
   "source": [
    "https://nfq.qqi.ie/"
   ]
  },
  {
   "cell_type": "markdown",
   "metadata": {},
   "source": [
    "NFQ Level:\n",
    "0. No formal education or training\n",
    "1. Primary or below\n",
    "2. Primary or below\n",
    "3. Lower Secondary\n",
    "4. Higher Secondary, Post Leaving Certificate\n",
    "4. Higher Secondary, Post Leaving Certificate\n",
    "6. Post Leaving Certificate, Higher Certificate and Equivalent\n",
    "7. Ordinary Degree or Equivalent\n",
    "8. Honours Bachelor Degree, Graduate Diploma, Higher Diploma\n",
    "9. Masters Degree, Post Graduate Diploma\n",
    "10. Doctoral Degree, Higher Doctorate"
   ]
  },
  {
   "cell_type": "markdown",
   "metadata": {},
   "source": [
    "Unfortunately, the AES aggregates these levels into the following categories for my sample group:\n",
    "* Higher Secondary or Below (14.60%)\n",
    "* Post Leaving Certificate (30.30%)\n",
    "* Third Level Non-Honours Degree (17.60%)\n",
    "* Third Level Honours Degree or Higher (37.50%)\n",
    "\n",
    "Without further information, I will simulate a dataset approximating this range, with 4 categories. I will try and find another way to break this down if I can."
   ]
  },
  {
   "cell_type": "markdown",
   "metadata": {},
   "source": [
    "### Field of Study"
   ]
  },
  {
   "cell_type": "markdown",
   "metadata": {},
   "source": [
    "The AES categories education into 12 different fields:\n",
    "* General Programmes & Qualifications (5.70%)\n",
    "* Education (8.20%)\n",
    "* Arts and Humanities (4.70%)\n",
    "* Social Sciences, Journalism and Information (1.50%)\n",
    "* Business, Administration and Law (27.10%)\n",
    "* Natural Sciences, Mathematics and Statistics (3.70%)\n",
    "* Information and Communication Technologies (6.70%)\n",
    "* Engineering, Manufacturing and Construction (7.10%)\n",
    "* Agriculture, Forestry, Fisheries and Veterinary (2.80%)\n",
    "* Health and Welfare (18.00%)\n",
    "* Services (2.20%)\n",
    "* Other (12.20%)"
   ]
  },
  {
   "cell_type": "markdown",
   "metadata": {},
   "source": [
    "The AES does <u>not</u> tell us if or how the educational category is related to the level of qualification, in other words the variables are independent of each other, however they may both be related to other variables."
   ]
  },
  {
   "cell_type": "markdown",
   "metadata": {},
   "source": [
    "### Gender"
   ]
  },
  {
   "cell_type": "markdown",
   "metadata": {},
   "source": [
    "The gender breakdown of those who participated in an educational activity as given in the AES report is:\n",
    "* Male: 36.53%\n",
    "* Female: 63.47%\n",
    "\n",
    "The survey would indicate that females are almost twice as likely to participate in adult education. The simulated dataset will therefore reflect this."
   ]
  },
  {
   "cell_type": "markdown",
   "metadata": {},
   "source": [
    "Comparing percentages of males vs females participating in each educational field is interesting, with many fields being strongly weighted towards one gender."
   ]
  },
  {
   "cell_type": "markdown",
   "metadata": {},
   "source": [
    "Looking at how gender relates to level of education participation, it is also clear that gender is correlated with field of study. For example, males are actually twice as likely to study at 3rd Level non honours degree than females."
   ]
  },
  {
   "cell_type": "markdown",
   "metadata": {},
   "source": [
    "The gender for each row in the simulated data will therefore have to take into account three things:\n",
    "* Overall gender ratio participating in adult education\n",
    "* Gender ratio for each level of education participation\n",
    "* Gender ratio for each field of study\n",
    "\n",
    "This is beginning to get quite complex."
   ]
  },
  {
   "cell_type": "markdown",
   "metadata": {},
   "source": [
    "### Age"
   ]
  },
  {
   "cell_type": "markdown",
   "metadata": {},
   "source": [
    "The age range covered by the survey was 18-64, however the results are presented only from ages 25-64. This gives me a convenient range for the simulated ages. Results were presented in the following bands:\n",
    "* 25-34 year olds\n",
    "* 35-44 year olds\n",
    "* 45-54 year olds\n",
    "* 55-64 year olds"
   ]
  },
  {
   "cell_type": "markdown",
   "metadata": {},
   "source": [
    "In constructing the dataset it will not be necessary to limit the simulated ages to these bands - I will use the 2016 census data to generate an appropriate distribution."
   ]
  },
  {
   "cell_type": "markdown",
   "metadata": {},
   "source": [
    "Much like the gender variable, age relates to both level of education participation and field of study. Are age and gender also related? The AES doesn't actually tell us this - presumably this is due to the sample size, as this can be ascertained for those participating in non-formal education. The 2016 Census cannot provide any more information here either."
   ]
  },
  {
   "cell_type": "markdown",
   "metadata": {},
   "source": [
    "It would be reasonable to presume that there is a good chance that age and gender are related here but I have no way of directly controlling it - this will have to be simulated indirectly through the other relationships. Age will therefore have to take into account:\n",
    "* Overall age ranges and their likely distributions\n",
    "* Age distribution for each level of education participation\n",
    "* Age distribution for each field of study"
   ]
  },
  {
   "cell_type": "markdown",
   "metadata": {},
   "source": [
    "### Approach"
   ]
  },
  {
   "cell_type": "markdown",
   "metadata": {},
   "source": [
    "The approach to take now bears some serious consideration - considering the indirect relationships that have to be modelled, the order of variables modelled will be critical. I will therefore take the following approach:\n",
    "1. Simulate the ages first - this will require the combination of distributions for each each range given, based on actual age distributions from the 2016 Census;\n",
    "2. Simulate field of study - the relative probability of each field will take into account the age (range) of the simulated person;\n",
    "3. Simulate the level of education participation - the relative probability of each level will take into account the age (range) of the simulated person;\n",
    "4. Simulate the gender - this must take into account both items 2. and 3., as well as the overall gender ratio in the sample."
   ]
  },
  {
   "cell_type": "markdown",
   "metadata": {},
   "source": [
    "## Synthesise"
   ]
  },
  {
   "cell_type": "markdown",
   "metadata": {},
   "source": [
    "### Preliminaries"
   ]
  },
  {
   "cell_type": "markdown",
   "metadata": {},
   "source": [
    "Firstly, import several libraries to manage, simulate and visualise."
   ]
  },
  {
   "cell_type": "code",
   "execution_count": 1,
   "metadata": {},
   "outputs": [],
   "source": [
    "# Import numpy to analyse it\n",
    "# Import matplotlib.pyplot and seaborn for visualisations\n",
    "import pandas as pd\n",
    "import numpy as np\n",
    "import matplotlib.pyplot as plt\n",
    "import seaborn as sns"
   ]
  },
  {
   "cell_type": "code",
   "execution_count": 2,
   "metadata": {},
   "outputs": [],
   "source": [
    "# Magic command to ensure that plots render inline\n",
    "%matplotlib inline"
   ]
  },
  {
   "cell_type": "code",
   "execution_count": 3,
   "metadata": {},
   "outputs": [],
   "source": [
    "# Control Seaborn aesthetics\n",
    "# Use darkplot plot style for contrast\n",
    "sns.set_style(\"darkgrid\")\n",
    "# Set the default colour palette\n",
    "sns.set_palette(\"colorblind\")"
   ]
  },
  {
   "cell_type": "markdown",
   "metadata": {},
   "source": [
    "## Generate Data"
   ]
  },
  {
   "cell_type": "markdown",
   "metadata": {},
   "source": [
    "First we will create an empty pandas dataframe to hold the data."
   ]
  },
  {
   "cell_type": "code",
   "execution_count": 4,
   "metadata": {},
   "outputs": [],
   "source": [
    "df = pd.DataFrame(columns = [\"Age\", \"Field\", \"Qual\", \"Gender\"])"
   ]
  },
  {
   "cell_type": "code",
   "execution_count": 5,
   "metadata": {},
   "outputs": [
    {
     "data": {
      "text/html": [
       "<div>\n",
       "<style scoped>\n",
       "    .dataframe tbody tr th:only-of-type {\n",
       "        vertical-align: middle;\n",
       "    }\n",
       "\n",
       "    .dataframe tbody tr th {\n",
       "        vertical-align: top;\n",
       "    }\n",
       "\n",
       "    .dataframe thead th {\n",
       "        text-align: right;\n",
       "    }\n",
       "</style>\n",
       "<table border=\"1\" class=\"dataframe\">\n",
       "  <thead>\n",
       "    <tr style=\"text-align: right;\">\n",
       "      <th></th>\n",
       "      <th>Age</th>\n",
       "      <th>Field</th>\n",
       "      <th>Qual</th>\n",
       "      <th>Gender</th>\n",
       "    </tr>\n",
       "  </thead>\n",
       "  <tbody>\n",
       "  </tbody>\n",
       "</table>\n",
       "</div>"
      ],
      "text/plain": [
       "Empty DataFrame\n",
       "Columns: [Age, Field, Qual, Gender]\n",
       "Index: []"
      ]
     },
     "execution_count": 5,
     "metadata": {},
     "output_type": "execute_result"
    }
   ],
   "source": [
    "df"
   ]
  },
  {
   "cell_type": "markdown",
   "metadata": {},
   "source": [
    "### Age Data"
   ]
  },
  {
   "cell_type": "markdown",
   "metadata": {},
   "source": [
    "The age distribution should be realistic. We will import data from the Central Statistics Office that describes the ages recorded by the 2016 Census. Although this is a measure of the distribution of ages of the entire population, we will assume that the distribution holds true for our sample set."
   ]
  },
  {
   "cell_type": "markdown",
   "metadata": {},
   "source": [
    "The data has been generated and downloaded as a csv from ############\n",
    "Only ages from 25 to 64 have been considered. We can read in the CSV to a new DataFrame for some basic analysis."
   ]
  },
  {
   "cell_type": "code",
   "execution_count": 6,
   "metadata": {
    "scrolled": true
   },
   "outputs": [
    {
     "data": {
      "text/html": [
       "<div>\n",
       "<style scoped>\n",
       "    .dataframe tbody tr th:only-of-type {\n",
       "        vertical-align: middle;\n",
       "    }\n",
       "\n",
       "    .dataframe tbody tr th {\n",
       "        vertical-align: top;\n",
       "    }\n",
       "\n",
       "    .dataframe thead th {\n",
       "        text-align: right;\n",
       "    }\n",
       "</style>\n",
       "<table border=\"1\" class=\"dataframe\">\n",
       "  <thead>\n",
       "    <tr style=\"text-align: right;\">\n",
       "      <th></th>\n",
       "      <th>Age</th>\n",
       "      <th>Male</th>\n",
       "      <th>Female</th>\n",
       "      <th>Total</th>\n",
       "    </tr>\n",
       "  </thead>\n",
       "  <tbody>\n",
       "    <tr>\n",
       "      <th>count</th>\n",
       "      <td>40.000000</td>\n",
       "      <td>40.000000</td>\n",
       "      <td>40.000000</td>\n",
       "      <td>40.000000</td>\n",
       "    </tr>\n",
       "    <tr>\n",
       "      <th>mean</th>\n",
       "      <td>44.500000</td>\n",
       "      <td>31263.000000</td>\n",
       "      <td>32269.350000</td>\n",
       "      <td>63532.350000</td>\n",
       "    </tr>\n",
       "    <tr>\n",
       "      <th>std</th>\n",
       "      <td>11.690452</td>\n",
       "      <td>4761.638729</td>\n",
       "      <td>5265.152836</td>\n",
       "      <td>9984.039203</td>\n",
       "    </tr>\n",
       "    <tr>\n",
       "      <th>min</th>\n",
       "      <td>25.000000</td>\n",
       "      <td>22402.000000</td>\n",
       "      <td>22642.000000</td>\n",
       "      <td>45044.000000</td>\n",
       "    </tr>\n",
       "    <tr>\n",
       "      <th>25%</th>\n",
       "      <td>34.750000</td>\n",
       "      <td>28163.750000</td>\n",
       "      <td>28551.500000</td>\n",
       "      <td>56858.500000</td>\n",
       "    </tr>\n",
       "    <tr>\n",
       "      <th>50%</th>\n",
       "      <td>44.500000</td>\n",
       "      <td>30787.000000</td>\n",
       "      <td>31522.000000</td>\n",
       "      <td>62390.000000</td>\n",
       "    </tr>\n",
       "    <tr>\n",
       "      <th>75%</th>\n",
       "      <td>54.250000</td>\n",
       "      <td>35342.750000</td>\n",
       "      <td>35973.750000</td>\n",
       "      <td>71409.000000</td>\n",
       "    </tr>\n",
       "    <tr>\n",
       "      <th>max</th>\n",
       "      <td>64.000000</td>\n",
       "      <td>40892.000000</td>\n",
       "      <td>42304.000000</td>\n",
       "      <td>83196.000000</td>\n",
       "    </tr>\n",
       "  </tbody>\n",
       "</table>\n",
       "</div>"
      ],
      "text/plain": [
       "             Age          Male        Female         Total\n",
       "count  40.000000     40.000000     40.000000     40.000000\n",
       "mean   44.500000  31263.000000  32269.350000  63532.350000\n",
       "std    11.690452   4761.638729   5265.152836   9984.039203\n",
       "min    25.000000  22402.000000  22642.000000  45044.000000\n",
       "25%    34.750000  28163.750000  28551.500000  56858.500000\n",
       "50%    44.500000  30787.000000  31522.000000  62390.000000\n",
       "75%    54.250000  35342.750000  35973.750000  71409.000000\n",
       "max    64.000000  40892.000000  42304.000000  83196.000000"
      ]
     },
     "execution_count": 6,
     "metadata": {},
     "output_type": "execute_result"
    }
   ],
   "source": [
    "f = pd.read_csv(\"data\\Population_2016_by_Age_adj.csv\") # Import csv file using pandas\n",
    "dfAge = pd.DataFrame(f) # Create a dataframe from the csv data\n",
    "dfAge.describe()"
   ]
  },
  {
   "cell_type": "markdown",
   "metadata": {},
   "source": [
    "There is a lot of data here - a visualisation would be appropriate. We can generate a \"relplot\" in Seaborn to relate Age to population numbers."
   ]
  },
  {
   "cell_type": "code",
   "execution_count": 7,
   "metadata": {},
   "outputs": [
    {
     "data": {
      "text/plain": [
       "<seaborn.axisgrid.FacetGrid at 0x24575d68828>"
      ]
     },
     "execution_count": 7,
     "metadata": {},
     "output_type": "execute_result"
    },
    {
     "data": {
      "image/png": "[encoded data removed]",
      "text/plain": [
       "<Figure size 720x360 with 1 Axes>"
      ]
     },
     "metadata": {},
     "output_type": "display_data"
    }
   ],
   "source": [
    "sns.relplot(x=\"Age\", y=\"Total\", kind=\"line\", data=dfAge, height=5, aspect=2)"
   ]
  },
  {
   "cell_type": "markdown",
   "metadata": {},
   "source": [
    "The age profile rapidly rises from 25 to the mode (somewhere slightly above 35) and then generally reduces more gradually towards 64."
   ]
  },
  {
   "cell_type": "markdown",
   "metadata": {},
   "source": [
    "We will now need to carry out some more complex statistical analysis of the input data. Simply return the mean or standard deviation of the ages will not prove very useful here as they need to be weighted by the population. The statsmodels package has a descriptive statistics with weights module (DescrStatsW) that will be very useful, we can import that first."
   ]
  },
  {
   "cell_type": "code",
   "execution_count": 8,
   "metadata": {},
   "outputs": [],
   "source": [
    "from statsmodels.stats.weightstats import DescrStatsW"
   ]
  },
  {
   "cell_type": "markdown",
   "metadata": {},
   "source": [
    "Now we can use it to generate a weighted age profile from the Age and Total columns."
   ]
  },
  {
   "cell_type": "code",
   "execution_count": 9,
   "metadata": {},
   "outputs": [
    {
     "name": "stdout",
     "output_type": "stream",
     "text": [
      "Weighted mean age: 43.33\n",
      "Weighted standard deviation: 10.97\n"
     ]
    }
   ],
   "source": [
    "wAge = DescrStatsW(dfAge[\"Age\"], weights=dfAge[\"Total\"])\n",
    "print(\"Weighted mean age:\", round(wAge.mean, 2))\n",
    "print(\"Weighted standard deviation:\", round(wAge.std, 2))"
   ]
  },
  {
   "cell_type": "markdown",
   "metadata": {},
   "source": [
    "#########The next step will be to create a new column with the proportion of population for each age."
   ]
  },
  {
   "cell_type": "code",
   "execution_count": 10,
   "metadata": {},
   "outputs": [],
   "source": [
    "# Creating a proportion column\n",
    "dfAge[\"Proportion\"] = dfAge[\"Total\"]/dfAge[\"Total\"].sum()"
   ]
  },
  {
   "cell_type": "code",
   "execution_count": 11,
   "metadata": {},
   "outputs": [],
   "source": [
    "ageFill = np.random.choice(dfAge[\"Age\"], 334, p=dfAge[\"Proportion\"])"
   ]
  },
  {
   "cell_type": "code",
   "execution_count": 12,
   "metadata": {},
   "outputs": [
    {
     "data": {
      "text/plain": [
       "43.33832335329341"
      ]
     },
     "execution_count": 12,
     "metadata": {},
     "output_type": "execute_result"
    }
   ],
   "source": [
    "ageFill.mean()"
   ]
  },
  {
   "cell_type": "markdown",
   "metadata": {},
   "source": [
    "The age profile of the population range that we are looking at approximates a triangular distribution - conveniently numpy includes this in the numpy.random module. One key piece of information that we need is the mode of the data. We can import the scipy stats module to extract this from the data."
   ]
  },
  {
   "cell_type": "code",
   "execution_count": 13,
   "metadata": {},
   "outputs": [],
   "source": [
    "from scipy import stats\n",
    "m = stats.mode(ageFill)[0][0]"
   ]
  },
  {
   "cell_type": "code",
   "execution_count": 14,
   "metadata": {},
   "outputs": [],
   "source": [
    "ageTri = np.random.triangular(0, m, 100, 100000)"
   ]
  },
  {
   "cell_type": "code",
   "execution_count": 15,
   "metadata": {
    "scrolled": true
   },
   "outputs": [
    {
     "data": {
      "text/plain": [
       "array([22, 34, 36, ..., 24, 28, 42])"
      ]
     },
     "execution_count": 15,
     "metadata": {},
     "output_type": "execute_result"
    }
   ],
   "source": [
    "np.rint(ageTri) \n",
    "ageTri.astype(int) ## this may not be working properly"
   ]
  },
  {
   "cell_type": "code",
   "execution_count": 16,
   "metadata": {},
   "outputs": [],
   "source": [
    "ageExcl = np.concatenate([np.arange(25), np.arange(65, 100)])"
   ]
  },
  {
   "cell_type": "code",
   "execution_count": 17,
   "metadata": {},
   "outputs": [],
   "source": [
    "ageTri = ageTri[ageTri >= 25]\n",
    "ageTri = ageTri[ageTri < 65]"
   ]
  },
  {
   "cell_type": "code",
   "execution_count": 18,
   "metadata": {},
   "outputs": [
    {
     "data": {
      "text/plain": [
       "array([25.00013856, 25.00204141, 25.00311712, ..., 64.99805282,\n",
       "       64.99866155, 64.99985906])"
      ]
     },
     "execution_count": 18,
     "metadata": {},
     "output_type": "execute_result"
    }
   ],
   "source": [
    "ageTri = np.sort(ageTri) \n",
    "ageTri"
   ]
  },
  {
   "cell_type": "code",
   "execution_count": 19,
   "metadata": {},
   "outputs": [
    {
     "data": {
      "text/plain": [
       "(64092,)"
      ]
     },
     "execution_count": 19,
     "metadata": {},
     "output_type": "execute_result"
    }
   ],
   "source": [
    "ageTri.shape"
   ]
  },
  {
   "cell_type": "code",
   "execution_count": 20,
   "metadata": {},
   "outputs": [
    {
     "data": {
      "text/plain": [
       "44.180108609796434"
      ]
     },
     "execution_count": 20,
     "metadata": {},
     "output_type": "execute_result"
    }
   ],
   "source": [
    "ageTri.mean()"
   ]
  },
  {
   "cell_type": "code",
   "execution_count": 21,
   "metadata": {},
   "outputs": [
    {
     "data": {
      "text/plain": [
       "<matplotlib.axes._subplots.AxesSubplot at 0x245771348d0>"
      ]
     },
     "execution_count": 21,
     "metadata": {},
     "output_type": "execute_result"
    },
    {
     "data": {
      "image/png": "[encoded data removed]",
      "text/plain": [
       "<Figure size 432x288 with 1 Axes>"
      ]
     },
     "metadata": {},
     "output_type": "display_data"
    }
   ],
   "source": [
    "sns.distplot(ageTri, bins = 30)"
   ]
  },
  {
   "cell_type": "code",
   "execution_count": 22,
   "metadata": {},
   "outputs": [
    {
     "name": "stdout",
     "output_type": "stream",
     "text": [
      "192.89221556886227 193\n"
     ]
    }
   ],
   "source": [
    "ssize = 334\n",
    "\n",
    "skip = ageTri.shape[0]/ssize+1\n",
    "\n",
    "skipint = int(round(skip,0))\n",
    "print(skip, skipint)"
   ]
  },
  {
   "cell_type": "code",
   "execution_count": 23,
   "metadata": {
    "scrolled": true
   },
   "outputs": [],
   "source": [
    "arr = np.array([0])\n",
    "skipcurrent = 0.0\n",
    "skiptotal = 0\n",
    "while skiptotal < ageTri.shape[0]:\n",
    "    skipcurrent = skipcurrent + skip\n",
    "    skiptotal = int(round(skipcurrent,0))  \n",
    "    arr = np.append(arr, skiptotal)"
   ]
  },
  {
   "cell_type": "code",
   "execution_count": 24,
   "metadata": {},
   "outputs": [
    {
     "data": {
      "text/plain": [
       "array([    0,   193,   386,   579,   772,   964,  1157,  1350,  1543,\n",
       "        1736,  1929,  2122,  2315,  2508,  2700,  2893,  3086,  3279,\n",
       "        3472,  3665,  3858,  4051,  4244,  4437,  4629,  4822,  5015,\n",
       "        5208,  5401,  5594,  5787,  5980,  6173,  6365,  6558,  6751,\n",
       "        6944,  7137,  7330,  7523,  7716,  7909,  8101,  8294,  8487,\n",
       "        8680,  8873,  9066,  9259,  9452,  9645,  9838, 10030, 10223,\n",
       "       10416, 10609, 10802, 10995, 11188, 11381, 11574, 11766, 11959,\n",
       "       12152, 12345, 12538, 12731, 12924, 13117, 13310, 13502, 13695,\n",
       "       13888, 14081, 14274, 14467, 14660, 14853, 15046, 15238, 15431,\n",
       "       15624, 15817, 16010, 16203, 16396, 16589, 16782, 16975, 17167,\n",
       "       17360, 17553, 17746, 17939, 18132, 18325, 18518, 18711, 18903,\n",
       "       19096, 19289, 19482, 19675, 19868, 20061, 20254, 20447, 20639,\n",
       "       20832, 21025, 21218, 21411, 21604, 21797, 21990, 22183, 22375,\n",
       "       22568, 22761, 22954, 23147, 23340, 23533, 23726, 23919, 24112,\n",
       "       24304, 24497, 24690, 24883, 25076, 25269, 25462, 25655, 25848,\n",
       "       26040, 26233, 26426, 26619, 26812, 27005, 27198, 27391, 27584,\n",
       "       27776, 27969, 28162, 28355, 28548, 28741, 28934, 29127, 29320,\n",
       "       29513, 29705, 29898, 30091, 30284, 30477, 30670, 30863, 31056,\n",
       "       31249, 31441, 31634, 31827, 32020, 32213, 32406, 32599, 32792,\n",
       "       32985, 33177, 33370, 33563, 33756, 33949, 34142, 34335, 34528,\n",
       "       34721, 34913, 35106, 35299, 35492, 35685, 35878, 36071, 36264,\n",
       "       36457, 36650, 36842, 37035, 37228, 37421, 37614, 37807, 38000,\n",
       "       38193, 38386, 38578, 38771, 38964, 39157, 39350, 39543, 39736,\n",
       "       39929, 40122, 40314, 40507, 40700, 40893, 41086, 41279, 41472,\n",
       "       41665, 41858, 42051, 42243, 42436, 42629, 42822, 43015, 43208,\n",
       "       43401, 43594, 43787, 43979, 44172, 44365, 44558, 44751, 44944,\n",
       "       45137, 45330, 45523, 45715, 45908, 46101, 46294, 46487, 46680,\n",
       "       46873, 47066, 47259, 47451, 47644, 47837, 48030, 48223, 48416,\n",
       "       48609, 48802, 48995, 49188, 49380, 49573, 49766, 49959, 50152,\n",
       "       50345, 50538, 50731, 50924, 51116, 51309, 51502, 51695, 51888,\n",
       "       52081, 52274, 52467, 52660, 52852, 53045, 53238, 53431, 53624,\n",
       "       53817, 54010, 54203, 54396, 54588, 54781, 54974, 55167, 55360,\n",
       "       55553, 55746, 55939, 56132, 56325, 56517, 56710, 56903, 57096,\n",
       "       57289, 57482, 57675, 57868, 58061, 58253, 58446, 58639, 58832,\n",
       "       59025, 59218, 59411, 59604, 59797, 59989, 60182, 60375, 60568,\n",
       "       60761, 60954, 61147, 61340, 61533, 61726, 61918, 62111, 62304,\n",
       "       62497, 62690, 62883, 63076, 63269, 63462, 63654, 63847, 64040,\n",
       "       64233])"
      ]
     },
     "execution_count": 24,
     "metadata": {},
     "output_type": "execute_result"
    }
   ],
   "source": [
    "arr"
   ]
  },
  {
   "cell_type": "code",
   "execution_count": 25,
   "metadata": {},
   "outputs": [
    {
     "data": {
      "text/plain": [
       "(334,)"
      ]
     },
     "execution_count": 25,
     "metadata": {},
     "output_type": "execute_result"
    }
   ],
   "source": [
    "arr.shape"
   ]
  },
  {
   "cell_type": "code",
   "execution_count": 26,
   "metadata": {},
   "outputs": [
    {
     "data": {
      "text/plain": [
       "array([], dtype=float64)"
      ]
     },
     "execution_count": 26,
     "metadata": {},
     "output_type": "execute_result"
    }
   ],
   "source": [
    "ageTriSub = np.array([])\n",
    "ageTriSub"
   ]
  },
  {
   "cell_type": "code",
   "execution_count": 27,
   "metadata": {},
   "outputs": [
    {
     "data": {
      "text/plain": [
       "64091"
      ]
     },
     "execution_count": 27,
     "metadata": {},
     "output_type": "execute_result"
    }
   ],
   "source": [
    "np.argmax(ageTri)"
   ]
  },
  {
   "cell_type": "code",
   "execution_count": 28,
   "metadata": {},
   "outputs": [],
   "source": [
    "for i in arr:\n",
    "    if i <= np.argmax(ageTri):\n",
    "        ageTriSub = np.append(ageTriSub, ageTri[i])"
   ]
  },
  {
   "cell_type": "code",
   "execution_count": 29,
   "metadata": {
    "scrolled": true
   },
   "outputs": [
    {
     "data": {
      "text/plain": [
       "array([25.00013856, 25.15352129, 25.306944  , 25.44666284, 25.61436823,\n",
       "       25.75564678, 25.87871177, 26.01705937, 26.14719037, 26.28588789,\n",
       "       26.41016045, 26.54782125, 26.68192578, 26.81236485, 26.96651964,\n",
       "       27.10097947, 27.22617972, 27.35140503, 27.4995649 , 27.62076725,\n",
       "       27.74030571, 27.8834402 , 28.01041865, 28.12994569, 28.24832875,\n",
       "       28.36037004, 28.48576766, 28.5972384 , 28.71897403, 28.86947113,\n",
       "       28.9950951 , 29.11848838, 29.23389558, 29.36748979, 29.49553383,\n",
       "       29.61375776, 29.74118759, 29.87761314, 30.00485503, 30.12454435,\n",
       "       30.25187754, 30.3787051 , 30.49869129, 30.6131143 , 30.71831223,\n",
       "       30.84180043, 30.96913619, 31.08457042, 31.21741197, 31.34637061,\n",
       "       31.47060264, 31.58146343, 31.70154854, 31.82330292, 31.92694206,\n",
       "       32.04072201, 32.14486908, 32.27539756, 32.39226305, 32.50872037,\n",
       "       32.62635236, 32.74205825, 32.84703559, 32.96063287, 33.07562588,\n",
       "       33.17839053, 33.31303866, 33.42853321, 33.56090087, 33.67151085,\n",
       "       33.78039041, 33.88101542, 34.01024332, 34.12207447, 34.22890723,\n",
       "       34.34027013, 34.45507306, 34.56675651, 34.67019947, 34.77235695,\n",
       "       34.8680503 , 34.97068682, 35.07838416, 35.18835708, 35.30479215,\n",
       "       35.40547348, 35.53039472, 35.64172875, 35.74109901, 35.85524748,\n",
       "       35.95996444, 36.07964222, 36.18731081, 36.29341976, 36.38803869,\n",
       "       36.49158371, 36.59388549, 36.69861825, 36.7974861 , 36.90735651,\n",
       "       37.00897261, 37.1073502 , 37.20334773, 37.32502657, 37.42663877,\n",
       "       37.52305231, 37.62264688, 37.7234258 , 37.82276076, 37.91701425,\n",
       "       38.02167823, 38.12658354, 38.23731386, 38.34244914, 38.42832462,\n",
       "       38.52720191, 38.61652063, 38.72154158, 38.83167622, 38.92402265,\n",
       "       39.01669657, 39.10253984, 39.20710669, 39.30375955, 39.41988795,\n",
       "       39.51656314, 39.62697475, 39.7126056 , 39.80845719, 39.90065563,\n",
       "       39.99768144, 40.0993934 , 40.21516715, 40.30799897, 40.40005643,\n",
       "       40.5007344 , 40.61133271, 40.70757825, 40.79835335, 40.88647818,\n",
       "       40.99490988, 41.09115202, 41.18428274, 41.28455958, 41.3926094 ,\n",
       "       41.48470331, 41.58659771, 41.68574153, 41.7963743 , 41.8985173 ,\n",
       "       41.99434647, 42.09173297, 42.19210376, 42.30462685, 42.40416403,\n",
       "       42.49648791, 42.61706571, 42.71488312, 42.82197347, 42.93521791,\n",
       "       43.03700377, 43.13035453, 43.24045234, 43.34142225, 43.45212473,\n",
       "       43.55755076, 43.64949109, 43.75135471, 43.85264112, 43.95379661,\n",
       "       44.05922231, 44.16811405, 44.26363366, 44.36522759, 44.47713484,\n",
       "       44.58632911, 44.69044989, 44.80110819, 44.90046078, 44.99278618,\n",
       "       45.09367327, 45.195993  , 45.28951135, 45.39039609, 45.49254496,\n",
       "       45.60283287, 45.71555576, 45.82940947, 45.93612062, 46.04666271,\n",
       "       46.1588122 , 46.26584724, 46.36182965, 46.47070673, 46.59295312,\n",
       "       46.70052386, 46.81322282, 46.92133593, 47.02360225, 47.13537094,\n",
       "       47.25663286, 47.36421056, 47.45965218, 47.58072957, 47.69828943,\n",
       "       47.80381644, 47.91642821, 48.02410112, 48.13395867, 48.23967312,\n",
       "       48.33717058, 48.45373392, 48.5629472 , 48.67876045, 48.79772563,\n",
       "       48.90302672, 49.02516094, 49.15558096, 49.266291  , 49.37388592,\n",
       "       49.49209241, 49.61272555, 49.73333629, 49.84749459, 49.96716667,\n",
       "       50.07622937, 50.18453102, 50.30680477, 50.42990962, 50.55620395,\n",
       "       50.68362086, 50.79887669, 50.93420893, 51.06322715, 51.18620264,\n",
       "       51.30379672, 51.42016101, 51.54230101, 51.65537447, 51.76872313,\n",
       "       51.91215626, 52.02075088, 52.13857852, 52.26297768, 52.37559919,\n",
       "       52.49482877, 52.60605595, 52.73858064, 52.86799955, 53.00847807,\n",
       "       53.13550205, 53.25989418, 53.39045169, 53.52974321, 53.65289456,\n",
       "       53.78731892, 53.90783641, 54.02865907, 54.16248817, 54.28367886,\n",
       "       54.42732602, 54.56523361, 54.70307419, 54.83525487, 54.94922367,\n",
       "       55.06977418, 55.20917865, 55.33699916, 55.46530489, 55.61154465,\n",
       "       55.73604713, 55.8588161 , 56.00383376, 56.13732735, 56.28421812,\n",
       "       56.41597675, 56.53719111, 56.70996206, 56.82944398, 56.97789468,\n",
       "       57.11646178, 57.24306595, 57.3591871 , 57.50632622, 57.64951317,\n",
       "       57.77389166, 57.90686474, 58.08265551, 58.23227871, 58.35907956,\n",
       "       58.50245992, 58.65334076, 58.8047568 , 58.94359318, 59.07366892,\n",
       "       59.20515413, 59.34415889, 59.518703  , 59.6832197 , 59.82250399,\n",
       "       59.97283046, 60.11237064, 60.24872035, 60.41446866, 60.56089917,\n",
       "       60.69620072, 60.84784887, 60.99478548, 61.14576974, 61.29412232,\n",
       "       61.45075537, 61.5987622 , 61.76072145, 61.8919884 , 62.05466792,\n",
       "       62.20149666, 62.37444492, 62.52413607, 62.69019919, 62.87069272,\n",
       "       63.01352236, 63.17515397, 63.33559699, 63.48595443, 63.63070781,\n",
       "       63.78754068, 63.94845145, 64.11177312, 64.29691694, 64.47117926,\n",
       "       64.64188979, 64.79873518, 64.95537223])"
      ]
     },
     "execution_count": 29,
     "metadata": {},
     "output_type": "execute_result"
    }
   ],
   "source": [
    "ageTriSub"
   ]
  },
  {
   "cell_type": "code",
   "execution_count": 30,
   "metadata": {},
   "outputs": [
    {
     "data": {
      "text/plain": [
       "<matplotlib.axes._subplots.AxesSubplot at 0x245771dff28>"
      ]
     },
     "execution_count": 30,
     "metadata": {},
     "output_type": "execute_result"
    },
    {
     "data": {
      "image/png": "[encoded data removed]",
      "text/plain": [
       "<Figure size 432x288 with 1 Axes>"
      ]
     },
     "metadata": {},
     "output_type": "display_data"
    }
   ],
   "source": [
    "sns.distplot(ageTriSub)"
   ]
  },
  {
   "cell_type": "code",
   "execution_count": 31,
   "metadata": {},
   "outputs": [
    {
     "name": "stdout",
     "output_type": "stream",
     "text": [
      "Full dataset mean: 44.180108609796434\n",
      "Full dataset stdev: 10.90424537209268\n",
      "\n",
      "Sub dataset mean: 44.16600255205442\n",
      "Sub dataset stdev: 10.93124373417819\n"
     ]
    }
   ],
   "source": [
    "print(\"Full dataset mean:\", ageTri.mean())\n",
    "print(\"Full dataset stdev:\", ageTri.std())\n",
    "\n",
    "print(\"\\nSub dataset mean:\",ageTriSub.mean())\n",
    "print(\"Sub dataset stdev:\", ageTriSub.std())"
   ]
  },
  {
   "cell_type": "code",
   "execution_count": 32,
   "metadata": {},
   "outputs": [],
   "source": [
    "np.rint(ageTriSub)\n",
    "df['Age'] = ageTriSub.astype(int)"
   ]
  },
  {
   "cell_type": "code",
   "execution_count": 33,
   "metadata": {
    "scrolled": true
   },
   "outputs": [],
   "source": [
    "df.loc[df['Age'] <= 34, \"Age_Range\"] = \"25-34\"\n",
    "df.loc[(df['Age'] > 34) & (df['Age'] <=44), \"Age_Range\"] = \"35-44\"\n",
    "df.loc[(df['Age'] > 44) & (df['Age'] <=54), \"Age_Range\"] = \"45-54\"\n",
    "df.loc[df['Age'] > 54, \"Age_Range\"] = \"55-64\""
   ]
  },
  {
   "cell_type": "code",
   "execution_count": 34,
   "metadata": {
    "scrolled": true
   },
   "outputs": [
    {
     "data": {
      "text/html": [
       "<div>\n",
       "<style scoped>\n",
       "    .dataframe tbody tr th:only-of-type {\n",
       "        vertical-align: middle;\n",
       "    }\n",
       "\n",
       "    .dataframe tbody tr th {\n",
       "        vertical-align: top;\n",
       "    }\n",
       "\n",
       "    .dataframe thead th {\n",
       "        text-align: right;\n",
       "    }\n",
       "</style>\n",
       "<table border=\"1\" class=\"dataframe\">\n",
       "  <thead>\n",
       "    <tr style=\"text-align: right;\">\n",
       "      <th></th>\n",
       "      <th>Age</th>\n",
       "      <th>Field</th>\n",
       "      <th>Qual</th>\n",
       "      <th>Gender</th>\n",
       "      <th>Age_Range</th>\n",
       "    </tr>\n",
       "  </thead>\n",
       "  <tbody>\n",
       "    <tr>\n",
       "      <th>0</th>\n",
       "      <td>25</td>\n",
       "      <td>NaN</td>\n",
       "      <td>NaN</td>\n",
       "      <td>NaN</td>\n",
       "      <td>25-34</td>\n",
       "    </tr>\n",
       "    <tr>\n",
       "      <th>1</th>\n",
       "      <td>25</td>\n",
       "      <td>NaN</td>\n",
       "      <td>NaN</td>\n",
       "      <td>NaN</td>\n",
       "      <td>25-34</td>\n",
       "    </tr>\n",
       "    <tr>\n",
       "      <th>2</th>\n",
       "      <td>25</td>\n",
       "      <td>NaN</td>\n",
       "      <td>NaN</td>\n",
       "      <td>NaN</td>\n",
       "      <td>25-34</td>\n",
       "    </tr>\n",
       "    <tr>\n",
       "      <th>3</th>\n",
       "      <td>25</td>\n",
       "      <td>NaN</td>\n",
       "      <td>NaN</td>\n",
       "      <td>NaN</td>\n",
       "      <td>25-34</td>\n",
       "    </tr>\n",
       "    <tr>\n",
       "      <th>4</th>\n",
       "      <td>25</td>\n",
       "      <td>NaN</td>\n",
       "      <td>NaN</td>\n",
       "      <td>NaN</td>\n",
       "      <td>25-34</td>\n",
       "    </tr>\n",
       "    <tr>\n",
       "      <th>5</th>\n",
       "      <td>25</td>\n",
       "      <td>NaN</td>\n",
       "      <td>NaN</td>\n",
       "      <td>NaN</td>\n",
       "      <td>25-34</td>\n",
       "    </tr>\n",
       "    <tr>\n",
       "      <th>6</th>\n",
       "      <td>25</td>\n",
       "      <td>NaN</td>\n",
       "      <td>NaN</td>\n",
       "      <td>NaN</td>\n",
       "      <td>25-34</td>\n",
       "    </tr>\n",
       "    <tr>\n",
       "      <th>7</th>\n",
       "      <td>26</td>\n",
       "      <td>NaN</td>\n",
       "      <td>NaN</td>\n",
       "      <td>NaN</td>\n",
       "      <td>25-34</td>\n",
       "    </tr>\n",
       "    <tr>\n",
       "      <th>8</th>\n",
       "      <td>26</td>\n",
       "      <td>NaN</td>\n",
       "      <td>NaN</td>\n",
       "      <td>NaN</td>\n",
       "      <td>25-34</td>\n",
       "    </tr>\n",
       "    <tr>\n",
       "      <th>9</th>\n",
       "      <td>26</td>\n",
       "      <td>NaN</td>\n",
       "      <td>NaN</td>\n",
       "      <td>NaN</td>\n",
       "      <td>25-34</td>\n",
       "    </tr>\n",
       "    <tr>\n",
       "      <th>10</th>\n",
       "      <td>26</td>\n",
       "      <td>NaN</td>\n",
       "      <td>NaN</td>\n",
       "      <td>NaN</td>\n",
       "      <td>25-34</td>\n",
       "    </tr>\n",
       "    <tr>\n",
       "      <th>11</th>\n",
       "      <td>26</td>\n",
       "      <td>NaN</td>\n",
       "      <td>NaN</td>\n",
       "      <td>NaN</td>\n",
       "      <td>25-34</td>\n",
       "    </tr>\n",
       "    <tr>\n",
       "      <th>12</th>\n",
       "      <td>26</td>\n",
       "      <td>NaN</td>\n",
       "      <td>NaN</td>\n",
       "      <td>NaN</td>\n",
       "      <td>25-34</td>\n",
       "    </tr>\n",
       "    <tr>\n",
       "      <th>13</th>\n",
       "      <td>26</td>\n",
       "      <td>NaN</td>\n",
       "      <td>NaN</td>\n",
       "      <td>NaN</td>\n",
       "      <td>25-34</td>\n",
       "    </tr>\n",
       "    <tr>\n",
       "      <th>14</th>\n",
       "      <td>26</td>\n",
       "      <td>NaN</td>\n",
       "      <td>NaN</td>\n",
       "      <td>NaN</td>\n",
       "      <td>25-34</td>\n",
       "    </tr>\n",
       "    <tr>\n",
       "      <th>15</th>\n",
       "      <td>27</td>\n",
       "      <td>NaN</td>\n",
       "      <td>NaN</td>\n",
       "      <td>NaN</td>\n",
       "      <td>25-34</td>\n",
       "    </tr>\n",
       "    <tr>\n",
       "      <th>16</th>\n",
       "      <td>27</td>\n",
       "      <td>NaN</td>\n",
       "      <td>NaN</td>\n",
       "      <td>NaN</td>\n",
       "      <td>25-34</td>\n",
       "    </tr>\n",
       "    <tr>\n",
       "      <th>17</th>\n",
       "      <td>27</td>\n",
       "      <td>NaN</td>\n",
       "      <td>NaN</td>\n",
       "      <td>NaN</td>\n",
       "      <td>25-34</td>\n",
       "    </tr>\n",
       "    <tr>\n",
       "      <th>18</th>\n",
       "      <td>27</td>\n",
       "      <td>NaN</td>\n",
       "      <td>NaN</td>\n",
       "      <td>NaN</td>\n",
       "      <td>25-34</td>\n",
       "    </tr>\n",
       "    <tr>\n",
       "      <th>19</th>\n",
       "      <td>27</td>\n",
       "      <td>NaN</td>\n",
       "      <td>NaN</td>\n",
       "      <td>NaN</td>\n",
       "      <td>25-34</td>\n",
       "    </tr>\n",
       "    <tr>\n",
       "      <th>20</th>\n",
       "      <td>27</td>\n",
       "      <td>NaN</td>\n",
       "      <td>NaN</td>\n",
       "      <td>NaN</td>\n",
       "      <td>25-34</td>\n",
       "    </tr>\n",
       "    <tr>\n",
       "      <th>21</th>\n",
       "      <td>27</td>\n",
       "      <td>NaN</td>\n",
       "      <td>NaN</td>\n",
       "      <td>NaN</td>\n",
       "      <td>25-34</td>\n",
       "    </tr>\n",
       "    <tr>\n",
       "      <th>22</th>\n",
       "      <td>28</td>\n",
       "      <td>NaN</td>\n",
       "      <td>NaN</td>\n",
       "      <td>NaN</td>\n",
       "      <td>25-34</td>\n",
       "    </tr>\n",
       "    <tr>\n",
       "      <th>23</th>\n",
       "      <td>28</td>\n",
       "      <td>NaN</td>\n",
       "      <td>NaN</td>\n",
       "      <td>NaN</td>\n",
       "      <td>25-34</td>\n",
       "    </tr>\n",
       "    <tr>\n",
       "      <th>24</th>\n",
       "      <td>28</td>\n",
       "      <td>NaN</td>\n",
       "      <td>NaN</td>\n",
       "      <td>NaN</td>\n",
       "      <td>25-34</td>\n",
       "    </tr>\n",
       "    <tr>\n",
       "      <th>25</th>\n",
       "      <td>28</td>\n",
       "      <td>NaN</td>\n",
       "      <td>NaN</td>\n",
       "      <td>NaN</td>\n",
       "      <td>25-34</td>\n",
       "    </tr>\n",
       "    <tr>\n",
       "      <th>26</th>\n",
       "      <td>28</td>\n",
       "      <td>NaN</td>\n",
       "      <td>NaN</td>\n",
       "      <td>NaN</td>\n",
       "      <td>25-34</td>\n",
       "    </tr>\n",
       "    <tr>\n",
       "      <th>27</th>\n",
       "      <td>28</td>\n",
       "      <td>NaN</td>\n",
       "      <td>NaN</td>\n",
       "      <td>NaN</td>\n",
       "      <td>25-34</td>\n",
       "    </tr>\n",
       "    <tr>\n",
       "      <th>28</th>\n",
       "      <td>28</td>\n",
       "      <td>NaN</td>\n",
       "      <td>NaN</td>\n",
       "      <td>NaN</td>\n",
       "      <td>25-34</td>\n",
       "    </tr>\n",
       "    <tr>\n",
       "      <th>29</th>\n",
       "      <td>28</td>\n",
       "      <td>NaN</td>\n",
       "      <td>NaN</td>\n",
       "      <td>NaN</td>\n",
       "      <td>25-34</td>\n",
       "    </tr>\n",
       "    <tr>\n",
       "      <th>...</th>\n",
       "      <td>...</td>\n",
       "      <td>...</td>\n",
       "      <td>...</td>\n",
       "      <td>...</td>\n",
       "      <td>...</td>\n",
       "    </tr>\n",
       "    <tr>\n",
       "      <th>303</th>\n",
       "      <td>60</td>\n",
       "      <td>NaN</td>\n",
       "      <td>NaN</td>\n",
       "      <td>NaN</td>\n",
       "      <td>55-64</td>\n",
       "    </tr>\n",
       "    <tr>\n",
       "      <th>304</th>\n",
       "      <td>60</td>\n",
       "      <td>NaN</td>\n",
       "      <td>NaN</td>\n",
       "      <td>NaN</td>\n",
       "      <td>55-64</td>\n",
       "    </tr>\n",
       "    <tr>\n",
       "      <th>305</th>\n",
       "      <td>60</td>\n",
       "      <td>NaN</td>\n",
       "      <td>NaN</td>\n",
       "      <td>NaN</td>\n",
       "      <td>55-64</td>\n",
       "    </tr>\n",
       "    <tr>\n",
       "      <th>306</th>\n",
       "      <td>60</td>\n",
       "      <td>NaN</td>\n",
       "      <td>NaN</td>\n",
       "      <td>NaN</td>\n",
       "      <td>55-64</td>\n",
       "    </tr>\n",
       "    <tr>\n",
       "      <th>307</th>\n",
       "      <td>60</td>\n",
       "      <td>NaN</td>\n",
       "      <td>NaN</td>\n",
       "      <td>NaN</td>\n",
       "      <td>55-64</td>\n",
       "    </tr>\n",
       "    <tr>\n",
       "      <th>308</th>\n",
       "      <td>61</td>\n",
       "      <td>NaN</td>\n",
       "      <td>NaN</td>\n",
       "      <td>NaN</td>\n",
       "      <td>55-64</td>\n",
       "    </tr>\n",
       "    <tr>\n",
       "      <th>309</th>\n",
       "      <td>61</td>\n",
       "      <td>NaN</td>\n",
       "      <td>NaN</td>\n",
       "      <td>NaN</td>\n",
       "      <td>55-64</td>\n",
       "    </tr>\n",
       "    <tr>\n",
       "      <th>310</th>\n",
       "      <td>61</td>\n",
       "      <td>NaN</td>\n",
       "      <td>NaN</td>\n",
       "      <td>NaN</td>\n",
       "      <td>55-64</td>\n",
       "    </tr>\n",
       "    <tr>\n",
       "      <th>311</th>\n",
       "      <td>61</td>\n",
       "      <td>NaN</td>\n",
       "      <td>NaN</td>\n",
       "      <td>NaN</td>\n",
       "      <td>55-64</td>\n",
       "    </tr>\n",
       "    <tr>\n",
       "      <th>312</th>\n",
       "      <td>61</td>\n",
       "      <td>NaN</td>\n",
       "      <td>NaN</td>\n",
       "      <td>NaN</td>\n",
       "      <td>55-64</td>\n",
       "    </tr>\n",
       "    <tr>\n",
       "      <th>313</th>\n",
       "      <td>61</td>\n",
       "      <td>NaN</td>\n",
       "      <td>NaN</td>\n",
       "      <td>NaN</td>\n",
       "      <td>55-64</td>\n",
       "    </tr>\n",
       "    <tr>\n",
       "      <th>314</th>\n",
       "      <td>62</td>\n",
       "      <td>NaN</td>\n",
       "      <td>NaN</td>\n",
       "      <td>NaN</td>\n",
       "      <td>55-64</td>\n",
       "    </tr>\n",
       "    <tr>\n",
       "      <th>315</th>\n",
       "      <td>62</td>\n",
       "      <td>NaN</td>\n",
       "      <td>NaN</td>\n",
       "      <td>NaN</td>\n",
       "      <td>55-64</td>\n",
       "    </tr>\n",
       "    <tr>\n",
       "      <th>316</th>\n",
       "      <td>62</td>\n",
       "      <td>NaN</td>\n",
       "      <td>NaN</td>\n",
       "      <td>NaN</td>\n",
       "      <td>55-64</td>\n",
       "    </tr>\n",
       "    <tr>\n",
       "      <th>317</th>\n",
       "      <td>62</td>\n",
       "      <td>NaN</td>\n",
       "      <td>NaN</td>\n",
       "      <td>NaN</td>\n",
       "      <td>55-64</td>\n",
       "    </tr>\n",
       "    <tr>\n",
       "      <th>318</th>\n",
       "      <td>62</td>\n",
       "      <td>NaN</td>\n",
       "      <td>NaN</td>\n",
       "      <td>NaN</td>\n",
       "      <td>55-64</td>\n",
       "    </tr>\n",
       "    <tr>\n",
       "      <th>319</th>\n",
       "      <td>62</td>\n",
       "      <td>NaN</td>\n",
       "      <td>NaN</td>\n",
       "      <td>NaN</td>\n",
       "      <td>55-64</td>\n",
       "    </tr>\n",
       "    <tr>\n",
       "      <th>320</th>\n",
       "      <td>63</td>\n",
       "      <td>NaN</td>\n",
       "      <td>NaN</td>\n",
       "      <td>NaN</td>\n",
       "      <td>55-64</td>\n",
       "    </tr>\n",
       "    <tr>\n",
       "      <th>321</th>\n",
       "      <td>63</td>\n",
       "      <td>NaN</td>\n",
       "      <td>NaN</td>\n",
       "      <td>NaN</td>\n",
       "      <td>55-64</td>\n",
       "    </tr>\n",
       "    <tr>\n",
       "      <th>322</th>\n",
       "      <td>63</td>\n",
       "      <td>NaN</td>\n",
       "      <td>NaN</td>\n",
       "      <td>NaN</td>\n",
       "      <td>55-64</td>\n",
       "    </tr>\n",
       "    <tr>\n",
       "      <th>323</th>\n",
       "      <td>63</td>\n",
       "      <td>NaN</td>\n",
       "      <td>NaN</td>\n",
       "      <td>NaN</td>\n",
       "      <td>55-64</td>\n",
       "    </tr>\n",
       "    <tr>\n",
       "      <th>324</th>\n",
       "      <td>63</td>\n",
       "      <td>NaN</td>\n",
       "      <td>NaN</td>\n",
       "      <td>NaN</td>\n",
       "      <td>55-64</td>\n",
       "    </tr>\n",
       "    <tr>\n",
       "      <th>325</th>\n",
       "      <td>63</td>\n",
       "      <td>NaN</td>\n",
       "      <td>NaN</td>\n",
       "      <td>NaN</td>\n",
       "      <td>55-64</td>\n",
       "    </tr>\n",
       "    <tr>\n",
       "      <th>326</th>\n",
       "      <td>63</td>\n",
       "      <td>NaN</td>\n",
       "      <td>NaN</td>\n",
       "      <td>NaN</td>\n",
       "      <td>55-64</td>\n",
       "    </tr>\n",
       "    <tr>\n",
       "      <th>327</th>\n",
       "      <td>64</td>\n",
       "      <td>NaN</td>\n",
       "      <td>NaN</td>\n",
       "      <td>NaN</td>\n",
       "      <td>55-64</td>\n",
       "    </tr>\n",
       "    <tr>\n",
       "      <th>328</th>\n",
       "      <td>64</td>\n",
       "      <td>NaN</td>\n",
       "      <td>NaN</td>\n",
       "      <td>NaN</td>\n",
       "      <td>55-64</td>\n",
       "    </tr>\n",
       "    <tr>\n",
       "      <th>329</th>\n",
       "      <td>64</td>\n",
       "      <td>NaN</td>\n",
       "      <td>NaN</td>\n",
       "      <td>NaN</td>\n",
       "      <td>55-64</td>\n",
       "    </tr>\n",
       "    <tr>\n",
       "      <th>330</th>\n",
       "      <td>64</td>\n",
       "      <td>NaN</td>\n",
       "      <td>NaN</td>\n",
       "      <td>NaN</td>\n",
       "      <td>55-64</td>\n",
       "    </tr>\n",
       "    <tr>\n",
       "      <th>331</th>\n",
       "      <td>64</td>\n",
       "      <td>NaN</td>\n",
       "      <td>NaN</td>\n",
       "      <td>NaN</td>\n",
       "      <td>55-64</td>\n",
       "    </tr>\n",
       "    <tr>\n",
       "      <th>332</th>\n",
       "      <td>64</td>\n",
       "      <td>NaN</td>\n",
       "      <td>NaN</td>\n",
       "      <td>NaN</td>\n",
       "      <td>55-64</td>\n",
       "    </tr>\n",
       "  </tbody>\n",
       "</table>\n",
       "<p>333 rows × 5 columns</p>\n",
       "</div>"
      ],
      "text/plain": [
       "     Age Field Qual Gender Age_Range\n",
       "0     25   NaN  NaN    NaN     25-34\n",
       "1     25   NaN  NaN    NaN     25-34\n",
       "2     25   NaN  NaN    NaN     25-34\n",
       "3     25   NaN  NaN    NaN     25-34\n",
       "4     25   NaN  NaN    NaN     25-34\n",
       "5     25   NaN  NaN    NaN     25-34\n",
       "6     25   NaN  NaN    NaN     25-34\n",
       "7     26   NaN  NaN    NaN     25-34\n",
       "8     26   NaN  NaN    NaN     25-34\n",
       "9     26   NaN  NaN    NaN     25-34\n",
       "10    26   NaN  NaN    NaN     25-34\n",
       "11    26   NaN  NaN    NaN     25-34\n",
       "12    26   NaN  NaN    NaN     25-34\n",
       "13    26   NaN  NaN    NaN     25-34\n",
       "14    26   NaN  NaN    NaN     25-34\n",
       "15    27   NaN  NaN    NaN     25-34\n",
       "16    27   NaN  NaN    NaN     25-34\n",
       "17    27   NaN  NaN    NaN     25-34\n",
       "18    27   NaN  NaN    NaN     25-34\n",
       "19    27   NaN  NaN    NaN     25-34\n",
       "20    27   NaN  NaN    NaN     25-34\n",
       "21    27   NaN  NaN    NaN     25-34\n",
       "22    28   NaN  NaN    NaN     25-34\n",
       "23    28   NaN  NaN    NaN     25-34\n",
       "24    28   NaN  NaN    NaN     25-34\n",
       "25    28   NaN  NaN    NaN     25-34\n",
       "26    28   NaN  NaN    NaN     25-34\n",
       "27    28   NaN  NaN    NaN     25-34\n",
       "28    28   NaN  NaN    NaN     25-34\n",
       "29    28   NaN  NaN    NaN     25-34\n",
       "..   ...   ...  ...    ...       ...\n",
       "303   60   NaN  NaN    NaN     55-64\n",
       "304   60   NaN  NaN    NaN     55-64\n",
       "305   60   NaN  NaN    NaN     55-64\n",
       "306   60   NaN  NaN    NaN     55-64\n",
       "307   60   NaN  NaN    NaN     55-64\n",
       "308   61   NaN  NaN    NaN     55-64\n",
       "309   61   NaN  NaN    NaN     55-64\n",
       "310   61   NaN  NaN    NaN     55-64\n",
       "311   61   NaN  NaN    NaN     55-64\n",
       "312   61   NaN  NaN    NaN     55-64\n",
       "313   61   NaN  NaN    NaN     55-64\n",
       "314   62   NaN  NaN    NaN     55-64\n",
       "315   62   NaN  NaN    NaN     55-64\n",
       "316   62   NaN  NaN    NaN     55-64\n",
       "317   62   NaN  NaN    NaN     55-64\n",
       "318   62   NaN  NaN    NaN     55-64\n",
       "319   62   NaN  NaN    NaN     55-64\n",
       "320   63   NaN  NaN    NaN     55-64\n",
       "321   63   NaN  NaN    NaN     55-64\n",
       "322   63   NaN  NaN    NaN     55-64\n",
       "323   63   NaN  NaN    NaN     55-64\n",
       "324   63   NaN  NaN    NaN     55-64\n",
       "325   63   NaN  NaN    NaN     55-64\n",
       "326   63   NaN  NaN    NaN     55-64\n",
       "327   64   NaN  NaN    NaN     55-64\n",
       "328   64   NaN  NaN    NaN     55-64\n",
       "329   64   NaN  NaN    NaN     55-64\n",
       "330   64   NaN  NaN    NaN     55-64\n",
       "331   64   NaN  NaN    NaN     55-64\n",
       "332   64   NaN  NaN    NaN     55-64\n",
       "\n",
       "[333 rows x 5 columns]"
      ]
     },
     "execution_count": 34,
     "metadata": {},
     "output_type": "execute_result"
    }
   ],
   "source": [
    "df"
   ]
  },
  {
   "cell_type": "markdown",
   "metadata": {},
   "source": [
    "### Field of Study Data"
   ]
  },
  {
   "cell_type": "code",
   "execution_count": 250,
   "metadata": {},
   "outputs": [],
   "source": [
    "f = pd.read_excel(\"data\\AES2017TBL2b.xlsx\") # Import xlsx file using pandas\n",
    "dfField = pd.DataFrame(f) # Create a dataframe from the csv data\n",
    "#dfField"
   ]
  },
  {
   "cell_type": "code",
   "execution_count": 251,
   "metadata": {},
   "outputs": [],
   "source": [
    "dfField.drop(dfField.loc[11:].index, axis=0, inplace=True)\n",
    "dfField.drop([0, 2, 3, 6], axis=0, inplace=True)\n",
    "dfField.drop(dfField.columns[[0, 14]], axis=1, inplace=True)"
   ]
  },
  {
   "cell_type": "code",
   "execution_count": 252,
   "metadata": {},
   "outputs": [
    {
     "data": {
      "text/html": [
       "<div>\n",
       "<style scoped>\n",
       "    .dataframe tbody tr th:only-of-type {\n",
       "        vertical-align: middle;\n",
       "    }\n",
       "\n",
       "    .dataframe tbody tr th {\n",
       "        vertical-align: top;\n",
       "    }\n",
       "\n",
       "    .dataframe thead th {\n",
       "        text-align: right;\n",
       "    }\n",
       "</style>\n",
       "<table border=\"1\" class=\"dataframe\">\n",
       "  <thead>\n",
       "    <tr style=\"text-align: right;\">\n",
       "      <th></th>\n",
       "      <th>ITEM</th>\n",
       "      <th>GEN</th>\n",
       "      <th>EDU</th>\n",
       "      <th>ART</th>\n",
       "      <th>SOC</th>\n",
       "      <th>BUS</th>\n",
       "      <th>NAT</th>\n",
       "      <th>INF</th>\n",
       "      <th>ENG</th>\n",
       "      <th>AGR</th>\n",
       "      <th>HEA</th>\n",
       "      <th>SER</th>\n",
       "      <th>OTH</th>\n",
       "    </tr>\n",
       "  </thead>\n",
       "  <tbody>\n",
       "    <tr>\n",
       "      <th>4</th>\n",
       "      <td>Male</td>\n",
       "      <td>10.3</td>\n",
       "      <td>3.6</td>\n",
       "      <td>2.6</td>\n",
       "      <td>0.8</td>\n",
       "      <td>22.7</td>\n",
       "      <td>6.8</td>\n",
       "      <td>7.6</td>\n",
       "      <td>13.3</td>\n",
       "      <td>4.7</td>\n",
       "      <td>12.3</td>\n",
       "      <td>2.3</td>\n",
       "      <td>13.2</td>\n",
       "    </tr>\n",
       "    <tr>\n",
       "      <th>5</th>\n",
       "      <td>Female</td>\n",
       "      <td>2.5</td>\n",
       "      <td>11.4</td>\n",
       "      <td>6.2</td>\n",
       "      <td>2</td>\n",
       "      <td>30.1</td>\n",
       "      <td>1.6</td>\n",
       "      <td>6.2</td>\n",
       "      <td>2.8</td>\n",
       "      <td>1.5</td>\n",
       "      <td>22.1</td>\n",
       "      <td>2.1</td>\n",
       "      <td>11.5</td>\n",
       "    </tr>\n",
       "    <tr>\n",
       "      <th>7</th>\n",
       "      <td>25-34</td>\n",
       "      <td>6.6</td>\n",
       "      <td>8.1</td>\n",
       "      <td>1.7</td>\n",
       "      <td>0.6</td>\n",
       "      <td>30</td>\n",
       "      <td>5.9</td>\n",
       "      <td>10.4</td>\n",
       "      <td>8.9</td>\n",
       "      <td>1.8</td>\n",
       "      <td>15.2</td>\n",
       "      <td>1.4</td>\n",
       "      <td>9.3</td>\n",
       "    </tr>\n",
       "    <tr>\n",
       "      <th>8</th>\n",
       "      <td>35-44</td>\n",
       "      <td>6.8</td>\n",
       "      <td>8.4</td>\n",
       "      <td>7.8</td>\n",
       "      <td>0.6</td>\n",
       "      <td>28.6</td>\n",
       "      <td>1.5</td>\n",
       "      <td>2.9</td>\n",
       "      <td>6.5</td>\n",
       "      <td>5.5</td>\n",
       "      <td>15.2</td>\n",
       "      <td>0.9</td>\n",
       "      <td>15.3</td>\n",
       "    </tr>\n",
       "    <tr>\n",
       "      <th>9</th>\n",
       "      <td>45-54</td>\n",
       "      <td>2.2</td>\n",
       "      <td>9.9</td>\n",
       "      <td>3.5</td>\n",
       "      <td>2.2</td>\n",
       "      <td>20.5</td>\n",
       "      <td>4.1</td>\n",
       "      <td>6.4</td>\n",
       "      <td>5.4</td>\n",
       "      <td>0</td>\n",
       "      <td>27.1</td>\n",
       "      <td>6.4</td>\n",
       "      <td>12.3</td>\n",
       "    </tr>\n",
       "    <tr>\n",
       "      <th>10</th>\n",
       "      <td>55-64</td>\n",
       "      <td>[3.3]3</td>\n",
       "      <td>[2.8]</td>\n",
       "      <td>[11.2]</td>\n",
       "      <td>[9.4]</td>\n",
       "      <td>[17.7]</td>\n",
       "      <td>[0.0]</td>\n",
       "      <td>[3.8]</td>\n",
       "      <td>[3.4]</td>\n",
       "      <td>[3.5]</td>\n",
       "      <td>[26.8]</td>\n",
       "      <td>[2.8]</td>\n",
       "      <td>[15.3]</td>\n",
       "    </tr>\n",
       "  </tbody>\n",
       "</table>\n",
       "</div>"
      ],
      "text/plain": [
       "      ITEM     GEN    EDU     ART    SOC     BUS    NAT    INF    ENG    AGR  \\\n",
       "4     Male    10.3    3.6     2.6    0.8    22.7    6.8    7.6   13.3    4.7   \n",
       "5   Female     2.5   11.4     6.2      2    30.1    1.6    6.2    2.8    1.5   \n",
       "7    25-34     6.6    8.1     1.7    0.6      30    5.9   10.4    8.9    1.8   \n",
       "8    35-44     6.8    8.4     7.8    0.6    28.6    1.5    2.9    6.5    5.5   \n",
       "9    45-54     2.2    9.9     3.5    2.2    20.5    4.1    6.4    5.4      0   \n",
       "10   55-64  [3.3]3  [2.8]  [11.2]  [9.4]  [17.7]  [0.0]  [3.8]  [3.4]  [3.5]   \n",
       "\n",
       "       HEA    SER     OTH  \n",
       "4     12.3    2.3    13.2  \n",
       "5     22.1    2.1    11.5  \n",
       "7     15.2    1.4     9.3  \n",
       "8     15.2    0.9    15.3  \n",
       "9     27.1    6.4    12.3  \n",
       "10  [26.8]  [2.8]  [15.3]  "
      ]
     },
     "execution_count": 252,
     "metadata": {},
     "output_type": "execute_result"
    }
   ],
   "source": [
    "dfField.columns = ['ITEM', 'GEN', 'EDU', 'ART', 'SOC', 'BUS', 'NAT', 'INF', 'ENG', 'AGR', 'HEA', 'SER', 'OTH']\n",
    "dfField.drop([1], axis=0, inplace=True)\n",
    "dfField"
   ]
  },
  {
   "cell_type": "code",
   "execution_count": 253,
   "metadata": {},
   "outputs": [],
   "source": [
    "fieldList = list(dfField.columns.values)"
   ]
  },
  {
   "cell_type": "code",
   "execution_count": 255,
   "metadata": {},
   "outputs": [
    {
     "data": {
      "text/html": [
       "<div>\n",
       "<style scoped>\n",
       "    .dataframe tbody tr th:only-of-type {\n",
       "        vertical-align: middle;\n",
       "    }\n",
       "\n",
       "    .dataframe tbody tr th {\n",
       "        vertical-align: top;\n",
       "    }\n",
       "\n",
       "    .dataframe thead th {\n",
       "        text-align: right;\n",
       "    }\n",
       "</style>\n",
       "<table border=\"1\" class=\"dataframe\">\n",
       "  <thead>\n",
       "    <tr style=\"text-align: right;\">\n",
       "      <th></th>\n",
       "      <th>GEN</th>\n",
       "      <th>EDU</th>\n",
       "      <th>ART</th>\n",
       "      <th>SOC</th>\n",
       "      <th>BUS</th>\n",
       "      <th>NAT</th>\n",
       "      <th>INF</th>\n",
       "      <th>ENG</th>\n",
       "      <th>AGR</th>\n",
       "      <th>HEA</th>\n",
       "      <th>SER</th>\n",
       "      <th>OTH</th>\n",
       "    </tr>\n",
       "    <tr>\n",
       "      <th>ITEM</th>\n",
       "      <th></th>\n",
       "      <th></th>\n",
       "      <th></th>\n",
       "      <th></th>\n",
       "      <th></th>\n",
       "      <th></th>\n",
       "      <th></th>\n",
       "      <th></th>\n",
       "      <th></th>\n",
       "      <th></th>\n",
       "      <th></th>\n",
       "      <th></th>\n",
       "    </tr>\n",
       "  </thead>\n",
       "  <tbody>\n",
       "    <tr>\n",
       "      <th>Male</th>\n",
       "      <td>10.3</td>\n",
       "      <td>3.6</td>\n",
       "      <td>2.6</td>\n",
       "      <td>0.8</td>\n",
       "      <td>22.7</td>\n",
       "      <td>6.8</td>\n",
       "      <td>7.6</td>\n",
       "      <td>13.3</td>\n",
       "      <td>4.7</td>\n",
       "      <td>12.3</td>\n",
       "      <td>2.3</td>\n",
       "      <td>13.2</td>\n",
       "    </tr>\n",
       "    <tr>\n",
       "      <th>Female</th>\n",
       "      <td>2.5</td>\n",
       "      <td>11.4</td>\n",
       "      <td>6.2</td>\n",
       "      <td>2.0</td>\n",
       "      <td>30.1</td>\n",
       "      <td>1.6</td>\n",
       "      <td>6.2</td>\n",
       "      <td>2.8</td>\n",
       "      <td>1.5</td>\n",
       "      <td>22.1</td>\n",
       "      <td>2.1</td>\n",
       "      <td>11.5</td>\n",
       "    </tr>\n",
       "    <tr>\n",
       "      <th>25-34</th>\n",
       "      <td>6.6</td>\n",
       "      <td>8.1</td>\n",
       "      <td>1.7</td>\n",
       "      <td>0.6</td>\n",
       "      <td>30.0</td>\n",
       "      <td>5.9</td>\n",
       "      <td>10.4</td>\n",
       "      <td>8.9</td>\n",
       "      <td>1.8</td>\n",
       "      <td>15.2</td>\n",
       "      <td>1.4</td>\n",
       "      <td>9.3</td>\n",
       "    </tr>\n",
       "    <tr>\n",
       "      <th>35-44</th>\n",
       "      <td>6.8</td>\n",
       "      <td>8.4</td>\n",
       "      <td>7.8</td>\n",
       "      <td>0.6</td>\n",
       "      <td>28.6</td>\n",
       "      <td>1.5</td>\n",
       "      <td>2.9</td>\n",
       "      <td>6.5</td>\n",
       "      <td>5.5</td>\n",
       "      <td>15.2</td>\n",
       "      <td>0.9</td>\n",
       "      <td>15.3</td>\n",
       "    </tr>\n",
       "    <tr>\n",
       "      <th>45-54</th>\n",
       "      <td>2.2</td>\n",
       "      <td>9.9</td>\n",
       "      <td>3.5</td>\n",
       "      <td>2.2</td>\n",
       "      <td>20.5</td>\n",
       "      <td>4.1</td>\n",
       "      <td>6.4</td>\n",
       "      <td>5.4</td>\n",
       "      <td>0.0</td>\n",
       "      <td>27.1</td>\n",
       "      <td>6.4</td>\n",
       "      <td>12.3</td>\n",
       "    </tr>\n",
       "    <tr>\n",
       "      <th>55-64</th>\n",
       "      <td>3.3</td>\n",
       "      <td>2.8</td>\n",
       "      <td>11.2</td>\n",
       "      <td>9.4</td>\n",
       "      <td>17.7</td>\n",
       "      <td>0.0</td>\n",
       "      <td>3.8</td>\n",
       "      <td>3.4</td>\n",
       "      <td>3.5</td>\n",
       "      <td>26.8</td>\n",
       "      <td>2.8</td>\n",
       "      <td>15.3</td>\n",
       "    </tr>\n",
       "  </tbody>\n",
       "</table>\n",
       "</div>"
      ],
      "text/plain": [
       "         GEN   EDU   ART  SOC   BUS  NAT   INF   ENG  AGR   HEA  SER   OTH\n",
       "ITEM                                                                      \n",
       "Male    10.3   3.6   2.6  0.8  22.7  6.8   7.6  13.3  4.7  12.3  2.3  13.2\n",
       "Female   2.5  11.4   6.2  2.0  30.1  1.6   6.2   2.8  1.5  22.1  2.1  11.5\n",
       "25-34    6.6   8.1   1.7  0.6  30.0  5.9  10.4   8.9  1.8  15.2  1.4   9.3\n",
       "35-44    6.8   8.4   7.8  0.6  28.6  1.5   2.9   6.5  5.5  15.2  0.9  15.3\n",
       "45-54    2.2   9.9   3.5  2.2  20.5  4.1   6.4   5.4  0.0  27.1  6.4  12.3\n",
       "55-64    3.3   2.8  11.2  9.4  17.7  0.0   3.8   3.4  3.5  26.8  2.8  15.3"
      ]
     },
     "execution_count": 255,
     "metadata": {},
     "output_type": "execute_result"
    }
   ],
   "source": [
    "dfField.replace(to_replace=r'\\[||\\]\\d||\\]', value='', regex=True, inplace=True)\n",
    "dfField.index  = dfField['ITEM']\n",
    "dfField.drop(dfField.columns[[0]], axis=1, inplace=True)\n",
    "for col in fieldList[1:]:\n",
    "    dfField[col] = dfField[col].astype(float)\n",
    "dfField"
   ]
  },
  {
   "cell_type": "code",
   "execution_count": 235,
   "metadata": {},
   "outputs": [],
   "source": [
    "## for row in df, select from dfField based on range. use to create a list of probabilities (*0.01)\n",
    "## np.random.choice(5, 3, p=[0.1, 0, 0.3, 0.6, 0])\n",
    "## np.random.choice(fieldList, 1, p=fieldProb)\n",
    "## need to create a probability list from this"
   ]
  },
  {
   "cell_type": "code",
   "execution_count": 41,
   "metadata": {},
   "outputs": [],
   "source": [
    "# https://stackoverflow.com/a/46539921"
   ]
  },
  {
   "cell_type": "code",
   "execution_count": 42,
   "metadata": {},
   "outputs": [
    {
     "data": {
      "text/plain": [
       "['ITEM',\n",
       " 'GEN',\n",
       " 'EDU',\n",
       " 'ART',\n",
       " 'SOC',\n",
       " 'BUS',\n",
       " 'NAT',\n",
       " 'INF',\n",
       " 'ENG',\n",
       " 'AGR',\n",
       " 'HEA',\n",
       " 'SER',\n",
       " 'OTH']"
      ]
     },
     "execution_count": 42,
     "metadata": {},
     "output_type": "execute_result"
    }
   ],
   "source": [
    "fieldList"
   ]
  },
  {
   "cell_type": "code",
   "execution_count": 257,
   "metadata": {},
   "outputs": [],
   "source": [
    "def fieldGen(item):\n",
    "    probSer = pd.Series(dfField.loc[(item)].values)\n",
    "    probList = probSer/100\n",
    "    probList /= probList.sum() # normalise to add up to 1\n",
    "    x = np.random.choice(fieldList[1:], 1, p=list(probList))\n",
    "    return x[0]"
   ]
  },
  {
   "cell_type": "code",
   "execution_count": 258,
   "metadata": {},
   "outputs": [
    {
     "data": {
      "text/plain": [
       "'BUS'"
      ]
     },
     "execution_count": 258,
     "metadata": {},
     "output_type": "execute_result"
    }
   ],
   "source": [
    "fieldGen(\"25-34\") # testing\n",
    "#field"
   ]
  },
  {
   "cell_type": "code",
   "execution_count": 259,
   "metadata": {},
   "outputs": [
    {
     "data": {
      "text/plain": [
       "'HEA'"
      ]
     },
     "execution_count": 259,
     "metadata": {},
     "output_type": "execute_result"
    }
   ],
   "source": [
    "fieldGen(ageRanges[0])"
   ]
  },
  {
   "cell_type": "code",
   "execution_count": 262,
   "metadata": {
    "scrolled": true
   },
   "outputs": [
    {
     "data": {
      "text/plain": [
       "['EDU',\n",
       " 'ART',\n",
       " 'OTH',\n",
       " 'BUS',\n",
       " 'BUS',\n",
       " 'INF',\n",
       " 'GEN',\n",
       " 'BUS',\n",
       " 'BUS',\n",
       " 'BUS',\n",
       " 'BUS',\n",
       " 'INF',\n",
       " 'INF',\n",
       " 'BUS',\n",
       " 'OTH',\n",
       " 'BUS',\n",
       " 'BUS',\n",
       " 'BUS',\n",
       " 'BUS',\n",
       " 'EDU',\n",
       " 'BUS',\n",
       " 'EDU',\n",
       " 'NAT',\n",
       " 'INF',\n",
       " 'BUS',\n",
       " 'SER',\n",
       " 'ENG',\n",
       " 'BUS',\n",
       " 'NAT',\n",
       " 'EDU',\n",
       " 'OTH',\n",
       " 'INF',\n",
       " 'ENG',\n",
       " 'NAT',\n",
       " 'ENG',\n",
       " 'NAT',\n",
       " 'HEA',\n",
       " 'ENG',\n",
       " 'BUS',\n",
       " 'HEA',\n",
       " 'BUS',\n",
       " 'BUS',\n",
       " 'HEA',\n",
       " 'NAT',\n",
       " 'BUS',\n",
       " 'INF',\n",
       " 'ENG',\n",
       " 'HEA',\n",
       " 'BUS',\n",
       " 'HEA',\n",
       " 'EDU',\n",
       " 'BUS',\n",
       " 'BUS',\n",
       " 'BUS',\n",
       " 'INF',\n",
       " 'EDU',\n",
       " 'BUS',\n",
       " 'BUS',\n",
       " 'BUS',\n",
       " 'OTH',\n",
       " 'NAT',\n",
       " 'AGR',\n",
       " 'INF',\n",
       " 'EDU',\n",
       " 'BUS',\n",
       " 'INF',\n",
       " 'HEA',\n",
       " 'NAT',\n",
       " 'BUS',\n",
       " 'BUS',\n",
       " 'SER',\n",
       " 'BUS',\n",
       " 'BUS',\n",
       " 'HEA',\n",
       " 'BUS',\n",
       " 'GEN',\n",
       " 'BUS',\n",
       " 'EDU',\n",
       " 'OTH',\n",
       " 'ENG',\n",
       " 'INF',\n",
       " 'NAT',\n",
       " 'HEA',\n",
       " 'GEN',\n",
       " 'SOC',\n",
       " 'BUS',\n",
       " 'EDU',\n",
       " 'OTH',\n",
       " 'OTH',\n",
       " 'BUS',\n",
       " 'BUS',\n",
       " 'BUS',\n",
       " 'BUS',\n",
       " 'OTH',\n",
       " 'ENG',\n",
       " 'HEA',\n",
       " 'OTH',\n",
       " 'GEN',\n",
       " 'EDU',\n",
       " 'ENG',\n",
       " 'HEA',\n",
       " 'NAT',\n",
       " 'OTH',\n",
       " 'OTH',\n",
       " 'NAT',\n",
       " 'BUS',\n",
       " 'BUS',\n",
       " 'BUS',\n",
       " 'BUS',\n",
       " 'OTH',\n",
       " 'GEN',\n",
       " 'BUS',\n",
       " 'OTH',\n",
       " 'ART',\n",
       " 'BUS',\n",
       " 'EDU',\n",
       " 'ART',\n",
       " 'EDU',\n",
       " 'HEA',\n",
       " 'BUS',\n",
       " 'OTH',\n",
       " 'HEA',\n",
       " 'BUS',\n",
       " 'OTH',\n",
       " 'GEN',\n",
       " 'NAT',\n",
       " 'HEA',\n",
       " 'HEA',\n",
       " 'ART',\n",
       " 'OTH',\n",
       " 'SER',\n",
       " 'EDU',\n",
       " 'OTH',\n",
       " 'HEA',\n",
       " 'HEA',\n",
       " 'OTH',\n",
       " 'OTH',\n",
       " 'BUS',\n",
       " 'ENG',\n",
       " 'OTH',\n",
       " 'OTH',\n",
       " 'OTH',\n",
       " 'BUS',\n",
       " 'EDU',\n",
       " 'OTH',\n",
       " 'BUS',\n",
       " 'INF',\n",
       " 'NAT',\n",
       " 'BUS',\n",
       " 'BUS',\n",
       " 'ART',\n",
       " 'EDU',\n",
       " 'EDU',\n",
       " 'AGR',\n",
       " 'EDU',\n",
       " 'OTH',\n",
       " 'EDU',\n",
       " 'HEA',\n",
       " 'BUS',\n",
       " 'OTH',\n",
       " 'HEA',\n",
       " 'INF',\n",
       " 'BUS',\n",
       " 'EDU',\n",
       " 'OTH',\n",
       " 'EDU',\n",
       " 'HEA',\n",
       " 'ENG',\n",
       " 'OTH',\n",
       " 'AGR',\n",
       " 'BUS',\n",
       " 'BUS',\n",
       " 'OTH',\n",
       " 'HEA',\n",
       " 'HEA',\n",
       " 'BUS',\n",
       " 'BUS',\n",
       " 'HEA',\n",
       " 'BUS',\n",
       " 'EDU',\n",
       " 'SER',\n",
       " 'BUS',\n",
       " 'HEA',\n",
       " 'ENG',\n",
       " 'OTH',\n",
       " 'ENG',\n",
       " 'BUS',\n",
       " 'HEA',\n",
       " 'BUS',\n",
       " 'BUS',\n",
       " 'OTH',\n",
       " 'ENG',\n",
       " 'INF',\n",
       " 'SER',\n",
       " 'BUS',\n",
       " 'HEA',\n",
       " 'OTH',\n",
       " 'HEA',\n",
       " 'INF',\n",
       " 'NAT',\n",
       " 'EDU',\n",
       " 'OTH',\n",
       " 'EDU',\n",
       " 'HEA',\n",
       " 'SER',\n",
       " 'BUS',\n",
       " 'EDU',\n",
       " 'HEA',\n",
       " 'OTH',\n",
       " 'HEA',\n",
       " 'BUS',\n",
       " 'HEA',\n",
       " 'ENG',\n",
       " 'HEA',\n",
       " 'ENG',\n",
       " 'SER',\n",
       " 'EDU',\n",
       " 'HEA',\n",
       " 'HEA',\n",
       " 'HEA',\n",
       " 'BUS',\n",
       " 'OTH',\n",
       " 'HEA',\n",
       " 'BUS',\n",
       " 'OTH',\n",
       " 'SER',\n",
       " 'HEA',\n",
       " 'NAT',\n",
       " 'NAT',\n",
       " 'BUS',\n",
       " 'BUS',\n",
       " 'HEA',\n",
       " 'INF',\n",
       " 'ART',\n",
       " 'ART',\n",
       " 'ENG',\n",
       " 'HEA',\n",
       " 'HEA',\n",
       " 'EDU',\n",
       " 'EDU',\n",
       " 'OTH',\n",
       " 'HEA',\n",
       " 'SER',\n",
       " 'BUS',\n",
       " 'OTH',\n",
       " 'SER',\n",
       " 'SER',\n",
       " 'OTH',\n",
       " 'EDU',\n",
       " 'HEA',\n",
       " 'OTH',\n",
       " 'HEA',\n",
       " 'BUS',\n",
       " 'HEA',\n",
       " 'BUS',\n",
       " 'OTH',\n",
       " 'BUS',\n",
       " 'BUS',\n",
       " 'HEA',\n",
       " 'BUS',\n",
       " 'SER',\n",
       " 'EDU',\n",
       " 'ENG',\n",
       " 'OTH',\n",
       " 'NAT',\n",
       " 'ART',\n",
       " 'BUS',\n",
       " 'INF',\n",
       " 'ENG',\n",
       " 'BUS',\n",
       " 'OTH',\n",
       " 'GEN',\n",
       " 'HEA',\n",
       " 'HEA',\n",
       " 'ART',\n",
       " 'OTH',\n",
       " 'BUS',\n",
       " 'OTH',\n",
       " 'HEA',\n",
       " 'OTH',\n",
       " 'SOC',\n",
       " 'SOC',\n",
       " 'HEA',\n",
       " 'BUS',\n",
       " 'HEA',\n",
       " 'SOC',\n",
       " 'BUS',\n",
       " 'INF',\n",
       " 'SER',\n",
       " 'HEA',\n",
       " 'HEA',\n",
       " 'INF',\n",
       " 'BUS',\n",
       " 'AGR',\n",
       " 'BUS',\n",
       " 'OTH',\n",
       " 'ART',\n",
       " 'HEA',\n",
       " 'OTH',\n",
       " 'OTH',\n",
       " 'BUS',\n",
       " 'OTH',\n",
       " 'EDU',\n",
       " 'SOC',\n",
       " 'SER',\n",
       " 'HEA',\n",
       " 'OTH',\n",
       " 'HEA',\n",
       " 'EDU',\n",
       " 'EDU',\n",
       " 'BUS',\n",
       " 'ART',\n",
       " 'OTH',\n",
       " 'HEA',\n",
       " 'OTH',\n",
       " 'OTH',\n",
       " 'OTH',\n",
       " 'HEA',\n",
       " 'SOC',\n",
       " 'HEA',\n",
       " 'BUS',\n",
       " 'ART',\n",
       " 'OTH',\n",
       " 'GEN',\n",
       " 'GEN',\n",
       " 'SOC',\n",
       " 'HEA',\n",
       " 'BUS',\n",
       " 'OTH',\n",
       " 'BUS',\n",
       " 'ART',\n",
       " 'OTH',\n",
       " 'HEA']"
      ]
     },
     "execution_count": 262,
     "metadata": {},
     "output_type": "execute_result"
    }
   ],
   "source": [
    "genFieldList = []\n",
    "for i in ageRanges:\n",
    "    x = fieldGen(i)\n",
    "    genFieldList.append(x)\n",
    "\n",
    "genFieldList"
   ]
  },
  {
   "cell_type": "code",
   "execution_count": 264,
   "metadata": {},
   "outputs": [
    {
     "data": {
      "text/html": [
       "<div>\n",
       "<style scoped>\n",
       "    .dataframe tbody tr th:only-of-type {\n",
       "        vertical-align: middle;\n",
       "    }\n",
       "\n",
       "    .dataframe tbody tr th {\n",
       "        vertical-align: top;\n",
       "    }\n",
       "\n",
       "    .dataframe thead th {\n",
       "        text-align: right;\n",
       "    }\n",
       "</style>\n",
       "<table border=\"1\" class=\"dataframe\">\n",
       "  <thead>\n",
       "    <tr style=\"text-align: right;\">\n",
       "      <th></th>\n",
       "      <th>Age</th>\n",
       "      <th>Field</th>\n",
       "      <th>Qual</th>\n",
       "      <th>Gender</th>\n",
       "      <th>Age_Range</th>\n",
       "    </tr>\n",
       "  </thead>\n",
       "  <tbody>\n",
       "    <tr>\n",
       "      <th>0</th>\n",
       "      <td>25</td>\n",
       "      <td>EDU</td>\n",
       "      <td>NaN</td>\n",
       "      <td>NaN</td>\n",
       "      <td>25-34</td>\n",
       "    </tr>\n",
       "    <tr>\n",
       "      <th>1</th>\n",
       "      <td>25</td>\n",
       "      <td>ART</td>\n",
       "      <td>NaN</td>\n",
       "      <td>NaN</td>\n",
       "      <td>25-34</td>\n",
       "    </tr>\n",
       "    <tr>\n",
       "      <th>2</th>\n",
       "      <td>25</td>\n",
       "      <td>OTH</td>\n",
       "      <td>NaN</td>\n",
       "      <td>NaN</td>\n",
       "      <td>25-34</td>\n",
       "    </tr>\n",
       "    <tr>\n",
       "      <th>3</th>\n",
       "      <td>25</td>\n",
       "      <td>BUS</td>\n",
       "      <td>NaN</td>\n",
       "      <td>NaN</td>\n",
       "      <td>25-34</td>\n",
       "    </tr>\n",
       "    <tr>\n",
       "      <th>4</th>\n",
       "      <td>25</td>\n",
       "      <td>BUS</td>\n",
       "      <td>NaN</td>\n",
       "      <td>NaN</td>\n",
       "      <td>25-34</td>\n",
       "    </tr>\n",
       "    <tr>\n",
       "      <th>5</th>\n",
       "      <td>25</td>\n",
       "      <td>INF</td>\n",
       "      <td>NaN</td>\n",
       "      <td>NaN</td>\n",
       "      <td>25-34</td>\n",
       "    </tr>\n",
       "    <tr>\n",
       "      <th>6</th>\n",
       "      <td>25</td>\n",
       "      <td>GEN</td>\n",
       "      <td>NaN</td>\n",
       "      <td>NaN</td>\n",
       "      <td>25-34</td>\n",
       "    </tr>\n",
       "    <tr>\n",
       "      <th>7</th>\n",
       "      <td>26</td>\n",
       "      <td>BUS</td>\n",
       "      <td>NaN</td>\n",
       "      <td>NaN</td>\n",
       "      <td>25-34</td>\n",
       "    </tr>\n",
       "    <tr>\n",
       "      <th>8</th>\n",
       "      <td>26</td>\n",
       "      <td>BUS</td>\n",
       "      <td>NaN</td>\n",
       "      <td>NaN</td>\n",
       "      <td>25-34</td>\n",
       "    </tr>\n",
       "    <tr>\n",
       "      <th>9</th>\n",
       "      <td>26</td>\n",
       "      <td>BUS</td>\n",
       "      <td>NaN</td>\n",
       "      <td>NaN</td>\n",
       "      <td>25-34</td>\n",
       "    </tr>\n",
       "    <tr>\n",
       "      <th>10</th>\n",
       "      <td>26</td>\n",
       "      <td>BUS</td>\n",
       "      <td>NaN</td>\n",
       "      <td>NaN</td>\n",
       "      <td>25-34</td>\n",
       "    </tr>\n",
       "    <tr>\n",
       "      <th>11</th>\n",
       "      <td>26</td>\n",
       "      <td>INF</td>\n",
       "      <td>NaN</td>\n",
       "      <td>NaN</td>\n",
       "      <td>25-34</td>\n",
       "    </tr>\n",
       "    <tr>\n",
       "      <th>12</th>\n",
       "      <td>26</td>\n",
       "      <td>INF</td>\n",
       "      <td>NaN</td>\n",
       "      <td>NaN</td>\n",
       "      <td>25-34</td>\n",
       "    </tr>\n",
       "    <tr>\n",
       "      <th>13</th>\n",
       "      <td>26</td>\n",
       "      <td>BUS</td>\n",
       "      <td>NaN</td>\n",
       "      <td>NaN</td>\n",
       "      <td>25-34</td>\n",
       "    </tr>\n",
       "    <tr>\n",
       "      <th>14</th>\n",
       "      <td>26</td>\n",
       "      <td>OTH</td>\n",
       "      <td>NaN</td>\n",
       "      <td>NaN</td>\n",
       "      <td>25-34</td>\n",
       "    </tr>\n",
       "    <tr>\n",
       "      <th>15</th>\n",
       "      <td>27</td>\n",
       "      <td>BUS</td>\n",
       "      <td>NaN</td>\n",
       "      <td>NaN</td>\n",
       "      <td>25-34</td>\n",
       "    </tr>\n",
       "    <tr>\n",
       "      <th>16</th>\n",
       "      <td>27</td>\n",
       "      <td>BUS</td>\n",
       "      <td>NaN</td>\n",
       "      <td>NaN</td>\n",
       "      <td>25-34</td>\n",
       "    </tr>\n",
       "    <tr>\n",
       "      <th>17</th>\n",
       "      <td>27</td>\n",
       "      <td>BUS</td>\n",
       "      <td>NaN</td>\n",
       "      <td>NaN</td>\n",
       "      <td>25-34</td>\n",
       "    </tr>\n",
       "    <tr>\n",
       "      <th>18</th>\n",
       "      <td>27</td>\n",
       "      <td>BUS</td>\n",
       "      <td>NaN</td>\n",
       "      <td>NaN</td>\n",
       "      <td>25-34</td>\n",
       "    </tr>\n",
       "    <tr>\n",
       "      <th>19</th>\n",
       "      <td>27</td>\n",
       "      <td>EDU</td>\n",
       "      <td>NaN</td>\n",
       "      <td>NaN</td>\n",
       "      <td>25-34</td>\n",
       "    </tr>\n",
       "    <tr>\n",
       "      <th>20</th>\n",
       "      <td>27</td>\n",
       "      <td>BUS</td>\n",
       "      <td>NaN</td>\n",
       "      <td>NaN</td>\n",
       "      <td>25-34</td>\n",
       "    </tr>\n",
       "    <tr>\n",
       "      <th>21</th>\n",
       "      <td>27</td>\n",
       "      <td>EDU</td>\n",
       "      <td>NaN</td>\n",
       "      <td>NaN</td>\n",
       "      <td>25-34</td>\n",
       "    </tr>\n",
       "    <tr>\n",
       "      <th>22</th>\n",
       "      <td>28</td>\n",
       "      <td>NAT</td>\n",
       "      <td>NaN</td>\n",
       "      <td>NaN</td>\n",
       "      <td>25-34</td>\n",
       "    </tr>\n",
       "    <tr>\n",
       "      <th>23</th>\n",
       "      <td>28</td>\n",
       "      <td>INF</td>\n",
       "      <td>NaN</td>\n",
       "      <td>NaN</td>\n",
       "      <td>25-34</td>\n",
       "    </tr>\n",
       "    <tr>\n",
       "      <th>24</th>\n",
       "      <td>28</td>\n",
       "      <td>BUS</td>\n",
       "      <td>NaN</td>\n",
       "      <td>NaN</td>\n",
       "      <td>25-34</td>\n",
       "    </tr>\n",
       "    <tr>\n",
       "      <th>25</th>\n",
       "      <td>28</td>\n",
       "      <td>SER</td>\n",
       "      <td>NaN</td>\n",
       "      <td>NaN</td>\n",
       "      <td>25-34</td>\n",
       "    </tr>\n",
       "    <tr>\n",
       "      <th>26</th>\n",
       "      <td>28</td>\n",
       "      <td>ENG</td>\n",
       "      <td>NaN</td>\n",
       "      <td>NaN</td>\n",
       "      <td>25-34</td>\n",
       "    </tr>\n",
       "    <tr>\n",
       "      <th>27</th>\n",
       "      <td>28</td>\n",
       "      <td>BUS</td>\n",
       "      <td>NaN</td>\n",
       "      <td>NaN</td>\n",
       "      <td>25-34</td>\n",
       "    </tr>\n",
       "    <tr>\n",
       "      <th>28</th>\n",
       "      <td>28</td>\n",
       "      <td>NAT</td>\n",
       "      <td>NaN</td>\n",
       "      <td>NaN</td>\n",
       "      <td>25-34</td>\n",
       "    </tr>\n",
       "    <tr>\n",
       "      <th>29</th>\n",
       "      <td>28</td>\n",
       "      <td>EDU</td>\n",
       "      <td>NaN</td>\n",
       "      <td>NaN</td>\n",
       "      <td>25-34</td>\n",
       "    </tr>\n",
       "    <tr>\n",
       "      <th>...</th>\n",
       "      <td>...</td>\n",
       "      <td>...</td>\n",
       "      <td>...</td>\n",
       "      <td>...</td>\n",
       "      <td>...</td>\n",
       "    </tr>\n",
       "    <tr>\n",
       "      <th>303</th>\n",
       "      <td>60</td>\n",
       "      <td>SOC</td>\n",
       "      <td>NaN</td>\n",
       "      <td>NaN</td>\n",
       "      <td>55-64</td>\n",
       "    </tr>\n",
       "    <tr>\n",
       "      <th>304</th>\n",
       "      <td>60</td>\n",
       "      <td>SER</td>\n",
       "      <td>NaN</td>\n",
       "      <td>NaN</td>\n",
       "      <td>55-64</td>\n",
       "    </tr>\n",
       "    <tr>\n",
       "      <th>305</th>\n",
       "      <td>60</td>\n",
       "      <td>HEA</td>\n",
       "      <td>NaN</td>\n",
       "      <td>NaN</td>\n",
       "      <td>55-64</td>\n",
       "    </tr>\n",
       "    <tr>\n",
       "      <th>306</th>\n",
       "      <td>60</td>\n",
       "      <td>OTH</td>\n",
       "      <td>NaN</td>\n",
       "      <td>NaN</td>\n",
       "      <td>55-64</td>\n",
       "    </tr>\n",
       "    <tr>\n",
       "      <th>307</th>\n",
       "      <td>60</td>\n",
       "      <td>HEA</td>\n",
       "      <td>NaN</td>\n",
       "      <td>NaN</td>\n",
       "      <td>55-64</td>\n",
       "    </tr>\n",
       "    <tr>\n",
       "      <th>308</th>\n",
       "      <td>61</td>\n",
       "      <td>EDU</td>\n",
       "      <td>NaN</td>\n",
       "      <td>NaN</td>\n",
       "      <td>55-64</td>\n",
       "    </tr>\n",
       "    <tr>\n",
       "      <th>309</th>\n",
       "      <td>61</td>\n",
       "      <td>EDU</td>\n",
       "      <td>NaN</td>\n",
       "      <td>NaN</td>\n",
       "      <td>55-64</td>\n",
       "    </tr>\n",
       "    <tr>\n",
       "      <th>310</th>\n",
       "      <td>61</td>\n",
       "      <td>BUS</td>\n",
       "      <td>NaN</td>\n",
       "      <td>NaN</td>\n",
       "      <td>55-64</td>\n",
       "    </tr>\n",
       "    <tr>\n",
       "      <th>311</th>\n",
       "      <td>61</td>\n",
       "      <td>ART</td>\n",
       "      <td>NaN</td>\n",
       "      <td>NaN</td>\n",
       "      <td>55-64</td>\n",
       "    </tr>\n",
       "    <tr>\n",
       "      <th>312</th>\n",
       "      <td>61</td>\n",
       "      <td>OTH</td>\n",
       "      <td>NaN</td>\n",
       "      <td>NaN</td>\n",
       "      <td>55-64</td>\n",
       "    </tr>\n",
       "    <tr>\n",
       "      <th>313</th>\n",
       "      <td>61</td>\n",
       "      <td>HEA</td>\n",
       "      <td>NaN</td>\n",
       "      <td>NaN</td>\n",
       "      <td>55-64</td>\n",
       "    </tr>\n",
       "    <tr>\n",
       "      <th>314</th>\n",
       "      <td>62</td>\n",
       "      <td>OTH</td>\n",
       "      <td>NaN</td>\n",
       "      <td>NaN</td>\n",
       "      <td>55-64</td>\n",
       "    </tr>\n",
       "    <tr>\n",
       "      <th>315</th>\n",
       "      <td>62</td>\n",
       "      <td>OTH</td>\n",
       "      <td>NaN</td>\n",
       "      <td>NaN</td>\n",
       "      <td>55-64</td>\n",
       "    </tr>\n",
       "    <tr>\n",
       "      <th>316</th>\n",
       "      <td>62</td>\n",
       "      <td>OTH</td>\n",
       "      <td>NaN</td>\n",
       "      <td>NaN</td>\n",
       "      <td>55-64</td>\n",
       "    </tr>\n",
       "    <tr>\n",
       "      <th>317</th>\n",
       "      <td>62</td>\n",
       "      <td>HEA</td>\n",
       "      <td>NaN</td>\n",
       "      <td>NaN</td>\n",
       "      <td>55-64</td>\n",
       "    </tr>\n",
       "    <tr>\n",
       "      <th>318</th>\n",
       "      <td>62</td>\n",
       "      <td>SOC</td>\n",
       "      <td>NaN</td>\n",
       "      <td>NaN</td>\n",
       "      <td>55-64</td>\n",
       "    </tr>\n",
       "    <tr>\n",
       "      <th>319</th>\n",
       "      <td>62</td>\n",
       "      <td>HEA</td>\n",
       "      <td>NaN</td>\n",
       "      <td>NaN</td>\n",
       "      <td>55-64</td>\n",
       "    </tr>\n",
       "    <tr>\n",
       "      <th>320</th>\n",
       "      <td>63</td>\n",
       "      <td>BUS</td>\n",
       "      <td>NaN</td>\n",
       "      <td>NaN</td>\n",
       "      <td>55-64</td>\n",
       "    </tr>\n",
       "    <tr>\n",
       "      <th>321</th>\n",
       "      <td>63</td>\n",
       "      <td>ART</td>\n",
       "      <td>NaN</td>\n",
       "      <td>NaN</td>\n",
       "      <td>55-64</td>\n",
       "    </tr>\n",
       "    <tr>\n",
       "      <th>322</th>\n",
       "      <td>63</td>\n",
       "      <td>OTH</td>\n",
       "      <td>NaN</td>\n",
       "      <td>NaN</td>\n",
       "      <td>55-64</td>\n",
       "    </tr>\n",
       "    <tr>\n",
       "      <th>323</th>\n",
       "      <td>63</td>\n",
       "      <td>GEN</td>\n",
       "      <td>NaN</td>\n",
       "      <td>NaN</td>\n",
       "      <td>55-64</td>\n",
       "    </tr>\n",
       "    <tr>\n",
       "      <th>324</th>\n",
       "      <td>63</td>\n",
       "      <td>GEN</td>\n",
       "      <td>NaN</td>\n",
       "      <td>NaN</td>\n",
       "      <td>55-64</td>\n",
       "    </tr>\n",
       "    <tr>\n",
       "      <th>325</th>\n",
       "      <td>63</td>\n",
       "      <td>SOC</td>\n",
       "      <td>NaN</td>\n",
       "      <td>NaN</td>\n",
       "      <td>55-64</td>\n",
       "    </tr>\n",
       "    <tr>\n",
       "      <th>326</th>\n",
       "      <td>63</td>\n",
       "      <td>HEA</td>\n",
       "      <td>NaN</td>\n",
       "      <td>NaN</td>\n",
       "      <td>55-64</td>\n",
       "    </tr>\n",
       "    <tr>\n",
       "      <th>327</th>\n",
       "      <td>64</td>\n",
       "      <td>BUS</td>\n",
       "      <td>NaN</td>\n",
       "      <td>NaN</td>\n",
       "      <td>55-64</td>\n",
       "    </tr>\n",
       "    <tr>\n",
       "      <th>328</th>\n",
       "      <td>64</td>\n",
       "      <td>OTH</td>\n",
       "      <td>NaN</td>\n",
       "      <td>NaN</td>\n",
       "      <td>55-64</td>\n",
       "    </tr>\n",
       "    <tr>\n",
       "      <th>329</th>\n",
       "      <td>64</td>\n",
       "      <td>BUS</td>\n",
       "      <td>NaN</td>\n",
       "      <td>NaN</td>\n",
       "      <td>55-64</td>\n",
       "    </tr>\n",
       "    <tr>\n",
       "      <th>330</th>\n",
       "      <td>64</td>\n",
       "      <td>ART</td>\n",
       "      <td>NaN</td>\n",
       "      <td>NaN</td>\n",
       "      <td>55-64</td>\n",
       "    </tr>\n",
       "    <tr>\n",
       "      <th>331</th>\n",
       "      <td>64</td>\n",
       "      <td>OTH</td>\n",
       "      <td>NaN</td>\n",
       "      <td>NaN</td>\n",
       "      <td>55-64</td>\n",
       "    </tr>\n",
       "    <tr>\n",
       "      <th>332</th>\n",
       "      <td>64</td>\n",
       "      <td>HEA</td>\n",
       "      <td>NaN</td>\n",
       "      <td>NaN</td>\n",
       "      <td>55-64</td>\n",
       "    </tr>\n",
       "  </tbody>\n",
       "</table>\n",
       "<p>333 rows × 5 columns</p>\n",
       "</div>"
      ],
      "text/plain": [
       "     Age Field Qual Gender Age_Range\n",
       "0     25   EDU  NaN    NaN     25-34\n",
       "1     25   ART  NaN    NaN     25-34\n",
       "2     25   OTH  NaN    NaN     25-34\n",
       "3     25   BUS  NaN    NaN     25-34\n",
       "4     25   BUS  NaN    NaN     25-34\n",
       "5     25   INF  NaN    NaN     25-34\n",
       "6     25   GEN  NaN    NaN     25-34\n",
       "7     26   BUS  NaN    NaN     25-34\n",
       "8     26   BUS  NaN    NaN     25-34\n",
       "9     26   BUS  NaN    NaN     25-34\n",
       "10    26   BUS  NaN    NaN     25-34\n",
       "11    26   INF  NaN    NaN     25-34\n",
       "12    26   INF  NaN    NaN     25-34\n",
       "13    26   BUS  NaN    NaN     25-34\n",
       "14    26   OTH  NaN    NaN     25-34\n",
       "15    27   BUS  NaN    NaN     25-34\n",
       "16    27   BUS  NaN    NaN     25-34\n",
       "17    27   BUS  NaN    NaN     25-34\n",
       "18    27   BUS  NaN    NaN     25-34\n",
       "19    27   EDU  NaN    NaN     25-34\n",
       "20    27   BUS  NaN    NaN     25-34\n",
       "21    27   EDU  NaN    NaN     25-34\n",
       "22    28   NAT  NaN    NaN     25-34\n",
       "23    28   INF  NaN    NaN     25-34\n",
       "24    28   BUS  NaN    NaN     25-34\n",
       "25    28   SER  NaN    NaN     25-34\n",
       "26    28   ENG  NaN    NaN     25-34\n",
       "27    28   BUS  NaN    NaN     25-34\n",
       "28    28   NAT  NaN    NaN     25-34\n",
       "29    28   EDU  NaN    NaN     25-34\n",
       "..   ...   ...  ...    ...       ...\n",
       "303   60   SOC  NaN    NaN     55-64\n",
       "304   60   SER  NaN    NaN     55-64\n",
       "305   60   HEA  NaN    NaN     55-64\n",
       "306   60   OTH  NaN    NaN     55-64\n",
       "307   60   HEA  NaN    NaN     55-64\n",
       "308   61   EDU  NaN    NaN     55-64\n",
       "309   61   EDU  NaN    NaN     55-64\n",
       "310   61   BUS  NaN    NaN     55-64\n",
       "311   61   ART  NaN    NaN     55-64\n",
       "312   61   OTH  NaN    NaN     55-64\n",
       "313   61   HEA  NaN    NaN     55-64\n",
       "314   62   OTH  NaN    NaN     55-64\n",
       "315   62   OTH  NaN    NaN     55-64\n",
       "316   62   OTH  NaN    NaN     55-64\n",
       "317   62   HEA  NaN    NaN     55-64\n",
       "318   62   SOC  NaN    NaN     55-64\n",
       "319   62   HEA  NaN    NaN     55-64\n",
       "320   63   BUS  NaN    NaN     55-64\n",
       "321   63   ART  NaN    NaN     55-64\n",
       "322   63   OTH  NaN    NaN     55-64\n",
       "323   63   GEN  NaN    NaN     55-64\n",
       "324   63   GEN  NaN    NaN     55-64\n",
       "325   63   SOC  NaN    NaN     55-64\n",
       "326   63   HEA  NaN    NaN     55-64\n",
       "327   64   BUS  NaN    NaN     55-64\n",
       "328   64   OTH  NaN    NaN     55-64\n",
       "329   64   BUS  NaN    NaN     55-64\n",
       "330   64   ART  NaN    NaN     55-64\n",
       "331   64   OTH  NaN    NaN     55-64\n",
       "332   64   HEA  NaN    NaN     55-64\n",
       "\n",
       "[333 rows x 5 columns]"
      ]
     },
     "execution_count": 264,
     "metadata": {},
     "output_type": "execute_result"
    }
   ],
   "source": [
    "df['Field'] = genFieldList\n",
    "df"
   ]
  },
  {
   "cell_type": "markdown",
   "metadata": {},
   "source": [
    "### Qualification Data"
   ]
  },
  {
   "cell_type": "code",
   "execution_count": null,
   "metadata": {},
   "outputs": [],
   "source": [
    "f = pd.read_excel(\"data\\AES2017TBL2a.xlsx\") # Import xlsx file using pandas\n",
    "dfQual = pd.DataFrame(f) # Create a dataframe from the csv data\n",
    "#dfQual"
   ]
  },
  {
   "cell_type": "code",
   "execution_count": null,
   "metadata": {},
   "outputs": [],
   "source": [
    "dfQual.drop(dfQual.loc[11:].index, axis=0, inplace=True)\n",
    "dfQual.drop([0, 2, 3, 6], axis=0, inplace=True)\n",
    "dfQual.drop(dfQual.columns[[0, 6]], axis=1, inplace=True)\n",
    "#dfQual"
   ]
  },
  {
   "cell_type": "code",
   "execution_count": null,
   "metadata": {},
   "outputs": [],
   "source": [
    "dfQual.columns = ['ITEM', 'SEC', 'PLC', '3LO', '3LH']\n",
    "dfQual.drop([1], axis=0, inplace=True)\n",
    "dfQual"
   ]
  },
  {
   "cell_type": "code",
   "execution_count": null,
   "metadata": {},
   "outputs": [],
   "source": [
    "qualList = list(dfQual.columns.values)"
   ]
  },
  {
   "cell_type": "code",
   "execution_count": null,
   "metadata": {},
   "outputs": [],
   "source": [
    "dfQual.replace(to_replace=r'\\[||\\]\\d||\\]', value='', regex=True, inplace=True)\n",
    "dfQual.index  = dfQual['ITEM']\n",
    "dfQual.drop(dfQual.columns[[0]], axis=1, inplace=True)\n",
    "for col in qualList1[1:]:\n",
    "    dfQual[col] = dfQual[col].astype(float)\n",
    "dfQual"
   ]
  },
  {
   "cell_type": "markdown",
   "metadata": {},
   "source": [
    "### Gender Data"
   ]
  },
  {
   "cell_type": "markdown",
   "metadata": {},
   "source": [
    "This will be a categorical variable, either \"F\" or \"M\"."
   ]
  },
  {
   "cell_type": "code",
   "execution_count": null,
   "metadata": {},
   "outputs": [],
   "source": [
    "genders = [\"F\", \"M\"]\n",
    "\n",
    "np.random.choice(genders, size=200)"
   ]
  },
  {
   "cell_type": "markdown",
   "metadata": {},
   "source": [
    "## Results"
   ]
  },
  {
   "cell_type": "markdown",
   "metadata": {},
   "source": []
  }
 ],
 "metadata": {
  "kernelspec": {
   "display_name": "Python 3",
   "language": "python",
   "name": "python3"
  },
  "language_info": {
   "codemirror_mode": {
    "name": "ipython",
    "version": 3
   },
   "file_extension": ".py",
   "mimetype": "text/x-python",
   "name": "python",
   "nbconvert_exporter": "python",
   "pygments_lexer": "ipython3",
   "version": "3.7.3"
  }
 },
 "nbformat": 4,
 "nbformat_minor": 4
}
