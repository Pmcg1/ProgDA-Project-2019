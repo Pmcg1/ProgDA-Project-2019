{
 "cells": [
  {
   "cell_type": "markdown",
   "metadata": {},
   "source": [
    "<img src=\"images/GMIT logo.jpeg\" width=\"350\" align=\"center\">"
   ]
  },
  {
   "cell_type": "markdown",
   "metadata": {},
   "source": [
    "# Programming for Data Analysis Project 2019"
   ]
  },
  {
   "cell_type": "markdown",
   "metadata": {},
   "source": [
    "Peter McGowan\n",
    "G00190832"
   ]
  },
  {
   "cell_type": "markdown",
   "metadata": {},
   "source": [
    "### Tasks:\n",
    "1. Choose a real-world phenomenon that can be measured and for which you could collect at least one-hundred data points across at least four different variables.\n",
    "2. Investigate the types of variables involved, their likely distributions, and their relationships with each other.\n",
    "3. Synthesise/simulate a data set as closely matching their properties as possible.\n",
    "4. Detail your research and implement the simulation in a Jupyter notebook – the data set itself can simply be displayed in an output cell within the notebook."
   ]
  },
  {
   "cell_type": "markdown",
   "metadata": {},
   "source": [
    "## Background"
   ]
  },
  {
   "cell_type": "markdown",
   "metadata": {},
   "source": [
    "I have chosen to simulate data about Adult Education in Ireland. I have chosen the following variables:\n",
    "* Highest Qualification Awarded\n",
    "* Field of Study\n",
    "* Gender\n",
    "* Age"
   ]
  },
  {
   "cell_type": "markdown",
   "metadata": {},
   "source": []
  },
  {
   "cell_type": "markdown",
   "metadata": {},
   "source": [
    "## Research and Investigate"
   ]
  },
  {
   "cell_type": "markdown",
   "metadata": {},
   "source": [
    "### General"
   ]
  },
  {
   "cell_type": "markdown",
   "metadata": {},
   "source": [
    "The Central Statistics Office (CSO) is perhaps best known for carrying out a census every 5 years in Ireland (most recently in 2016). In addition to this, the CSO carries out a range of other important statistical work covering a broad range of themes on a rotational basis."
   ]
  },
  {
   "cell_type": "markdown",
   "metadata": {},
   "source": [
    "The General Household Survey occurs approximately quarterly and the theme varies. In Q3 & Q4 2019 the theme covered was Adult Education. Considering the HDip in Data Analytics and the makeup of its student cohort (myself included), the Adult Education Survey (AES) immediately piqued my interest when I came across it."
   ]
  },
  {
   "cell_type": "markdown",
   "metadata": {},
   "source": [
    "*** links to documents"
   ]
  },
  {
   "cell_type": "markdown",
   "metadata": {},
   "source": [
    "Considering the results of this survey and the characteristics of its variables studied, I will simulate a dataset matching its qualities."
   ]
  },
  {
   "cell_type": "markdown",
   "metadata": {},
   "source": [
    "### Sample Data Characteristics"
   ]
  },
  {
   "cell_type": "markdown",
   "metadata": {},
   "source": [
    "The design sample size for the survey carried out was 13,200. Of this, 4,863 valid responses were collated. I intend to simulate the 334 <i>\"Persons aged 25-64 who participated in formal education, classified by the level of education participation.\"</i>"
   ]
  },
  {
   "cell_type": "markdown",
   "metadata": {},
   "source": [
    "### Level of Education Participation"
   ]
  },
  {
   "cell_type": "markdown",
   "metadata": {},
   "source": [
    "The National Framework of Qualifications (NFQ) outlines a ten level framework for qualifications."
   ]
  },
  {
   "cell_type": "markdown",
   "metadata": {},
   "source": [
    "https://nfq.qqi.ie/"
   ]
  },
  {
   "cell_type": "markdown",
   "metadata": {},
   "source": [
    "NFQ Level:\n",
    "0. No formal education or training\n",
    "1. Primary or below\n",
    "2. Primary or below\n",
    "3. Lower Secondary\n",
    "4. Higher Secondary, Post Leaving Certificate\n",
    "4. Higher Secondary, Post Leaving Certificate\n",
    "6. Post Leaving Certificate, Higher Certificate and Equivalent\n",
    "7. Ordinary Degree or Equivalent\n",
    "8. Honours Bachelor Degree, Graduate Diploma, Higher Diploma\n",
    "9. Masters Degree, Post Graduate Diploma\n",
    "10. Doctoral Degree, Higher Doctorate"
   ]
  },
  {
   "cell_type": "markdown",
   "metadata": {},
   "source": [
    "Unfortunately, the AES aggregates these levels into the following categories for my sample group:\n",
    "* Higher Secondary or Below (14.60%)\n",
    "* Post Leaving Certificate (30.30%)\n",
    "* Third Level Non-Honours Degree (17.60%)\n",
    "* Third Level Honours Degree or Higher (37.50%)\n",
    "\n",
    "Without further information, I will simulate a dataset approximating this range, with 4 categories. I will try and find another way to break this down if I can."
   ]
  },
  {
   "cell_type": "markdown",
   "metadata": {},
   "source": [
    "### Field of Study"
   ]
  },
  {
   "cell_type": "markdown",
   "metadata": {},
   "source": [
    "The AES categories education into 12 different fields:\n",
    "* General Programmes & Qualifications (5.70%)\n",
    "* Education (8.20%)\n",
    "* Arts and Humanities (4.70%)\n",
    "* Social Sciences, Journalism and Information (1.50%)\n",
    "* Business, Administration and Law (27.10%)\n",
    "* Natural Sciences, Mathematics and Statistics (3.70%)\n",
    "* Information and Communication Technologies (6.70%)\n",
    "* Engineering, Manufacturing and Construction (7.10%)\n",
    "* Agriculture, Forestry, Fisheries and Veterinary (2.80%)\n",
    "* Health and Welfare (18.00%)\n",
    "* Services (2.20%)\n",
    "* Other (12.20%)"
   ]
  },
  {
   "cell_type": "markdown",
   "metadata": {},
   "source": [
    "The AES does <u>not</u> tell us if or how the educational category is related to the level of qualification, in other words the variables are independent of each other, however they may both be related to other variables."
   ]
  },
  {
   "cell_type": "markdown",
   "metadata": {},
   "source": [
    "### Gender"
   ]
  },
  {
   "cell_type": "markdown",
   "metadata": {},
   "source": [
    "The gender breakdown of those who participated in an educational activity as given in the AES report is:\n",
    "* Male: 36.53%\n",
    "* Female: 63.47%\n",
    "\n",
    "The survey would indicate that females are almost twice as likely to participate in adult education. The simulated dataset will therefore reflect this."
   ]
  },
  {
   "cell_type": "markdown",
   "metadata": {},
   "source": [
    "Comparing percentages of males vs females participating in each educational field is interesting, with many fields being strongly weighted towards one gender."
   ]
  },
  {
   "cell_type": "markdown",
   "metadata": {},
   "source": [
    "Looking at how gender relates to level of education participation, it is also clear that gender is correlated with field of study. For example, males are actually twice as likely to study at 3rd Level non honours degree than females."
   ]
  },
  {
   "cell_type": "markdown",
   "metadata": {},
   "source": [
    "The gender for each row in the simulated data will therefore have to take into account three things:\n",
    "* Overall gender ratio participating in adult education\n",
    "* Gender ratio for each level of education participation\n",
    "* Gender ratio for each field of study\n",
    "\n",
    "This is beginning to get quite complex."
   ]
  },
  {
   "cell_type": "markdown",
   "metadata": {},
   "source": [
    "### Age"
   ]
  },
  {
   "cell_type": "markdown",
   "metadata": {},
   "source": [
    "The age range covered by the survey was 18-64, however the results are presented only from ages 25-64. This gives me a convenient range for the simulated ages. Results were presented in the following bands:\n",
    "* 25-34 year olds\n",
    "* 35-44 year olds\n",
    "* 45-54 year olds\n",
    "* 55-64 year olds"
   ]
  },
  {
   "cell_type": "markdown",
   "metadata": {},
   "source": [
    "In constructing the dataset it will not be necessary to limit the simulated ages to these bands - I will use the 2016 census data to generate an appropriate distribution."
   ]
  },
  {
   "cell_type": "markdown",
   "metadata": {},
   "source": [
    "Much like the gender variable, age relates to both level of education participation and field of study. Are age and gender also related? The AES doesn't actually tell us this - presumably this is due to the sample size, as this can be ascertained for those participating in non-formal education. The 2016 Census cannot provide any more information here either."
   ]
  },
  {
   "cell_type": "markdown",
   "metadata": {},
   "source": [
    "It would be reasonable to presume that there is a good chance that age and gender are related here but I have no way of directly controlling it - this will have to be simulated indirectly through the other relationships. Age will therefore have to take into account:\n",
    "* Overall age ranges and their likely distributions\n",
    "* Age distribution for each level of education participation\n",
    "* Age distribution for each field of study"
   ]
  },
  {
   "cell_type": "markdown",
   "metadata": {},
   "source": [
    "### Approach"
   ]
  },
  {
   "cell_type": "markdown",
   "metadata": {},
   "source": [
    "The approach to take now bears some serious consideration - considering the indirect relationships that have to be modelled, the order of variables modelled will be critical. I will therefore take the following approach:\n",
    "1. Simulate the ages first - this will require the combination of distributions for each each range given, based on actual age distributions from the 2016 Census;\n",
    "2. Simulate field of study - the relative probability of each field will take into account the age (range) of the simulated person;\n",
    "3. Simulate the level of education participation - the relative probability of each level will take into account the age (range) of the simulated person;\n",
    "4. Simulate the gender - this must take into account both items 2. and 3., as well as the overall gender ratio in the sample."
   ]
  },
  {
   "cell_type": "markdown",
   "metadata": {},
   "source": [
    "## Synthesise"
   ]
  },
  {
   "cell_type": "markdown",
   "metadata": {},
   "source": [
    "### Preliminaries"
   ]
  },
  {
   "cell_type": "markdown",
   "metadata": {},
   "source": [
    "Firstly, import several libraries to manage, simulate and visualise."
   ]
  },
  {
   "cell_type": "code",
   "execution_count": 1,
   "metadata": {},
   "outputs": [],
   "source": [
    "# Import numpy to analyse it\n",
    "# Import matplotlib.pyplot and seaborn for visualisations\n",
    "import pandas as pd\n",
    "import numpy as np\n",
    "import matplotlib.pyplot as plt\n",
    "import seaborn as sns"
   ]
  },
  {
   "cell_type": "code",
   "execution_count": 2,
   "metadata": {},
   "outputs": [],
   "source": [
    "# Magic command to ensure that plots render inline\n",
    "%matplotlib inline"
   ]
  },
  {
   "cell_type": "code",
   "execution_count": 3,
   "metadata": {},
   "outputs": [],
   "source": [
    "# Control Seaborn aesthetics\n",
    "# Use darkplot plot style for contrast\n",
    "sns.set_style(\"darkgrid\")\n",
    "# Set the default colour palette\n",
    "sns.set_palette(\"colorblind\")"
   ]
  },
  {
   "cell_type": "markdown",
   "metadata": {},
   "source": [
    "## Generate Data"
   ]
  },
  {
   "cell_type": "markdown",
   "metadata": {},
   "source": [
    "First we will create an empty pandas dataframe to hold the data."
   ]
  },
  {
   "cell_type": "code",
   "execution_count": 4,
   "metadata": {},
   "outputs": [],
   "source": [
    "df = pd.DataFrame(columns = [\"Age\", \"Field\", \"Qual\", \"Gender\"])"
   ]
  },
  {
   "cell_type": "code",
   "execution_count": 5,
   "metadata": {},
   "outputs": [
    {
     "data": {
      "text/html": [
       "<div>\n",
       "<style scoped>\n",
       "    .dataframe tbody tr th:only-of-type {\n",
       "        vertical-align: middle;\n",
       "    }\n",
       "\n",
       "    .dataframe tbody tr th {\n",
       "        vertical-align: top;\n",
       "    }\n",
       "\n",
       "    .dataframe thead th {\n",
       "        text-align: right;\n",
       "    }\n",
       "</style>\n",
       "<table border=\"1\" class=\"dataframe\">\n",
       "  <thead>\n",
       "    <tr style=\"text-align: right;\">\n",
       "      <th></th>\n",
       "      <th>Age</th>\n",
       "      <th>Field</th>\n",
       "      <th>Qual</th>\n",
       "      <th>Gender</th>\n",
       "    </tr>\n",
       "  </thead>\n",
       "  <tbody>\n",
       "  </tbody>\n",
       "</table>\n",
       "</div>"
      ],
      "text/plain": [
       "Empty DataFrame\n",
       "Columns: [Age, Field, Qual, Gender]\n",
       "Index: []"
      ]
     },
     "execution_count": 5,
     "metadata": {},
     "output_type": "execute_result"
    }
   ],
   "source": [
    "df"
   ]
  },
  {
   "cell_type": "markdown",
   "metadata": {},
   "source": [
    "### Age Data"
   ]
  },
  {
   "cell_type": "markdown",
   "metadata": {},
   "source": [
    "The age distribution should be realistic. We will import data from the Central Statistics Office that describes the ages recorded by the 2016 Census. Although this is a measure of the distribution of ages of the entire population, we will assume that the distribution holds true for our sample set."
   ]
  },
  {
   "cell_type": "markdown",
   "metadata": {},
   "source": [
    "The data has been generated and downloaded as a csv from ############\n",
    "Only ages from 25 to 64 have been considered. We can read in the CSV to a new DataFrame for some basic analysis."
   ]
  },
  {
   "cell_type": "code",
   "execution_count": 6,
   "metadata": {
    "scrolled": true
   },
   "outputs": [
    {
     "data": {
      "text/html": [
       "<div>\n",
       "<style scoped>\n",
       "    .dataframe tbody tr th:only-of-type {\n",
       "        vertical-align: middle;\n",
       "    }\n",
       "\n",
       "    .dataframe tbody tr th {\n",
       "        vertical-align: top;\n",
       "    }\n",
       "\n",
       "    .dataframe thead th {\n",
       "        text-align: right;\n",
       "    }\n",
       "</style>\n",
       "<table border=\"1\" class=\"dataframe\">\n",
       "  <thead>\n",
       "    <tr style=\"text-align: right;\">\n",
       "      <th></th>\n",
       "      <th>Age</th>\n",
       "      <th>Male</th>\n",
       "      <th>Female</th>\n",
       "      <th>Total</th>\n",
       "    </tr>\n",
       "  </thead>\n",
       "  <tbody>\n",
       "    <tr>\n",
       "      <th>count</th>\n",
       "      <td>40.000000</td>\n",
       "      <td>40.000000</td>\n",
       "      <td>40.000000</td>\n",
       "      <td>40.000000</td>\n",
       "    </tr>\n",
       "    <tr>\n",
       "      <th>mean</th>\n",
       "      <td>44.500000</td>\n",
       "      <td>31263.000000</td>\n",
       "      <td>32269.350000</td>\n",
       "      <td>63532.350000</td>\n",
       "    </tr>\n",
       "    <tr>\n",
       "      <th>std</th>\n",
       "      <td>11.690452</td>\n",
       "      <td>4761.638729</td>\n",
       "      <td>5265.152836</td>\n",
       "      <td>9984.039203</td>\n",
       "    </tr>\n",
       "    <tr>\n",
       "      <th>min</th>\n",
       "      <td>25.000000</td>\n",
       "      <td>22402.000000</td>\n",
       "      <td>22642.000000</td>\n",
       "      <td>45044.000000</td>\n",
       "    </tr>\n",
       "    <tr>\n",
       "      <th>25%</th>\n",
       "      <td>34.750000</td>\n",
       "      <td>28163.750000</td>\n",
       "      <td>28551.500000</td>\n",
       "      <td>56858.500000</td>\n",
       "    </tr>\n",
       "    <tr>\n",
       "      <th>50%</th>\n",
       "      <td>44.500000</td>\n",
       "      <td>30787.000000</td>\n",
       "      <td>31522.000000</td>\n",
       "      <td>62390.000000</td>\n",
       "    </tr>\n",
       "    <tr>\n",
       "      <th>75%</th>\n",
       "      <td>54.250000</td>\n",
       "      <td>35342.750000</td>\n",
       "      <td>35973.750000</td>\n",
       "      <td>71409.000000</td>\n",
       "    </tr>\n",
       "    <tr>\n",
       "      <th>max</th>\n",
       "      <td>64.000000</td>\n",
       "      <td>40892.000000</td>\n",
       "      <td>42304.000000</td>\n",
       "      <td>83196.000000</td>\n",
       "    </tr>\n",
       "  </tbody>\n",
       "</table>\n",
       "</div>"
      ],
      "text/plain": [
       "             Age          Male        Female         Total\n",
       "count  40.000000     40.000000     40.000000     40.000000\n",
       "mean   44.500000  31263.000000  32269.350000  63532.350000\n",
       "std    11.690452   4761.638729   5265.152836   9984.039203\n",
       "min    25.000000  22402.000000  22642.000000  45044.000000\n",
       "25%    34.750000  28163.750000  28551.500000  56858.500000\n",
       "50%    44.500000  30787.000000  31522.000000  62390.000000\n",
       "75%    54.250000  35342.750000  35973.750000  71409.000000\n",
       "max    64.000000  40892.000000  42304.000000  83196.000000"
      ]
     },
     "execution_count": 6,
     "metadata": {},
     "output_type": "execute_result"
    }
   ],
   "source": [
    "f = pd.read_csv(\"data\\Population_2016_by_Age_adj.csv\") # Import csv file using pandas\n",
    "dfAge = pd.DataFrame(f) # Create a dataframe from the csv data\n",
    "dfAge.describe()"
   ]
  },
  {
   "cell_type": "markdown",
   "metadata": {},
   "source": [
    "There is a lot of data here - a visualisation would be appropriate. We can generate a \"relplot\" in Seaborn to relate Age to population numbers."
   ]
  },
  {
   "cell_type": "code",
   "execution_count": 7,
   "metadata": {},
   "outputs": [
    {
     "data": {
      "text/plain": [
       "<seaborn.axisgrid.FacetGrid at 0x25e456c2d88>"
      ]
     },
     "execution_count": 7,
     "metadata": {},
     "output_type": "execute_result"
    },
    {
     "data": {
      "image/png": "[encoded data removed]",
      "text/plain": [
       "<Figure size 720x360 with 1 Axes>"
      ]
     },
     "metadata": {},
     "output_type": "display_data"
    }
   ],
   "source": [
    "sns.relplot(x=\"Age\", y=\"Total\", kind=\"line\", data=dfAge, height=5, aspect=2)"
   ]
  },
  {
   "cell_type": "markdown",
   "metadata": {},
   "source": [
    "The age profile rapidly rises from 25 to the mode (somewhere slightly above 35) and then generally reduces more gradually towards 64."
   ]
  },
  {
   "cell_type": "markdown",
   "metadata": {},
   "source": [
    "We will now need to carry out some more complex statistical analysis of the input data. Simply return the mean or standard deviation of the ages will not prove very useful here as they need to be weighted by the population. The statsmodels package has a descriptive statistics with weights module (DescrStatsW) that will be very useful, we can import that first."
   ]
  },
  {
   "cell_type": "code",
   "execution_count": 9,
   "metadata": {},
   "outputs": [],
   "source": [
    "from statsmodels.stats.weightstats import DescrStatsW"
   ]
  },
  {
   "cell_type": "markdown",
   "metadata": {},
   "source": [
    "Now we can use it to generate a weighted age profile from the Age and Total columns."
   ]
  },
  {
   "cell_type": "code",
   "execution_count": 43,
   "metadata": {},
   "outputs": [
    {
     "name": "stdout",
     "output_type": "stream",
     "text": [
      "Weighted mean age: 43.33\n",
      "Weighted standard deviation: 10.97\n"
     ]
    }
   ],
   "source": [
    "wAge = DescrStatsW(dfAge[\"Age\"], weights=dfAge[\"Total\"])\n",
    "print(\"Weighted mean age:\", round(wAge.mean, 2))\n",
    "print(\"Weighted standard deviation:\", round(wAge.std, 2))"
   ]
  },
  {
   "cell_type": "markdown",
   "metadata": {},
   "source": [
    "#########The next step will be to create a new column with the proportion of population for each age."
   ]
  },
  {
   "cell_type": "code",
   "execution_count": 11,
   "metadata": {},
   "outputs": [],
   "source": [
    "# Creating a proportion column\n",
    "#########dfAge[\"Proportion\"] = dfAge[\"Total\"]/dfAge[\"Total\"].sum()"
   ]
  },
  {
   "cell_type": "code",
   "execution_count": 12,
   "metadata": {},
   "outputs": [],
   "source": [
    "##########ageFill = np.random.choice(dfAge[\"Age\"], 334, p=dfAge[\"Proportion\"])"
   ]
  },
  {
   "cell_type": "code",
   "execution_count": 13,
   "metadata": {},
   "outputs": [
    {
     "data": {
      "text/plain": [
       "43.59580838323353"
      ]
     },
     "execution_count": 13,
     "metadata": {},
     "output_type": "execute_result"
    }
   ],
   "source": [
    "########ageFill.mean()"
   ]
  },
  {
   "cell_type": "markdown",
   "metadata": {},
   "source": [
    "The age profile of the population range that we are looking at approximates a triangular distribution - conveniently numpy includes this in the numpy.random module. One key piece of information that we need is the mode of the data. We can import the scipy stats module to extract this from the data."
   ]
  },
  {
   "cell_type": "code",
   "execution_count": 14,
   "metadata": {},
   "outputs": [],
   "source": [
    "from scipy import stats\n",
    "m = stats.mode(ageFill)[0][0]"
   ]
  },
  {
   "cell_type": "code",
   "execution_count": 14,
   "metadata": {},
   "outputs": [],
   "source": [
    "ageTri = np.random.triangular(0, m, 100, 100000)"
   ]
  },
  {
   "cell_type": "code",
   "execution_count": 15,
   "metadata": {
    "scrolled": true
   },
   "outputs": [
    {
     "data": {
      "text/plain": [
       "array([63,  5, 77, ..., 77, 41, 58])"
      ]
     },
     "execution_count": 15,
     "metadata": {},
     "output_type": "execute_result"
    }
   ],
   "source": [
    "np.rint(ageTri)\n",
    "ageTri.astype(int)"
   ]
  },
  {
   "cell_type": "code",
   "execution_count": 16,
   "metadata": {},
   "outputs": [],
   "source": [
    "ageExcl = np.concatenate([np.arange(25), np.arange(65, 100)])"
   ]
  },
  {
   "cell_type": "code",
   "execution_count": 17,
   "metadata": {},
   "outputs": [],
   "source": [
    "ageTri = ageTri[ageTri >= 25]\n",
    "ageTri = ageTri[ageTri < 65]"
   ]
  },
  {
   "cell_type": "code",
   "execution_count": 18,
   "metadata": {},
   "outputs": [
    {
     "data": {
      "text/plain": [
       "array([25.00082423, 25.00112873, 25.0014428 , ..., 64.99868165,\n",
       "       64.99928301, 64.99994635])"
      ]
     },
     "execution_count": 18,
     "metadata": {},
     "output_type": "execute_result"
    }
   ],
   "source": [
    "ageTri = np.sort(ageTri) \n",
    "ageTri"
   ]
  },
  {
   "cell_type": "code",
   "execution_count": 19,
   "metadata": {},
   "outputs": [
    {
     "data": {
      "text/plain": [
       "(61499,)"
      ]
     },
     "execution_count": 19,
     "metadata": {},
     "output_type": "execute_result"
    }
   ],
   "source": [
    "ageTri.shape"
   ]
  },
  {
   "cell_type": "code",
   "execution_count": 20,
   "metadata": {},
   "outputs": [
    {
     "data": {
      "text/plain": [
       "42.79695035723529"
      ]
     },
     "execution_count": 20,
     "metadata": {},
     "output_type": "execute_result"
    }
   ],
   "source": [
    "ageTri.mean()"
   ]
  },
  {
   "cell_type": "code",
   "execution_count": 21,
   "metadata": {},
   "outputs": [
    {
     "data": {
      "text/plain": [
       "<matplotlib.axes._subplots.AxesSubplot at 0x25e5a84a288>"
      ]
     },
     "execution_count": 21,
     "metadata": {},
     "output_type": "execute_result"
    },
    {
     "data": {
      "image/png": "[encoded data removed]",
      "text/plain": [
       "<Figure size 432x288 with 1 Axes>"
      ]
     },
     "metadata": {},
     "output_type": "display_data"
    }
   ],
   "source": [
    "sns.distplot(ageTri, bins = 30)"
   ]
  },
  {
   "cell_type": "code",
   "execution_count": 22,
   "metadata": {},
   "outputs": [
    {
     "name": "stdout",
     "output_type": "stream",
     "text": [
      "185.12874251497007 185\n"
     ]
    }
   ],
   "source": [
    "ssize = 334\n",
    "\n",
    "skip = ageTri.shape[0]/ssize+1\n",
    "\n",
    "skipint = int(round(skip,0))\n",
    "print(skip, skipint)"
   ]
  },
  {
   "cell_type": "code",
   "execution_count": 23,
   "metadata": {
    "scrolled": true
   },
   "outputs": [],
   "source": [
    "arr = np.array([0])\n",
    "skipcurrent = 0.0\n",
    "skiptotal = 0\n",
    "while skiptotal < ageTri.shape[0]:\n",
    "    skipcurrent = skipcurrent + skip\n",
    "    skiptotal = int(round(skipcurrent,0))  \n",
    "    arr = np.append(arr, skiptotal)"
   ]
  },
  {
   "cell_type": "code",
   "execution_count": 24,
   "metadata": {},
   "outputs": [
    {
     "data": {
      "text/plain": [
       "array([    0,   185,   370,   555,   741,   926,  1111,  1296,  1481,\n",
       "        1666,  1851,  2036,  2222,  2407,  2592,  2777,  2962,  3147,\n",
       "        3332,  3517,  3703,  3888,  4073,  4258,  4443,  4628,  4813,\n",
       "        4998,  5184,  5369,  5554,  5739,  5924,  6109,  6294,  6480,\n",
       "        6665,  6850,  7035,  7220,  7405,  7590,  7775,  7961,  8146,\n",
       "        8331,  8516,  8701,  8886,  9071,  9256,  9442,  9627,  9812,\n",
       "        9997, 10182, 10367, 10552, 10737, 10923, 11108, 11293, 11478,\n",
       "       11663, 11848, 12033, 12218, 12404, 12589, 12774, 12959, 13144,\n",
       "       13329, 13514, 13700, 13885, 14070, 14255, 14440, 14625, 14810,\n",
       "       14995, 15181, 15366, 15551, 15736, 15921, 16106, 16291, 16476,\n",
       "       16662, 16847, 17032, 17217, 17402, 17587, 17772, 17957, 18143,\n",
       "       18328, 18513, 18698, 18883, 19068, 19253, 19439, 19624, 19809,\n",
       "       19994, 20179, 20364, 20549, 20734, 20920, 21105, 21290, 21475,\n",
       "       21660, 21845, 22030, 22215, 22401, 22586, 22771, 22956, 23141,\n",
       "       23326, 23511, 23696, 23882, 24067, 24252, 24437, 24622, 24807,\n",
       "       24992, 25178, 25363, 25548, 25733, 25918, 26103, 26288, 26473,\n",
       "       26659, 26844, 27029, 27214, 27399, 27584, 27769, 27954, 28140,\n",
       "       28325, 28510, 28695, 28880, 29065, 29250, 29435, 29621, 29806,\n",
       "       29991, 30176, 30361, 30546, 30731, 30917, 31102, 31287, 31472,\n",
       "       31657, 31842, 32027, 32212, 32398, 32583, 32768, 32953, 33138,\n",
       "       33323, 33508, 33693, 33879, 34064, 34249, 34434, 34619, 34804,\n",
       "       34989, 35174, 35360, 35545, 35730, 35915, 36100, 36285, 36470,\n",
       "       36655, 36841, 37026, 37211, 37396, 37581, 37766, 37951, 38137,\n",
       "       38322, 38507, 38692, 38877, 39062, 39247, 39432, 39618, 39803,\n",
       "       39988, 40173, 40358, 40543, 40728, 40913, 41099, 41284, 41469,\n",
       "       41654, 41839, 42024, 42209, 42394, 42580, 42765, 42950, 43135,\n",
       "       43320, 43505, 43690, 43876, 44061, 44246, 44431, 44616, 44801,\n",
       "       44986, 45171, 45357, 45542, 45727, 45912, 46097, 46282, 46467,\n",
       "       46652, 46838, 47023, 47208, 47393, 47578, 47763, 47948, 48133,\n",
       "       48319, 48504, 48689, 48874, 49059, 49244, 49429, 49615, 49800,\n",
       "       49985, 50170, 50355, 50540, 50725, 50910, 51096, 51281, 51466,\n",
       "       51651, 51836, 52021, 52206, 52391, 52577, 52762, 52947, 53132,\n",
       "       53317, 53502, 53687, 53872, 54058, 54243, 54428, 54613, 54798,\n",
       "       54983, 55168, 55353, 55539, 55724, 55909, 56094, 56279, 56464,\n",
       "       56649, 56835, 57020, 57205, 57390, 57575, 57760, 57945, 58130,\n",
       "       58316, 58501, 58686, 58871, 59056, 59241, 59426, 59611, 59797,\n",
       "       59982, 60167, 60352, 60537, 60722, 60907, 61092, 61278, 61463,\n",
       "       61648])"
      ]
     },
     "execution_count": 24,
     "metadata": {},
     "output_type": "execute_result"
    }
   ],
   "source": [
    "arr"
   ]
  },
  {
   "cell_type": "code",
   "execution_count": 25,
   "metadata": {},
   "outputs": [
    {
     "data": {
      "text/plain": [
       "(334,)"
      ]
     },
     "execution_count": 25,
     "metadata": {},
     "output_type": "execute_result"
    }
   ],
   "source": [
    "arr.shape"
   ]
  },
  {
   "cell_type": "code",
   "execution_count": 26,
   "metadata": {},
   "outputs": [
    {
     "data": {
      "text/plain": [
       "array([], dtype=float64)"
      ]
     },
     "execution_count": 26,
     "metadata": {},
     "output_type": "execute_result"
    }
   ],
   "source": [
    "ageTriSub = np.array([])\n",
    "ageTriSub"
   ]
  },
  {
   "cell_type": "code",
   "execution_count": 27,
   "metadata": {},
   "outputs": [
    {
     "data": {
      "text/plain": [
       "61498"
      ]
     },
     "execution_count": 27,
     "metadata": {},
     "output_type": "execute_result"
    }
   ],
   "source": [
    "np.argmax(ageTri)"
   ]
  },
  {
   "cell_type": "code",
   "execution_count": 28,
   "metadata": {},
   "outputs": [],
   "source": [
    "for i in arr:\n",
    "    if i <= np.argmax(ageTri):\n",
    "        ageTriSub = np.append(ageTriSub, ageTri[i])"
   ]
  },
  {
   "cell_type": "code",
   "execution_count": 29,
   "metadata": {
    "scrolled": true
   },
   "outputs": [
    {
     "data": {
      "text/plain": [
       "array([25.00082423, 25.11073549, 25.22973418, 25.34525694, 25.46461103,\n",
       "       25.56664446, 25.68340747, 25.78087454, 25.88825367, 25.98655084,\n",
       "       26.10602962, 26.21076361, 26.32820971, 26.43311482, 26.53657626,\n",
       "       26.6458772 , 26.74021856, 26.84340154, 26.9504252 , 27.04854577,\n",
       "       27.15255549, 27.24894074, 27.33644318, 27.43016303, 27.53970317,\n",
       "       27.63561044, 27.72986373, 27.82421239, 27.91059649, 27.99552713,\n",
       "       28.09145315, 28.18532725, 28.28068335, 28.36561373, 28.4492038 ,\n",
       "       28.55090447, 28.64693075, 28.73754882, 28.82849357, 28.91657384,\n",
       "       29.01521703, 29.09915145, 29.19538017, 29.29727805, 29.39824529,\n",
       "       29.48566191, 29.58763219, 29.67836426, 29.76952045, 29.85795848,\n",
       "       29.94665057, 30.0439374 , 30.12381387, 30.2119965 , 30.29930523,\n",
       "       30.38036455, 30.46367444, 30.55660965, 30.65472552, 30.75051321,\n",
       "       30.84647297, 30.94289216, 31.03398467, 31.12687776, 31.22153772,\n",
       "       31.31643294, 31.41088407, 31.50127952, 31.60935545, 31.70778399,\n",
       "       31.80571902, 31.89469516, 31.99191398, 32.09645372, 32.19504366,\n",
       "       32.28927339, 32.38454572, 32.48250974, 32.57601359, 32.66719   ,\n",
       "       32.76554127, 32.85647621, 32.95235565, 33.05676565, 33.16007093,\n",
       "       33.26637661, 33.36829697, 33.46857577, 33.56408883, 33.66830112,\n",
       "       33.76092141, 33.86753076, 33.96794164, 34.06904973, 34.17003441,\n",
       "       34.26667312, 34.36972479, 34.46405353, 34.57311403, 34.67335257,\n",
       "       34.7738707 , 34.87643825, 34.96254897, 35.08009823, 35.1804082 ,\n",
       "       35.27531628, 35.38005407, 35.47493208, 35.57514931, 35.68301538,\n",
       "       35.7876625 , 35.89518667, 35.9855777 , 36.09162521, 36.19452363,\n",
       "       36.2875279 , 36.38652491, 36.48371545, 36.59049226, 36.69071901,\n",
       "       36.79548768, 36.89868081, 36.99160188, 37.09004135, 37.19263079,\n",
       "       37.31008105, 37.41562659, 37.51184131, 37.60744111, 37.7116123 ,\n",
       "       37.81397886, 37.92011036, 38.02673296, 38.13458616, 38.23869106,\n",
       "       38.34744229, 38.45570225, 38.55166575, 38.66501787, 38.75881208,\n",
       "       38.86479266, 38.97148758, 39.08118298, 39.17878387, 39.28376278,\n",
       "       39.39109173, 39.49779981, 39.61445988, 39.72081828, 39.84420006,\n",
       "       39.95184946, 40.06166892, 40.16344977, 40.28263693, 40.40194835,\n",
       "       40.50668115, 40.60893921, 40.73171944, 40.84555447, 40.95724316,\n",
       "       41.06373766, 41.17286384, 41.29522508, 41.40484825, 41.52131783,\n",
       "       41.63661342, 41.74852883, 41.85091589, 41.96518719, 42.07775764,\n",
       "       42.17778861, 42.29410925, 42.41860558, 42.51634771, 42.60831999,\n",
       "       42.72659442, 42.8286372 , 42.95148905, 43.07080046, 43.18699439,\n",
       "       43.3032151 , 43.4082741 , 43.51031404, 43.6235465 , 43.74325037,\n",
       "       43.86213837, 43.97586119, 44.09188376, 44.21530662, 44.32834524,\n",
       "       44.45793636, 44.56482323, 44.6833437 , 44.79188867, 44.91671589,\n",
       "       45.04215102, 45.16614245, 45.2878532 , 45.40937214, 45.53155575,\n",
       "       45.66327496, 45.77396007, 45.87459623, 45.99851897, 46.1262185 ,\n",
       "       46.2650964 , 46.38659951, 46.5089743 , 46.62931224, 46.76000241,\n",
       "       46.88843782, 47.01811572, 47.13098348, 47.25554662, 47.38489131,\n",
       "       47.49939157, 47.63714779, 47.76461942, 47.8785053 , 48.00188949,\n",
       "       48.11197238, 48.22739351, 48.35731923, 48.48548734, 48.60848445,\n",
       "       48.73764298, 48.86810111, 48.9874145 , 49.1175845 , 49.25275394,\n",
       "       49.40327953, 49.5058003 , 49.64421874, 49.77256742, 49.90820935,\n",
       "       50.05054126, 50.16746595, 50.29684454, 50.41656451, 50.54199816,\n",
       "       50.67992723, 50.79002133, 50.92286255, 51.06285567, 51.2031583 ,\n",
       "       51.34668602, 51.47905786, 51.60795507, 51.75595438, 51.88306164,\n",
       "       52.02240375, 52.16468906, 52.30897459, 52.44932523, 52.59309416,\n",
       "       52.72047256, 52.85551739, 52.97599843, 53.11850844, 53.2625181 ,\n",
       "       53.43463938, 53.58785927, 53.72056467, 53.84704011, 53.98574266,\n",
       "       54.13315042, 54.27183051, 54.41297943, 54.56539284, 54.70097803,\n",
       "       54.83110127, 54.97843368, 55.12275516, 55.27015651, 55.4119882 ,\n",
       "       55.54474401, 55.71033932, 55.87326965, 56.01573746, 56.16088396,\n",
       "       56.28927256, 56.45860897, 56.60826904, 56.74687434, 56.89611277,\n",
       "       57.04371994, 57.21358257, 57.35224008, 57.5107481 , 57.6746973 ,\n",
       "       57.80925563, 57.94470774, 58.09278495, 58.2370493 , 58.41678836,\n",
       "       58.57050385, 58.74016677, 58.90869838, 59.06088739, 59.23156037,\n",
       "       59.40320183, 59.57101753, 59.75126541, 59.92309926, 60.07972281,\n",
       "       60.22541607, 60.35945744, 60.51559279, 60.70313601, 60.87403355,\n",
       "       61.03139929, 61.19467326, 61.37102328, 61.55069035, 61.7178728 ,\n",
       "       61.90393802, 62.09137476, 62.25880784, 62.40087157, 62.57242963,\n",
       "       62.74739142, 62.93391574, 63.09167927, 63.25866403, 63.45176257,\n",
       "       63.63966727, 63.82277157, 63.99561917, 64.19176945, 64.38727878,\n",
       "       64.58024274, 64.77102121, 64.97176939])"
      ]
     },
     "execution_count": 29,
     "metadata": {},
     "output_type": "execute_result"
    }
   ],
   "source": [
    "ageTriSub"
   ]
  },
  {
   "cell_type": "code",
   "execution_count": 30,
   "metadata": {},
   "outputs": [
    {
     "data": {
      "text/plain": [
       "<matplotlib.axes._subplots.AxesSubplot at 0x25e5aae1288>"
      ]
     },
     "execution_count": 30,
     "metadata": {},
     "output_type": "execute_result"
    },
    {
     "data": {
      "image/png": "[encoded data removed]",
      "text/plain": [
       "<Figure size 432x288 with 1 Axes>"
      ]
     },
     "metadata": {},
     "output_type": "display_data"
    }
   ],
   "source": [
    "sns.distplot(ageTriSub)"
   ]
  },
  {
   "cell_type": "code",
   "execution_count": 31,
   "metadata": {},
   "outputs": [
    {
     "name": "stdout",
     "output_type": "stream",
     "text": [
      "Full dataset mean: 42.79695035723529\n",
      "Full dataset stdev: 11.179836461958438\n",
      "\n",
      "Sub dataset mean: 42.79070813334409\n",
      "Sub dataset stdev: 11.207934394583052\n"
     ]
    }
   ],
   "source": [
    "print(\"Full dataset mean:\", ageTri.mean())\n",
    "print(\"Full dataset stdev:\", ageTri.std())\n",
    "\n",
    "print(\"\\nSub dataset mean:\",ageTriSub.mean())\n",
    "print(\"Sub dataset stdev:\", ageTriSub.std())"
   ]
  },
  {
   "cell_type": "code",
   "execution_count": 32,
   "metadata": {},
   "outputs": [],
   "source": [
    "df['Age'] = ageTriSub"
   ]
  },
  {
   "cell_type": "code",
   "execution_count": 33,
   "metadata": {},
   "outputs": [
    {
     "data": {
      "text/html": [
       "<div>\n",
       "<style scoped>\n",
       "    .dataframe tbody tr th:only-of-type {\n",
       "        vertical-align: middle;\n",
       "    }\n",
       "\n",
       "    .dataframe tbody tr th {\n",
       "        vertical-align: top;\n",
       "    }\n",
       "\n",
       "    .dataframe thead th {\n",
       "        text-align: right;\n",
       "    }\n",
       "</style>\n",
       "<table border=\"1\" class=\"dataframe\">\n",
       "  <thead>\n",
       "    <tr style=\"text-align: right;\">\n",
       "      <th></th>\n",
       "      <th>Age</th>\n",
       "      <th>Field</th>\n",
       "      <th>Qual</th>\n",
       "      <th>Gender</th>\n",
       "    </tr>\n",
       "  </thead>\n",
       "  <tbody>\n",
       "    <tr>\n",
       "      <th>0</th>\n",
       "      <td>25.000824</td>\n",
       "      <td>NaN</td>\n",
       "      <td>NaN</td>\n",
       "      <td>NaN</td>\n",
       "    </tr>\n",
       "    <tr>\n",
       "      <th>1</th>\n",
       "      <td>25.110735</td>\n",
       "      <td>NaN</td>\n",
       "      <td>NaN</td>\n",
       "      <td>NaN</td>\n",
       "    </tr>\n",
       "    <tr>\n",
       "      <th>2</th>\n",
       "      <td>25.229734</td>\n",
       "      <td>NaN</td>\n",
       "      <td>NaN</td>\n",
       "      <td>NaN</td>\n",
       "    </tr>\n",
       "    <tr>\n",
       "      <th>3</th>\n",
       "      <td>25.345257</td>\n",
       "      <td>NaN</td>\n",
       "      <td>NaN</td>\n",
       "      <td>NaN</td>\n",
       "    </tr>\n",
       "    <tr>\n",
       "      <th>4</th>\n",
       "      <td>25.464611</td>\n",
       "      <td>NaN</td>\n",
       "      <td>NaN</td>\n",
       "      <td>NaN</td>\n",
       "    </tr>\n",
       "    <tr>\n",
       "      <th>...</th>\n",
       "      <td>...</td>\n",
       "      <td>...</td>\n",
       "      <td>...</td>\n",
       "      <td>...</td>\n",
       "    </tr>\n",
       "    <tr>\n",
       "      <th>328</th>\n",
       "      <td>64.191769</td>\n",
       "      <td>NaN</td>\n",
       "      <td>NaN</td>\n",
       "      <td>NaN</td>\n",
       "    </tr>\n",
       "    <tr>\n",
       "      <th>329</th>\n",
       "      <td>64.387279</td>\n",
       "      <td>NaN</td>\n",
       "      <td>NaN</td>\n",
       "      <td>NaN</td>\n",
       "    </tr>\n",
       "    <tr>\n",
       "      <th>330</th>\n",
       "      <td>64.580243</td>\n",
       "      <td>NaN</td>\n",
       "      <td>NaN</td>\n",
       "      <td>NaN</td>\n",
       "    </tr>\n",
       "    <tr>\n",
       "      <th>331</th>\n",
       "      <td>64.771021</td>\n",
       "      <td>NaN</td>\n",
       "      <td>NaN</td>\n",
       "      <td>NaN</td>\n",
       "    </tr>\n",
       "    <tr>\n",
       "      <th>332</th>\n",
       "      <td>64.971769</td>\n",
       "      <td>NaN</td>\n",
       "      <td>NaN</td>\n",
       "      <td>NaN</td>\n",
       "    </tr>\n",
       "  </tbody>\n",
       "</table>\n",
       "<p>333 rows × 4 columns</p>\n",
       "</div>"
      ],
      "text/plain": [
       "           Age Field Qual Gender\n",
       "0    25.000824   NaN  NaN    NaN\n",
       "1    25.110735   NaN  NaN    NaN\n",
       "2    25.229734   NaN  NaN    NaN\n",
       "3    25.345257   NaN  NaN    NaN\n",
       "4    25.464611   NaN  NaN    NaN\n",
       "..         ...   ...  ...    ...\n",
       "328  64.191769   NaN  NaN    NaN\n",
       "329  64.387279   NaN  NaN    NaN\n",
       "330  64.580243   NaN  NaN    NaN\n",
       "331  64.771021   NaN  NaN    NaN\n",
       "332  64.971769   NaN  NaN    NaN\n",
       "\n",
       "[333 rows x 4 columns]"
      ]
     },
     "execution_count": 33,
     "metadata": {},
     "output_type": "execute_result"
    }
   ],
   "source": [
    "df"
   ]
  },
  {
   "cell_type": "markdown",
   "metadata": {},
   "source": [
    "### Field of Study Data"
   ]
  },
  {
   "cell_type": "code",
   "execution_count": null,
   "metadata": {},
   "outputs": [],
   "source": []
  },
  {
   "cell_type": "markdown",
   "metadata": {},
   "source": [
    "### Qualification Data"
   ]
  },
  {
   "cell_type": "markdown",
   "metadata": {},
   "source": [
    "### Gender Data"
   ]
  },
  {
   "cell_type": "markdown",
   "metadata": {},
   "source": [
    "This will be a categorical variable, either \"F\" or \"M\"."
   ]
  },
  {
   "cell_type": "code",
   "execution_count": 34,
   "metadata": {},
   "outputs": [
    {
     "data": {
      "text/plain": [
       "array(['F', 'M', 'M', 'F', 'M', 'M', 'M', 'F', 'F', 'M', 'M', 'F', 'F',\n",
       "       'F', 'F', 'M', 'F', 'M', 'F', 'M', 'M', 'F', 'M', 'M', 'M', 'M',\n",
       "       'F', 'M', 'F', 'F', 'M', 'M', 'M', 'F', 'M', 'F', 'F', 'M', 'F',\n",
       "       'F', 'M', 'M', 'M', 'F', 'M', 'F', 'M', 'M', 'M', 'M', 'F', 'F',\n",
       "       'M', 'M', 'F', 'M', 'F', 'M', 'F', 'F', 'M', 'F', 'M', 'M', 'F',\n",
       "       'F', 'M', 'M', 'M', 'F', 'M', 'F', 'F', 'F', 'M', 'M', 'F', 'F',\n",
       "       'F', 'M', 'M', 'M', 'M', 'M', 'F', 'M', 'F', 'F', 'F', 'F', 'M',\n",
       "       'F', 'F', 'M', 'M', 'M', 'M', 'M', 'F', 'F', 'M', 'M', 'M', 'F',\n",
       "       'M', 'M', 'M', 'F', 'F', 'M', 'F', 'M', 'M', 'F', 'F', 'M', 'F',\n",
       "       'M', 'F', 'M', 'F', 'F', 'F', 'F', 'F', 'M', 'F', 'F', 'F', 'M',\n",
       "       'F', 'F', 'M', 'M', 'M', 'F', 'M', 'M', 'F', 'F', 'M', 'F', 'M',\n",
       "       'F', 'F', 'M', 'M', 'M', 'F', 'F', 'F', 'M', 'M', 'M', 'M', 'F',\n",
       "       'F', 'F', 'M', 'M', 'M', 'F', 'F', 'F', 'M', 'F', 'M', 'M', 'M',\n",
       "       'M', 'M', 'M', 'M', 'M', 'M', 'F', 'F', 'M', 'M', 'F', 'F', 'F',\n",
       "       'M', 'M', 'M', 'F', 'M', 'M', 'F', 'M', 'F', 'F', 'M', 'F', 'M',\n",
       "       'F', 'F', 'M', 'M', 'F'], dtype='<U1')"
      ]
     },
     "execution_count": 34,
     "metadata": {},
     "output_type": "execute_result"
    }
   ],
   "source": [
    "genders = [\"F\", \"M\"]\n",
    "\n",
    "np.random.choice(genders, size=200)"
   ]
  },
  {
   "cell_type": "markdown",
   "metadata": {},
   "source": [
    "## Results"
   ]
  },
  {
   "cell_type": "markdown",
   "metadata": {},
   "source": []
  }
 ],
 "metadata": {
  "kernelspec": {
   "display_name": "Python 3",
   "language": "python",
   "name": "python3"
  },
  "language_info": {
   "codemirror_mode": {
    "name": "ipython",
    "version": 3
   },
   "file_extension": ".py",
   "mimetype": "text/x-python",
   "name": "python",
   "nbconvert_exporter": "python",
   "pygments_lexer": "ipython3",
   "version": "3.7.5"
  }
 },
 "nbformat": 4,
 "nbformat_minor": 4
}
