{
 "cells": [
  {
   "cell_type": "markdown",
   "metadata": {},
   "source": [
    "<img src=\"images/GMIT logo.jpeg\" width=\"350\" align=\"center\">"
   ]
  },
  {
   "cell_type": "markdown",
   "metadata": {},
   "source": [
    "# Programming for Data Analysis Project 2019"
   ]
  },
  {
   "cell_type": "markdown",
   "metadata": {},
   "source": [
    "Peter McGowan\n",
    "G00190832"
   ]
  },
  {
   "cell_type": "markdown",
   "metadata": {},
   "source": [
    "### Tasks:\n",
    "1. Choose a real-world phenomenon that can be measured and for which you could collect at least one-hundred data points across at least four different variables.\n",
    "2. Investigate the types of variables involved, their likely distributions, and their relationships with each other.\n",
    "3. Synthesise/simulate a data set as closely matching their properties as possible.\n",
    "4. Detail your research and implement the simulation in a Jupyter notebook – the data set itself can simply be displayed in an output cell within the notebook."
   ]
  },
  {
   "cell_type": "markdown",
   "metadata": {},
   "source": [
    "## Background"
   ]
  },
  {
   "cell_type": "markdown",
   "metadata": {},
   "source": [
    "I have chosen to simulate data about Adult Education in Ireland. I have chosen the following variables:\n",
    "* Highest Qualification Awarded\n",
    "* Field of Study\n",
    "* Gender\n",
    "* Age"
   ]
  },
  {
   "cell_type": "markdown",
   "metadata": {},
   "source": []
  },
  {
   "cell_type": "markdown",
   "metadata": {},
   "source": [
    "## Research and Investigate"
   ]
  },
  {
   "cell_type": "markdown",
   "metadata": {},
   "source": [
    "### General"
   ]
  },
  {
   "cell_type": "markdown",
   "metadata": {},
   "source": [
    "The Central Statistics Office (CSO) is perhaps best known for carrying out a census every 5 years in Ireland (most recently in 2016). In addition to this, the CSO carries out a range of other important statistical work covering a broad range of themes on a rotational basis."
   ]
  },
  {
   "cell_type": "markdown",
   "metadata": {},
   "source": [
    "The General Household Survey occurs approximately quarterly and the theme varies. In Q3 & Q4 2019 the theme covered was Adult Education. Considering the HDip in Data Analytics and the makeup of its student cohort (myself included), the Adult Education Survey (AES) immediately piqued my interest when I came across it."
   ]
  },
  {
   "cell_type": "markdown",
   "metadata": {},
   "source": [
    "*** links to documents"
   ]
  },
  {
   "cell_type": "markdown",
   "metadata": {},
   "source": [
    "Considering the results of this survey and the characteristics of its variables studied, I will simulate a dataset matching its qualities."
   ]
  },
  {
   "cell_type": "markdown",
   "metadata": {},
   "source": [
    "### Sample Data Characteristics"
   ]
  },
  {
   "cell_type": "markdown",
   "metadata": {},
   "source": [
    "The design sample size for the survey carried out was 13,200. Of this, 4,863 valid responses were collated. I intend to simulate the 334 <i>\"Persons aged 25-64 who participated in formal education, classified by the level of education participation.\"</i>"
   ]
  },
  {
   "cell_type": "markdown",
   "metadata": {},
   "source": [
    "### Level of Education Participation"
   ]
  },
  {
   "cell_type": "markdown",
   "metadata": {},
   "source": [
    "The National Framework of Qualifications (NFQ) outlines a ten level framework for qualifications."
   ]
  },
  {
   "cell_type": "markdown",
   "metadata": {},
   "source": [
    "https://nfq.qqi.ie/"
   ]
  },
  {
   "cell_type": "markdown",
   "metadata": {},
   "source": [
    "NFQ Level:\n",
    "0. No formal education or training\n",
    "1. Primary or below\n",
    "2. Primary or below\n",
    "3. Lower Secondary\n",
    "4. Higher Secondary, Post Leaving Certificate\n",
    "4. Higher Secondary, Post Leaving Certificate\n",
    "6. Post Leaving Certificate, Higher Certificate and Equivalent\n",
    "7. Ordinary Degree or Equivalent\n",
    "8. Honours Bachelor Degree, Graduate Diploma, Higher Diploma\n",
    "9. Masters Degree, Post Graduate Diploma\n",
    "10. Doctoral Degree, Higher Doctorate"
   ]
  },
  {
   "cell_type": "markdown",
   "metadata": {},
   "source": [
    "Unfortunately, the AES aggregates these levels into the following categories for my sample group:\n",
    "* Higher Secondary or Below (14.60%)\n",
    "* Post Leaving Certificate (30.30%)\n",
    "* Third Level Non-Honours Degree (17.60%)\n",
    "* Third Level Honours Degree or Higher (37.50%)\n",
    "\n",
    "Without further information, I will simulate a dataset approximating this range, with 4 categories. I will try and find another way to break this down if I can."
   ]
  },
  {
   "cell_type": "markdown",
   "metadata": {},
   "source": [
    "### Field of Study"
   ]
  },
  {
   "cell_type": "markdown",
   "metadata": {},
   "source": [
    "The AES categories education into 12 different fields:\n",
    "* General Programmes & Qualifications (5.70%)\n",
    "* Education (8.20%)\n",
    "* Arts and Humanities (4.70%)\n",
    "* Social Sciences, Journalism and Information (1.50%)\n",
    "* Business, Administration and Law (27.10%)\n",
    "* Natural Sciences, Mathematics and Statistics (3.70%)\n",
    "* Information and Communication Technologies (6.70%)\n",
    "* Engineering, Manufacturing and Construction (7.10%)\n",
    "* Agriculture, Forestry, Fisheries and Veterinary (2.80%)\n",
    "* Health and Welfare (18.00%)\n",
    "* Services (2.20%)\n",
    "* Other (12.20%)"
   ]
  },
  {
   "cell_type": "markdown",
   "metadata": {},
   "source": [
    "The AES does <u>not</u> tell us if or how the educational category is related to the level of qualification, in other words the variables are independent of each other, however they may both be related to other variables."
   ]
  },
  {
   "cell_type": "markdown",
   "metadata": {},
   "source": [
    "### Gender"
   ]
  },
  {
   "cell_type": "markdown",
   "metadata": {},
   "source": [
    "The gender breakdown of those who participated in an educational activity as given in the AES report is:\n",
    "* Male: 36.53%\n",
    "* Female: 63.47%\n",
    "\n",
    "The survey would indicate that females are almost twice as likely to participate in adult education. The simulated dataset will therefore reflect this."
   ]
  },
  {
   "cell_type": "markdown",
   "metadata": {},
   "source": [
    "Comparing percentages of males vs females participating in each educational field is interesting, with many fields being strongly weighted towards one gender."
   ]
  },
  {
   "cell_type": "markdown",
   "metadata": {},
   "source": [
    "Looking at how gender relates to level of education participation, it is also clear that gender is correlated with field of study. For example, males are actually twice as likely to study at 3rd Level non honours degree than females."
   ]
  },
  {
   "cell_type": "markdown",
   "metadata": {},
   "source": [
    "The gender for each row in the simulated data will therefore have to take into account three things:\n",
    "* Overall gender ratio participating in adult education\n",
    "* Gender ratio for each level of education participation\n",
    "* Gender ratio for each field of study\n",
    "\n",
    "This is beginning to get quite complex."
   ]
  },
  {
   "cell_type": "markdown",
   "metadata": {},
   "source": [
    "### Age"
   ]
  },
  {
   "cell_type": "markdown",
   "metadata": {},
   "source": [
    "The age range covered by the survey was 18-64, however the results are presented only from ages 25-64. This gives me a convenient range for the simulated ages. Results were presented in the following bands:\n",
    "* 25-34 year olds\n",
    "* 35-44 year olds\n",
    "* 45-54 year olds\n",
    "* 55-64 year olds"
   ]
  },
  {
   "cell_type": "markdown",
   "metadata": {},
   "source": [
    "In constructing the dataset it will not be necessary to limit the simulated ages to these bands - I will use the 2016 census data to generate an appropriate distribution."
   ]
  },
  {
   "cell_type": "markdown",
   "metadata": {},
   "source": [
    "Much like the gender variable, age relates to both level of education participation and field of study. Are age and gender also related? The AES doesn't actually tell us this - presumably this is due to the sample size, as this can be ascertained for those participating in non-formal education. The 2016 Census cannot provide any more information here either."
   ]
  },
  {
   "cell_type": "markdown",
   "metadata": {},
   "source": [
    "It would be reasonable to presume that there is a good chance that age and gender are related here but I have no way of directly controlling it - this will have to be simulated indirectly through the other relationships. Age will therefore have to take into account:\n",
    "* Overall age ranges and their likely distributions\n",
    "* Age distribution for each level of education participation\n",
    "* Age distribution for each field of study"
   ]
  },
  {
   "cell_type": "markdown",
   "metadata": {},
   "source": [
    "### Approach"
   ]
  },
  {
   "cell_type": "markdown",
   "metadata": {},
   "source": [
    "The approach to take now bears some serious consideration - considering the indirect relationships that have to be modelled, the order of variables modelled will be critical. I will therefore take the following approach:\n",
    "1. Simulate the ages first - this will require the combination of distributions for each each range given, based on actual age distributions from the 2016 Census;\n",
    "2. Simulate field of study - the relative probability of each field will take into account the age (range) of the simulated person;\n",
    "3. Simulate the level of education participation - the relative probability of each level will take into account the age (range) of the simulated person;\n",
    "4. Simulate the gender - this must take into account both items 2. and 3., as well as the overall gender ratio in the sample."
   ]
  },
  {
   "cell_type": "markdown",
   "metadata": {},
   "source": [
    "## Synthesise"
   ]
  },
  {
   "cell_type": "markdown",
   "metadata": {},
   "source": [
    "### Preliminaries"
   ]
  },
  {
   "cell_type": "markdown",
   "metadata": {},
   "source": [
    "Firstly, import several libraries to manage, simulate and visualise."
   ]
  },
  {
   "cell_type": "code",
   "execution_count": 1,
   "metadata": {},
   "outputs": [],
   "source": [
    "# Import numpy to analyse it\n",
    "# Import matplotlib.pyplot and seaborn for visualisations\n",
    "import pandas as pd\n",
    "import numpy as np\n",
    "import matplotlib.pyplot as plt\n",
    "import seaborn as sns"
   ]
  },
  {
   "cell_type": "code",
   "execution_count": 2,
   "metadata": {},
   "outputs": [],
   "source": [
    "# Magic command to ensure that plots render inline\n",
    "%matplotlib inline"
   ]
  },
  {
   "cell_type": "code",
   "execution_count": 3,
   "metadata": {},
   "outputs": [],
   "source": [
    "# Control Seaborn aesthetics\n",
    "# Use darkplot plot style for contrast\n",
    "sns.set_style(\"darkgrid\")\n",
    "# Set the default colour palette\n",
    "sns.set_palette(\"colorblind\")"
   ]
  },
  {
   "cell_type": "markdown",
   "metadata": {},
   "source": [
    "## Generate Data"
   ]
  },
  {
   "cell_type": "markdown",
   "metadata": {},
   "source": [
    "First we will create an empty pandas dataframe to hold the data."
   ]
  },
  {
   "cell_type": "code",
   "execution_count": 4,
   "metadata": {},
   "outputs": [],
   "source": [
    "df = pd.DataFrame(columns = [\"Age\", \"Field\", \"Qual\", \"Gender\"])"
   ]
  },
  {
   "cell_type": "code",
   "execution_count": 5,
   "metadata": {},
   "outputs": [
    {
     "data": {
      "text/html": [
       "<div>\n",
       "<style scoped>\n",
       "    .dataframe tbody tr th:only-of-type {\n",
       "        vertical-align: middle;\n",
       "    }\n",
       "\n",
       "    .dataframe tbody tr th {\n",
       "        vertical-align: top;\n",
       "    }\n",
       "\n",
       "    .dataframe thead th {\n",
       "        text-align: right;\n",
       "    }\n",
       "</style>\n",
       "<table border=\"1\" class=\"dataframe\">\n",
       "  <thead>\n",
       "    <tr style=\"text-align: right;\">\n",
       "      <th></th>\n",
       "      <th>Age</th>\n",
       "      <th>Field</th>\n",
       "      <th>Qual</th>\n",
       "      <th>Gender</th>\n",
       "    </tr>\n",
       "  </thead>\n",
       "  <tbody>\n",
       "  </tbody>\n",
       "</table>\n",
       "</div>"
      ],
      "text/plain": [
       "Empty DataFrame\n",
       "Columns: [Age, Field, Qual, Gender]\n",
       "Index: []"
      ]
     },
     "execution_count": 5,
     "metadata": {},
     "output_type": "execute_result"
    }
   ],
   "source": [
    "df"
   ]
  },
  {
   "cell_type": "markdown",
   "metadata": {},
   "source": [
    "### Age Data"
   ]
  },
  {
   "cell_type": "markdown",
   "metadata": {},
   "source": [
    "** Adjust median age, stdev etc"
   ]
  },
  {
   "cell_type": "code",
   "execution_count": 6,
   "metadata": {
    "scrolled": true
   },
   "outputs": [
    {
     "data": {
      "text/html": [
       "<div>\n",
       "<style scoped>\n",
       "    .dataframe tbody tr th:only-of-type {\n",
       "        vertical-align: middle;\n",
       "    }\n",
       "\n",
       "    .dataframe tbody tr th {\n",
       "        vertical-align: top;\n",
       "    }\n",
       "\n",
       "    .dataframe thead th {\n",
       "        text-align: right;\n",
       "    }\n",
       "</style>\n",
       "<table border=\"1\" class=\"dataframe\">\n",
       "  <thead>\n",
       "    <tr style=\"text-align: right;\">\n",
       "      <th></th>\n",
       "      <th>Age</th>\n",
       "      <th>Male</th>\n",
       "      <th>Female</th>\n",
       "      <th>Total</th>\n",
       "    </tr>\n",
       "  </thead>\n",
       "  <tbody>\n",
       "    <tr>\n",
       "      <th>0</th>\n",
       "      <td>25</td>\n",
       "      <td>28794</td>\n",
       "      <td>28484</td>\n",
       "      <td>57278</td>\n",
       "    </tr>\n",
       "    <tr>\n",
       "      <th>1</th>\n",
       "      <td>26</td>\n",
       "      <td>27683</td>\n",
       "      <td>28574</td>\n",
       "      <td>56257</td>\n",
       "    </tr>\n",
       "    <tr>\n",
       "      <th>2</th>\n",
       "      <td>27</td>\n",
       "      <td>30239</td>\n",
       "      <td>31413</td>\n",
       "      <td>61652</td>\n",
       "    </tr>\n",
       "    <tr>\n",
       "      <th>3</th>\n",
       "      <td>28</td>\n",
       "      <td>28452</td>\n",
       "      <td>31004</td>\n",
       "      <td>59456</td>\n",
       "    </tr>\n",
       "    <tr>\n",
       "      <th>4</th>\n",
       "      <td>29</td>\n",
       "      <td>30054</td>\n",
       "      <td>32738</td>\n",
       "      <td>62792</td>\n",
       "    </tr>\n",
       "    <tr>\n",
       "      <th>5</th>\n",
       "      <td>30</td>\n",
       "      <td>32752</td>\n",
       "      <td>35595</td>\n",
       "      <td>68347</td>\n",
       "    </tr>\n",
       "    <tr>\n",
       "      <th>6</th>\n",
       "      <td>31</td>\n",
       "      <td>32801</td>\n",
       "      <td>35533</td>\n",
       "      <td>68334</td>\n",
       "    </tr>\n",
       "    <tr>\n",
       "      <th>7</th>\n",
       "      <td>32</td>\n",
       "      <td>34210</td>\n",
       "      <td>37562</td>\n",
       "      <td>71772</td>\n",
       "    </tr>\n",
       "    <tr>\n",
       "      <th>8</th>\n",
       "      <td>33</td>\n",
       "      <td>35990</td>\n",
       "      <td>39714</td>\n",
       "      <td>75704</td>\n",
       "    </tr>\n",
       "    <tr>\n",
       "      <th>9</th>\n",
       "      <td>34</td>\n",
       "      <td>37426</td>\n",
       "      <td>40392</td>\n",
       "      <td>77818</td>\n",
       "    </tr>\n",
       "    <tr>\n",
       "      <th>10</th>\n",
       "      <td>35</td>\n",
       "      <td>39840</td>\n",
       "      <td>41705</td>\n",
       "      <td>81545</td>\n",
       "    </tr>\n",
       "    <tr>\n",
       "      <th>11</th>\n",
       "      <td>36</td>\n",
       "      <td>40892</td>\n",
       "      <td>42304</td>\n",
       "      <td>83196</td>\n",
       "    </tr>\n",
       "    <tr>\n",
       "      <th>12</th>\n",
       "      <td>37</td>\n",
       "      <td>37494</td>\n",
       "      <td>39690</td>\n",
       "      <td>77184</td>\n",
       "    </tr>\n",
       "    <tr>\n",
       "      <th>13</th>\n",
       "      <td>38</td>\n",
       "      <td>36818</td>\n",
       "      <td>37863</td>\n",
       "      <td>74681</td>\n",
       "    </tr>\n",
       "    <tr>\n",
       "      <th>14</th>\n",
       "      <td>39</td>\n",
       "      <td>36001</td>\n",
       "      <td>36814</td>\n",
       "      <td>72815</td>\n",
       "    </tr>\n",
       "    <tr>\n",
       "      <th>15</th>\n",
       "      <td>40</td>\n",
       "      <td>36521</td>\n",
       "      <td>36893</td>\n",
       "      <td>73414</td>\n",
       "    </tr>\n",
       "    <tr>\n",
       "      <th>16</th>\n",
       "      <td>41</td>\n",
       "      <td>35674</td>\n",
       "      <td>36300</td>\n",
       "      <td>71974</td>\n",
       "    </tr>\n",
       "    <tr>\n",
       "      <th>17</th>\n",
       "      <td>42</td>\n",
       "      <td>35307</td>\n",
       "      <td>35865</td>\n",
       "      <td>71172</td>\n",
       "    </tr>\n",
       "    <tr>\n",
       "      <th>18</th>\n",
       "      <td>43</td>\n",
       "      <td>35450</td>\n",
       "      <td>35838</td>\n",
       "      <td>71288</td>\n",
       "    </tr>\n",
       "    <tr>\n",
       "      <th>19</th>\n",
       "      <td>44</td>\n",
       "      <td>34530</td>\n",
       "      <td>35082</td>\n",
       "      <td>69612</td>\n",
       "    </tr>\n",
       "    <tr>\n",
       "      <th>20</th>\n",
       "      <td>45</td>\n",
       "      <td>35243</td>\n",
       "      <td>35214</td>\n",
       "      <td>70457</td>\n",
       "    </tr>\n",
       "    <tr>\n",
       "      <th>21</th>\n",
       "      <td>46</td>\n",
       "      <td>33525</td>\n",
       "      <td>33683</td>\n",
       "      <td>67208</td>\n",
       "    </tr>\n",
       "    <tr>\n",
       "      <th>22</th>\n",
       "      <td>47</td>\n",
       "      <td>31932</td>\n",
       "      <td>31708</td>\n",
       "      <td>63640</td>\n",
       "    </tr>\n",
       "    <tr>\n",
       "      <th>23</th>\n",
       "      <td>48</td>\n",
       "      <td>31315</td>\n",
       "      <td>31631</td>\n",
       "      <td>62946</td>\n",
       "    </tr>\n",
       "    <tr>\n",
       "      <th>24</th>\n",
       "      <td>49</td>\n",
       "      <td>30809</td>\n",
       "      <td>31050</td>\n",
       "      <td>61859</td>\n",
       "    </tr>\n",
       "    <tr>\n",
       "      <th>25</th>\n",
       "      <td>50</td>\n",
       "      <td>30765</td>\n",
       "      <td>31223</td>\n",
       "      <td>61988</td>\n",
       "    </tr>\n",
       "    <tr>\n",
       "      <th>26</th>\n",
       "      <td>51</td>\n",
       "      <td>30446</td>\n",
       "      <td>31352</td>\n",
       "      <td>61798</td>\n",
       "    </tr>\n",
       "    <tr>\n",
       "      <th>27</th>\n",
       "      <td>52</td>\n",
       "      <td>29603</td>\n",
       "      <td>30580</td>\n",
       "      <td>60183</td>\n",
       "    </tr>\n",
       "    <tr>\n",
       "      <th>28</th>\n",
       "      <td>53</td>\n",
       "      <td>29032</td>\n",
       "      <td>29875</td>\n",
       "      <td>58907</td>\n",
       "    </tr>\n",
       "    <tr>\n",
       "      <th>29</th>\n",
       "      <td>54</td>\n",
       "      <td>28366</td>\n",
       "      <td>28693</td>\n",
       "      <td>57059</td>\n",
       "    </tr>\n",
       "    <tr>\n",
       "      <th>30</th>\n",
       "      <td>55</td>\n",
       "      <td>28324</td>\n",
       "      <td>28932</td>\n",
       "      <td>57256</td>\n",
       "    </tr>\n",
       "    <tr>\n",
       "      <th>31</th>\n",
       "      <td>56</td>\n",
       "      <td>27045</td>\n",
       "      <td>27862</td>\n",
       "      <td>54907</td>\n",
       "    </tr>\n",
       "    <tr>\n",
       "      <th>32</th>\n",
       "      <td>57</td>\n",
       "      <td>27175</td>\n",
       "      <td>27284</td>\n",
       "      <td>54459</td>\n",
       "    </tr>\n",
       "    <tr>\n",
       "      <th>33</th>\n",
       "      <td>58</td>\n",
       "      <td>25894</td>\n",
       "      <td>26534</td>\n",
       "      <td>52428</td>\n",
       "    </tr>\n",
       "    <tr>\n",
       "      <th>34</th>\n",
       "      <td>59</td>\n",
       "      <td>25420</td>\n",
       "      <td>25632</td>\n",
       "      <td>51052</td>\n",
       "    </tr>\n",
       "    <tr>\n",
       "      <th>35</th>\n",
       "      <td>60</td>\n",
       "      <td>24802</td>\n",
       "      <td>25063</td>\n",
       "      <td>49865</td>\n",
       "    </tr>\n",
       "    <tr>\n",
       "      <th>36</th>\n",
       "      <td>61</td>\n",
       "      <td>24435</td>\n",
       "      <td>24810</td>\n",
       "      <td>49245</td>\n",
       "    </tr>\n",
       "    <tr>\n",
       "      <th>37</th>\n",
       "      <td>62</td>\n",
       "      <td>23536</td>\n",
       "      <td>23764</td>\n",
       "      <td>47300</td>\n",
       "    </tr>\n",
       "    <tr>\n",
       "      <th>38</th>\n",
       "      <td>63</td>\n",
       "      <td>23523</td>\n",
       "      <td>23879</td>\n",
       "      <td>47402</td>\n",
       "    </tr>\n",
       "    <tr>\n",
       "      <th>39</th>\n",
       "      <td>64</td>\n",
       "      <td>22402</td>\n",
       "      <td>22642</td>\n",
       "      <td>45044</td>\n",
       "    </tr>\n",
       "  </tbody>\n",
       "</table>\n",
       "</div>"
      ],
      "text/plain": [
       "    Age   Male  Female  Total\n",
       "0    25  28794   28484  57278\n",
       "1    26  27683   28574  56257\n",
       "2    27  30239   31413  61652\n",
       "3    28  28452   31004  59456\n",
       "4    29  30054   32738  62792\n",
       "5    30  32752   35595  68347\n",
       "6    31  32801   35533  68334\n",
       "7    32  34210   37562  71772\n",
       "8    33  35990   39714  75704\n",
       "9    34  37426   40392  77818\n",
       "10   35  39840   41705  81545\n",
       "11   36  40892   42304  83196\n",
       "12   37  37494   39690  77184\n",
       "13   38  36818   37863  74681\n",
       "14   39  36001   36814  72815\n",
       "15   40  36521   36893  73414\n",
       "16   41  35674   36300  71974\n",
       "17   42  35307   35865  71172\n",
       "18   43  35450   35838  71288\n",
       "19   44  34530   35082  69612\n",
       "20   45  35243   35214  70457\n",
       "21   46  33525   33683  67208\n",
       "22   47  31932   31708  63640\n",
       "23   48  31315   31631  62946\n",
       "24   49  30809   31050  61859\n",
       "25   50  30765   31223  61988\n",
       "26   51  30446   31352  61798\n",
       "27   52  29603   30580  60183\n",
       "28   53  29032   29875  58907\n",
       "29   54  28366   28693  57059\n",
       "30   55  28324   28932  57256\n",
       "31   56  27045   27862  54907\n",
       "32   57  27175   27284  54459\n",
       "33   58  25894   26534  52428\n",
       "34   59  25420   25632  51052\n",
       "35   60  24802   25063  49865\n",
       "36   61  24435   24810  49245\n",
       "37   62  23536   23764  47300\n",
       "38   63  23523   23879  47402\n",
       "39   64  22402   22642  45044"
      ]
     },
     "execution_count": 6,
     "metadata": {},
     "output_type": "execute_result"
    }
   ],
   "source": [
    "f = pd.read_csv(\"data\\Population_2016_by_Age_adj.csv\") # Import csv file using pandas\n",
    "dfAge = pd.DataFrame(f) # Create a dataframe from the csv data\n",
    "dfAge"
   ]
  },
  {
   "cell_type": "code",
   "execution_count": 7,
   "metadata": {},
   "outputs": [
    {
     "data": {
      "text/plain": [
       "<seaborn.axisgrid.FacetGrid at 0x25b48e25748>"
      ]
     },
     "execution_count": 7,
     "metadata": {},
     "output_type": "execute_result"
    },
    {
     "data": {
      "image/png": "[encoded data removed]",
      "text/plain": [
       "<Figure size 720x360 with 1 Axes>"
      ]
     },
     "metadata": {},
     "output_type": "display_data"
    }
   ],
   "source": [
    "sns.relplot(x=\"Age\", y=\"Total\", kind=\"line\", data=dfAge, height=5, aspect=2)"
   ]
  },
  {
   "cell_type": "code",
   "execution_count": 8,
   "metadata": {},
   "outputs": [],
   "source": [
    "from statsmodels.stats.weightstats import DescrStatsW\n",
    "wAge = DescrStatsW(dfAge[\"Age\"], weights=dfAge[\"Total\"])"
   ]
  },
  {
   "cell_type": "code",
   "execution_count": 108,
   "metadata": {},
   "outputs": [
    {
     "name": "stdout",
     "output_type": "stream",
     "text": [
      "Weighted mean age: 43.33\n",
      "Weighted standard deviation: 10.97\n"
     ]
    }
   ],
   "source": [
    "print(\"Weighted mean age:\", round(wAge.mean, 2))\n",
    "print(\"Weighted standard deviation:\", round(wAge.std, 2))"
   ]
  },
  {
   "cell_type": "code",
   "execution_count": 123,
   "metadata": {},
   "outputs": [],
   "source": [
    "# Creating a proportion column\n",
    "dfAge[\"Proportion\"] = dfAge[\"Total\"]/dfAge[\"Total\"].sum()"
   ]
  },
  {
   "cell_type": "code",
   "execution_count": 124,
   "metadata": {},
   "outputs": [],
   "source": [
    "ageFill = np.random.choice(dfAge[\"Age\"], 334, p=dfAge[\"Proportion\"])"
   ]
  },
  {
   "cell_type": "code",
   "execution_count": 125,
   "metadata": {},
   "outputs": [
    {
     "data": {
      "text/plain": [
       "43.94311377245509"
      ]
     },
     "execution_count": 125,
     "metadata": {},
     "output_type": "execute_result"
    }
   ],
   "source": [
    "ageFill.mean()"
   ]
  },
  {
   "cell_type": "markdown",
   "metadata": {},
   "source": [
    "** for now using 0 & 100 as lower and upper limits, will have to rework to incorporate extrapolated limits from the dsitribution above"
   ]
  },
  {
   "cell_type": "code",
   "execution_count": 126,
   "metadata": {},
   "outputs": [],
   "source": [
    "from scipy import stats\n",
    "m = stats.mode(ageFill)[0][0]\n",
    "ageTri = np.random.triangular(0, m, 100, 1000000)"
   ]
  },
  {
   "cell_type": "code",
   "execution_count": 127,
   "metadata": {
    "scrolled": true
   },
   "outputs": [
    {
     "data": {
      "text/plain": [
       "array([45, 43, 48, ..., 57, 72, 71])"
      ]
     },
     "execution_count": 127,
     "metadata": {},
     "output_type": "execute_result"
    }
   ],
   "source": [
    "np.rint(ageTri)\n",
    "ageTri.astype(int)"
   ]
  },
  {
   "cell_type": "code",
   "execution_count": 128,
   "metadata": {},
   "outputs": [],
   "source": [
    "ageExcl = np.concatenate([np.arange(25), np.arange(65, 100)])"
   ]
  },
  {
   "cell_type": "code",
   "execution_count": 129,
   "metadata": {},
   "outputs": [],
   "source": [
    "ageTri = ageTri[ageTri >= 25]\n",
    "ageTri = ageTri[ageTri < 65]"
   ]
  },
  {
   "cell_type": "code",
   "execution_count": 130,
   "metadata": {},
   "outputs": [
    {
     "data": {
      "text/plain": [
       "(633184,)"
      ]
     },
     "execution_count": 130,
     "metadata": {},
     "output_type": "execute_result"
    }
   ],
   "source": [
    "ageTri.shape"
   ]
  },
  {
   "cell_type": "code",
   "execution_count": 131,
   "metadata": {},
   "outputs": [
    {
     "data": {
      "text/plain": [
       "43.582301969687876"
      ]
     },
     "execution_count": 131,
     "metadata": {},
     "output_type": "execute_result"
    }
   ],
   "source": [
    "ageTri.mean()"
   ]
  },
  {
   "cell_type": "code",
   "execution_count": 132,
   "metadata": {},
   "outputs": [
    {
     "data": {
      "text/plain": [
       "<matplotlib.axes._subplots.AxesSubplot at 0x25b4e322fc8>"
      ]
     },
     "execution_count": 132,
     "metadata": {},
     "output_type": "execute_result"
    },
    {
     "data": {
      "image/png": "[encoded data removed]",
      "text/plain": [
       "<Figure size 432x288 with 1 Axes>"
      ]
     },
     "metadata": {},
     "output_type": "display_data"
    }
   ],
   "source": [
    "sns.distplot(ageTri, bins = 30)"
   ]
  },
  {
   "cell_type": "code",
   "execution_count": 133,
   "metadata": {},
   "outputs": [
    {
     "name": "stdout",
     "output_type": "stream",
     "text": [
      "1895.7604790419161 1896\n"
     ]
    }
   ],
   "source": [
    "ssize = 334\n",
    "\n",
    "skip = ageTri.shape[0]/ssize\n",
    "skipint = int(round(skip,0))\n",
    "print(skip, skipint)"
   ]
  },
  {
   "cell_type": "code",
   "execution_count": 134,
   "metadata": {},
   "outputs": [],
   "source": [
    "ageTriSkip = ageTri[::skipint]"
   ]
  },
  {
   "cell_type": "code",
   "execution_count": 135,
   "metadata": {},
   "outputs": [
    {
     "data": {
      "text/plain": [
       "<matplotlib.axes._subplots.AxesSubplot at 0x25b4e8a4b08>"
      ]
     },
     "execution_count": 135,
     "metadata": {},
     "output_type": "execute_result"
    },
    {
     "data": {
      "image/png": "[encoded data removed]",
      "text/plain": [
       "<Figure size 432x288 with 1 Axes>"
      ]
     },
     "metadata": {},
     "output_type": "display_data"
    }
   ],
   "source": [
    "sns.distplot(ageTriSkip)"
   ]
  },
  {
   "cell_type": "code",
   "execution_count": 137,
   "metadata": {},
   "outputs": [
    {
     "name": "stdout",
     "output_type": "stream",
     "text": [
      "43.582301969687876\n",
      "43.089640553971876\n"
     ]
    }
   ],
   "source": [
    "print(ageTri.mean())\n",
    "print(ageTriSkip.mean())"
   ]
  },
  {
   "cell_type": "markdown",
   "metadata": {},
   "source": [
    "### Qualification Data"
   ]
  },
  {
   "cell_type": "markdown",
   "metadata": {},
   "source": [
    "### Field of Study Data"
   ]
  },
  {
   "cell_type": "markdown",
   "metadata": {},
   "source": [
    "### Gender Data"
   ]
  },
  {
   "cell_type": "markdown",
   "metadata": {},
   "source": [
    "This will be a categorical variable, either \"F\" or \"M\"."
   ]
  },
  {
   "cell_type": "code",
   "execution_count": 20,
   "metadata": {},
   "outputs": [
    {
     "data": {
      "text/plain": [
       "array(['M', 'M', 'M', 'M', 'M', 'M', 'M', 'F', 'M', 'F', 'F', 'F', 'F',\n",
       "       'M', 'F', 'M', 'F', 'M', 'F', 'F', 'F', 'M', 'M', 'M', 'M', 'M',\n",
       "       'F', 'M', 'M', 'F', 'F', 'F', 'M', 'F', 'M', 'F', 'M', 'M', 'M',\n",
       "       'F', 'M', 'M', 'M', 'M', 'M', 'M', 'M', 'F', 'F', 'M', 'M', 'M',\n",
       "       'M', 'M', 'M', 'M', 'M', 'F', 'M', 'F', 'F', 'F', 'F', 'M', 'M',\n",
       "       'M', 'F', 'F', 'F', 'F', 'F', 'M', 'M', 'F', 'M', 'M', 'M', 'M',\n",
       "       'F', 'F', 'M', 'M', 'F', 'F', 'M', 'M', 'F', 'M', 'F', 'F', 'F',\n",
       "       'F', 'M', 'M', 'F', 'F', 'M', 'F', 'M', 'M', 'F', 'M', 'F', 'M',\n",
       "       'F', 'M', 'F', 'F', 'M', 'F', 'F', 'F', 'M', 'F', 'F', 'F', 'M',\n",
       "       'M', 'F', 'F', 'F', 'M', 'M', 'M', 'F', 'M', 'M', 'M', 'F', 'F',\n",
       "       'M', 'M', 'F', 'F', 'F', 'M', 'M', 'M', 'F', 'M', 'M', 'M', 'F',\n",
       "       'F', 'M', 'F', 'F', 'M', 'F', 'F', 'M', 'F', 'F', 'F', 'M', 'F',\n",
       "       'M', 'M', 'M', 'F', 'F', 'F', 'F', 'F', 'M', 'M', 'M', 'M', 'M',\n",
       "       'M', 'M', 'F', 'M', 'M', 'M', 'F', 'M', 'F', 'M', 'F', 'F', 'F',\n",
       "       'M', 'M', 'F', 'M', 'M', 'M', 'M', 'F', 'M', 'M', 'F', 'M', 'M',\n",
       "       'F', 'F', 'F', 'M', 'M'], dtype='<U1')"
      ]
     },
     "execution_count": 20,
     "metadata": {},
     "output_type": "execute_result"
    }
   ],
   "source": [
    "genders = [\"F\", \"M\"]\n",
    "\n",
    "np.random.choice(genders, size=200)"
   ]
  },
  {
   "cell_type": "markdown",
   "metadata": {},
   "source": [
    "## Results"
   ]
  },
  {
   "cell_type": "markdown",
   "metadata": {},
   "source": []
  }
 ],
 "metadata": {
  "kernelspec": {
   "display_name": "Python 3",
   "language": "python",
   "name": "python3"
  },
  "language_info": {
   "codemirror_mode": {
    "name": "ipython",
    "version": 3
   },
   "file_extension": ".py",
   "mimetype": "text/x-python",
   "name": "python",
   "nbconvert_exporter": "python",
   "pygments_lexer": "ipython3",
   "version": "3.7.5"
  }
 },
 "nbformat": 4,
 "nbformat_minor": 4
}
