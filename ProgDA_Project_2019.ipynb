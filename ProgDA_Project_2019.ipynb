{
 "cells": [
  {
   "cell_type": "markdown",
   "metadata": {},
   "source": [
    "<img src=\"images/GMIT logo.jpeg\" width=\"350\" align=\"center\">"
   ]
  },
  {
   "cell_type": "markdown",
   "metadata": {},
   "source": [
    "# Programming for Data Analysis Project 2019"
   ]
  },
  {
   "cell_type": "markdown",
   "metadata": {},
   "source": [
    "Peter McGowan\n",
    "G00190832"
   ]
  },
  {
   "cell_type": "markdown",
   "metadata": {},
   "source": [
    "### Tasks:\n",
    "1. Choose a real-world phenomenon that can be measured and for which you could collect at least one-hundred data points across at least four different variables.\n",
    "2. Investigate the types of variables involved, their likely distributions, and their relationships with each other.\n",
    "3. Synthesise/simulate a data set as closely matching their properties as possible.\n",
    "4. Detail your research and implement the simulation in a Jupyter notebook – the data set itself can simply be displayed in an output cell within the notebook."
   ]
  },
  {
   "cell_type": "markdown",
   "metadata": {},
   "source": [
    "## Background"
   ]
  },
  {
   "cell_type": "markdown",
   "metadata": {},
   "source": [
    "I have chosen to simulate data about Adult Education in Ireland. I have chosen the following variables:\n",
    "* Highest Qualification Awarded\n",
    "* Field of Study\n",
    "* Gender\n",
    "* Age"
   ]
  },
  {
   "cell_type": "markdown",
   "metadata": {},
   "source": []
  },
  {
   "cell_type": "markdown",
   "metadata": {},
   "source": [
    "## Research and Investigate"
   ]
  },
  {
   "cell_type": "markdown",
   "metadata": {},
   "source": [
    "### General"
   ]
  },
  {
   "cell_type": "markdown",
   "metadata": {},
   "source": [
    "The Central Statistics Office (CSO) is perhaps best known for carrying out a census every 5 years in Ireland (most recently in 2016). In addition to this, the CSO carries out a range of other important statistical work covering a broad range of themes on a rotational basis."
   ]
  },
  {
   "cell_type": "markdown",
   "metadata": {},
   "source": [
    "The General Household Survey occurs approximately quarterly and the theme varies. In Q3 & Q4 2019 the theme covered was Adult Education. Considering the HDip in Data Analytics and the makeup of its student cohort (myself included), the Adult Education Survey (AES) immediately piqued my interest when I came across it."
   ]
  },
  {
   "cell_type": "markdown",
   "metadata": {},
   "source": [
    "*** links to documents"
   ]
  },
  {
   "cell_type": "markdown",
   "metadata": {},
   "source": [
    "Considering the results of this survey and the characteristics of its variables studied, I will simulate a dataset matching its qualities."
   ]
  },
  {
   "cell_type": "markdown",
   "metadata": {},
   "source": [
    "### Sample Data Characteristics"
   ]
  },
  {
   "cell_type": "markdown",
   "metadata": {},
   "source": [
    "The design sample size for the survey carried out was 13,200. Of this, 4,863 valid responses were collated. I intend to simulate the 334 <i>\"Persons aged 25-64 who participated in formal education, classified by the level of education participation.\"</i>"
   ]
  },
  {
   "cell_type": "markdown",
   "metadata": {},
   "source": [
    "### Level of Education Participation"
   ]
  },
  {
   "cell_type": "markdown",
   "metadata": {},
   "source": [
    "The National Framework of Qualifications (NFQ) outlines a ten level framework for qualifications."
   ]
  },
  {
   "cell_type": "markdown",
   "metadata": {},
   "source": [
    "https://nfq.qqi.ie/"
   ]
  },
  {
   "cell_type": "markdown",
   "metadata": {},
   "source": [
    "NFQ Level:\n",
    "0. No formal education or training\n",
    "1. Primary or below\n",
    "2. Primary or below\n",
    "3. Lower Secondary\n",
    "4. Higher Secondary, Post Leaving Certificate\n",
    "4. Higher Secondary, Post Leaving Certificate\n",
    "6. Post Leaving Certificate, Higher Certificate and Equivalent\n",
    "7. Ordinary Degree or Equivalent\n",
    "8. Honours Bachelor Degree, Graduate Diploma, Higher Diploma\n",
    "9. Masters Degree, Post Graduate Diploma\n",
    "10. Doctoral Degree, Higher Doctorate"
   ]
  },
  {
   "cell_type": "markdown",
   "metadata": {},
   "source": [
    "Unfortunately, the AES aggregates these levels into the following categories for my sample group:\n",
    "* Higher Secondary or Below (14.60%)\n",
    "* Post Leaving Certificate (30.30%)\n",
    "* Third Level Non-Honours Degree (17.60%)\n",
    "* Third Level Honours Degree or Higher (37.50%)\n",
    "\n",
    "Without further information, I will simulate a dataset approximating this range, with 4 categories. I will try and find another way to break this down if I can."
   ]
  },
  {
   "cell_type": "markdown",
   "metadata": {},
   "source": [
    "### Field of Study"
   ]
  },
  {
   "cell_type": "markdown",
   "metadata": {},
   "source": [
    "The AES categories education into 12 different fields:\n",
    "* General Programmes & Qualifications (5.70%)\n",
    "* Education (8.20%)\n",
    "* Arts and Humanities (4.70%)\n",
    "* Social Sciences, Journalism and Information (1.50%)\n",
    "* Business, Administration and Law (27.10%)\n",
    "* Natural Sciences, Mathematics and Statistics (3.70%)\n",
    "* Information and Communication Technologies (6.70%)\n",
    "* Engineering, Manufacturing and Construction (7.10%)\n",
    "* Agriculture, Forestry, Fisheries and Veterinary (2.80%)\n",
    "* Health and Welfare (18.00%)\n",
    "* Services (2.20%)\n",
    "* Other (12.20%)"
   ]
  },
  {
   "cell_type": "markdown",
   "metadata": {},
   "source": [
    "The AES does <u>not</u> tell us if or how the educational category is related to the level of qualification, in other words the variables are independent of each other, however they may both be related to other variables."
   ]
  },
  {
   "cell_type": "markdown",
   "metadata": {},
   "source": [
    "### Gender"
   ]
  },
  {
   "cell_type": "markdown",
   "metadata": {},
   "source": [
    "The gender breakdown of those who participated in an educational activity as given in the AES report is:\n",
    "* Male: 36.53%\n",
    "* Female: 63.47%\n",
    "\n",
    "The survey would indicate that females are almost twice as likely to participate in adult education. The simulated dataset will therefore reflect this."
   ]
  },
  {
   "cell_type": "markdown",
   "metadata": {},
   "source": [
    "Comparing percentages of males vs females participating in each educational field is interesting, with many fields being strongly weighted towards one gender."
   ]
  },
  {
   "cell_type": "markdown",
   "metadata": {},
   "source": [
    "Looking at how gender relates to level of education participation, it is also clear that gender is correlated with field of study. For example, males are actually twice as likely to study at 3rd Level non honours degree than females."
   ]
  },
  {
   "cell_type": "markdown",
   "metadata": {},
   "source": [
    "The gender for each row in the simulated data will therefore have to take into account three things:\n",
    "* Overall gender ratio participating in adult education\n",
    "* Gender ratio for each level of education participation\n",
    "* Gender ratio for each field of study\n",
    "\n",
    "This is beginning to get quite complex."
   ]
  },
  {
   "cell_type": "markdown",
   "metadata": {},
   "source": [
    "### Age"
   ]
  },
  {
   "cell_type": "markdown",
   "metadata": {},
   "source": [
    "The age range covered by the survey was 18-64, however the results are presented only from ages 25-64. This gives me a convenient range for the simulated ages. Results were presented in the following bands:\n",
    "* 25-34 year olds\n",
    "* 35-44 year olds\n",
    "* 45-54 year olds\n",
    "* 55-64 year olds"
   ]
  },
  {
   "cell_type": "markdown",
   "metadata": {},
   "source": [
    "In constructing the dataset it will not be necessary to limit the simulated ages to these bands - I will use the 2016 census data to generate an appropriate distribution."
   ]
  },
  {
   "cell_type": "markdown",
   "metadata": {},
   "source": [
    "Much like the gender variable, age relates to both level of education participation and field of study. Are age and gender also related? The AES doesn't actually tell us this - presumably this is due to the sample size, as this can be ascertained for those participating in non-formal education. The 2016 Census cannot provide any more information here either."
   ]
  },
  {
   "cell_type": "markdown",
   "metadata": {},
   "source": [
    "It would be reasonable to presume that there is a good chance that age and gender are related here but I have no way of directly controlling it - this will have to be simulated indirectly through the other relationships. Age will therefore have to take into account:\n",
    "* Overall age ranges and their likely distributions\n",
    "* Age distribution for each level of education participation\n",
    "* Age distribution for each field of study"
   ]
  },
  {
   "cell_type": "markdown",
   "metadata": {},
   "source": [
    "### Approach"
   ]
  },
  {
   "cell_type": "markdown",
   "metadata": {},
   "source": [
    "The approach to take now bears some serious consideration - considering the indirect relationships that have to be modelled, the order of variables modelled will be critical. I will therefore take the following approach:\n",
    "1. Simulate the ages first - this will require the combination of distributions for each each range given, based on actual age distributions from the 2016 Census;\n",
    "2. Simulate field of study - the relative probability of each field will take into account the age (range) of the simulated person;\n",
    "3. Simulate the level of education participation - the relative probability of each level will take into account the age (range) of the simulated person;\n",
    "4. Simulate the gender - this must take into account both items 2. and 3., as well as the overall gender ratio in the sample."
   ]
  },
  {
   "cell_type": "markdown",
   "metadata": {},
   "source": [
    "## Synthesise"
   ]
  },
  {
   "cell_type": "markdown",
   "metadata": {},
   "source": [
    "### Preliminaries"
   ]
  },
  {
   "cell_type": "markdown",
   "metadata": {},
   "source": [
    "Firstly, import several libraries to manage, simulate and visualise."
   ]
  },
  {
   "cell_type": "code",
   "execution_count": 1,
   "metadata": {},
   "outputs": [],
   "source": [
    "# Import numpy to analyse it\n",
    "# Import matplotlib.pyplot and seaborn for visualisations\n",
    "import pandas as pd\n",
    "import numpy as np\n",
    "import matplotlib.pyplot as plt\n",
    "import seaborn as sns"
   ]
  },
  {
   "cell_type": "code",
   "execution_count": 2,
   "metadata": {},
   "outputs": [],
   "source": [
    "# Magic command to ensure that plots render inline\n",
    "%matplotlib inline"
   ]
  },
  {
   "cell_type": "code",
   "execution_count": 3,
   "metadata": {},
   "outputs": [],
   "source": [
    "# Control Seaborn aesthetics\n",
    "# Use darkplot plot style for contrast\n",
    "sns.set_style(\"darkgrid\")\n",
    "# Set the default colour palette\n",
    "sns.set_palette(\"colorblind\")"
   ]
  },
  {
   "cell_type": "markdown",
   "metadata": {},
   "source": [
    "## Generate Data"
   ]
  },
  {
   "cell_type": "markdown",
   "metadata": {},
   "source": [
    "First we will create an empty pandas dataframe to hold the data."
   ]
  },
  {
   "cell_type": "code",
   "execution_count": 4,
   "metadata": {},
   "outputs": [],
   "source": [
    "df = pd.DataFrame(columns = [\"Age\", \"Field\", \"Qual\", \"Gender\"])"
   ]
  },
  {
   "cell_type": "code",
   "execution_count": 5,
   "metadata": {},
   "outputs": [
    {
     "data": {
      "text/html": [
       "<div>\n",
       "<style scoped>\n",
       "    .dataframe tbody tr th:only-of-type {\n",
       "        vertical-align: middle;\n",
       "    }\n",
       "\n",
       "    .dataframe tbody tr th {\n",
       "        vertical-align: top;\n",
       "    }\n",
       "\n",
       "    .dataframe thead th {\n",
       "        text-align: right;\n",
       "    }\n",
       "</style>\n",
       "<table border=\"1\" class=\"dataframe\">\n",
       "  <thead>\n",
       "    <tr style=\"text-align: right;\">\n",
       "      <th></th>\n",
       "      <th>Age</th>\n",
       "      <th>Field</th>\n",
       "      <th>Qual</th>\n",
       "      <th>Gender</th>\n",
       "    </tr>\n",
       "  </thead>\n",
       "  <tbody>\n",
       "  </tbody>\n",
       "</table>\n",
       "</div>"
      ],
      "text/plain": [
       "Empty DataFrame\n",
       "Columns: [Age, Field, Qual, Gender]\n",
       "Index: []"
      ]
     },
     "execution_count": 5,
     "metadata": {},
     "output_type": "execute_result"
    }
   ],
   "source": [
    "df"
   ]
  },
  {
   "cell_type": "markdown",
   "metadata": {},
   "source": [
    "### Age Data"
   ]
  },
  {
   "cell_type": "markdown",
   "metadata": {},
   "source": [
    "** Adjust median age, stdev etc"
   ]
  },
  {
   "cell_type": "code",
   "execution_count": 6,
   "metadata": {
    "scrolled": true
   },
   "outputs": [
    {
     "data": {
      "text/html": [
       "<div>\n",
       "<style scoped>\n",
       "    .dataframe tbody tr th:only-of-type {\n",
       "        vertical-align: middle;\n",
       "    }\n",
       "\n",
       "    .dataframe tbody tr th {\n",
       "        vertical-align: top;\n",
       "    }\n",
       "\n",
       "    .dataframe thead th {\n",
       "        text-align: right;\n",
       "    }\n",
       "</style>\n",
       "<table border=\"1\" class=\"dataframe\">\n",
       "  <thead>\n",
       "    <tr style=\"text-align: right;\">\n",
       "      <th></th>\n",
       "      <th>Age</th>\n",
       "      <th>Male</th>\n",
       "      <th>Female</th>\n",
       "      <th>Total</th>\n",
       "    </tr>\n",
       "  </thead>\n",
       "  <tbody>\n",
       "    <tr>\n",
       "      <th>0</th>\n",
       "      <td>25</td>\n",
       "      <td>28794</td>\n",
       "      <td>28484</td>\n",
       "      <td>57278</td>\n",
       "    </tr>\n",
       "    <tr>\n",
       "      <th>1</th>\n",
       "      <td>26</td>\n",
       "      <td>27683</td>\n",
       "      <td>28574</td>\n",
       "      <td>56257</td>\n",
       "    </tr>\n",
       "    <tr>\n",
       "      <th>2</th>\n",
       "      <td>27</td>\n",
       "      <td>30239</td>\n",
       "      <td>31413</td>\n",
       "      <td>61652</td>\n",
       "    </tr>\n",
       "    <tr>\n",
       "      <th>3</th>\n",
       "      <td>28</td>\n",
       "      <td>28452</td>\n",
       "      <td>31004</td>\n",
       "      <td>59456</td>\n",
       "    </tr>\n",
       "    <tr>\n",
       "      <th>4</th>\n",
       "      <td>29</td>\n",
       "      <td>30054</td>\n",
       "      <td>32738</td>\n",
       "      <td>62792</td>\n",
       "    </tr>\n",
       "    <tr>\n",
       "      <th>5</th>\n",
       "      <td>30</td>\n",
       "      <td>32752</td>\n",
       "      <td>35595</td>\n",
       "      <td>68347</td>\n",
       "    </tr>\n",
       "    <tr>\n",
       "      <th>6</th>\n",
       "      <td>31</td>\n",
       "      <td>32801</td>\n",
       "      <td>35533</td>\n",
       "      <td>68334</td>\n",
       "    </tr>\n",
       "    <tr>\n",
       "      <th>7</th>\n",
       "      <td>32</td>\n",
       "      <td>34210</td>\n",
       "      <td>37562</td>\n",
       "      <td>71772</td>\n",
       "    </tr>\n",
       "    <tr>\n",
       "      <th>8</th>\n",
       "      <td>33</td>\n",
       "      <td>35990</td>\n",
       "      <td>39714</td>\n",
       "      <td>75704</td>\n",
       "    </tr>\n",
       "    <tr>\n",
       "      <th>9</th>\n",
       "      <td>34</td>\n",
       "      <td>37426</td>\n",
       "      <td>40392</td>\n",
       "      <td>77818</td>\n",
       "    </tr>\n",
       "    <tr>\n",
       "      <th>10</th>\n",
       "      <td>35</td>\n",
       "      <td>39840</td>\n",
       "      <td>41705</td>\n",
       "      <td>81545</td>\n",
       "    </tr>\n",
       "    <tr>\n",
       "      <th>11</th>\n",
       "      <td>36</td>\n",
       "      <td>40892</td>\n",
       "      <td>42304</td>\n",
       "      <td>83196</td>\n",
       "    </tr>\n",
       "    <tr>\n",
       "      <th>12</th>\n",
       "      <td>37</td>\n",
       "      <td>37494</td>\n",
       "      <td>39690</td>\n",
       "      <td>77184</td>\n",
       "    </tr>\n",
       "    <tr>\n",
       "      <th>13</th>\n",
       "      <td>38</td>\n",
       "      <td>36818</td>\n",
       "      <td>37863</td>\n",
       "      <td>74681</td>\n",
       "    </tr>\n",
       "    <tr>\n",
       "      <th>14</th>\n",
       "      <td>39</td>\n",
       "      <td>36001</td>\n",
       "      <td>36814</td>\n",
       "      <td>72815</td>\n",
       "    </tr>\n",
       "    <tr>\n",
       "      <th>15</th>\n",
       "      <td>40</td>\n",
       "      <td>36521</td>\n",
       "      <td>36893</td>\n",
       "      <td>73414</td>\n",
       "    </tr>\n",
       "    <tr>\n",
       "      <th>16</th>\n",
       "      <td>41</td>\n",
       "      <td>35674</td>\n",
       "      <td>36300</td>\n",
       "      <td>71974</td>\n",
       "    </tr>\n",
       "    <tr>\n",
       "      <th>17</th>\n",
       "      <td>42</td>\n",
       "      <td>35307</td>\n",
       "      <td>35865</td>\n",
       "      <td>71172</td>\n",
       "    </tr>\n",
       "    <tr>\n",
       "      <th>18</th>\n",
       "      <td>43</td>\n",
       "      <td>35450</td>\n",
       "      <td>35838</td>\n",
       "      <td>71288</td>\n",
       "    </tr>\n",
       "    <tr>\n",
       "      <th>19</th>\n",
       "      <td>44</td>\n",
       "      <td>34530</td>\n",
       "      <td>35082</td>\n",
       "      <td>69612</td>\n",
       "    </tr>\n",
       "    <tr>\n",
       "      <th>20</th>\n",
       "      <td>45</td>\n",
       "      <td>35243</td>\n",
       "      <td>35214</td>\n",
       "      <td>70457</td>\n",
       "    </tr>\n",
       "    <tr>\n",
       "      <th>21</th>\n",
       "      <td>46</td>\n",
       "      <td>33525</td>\n",
       "      <td>33683</td>\n",
       "      <td>67208</td>\n",
       "    </tr>\n",
       "    <tr>\n",
       "      <th>22</th>\n",
       "      <td>47</td>\n",
       "      <td>31932</td>\n",
       "      <td>31708</td>\n",
       "      <td>63640</td>\n",
       "    </tr>\n",
       "    <tr>\n",
       "      <th>23</th>\n",
       "      <td>48</td>\n",
       "      <td>31315</td>\n",
       "      <td>31631</td>\n",
       "      <td>62946</td>\n",
       "    </tr>\n",
       "    <tr>\n",
       "      <th>24</th>\n",
       "      <td>49</td>\n",
       "      <td>30809</td>\n",
       "      <td>31050</td>\n",
       "      <td>61859</td>\n",
       "    </tr>\n",
       "    <tr>\n",
       "      <th>25</th>\n",
       "      <td>50</td>\n",
       "      <td>30765</td>\n",
       "      <td>31223</td>\n",
       "      <td>61988</td>\n",
       "    </tr>\n",
       "    <tr>\n",
       "      <th>26</th>\n",
       "      <td>51</td>\n",
       "      <td>30446</td>\n",
       "      <td>31352</td>\n",
       "      <td>61798</td>\n",
       "    </tr>\n",
       "    <tr>\n",
       "      <th>27</th>\n",
       "      <td>52</td>\n",
       "      <td>29603</td>\n",
       "      <td>30580</td>\n",
       "      <td>60183</td>\n",
       "    </tr>\n",
       "    <tr>\n",
       "      <th>28</th>\n",
       "      <td>53</td>\n",
       "      <td>29032</td>\n",
       "      <td>29875</td>\n",
       "      <td>58907</td>\n",
       "    </tr>\n",
       "    <tr>\n",
       "      <th>29</th>\n",
       "      <td>54</td>\n",
       "      <td>28366</td>\n",
       "      <td>28693</td>\n",
       "      <td>57059</td>\n",
       "    </tr>\n",
       "    <tr>\n",
       "      <th>30</th>\n",
       "      <td>55</td>\n",
       "      <td>28324</td>\n",
       "      <td>28932</td>\n",
       "      <td>57256</td>\n",
       "    </tr>\n",
       "    <tr>\n",
       "      <th>31</th>\n",
       "      <td>56</td>\n",
       "      <td>27045</td>\n",
       "      <td>27862</td>\n",
       "      <td>54907</td>\n",
       "    </tr>\n",
       "    <tr>\n",
       "      <th>32</th>\n",
       "      <td>57</td>\n",
       "      <td>27175</td>\n",
       "      <td>27284</td>\n",
       "      <td>54459</td>\n",
       "    </tr>\n",
       "    <tr>\n",
       "      <th>33</th>\n",
       "      <td>58</td>\n",
       "      <td>25894</td>\n",
       "      <td>26534</td>\n",
       "      <td>52428</td>\n",
       "    </tr>\n",
       "    <tr>\n",
       "      <th>34</th>\n",
       "      <td>59</td>\n",
       "      <td>25420</td>\n",
       "      <td>25632</td>\n",
       "      <td>51052</td>\n",
       "    </tr>\n",
       "    <tr>\n",
       "      <th>35</th>\n",
       "      <td>60</td>\n",
       "      <td>24802</td>\n",
       "      <td>25063</td>\n",
       "      <td>49865</td>\n",
       "    </tr>\n",
       "    <tr>\n",
       "      <th>36</th>\n",
       "      <td>61</td>\n",
       "      <td>24435</td>\n",
       "      <td>24810</td>\n",
       "      <td>49245</td>\n",
       "    </tr>\n",
       "    <tr>\n",
       "      <th>37</th>\n",
       "      <td>62</td>\n",
       "      <td>23536</td>\n",
       "      <td>23764</td>\n",
       "      <td>47300</td>\n",
       "    </tr>\n",
       "    <tr>\n",
       "      <th>38</th>\n",
       "      <td>63</td>\n",
       "      <td>23523</td>\n",
       "      <td>23879</td>\n",
       "      <td>47402</td>\n",
       "    </tr>\n",
       "    <tr>\n",
       "      <th>39</th>\n",
       "      <td>64</td>\n",
       "      <td>22402</td>\n",
       "      <td>22642</td>\n",
       "      <td>45044</td>\n",
       "    </tr>\n",
       "  </tbody>\n",
       "</table>\n",
       "</div>"
      ],
      "text/plain": [
       "    Age   Male  Female  Total\n",
       "0    25  28794   28484  57278\n",
       "1    26  27683   28574  56257\n",
       "2    27  30239   31413  61652\n",
       "3    28  28452   31004  59456\n",
       "4    29  30054   32738  62792\n",
       "5    30  32752   35595  68347\n",
       "6    31  32801   35533  68334\n",
       "7    32  34210   37562  71772\n",
       "8    33  35990   39714  75704\n",
       "9    34  37426   40392  77818\n",
       "10   35  39840   41705  81545\n",
       "11   36  40892   42304  83196\n",
       "12   37  37494   39690  77184\n",
       "13   38  36818   37863  74681\n",
       "14   39  36001   36814  72815\n",
       "15   40  36521   36893  73414\n",
       "16   41  35674   36300  71974\n",
       "17   42  35307   35865  71172\n",
       "18   43  35450   35838  71288\n",
       "19   44  34530   35082  69612\n",
       "20   45  35243   35214  70457\n",
       "21   46  33525   33683  67208\n",
       "22   47  31932   31708  63640\n",
       "23   48  31315   31631  62946\n",
       "24   49  30809   31050  61859\n",
       "25   50  30765   31223  61988\n",
       "26   51  30446   31352  61798\n",
       "27   52  29603   30580  60183\n",
       "28   53  29032   29875  58907\n",
       "29   54  28366   28693  57059\n",
       "30   55  28324   28932  57256\n",
       "31   56  27045   27862  54907\n",
       "32   57  27175   27284  54459\n",
       "33   58  25894   26534  52428\n",
       "34   59  25420   25632  51052\n",
       "35   60  24802   25063  49865\n",
       "36   61  24435   24810  49245\n",
       "37   62  23536   23764  47300\n",
       "38   63  23523   23879  47402\n",
       "39   64  22402   22642  45044"
      ]
     },
     "execution_count": 6,
     "metadata": {},
     "output_type": "execute_result"
    }
   ],
   "source": [
    "f = pd.read_csv(\"data\\Population_2016_by_Age_adj.csv\") # Import csv file using pandas\n",
    "dfAge = pd.DataFrame(f) # Create a dataframe from the csv data\n",
    "dfAge"
   ]
  },
  {
   "cell_type": "code",
   "execution_count": 7,
   "metadata": {},
   "outputs": [
    {
     "data": {
      "text/plain": [
       "<seaborn.axisgrid.FacetGrid at 0x18aa2f3bfd0>"
      ]
     },
     "execution_count": 7,
     "metadata": {},
     "output_type": "execute_result"
    },
    {
     "data": {
      "image/png": "[encoded data removed]",
      "text/plain": [
       "<Figure size 720x360 with 1 Axes>"
      ]
     },
     "metadata": {},
     "output_type": "display_data"
    }
   ],
   "source": [
    "sns.relplot(x=\"Age\", y=\"Total\", kind=\"line\", data=dfAge, height=5, aspect=2)"
   ]
  },
  {
   "cell_type": "code",
   "execution_count": 8,
   "metadata": {},
   "outputs": [],
   "source": [
    "from statsmodels.stats.weightstats import DescrStatsW\n",
    "wAge = DescrStatsW(dfAge[\"Age\"], weights=dfAge[\"Total\"])"
   ]
  },
  {
   "cell_type": "code",
   "execution_count": 9,
   "metadata": {},
   "outputs": [
    {
     "name": "stdout",
     "output_type": "stream",
     "text": [
      "Weighted mean age: 43.33\n",
      "Weighted standard deviation: 10.97\n"
     ]
    }
   ],
   "source": [
    "print(\"Weighted mean age:\", round(wAge.mean, 2))\n",
    "print(\"Weighted standard deviation:\", round(wAge.std, 2))"
   ]
  },
  {
   "cell_type": "code",
   "execution_count": 10,
   "metadata": {},
   "outputs": [],
   "source": [
    "# Creating a proportion column\n",
    "dfAge[\"Proportion\"] = dfAge[\"Total\"]/dfAge[\"Total\"].sum()"
   ]
  },
  {
   "cell_type": "code",
   "execution_count": 11,
   "metadata": {},
   "outputs": [],
   "source": [
    "ageFill = np.random.choice(dfAge[\"Age\"], 334, p=dfAge[\"Proportion\"])"
   ]
  },
  {
   "cell_type": "code",
   "execution_count": 12,
   "metadata": {},
   "outputs": [
    {
     "data": {
      "text/plain": [
       "43.97904191616767"
      ]
     },
     "execution_count": 12,
     "metadata": {},
     "output_type": "execute_result"
    }
   ],
   "source": [
    "ageFill.mean()"
   ]
  },
  {
   "cell_type": "markdown",
   "metadata": {},
   "source": [
    "** for now using 0 & 100 as lower and upper limits, will have to rework to incorporate extrapolated limits from the dsitribution above"
   ]
  },
  {
   "cell_type": "code",
   "execution_count": 39,
   "metadata": {},
   "outputs": [],
   "source": [
    "from scipy import stats\n",
    "m = stats.mode(ageFill)[0][0]\n",
    "ageTri = np.random.triangular(0, m, 100, 100000)"
   ]
  },
  {
   "cell_type": "code",
   "execution_count": 40,
   "metadata": {
    "scrolled": true
   },
   "outputs": [
    {
     "data": {
      "text/plain": [
       "array([49, 89, 61, ..., 59, 23,  3])"
      ]
     },
     "execution_count": 40,
     "metadata": {},
     "output_type": "execute_result"
    }
   ],
   "source": [
    "np.rint(ageTri)\n",
    "ageTri.astype(int)"
   ]
  },
  {
   "cell_type": "code",
   "execution_count": 41,
   "metadata": {},
   "outputs": [],
   "source": [
    "ageExcl = np.concatenate([np.arange(25), np.arange(65, 100)])"
   ]
  },
  {
   "cell_type": "code",
   "execution_count": 42,
   "metadata": {},
   "outputs": [],
   "source": [
    "ageTri = ageTri[ageTri >= 25]\n",
    "ageTri = ageTri[ageTri < 65]"
   ]
  },
  {
   "cell_type": "code",
   "execution_count": 86,
   "metadata": {},
   "outputs": [
    {
     "data": {
      "text/plain": [
       "array([25.00059565, 25.00175005, 25.00223106, ..., 64.99558571,\n",
       "       64.9976469 , 64.99952806])"
      ]
     },
     "execution_count": 86,
     "metadata": {},
     "output_type": "execute_result"
    }
   ],
   "source": [
    "ageTri = np.sort(ageTri) \n",
    "ageTri"
   ]
  },
  {
   "cell_type": "code",
   "execution_count": 87,
   "metadata": {},
   "outputs": [
    {
     "data": {
      "text/plain": [
       "(63977,)"
      ]
     },
     "execution_count": 87,
     "metadata": {},
     "output_type": "execute_result"
    }
   ],
   "source": [
    "ageTri.shape"
   ]
  },
  {
   "cell_type": "code",
   "execution_count": 88,
   "metadata": {},
   "outputs": [
    {
     "data": {
      "text/plain": [
       "44.41934711000765"
      ]
     },
     "execution_count": 88,
     "metadata": {},
     "output_type": "execute_result"
    }
   ],
   "source": [
    "ageTri.mean()"
   ]
  },
  {
   "cell_type": "code",
   "execution_count": 89,
   "metadata": {},
   "outputs": [
    {
     "data": {
      "text/plain": [
       "<matplotlib.axes._subplots.AxesSubplot at 0x18aa432af98>"
      ]
     },
     "execution_count": 89,
     "metadata": {},
     "output_type": "execute_result"
    },
    {
     "data": {
      "image/png": "[encoded data removed]",
      "text/plain": [
       "<Figure size 432x288 with 1 Axes>"
      ]
     },
     "metadata": {},
     "output_type": "display_data"
    }
   ],
   "source": [
    "sns.distplot(ageTri, bins = 30)"
   ]
  },
  {
   "cell_type": "code",
   "execution_count": 107,
   "metadata": {},
   "outputs": [
    {
     "name": "stdout",
     "output_type": "stream",
     "text": [
      "192.54790419161677 193\n"
     ]
    }
   ],
   "source": [
    "ssize = 334\n",
    "\n",
    "skip = ageTri.shape[0]/ssize+1\n",
    "#skip = round(skip, 2)\n",
    "skipint = int(round(skip,0))\n",
    "print(skip, skipint)"
   ]
  },
  {
   "cell_type": "code",
   "execution_count": 108,
   "metadata": {
    "scrolled": true
   },
   "outputs": [],
   "source": [
    "arr = np.array([0])\n",
    "skipcurrent = 0.0\n",
    "skiptotal = 0\n",
    "while skiptotal < ageTri.shape[0]:\n",
    "#    skiptotal = skiptotal + int(skipcurrent)\n",
    "    skipcurrent = skipcurrent + skip\n",
    "#    print(skipcurrent)\n",
    "    skiptotal = int(round(skipcurrent,0))\n",
    "#    print(skiptotal)   \n",
    "    arr = np.append(arr, skiptotal)"
   ]
  },
  {
   "cell_type": "code",
   "execution_count": 109,
   "metadata": {},
   "outputs": [
    {
     "data": {
      "text/plain": [
       "array([    0,   193,   385,   578,   770,   963,  1155,  1348,  1540,\n",
       "        1733,  1925,  2118,  2311,  2503,  2696,  2888,  3081,  3273,\n",
       "        3466,  3658,  3851,  4044,  4236,  4429,  4621,  4814,  5006,\n",
       "        5199,  5391,  5584,  5776,  5969,  6162,  6354,  6547,  6739,\n",
       "        6932,  7124,  7317,  7509,  7702,  7894,  8087,  8280,  8472,\n",
       "        8665,  8857,  9050,  9242,  9435,  9627,  9820, 10012, 10205,\n",
       "       10398, 10590, 10783, 10975, 11168, 11360, 11553, 11745, 11938,\n",
       "       12131, 12323, 12516, 12708, 12901, 13093, 13286, 13478, 13671,\n",
       "       13863, 14056, 14249, 14441, 14634, 14826, 15019, 15211, 15404,\n",
       "       15596, 15789, 15981, 16174, 16367, 16559, 16752, 16944, 17137,\n",
       "       17329, 17522, 17714, 17907, 18100, 18292, 18485, 18677, 18870,\n",
       "       19062, 19255, 19447, 19640, 19832, 20025, 20218, 20410, 20603,\n",
       "       20795, 20988, 21180, 21373, 21565, 21758, 21950, 22143, 22336,\n",
       "       22528, 22721, 22913, 23106, 23298, 23491, 23683, 23876, 24068,\n",
       "       24261, 24454, 24646, 24839, 25031, 25224, 25416, 25609, 25801,\n",
       "       25994, 26187, 26379, 26572, 26764, 26957, 27149, 27342, 27534,\n",
       "       27727, 27919, 28112, 28305, 28497, 28690, 28882, 29075, 29267,\n",
       "       29460, 29652, 29845, 30037, 30230, 30423, 30615, 30808, 31000,\n",
       "       31193, 31385, 31578, 31770, 31963, 32155, 32348, 32541, 32733,\n",
       "       32926, 33118, 33311, 33503, 33696, 33888, 34081, 34274, 34466,\n",
       "       34659, 34851, 35044, 35236, 35429, 35621, 35814, 36006, 36199,\n",
       "       36392, 36584, 36777, 36969, 37162, 37354, 37547, 37739, 37932,\n",
       "       38124, 38317, 38510, 38702, 38895, 39087, 39280, 39472, 39665,\n",
       "       39857, 40050, 40243, 40435, 40628, 40820, 41013, 41205, 41398,\n",
       "       41590, 41783, 41975, 42168, 42361, 42553, 42746, 42938, 43131,\n",
       "       43323, 43516, 43708, 43901, 44093, 44286, 44479, 44671, 44864,\n",
       "       45056, 45249, 45441, 45634, 45826, 46019, 46211, 46404, 46597,\n",
       "       46789, 46982, 47174, 47367, 47559, 47752, 47944, 48137, 48330,\n",
       "       48522, 48715, 48907, 49100, 49292, 49485, 49677, 49870, 50062,\n",
       "       50255, 50448, 50640, 50833, 51025, 51218, 51410, 51603, 51795,\n",
       "       51988, 52180, 52373, 52566, 52758, 52951, 53143, 53336, 53528,\n",
       "       53721, 53913, 54106, 54299, 54491, 54684, 54876, 55069, 55261,\n",
       "       55454, 55646, 55839, 56031, 56224, 56417, 56609, 56802, 56994,\n",
       "       57187, 57379, 57572, 57764, 57957, 58149, 58342, 58535, 58727,\n",
       "       58920, 59112, 59305, 59497, 59690, 59882, 60075, 60267, 60460,\n",
       "       60653, 60845, 61038, 61230, 61423, 61615, 61808, 62000, 62193,\n",
       "       62386, 62578, 62771, 62963, 63156, 63348, 63541, 63733, 63926,\n",
       "       64118])"
      ]
     },
     "execution_count": 109,
     "metadata": {},
     "output_type": "execute_result"
    }
   ],
   "source": [
    "arr"
   ]
  },
  {
   "cell_type": "code",
   "execution_count": 110,
   "metadata": {},
   "outputs": [
    {
     "data": {
      "text/plain": [
       "(334,)"
      ]
     },
     "execution_count": 110,
     "metadata": {},
     "output_type": "execute_result"
    }
   ],
   "source": [
    "arr.shape"
   ]
  },
  {
   "cell_type": "code",
   "execution_count": 111,
   "metadata": {},
   "outputs": [
    {
     "data": {
      "text/plain": [
       "array([], dtype=float64)"
      ]
     },
     "execution_count": 111,
     "metadata": {},
     "output_type": "execute_result"
    }
   ],
   "source": [
    "ageTriSub = np.array([])\n",
    "ageTriSub"
   ]
  },
  {
   "cell_type": "code",
   "execution_count": 112,
   "metadata": {},
   "outputs": [
    {
     "data": {
      "text/plain": [
       "63976"
      ]
     },
     "execution_count": 112,
     "metadata": {},
     "output_type": "execute_result"
    }
   ],
   "source": [
    "np.argmax(ageTri)"
   ]
  },
  {
   "cell_type": "code",
   "execution_count": 113,
   "metadata": {},
   "outputs": [],
   "source": [
    "for i in arr:\n",
    "    if i <= np.argmax(ageTri):\n",
    "        ageTriSub = np.append(ageTriSub, ageTri[i])"
   ]
  },
  {
   "cell_type": "code",
   "execution_count": 114,
   "metadata": {},
   "outputs": [
    {
     "data": {
      "text/plain": [
       "array([25.00059565, 25.15888062, 25.32156088, 25.48316027, 25.62425151,\n",
       "       25.77777669, 25.93812013, 26.07208581, 26.20887407, 26.34237745,\n",
       "       26.48884579, 26.62441587, 26.78602695, 26.95240559, 27.11446581,\n",
       "       27.26364877, 27.39963138, 27.53359926, 27.66458045, 27.80731745,\n",
       "       27.94980415, 28.09927958, 28.23620307, 28.38545531, 28.51745783,\n",
       "       28.65228467, 28.78508024, 28.94652437, 29.08523295, 29.22411137,\n",
       "       29.34639197, 29.46881719, 29.59550852, 29.74437883, 29.87769774,\n",
       "       30.01226004, 30.12797   , 30.24401229, 30.36964553, 30.49306254,\n",
       "       30.62244809, 30.7506935 , 30.87125893, 30.99032203, 31.11145977,\n",
       "       31.23248398, 31.33900728, 31.47048868, 31.59040141, 31.71441824,\n",
       "       31.84185326, 31.96945255, 32.08506219, 32.20905703, 32.32154276,\n",
       "       32.44106102, 32.55581666, 32.66348884, 32.77544741, 32.88910181,\n",
       "       33.00245393, 33.11790199, 33.23691284, 33.34561072, 33.45674976,\n",
       "       33.57505976, 33.69310053, 33.8129779 , 33.9182439 , 34.02802784,\n",
       "       34.14621006, 34.25425198, 34.36747013, 34.47693706, 34.58707607,\n",
       "       34.69999007, 34.80425258, 34.91031637, 35.01842529, 35.12404813,\n",
       "       35.23240392, 35.34839673, 35.46263984, 35.56483599, 35.67174336,\n",
       "       35.77768451, 35.88399548, 35.99064318, 36.08774785, 36.18181501,\n",
       "       36.30171137, 36.41543301, 36.5148617 , 36.61973578, 36.71831446,\n",
       "       36.82806192, 36.92422221, 37.02446899, 37.12830186, 37.23895784,\n",
       "       37.34708414, 37.44958704, 37.55561292, 37.66644625, 37.7706622 ,\n",
       "       37.87781675, 37.97161305, 38.07166496, 38.17690359, 38.28193626,\n",
       "       38.38145791, 38.47669935, 38.58266471, 38.68334449, 38.78796329,\n",
       "       38.89969867, 38.99754409, 39.08353173, 39.17649317, 39.27787849,\n",
       "       39.35946518, 39.45064178, 39.54971854, 39.64661467, 39.73999319,\n",
       "       39.85307737, 39.94811926, 40.03951474, 40.1452773 , 40.24316555,\n",
       "       40.33242302, 40.4303967 , 40.53785512, 40.63081182, 40.73949394,\n",
       "       40.83920534, 40.92956099, 41.03056976, 41.12524739, 41.21922523,\n",
       "       41.33073018, 41.42293764, 41.52762608, 41.62899315, 41.7350751 ,\n",
       "       41.81969841, 41.91017922, 42.00840903, 42.11476148, 42.20924759,\n",
       "       42.30939178, 42.4114044 , 42.51588988, 42.6179122 , 42.71457422,\n",
       "       42.82549872, 42.92353634, 43.01900391, 43.13155357, 43.22675969,\n",
       "       43.3242287 , 43.43323558, 43.54071565, 43.64525044, 43.74137611,\n",
       "       43.82713993, 43.92289572, 44.01903756, 44.1125457 , 44.22026937,\n",
       "       44.32170103, 44.42322668, 44.51961019, 44.6246723 , 44.72189499,\n",
       "       44.84061716, 44.9508168 , 45.04628216, 45.1559868 , 45.27060736,\n",
       "       45.37643944, 45.48445294, 45.59129299, 45.69470884, 45.80876898,\n",
       "       45.91745613, 46.01141966, 46.1183318 , 46.2289852 , 46.34426757,\n",
       "       46.44815681, 46.54968974, 46.6490301 , 46.76520144, 46.86598518,\n",
       "       46.98021861, 47.07413862, 47.18586119, 47.31065045, 47.40555837,\n",
       "       47.51824486, 47.62099567, 47.73241428, 47.84149322, 47.93970646,\n",
       "       48.05172676, 48.17032556, 48.2874047 , 48.40118852, 48.51668127,\n",
       "       48.62433289, 48.73204617, 48.83832039, 48.96787779, 49.07708546,\n",
       "       49.1988254 , 49.32989983, 49.44855547, 49.5712641 , 49.68880433,\n",
       "       49.79550695, 49.92492606, 50.03973064, 50.14375211, 50.26269861,\n",
       "       50.37978932, 50.49814486, 50.6106686 , 50.72061622, 50.83067275,\n",
       "       50.94957089, 51.06007367, 51.17102151, 51.29315896, 51.4202608 ,\n",
       "       51.53137803, 51.63545477, 51.75291651, 51.86908087, 51.99651603,\n",
       "       52.12120847, 52.23977682, 52.36032646, 52.47895768, 52.60250829,\n",
       "       52.72986996, 52.85422793, 52.96260618, 53.09593574, 53.21177503,\n",
       "       53.32539968, 53.45002894, 53.57794767, 53.69570425, 53.8210119 ,\n",
       "       53.9413439 , 54.081356  , 54.1987408 , 54.33158431, 54.46727003,\n",
       "       54.6063821 , 54.73330543, 54.8533691 , 54.9824014 , 55.11055297,\n",
       "       55.24548671, 55.35895792, 55.47066466, 55.59904079, 55.74328188,\n",
       "       55.89660209, 56.0256093 , 56.15912407, 56.30838137, 56.43342125,\n",
       "       56.56206324, 56.69479757, 56.82656769, 56.95447881, 57.08382359,\n",
       "       57.22229395, 57.35003702, 57.47693509, 57.59984281, 57.73202608,\n",
       "       57.87795673, 58.00670114, 58.14617044, 58.29175984, 58.43065178,\n",
       "       58.58772793, 58.72429499, 58.85858919, 58.98904491, 59.13592632,\n",
       "       59.27447476, 59.40947959, 59.54592392, 59.70547863, 59.84551397,\n",
       "       59.99572981, 60.1263233 , 60.25973013, 60.3978651 , 60.55250473,\n",
       "       60.69381159, 60.8329547 , 60.97112907, 61.11161948, 61.25748746,\n",
       "       61.38930914, 61.52409625, 61.68706289, 61.84989093, 62.01089632,\n",
       "       62.17121757, 62.32162389, 62.46740946, 62.62708167, 62.78991568,\n",
       "       62.95114109, 63.09810391, 63.25143072, 63.4182747 , 63.58359346,\n",
       "       63.75454361, 63.9289407 , 64.10763474, 64.27318494, 64.43580839,\n",
       "       64.59384052, 64.79620892, 64.95699976])"
      ]
     },
     "execution_count": 114,
     "metadata": {},
     "output_type": "execute_result"
    }
   ],
   "source": [
    "ageTriSub"
   ]
  },
  {
   "cell_type": "code",
   "execution_count": 115,
   "metadata": {},
   "outputs": [
    {
     "data": {
      "text/plain": [
       "<matplotlib.axes._subplots.AxesSubplot at 0x18aa441dcf8>"
      ]
     },
     "execution_count": 115,
     "metadata": {},
     "output_type": "execute_result"
    },
    {
     "data": {
      "image/png": "[encoded data removed]",
      "text/plain": [
       "<Figure size 432x288 with 1 Axes>"
      ]
     },
     "metadata": {},
     "output_type": "display_data"
    }
   ],
   "source": [
    "sns.distplot(ageTriSub)"
   ]
  },
  {
   "cell_type": "code",
   "execution_count": 116,
   "metadata": {},
   "outputs": [],
   "source": [
    "ageTriSkip = ageTri[::skipint]"
   ]
  },
  {
   "cell_type": "code",
   "execution_count": 117,
   "metadata": {},
   "outputs": [
    {
     "data": {
      "text/plain": [
       "<matplotlib.axes._subplots.AxesSubplot at 0x18aa44b21d0>"
      ]
     },
     "execution_count": 117,
     "metadata": {},
     "output_type": "execute_result"
    },
    {
     "data": {
      "image/png": "[encoded data removed]",
      "text/plain": [
       "<Figure size 432x288 with 1 Axes>"
      ]
     },
     "metadata": {},
     "output_type": "display_data"
    }
   ],
   "source": [
    "sns.distplot(ageTriSkip)"
   ]
  },
  {
   "cell_type": "code",
   "execution_count": 118,
   "metadata": {},
   "outputs": [
    {
     "name": "stdout",
     "output_type": "stream",
     "text": [
      "Full dataset mean: 44.41934711000765\n",
      "Full dataset stdev: 10.817888067631426\n",
      "\n",
      "Reduced dataset mean: 44.391108071301886\n",
      "Reduced dataset stdev: 10.836632088020716\n",
      "\n",
      "Sub dataset mean: 44.40504732636704\n",
      "Sub dataset stdev: 10.84581639886543\n"
     ]
    }
   ],
   "source": [
    "print(\"Full dataset mean:\", ageTri.mean())\n",
    "print(\"Full dataset stdev:\", ageTri.std())\n",
    "\n",
    "print(\"\\nReduced dataset mean:\",ageTriSkip.mean())\n",
    "print(\"Reduced dataset stdev:\", ageTriSkip.std())\n",
    "\n",
    "print(\"\\nSub dataset mean:\",ageTriSub.mean())\n",
    "print(\"Sub dataset stdev:\", ageTriSub.std())"
   ]
  },
  {
   "cell_type": "markdown",
   "metadata": {},
   "source": [
    "### Qualification Data"
   ]
  },
  {
   "cell_type": "markdown",
   "metadata": {},
   "source": [
    "### Field of Study Data"
   ]
  },
  {
   "cell_type": "markdown",
   "metadata": {},
   "source": [
    "### Gender Data"
   ]
  },
  {
   "cell_type": "markdown",
   "metadata": {},
   "source": [
    "This will be a categorical variable, either \"F\" or \"M\"."
   ]
  },
  {
   "cell_type": "code",
   "execution_count": 29,
   "metadata": {},
   "outputs": [
    {
     "data": {
      "text/plain": [
       "array(['F', 'M', 'M', 'F', 'F', 'M', 'M', 'M', 'F', 'F', 'F', 'F', 'M',\n",
       "       'F', 'M', 'M', 'M', 'F', 'M', 'F', 'F', 'M', 'M', 'F', 'F', 'M',\n",
       "       'M', 'F', 'F', 'F', 'F', 'M', 'M', 'F', 'F', 'F', 'M', 'F', 'M',\n",
       "       'F', 'M', 'F', 'M', 'M', 'F', 'M', 'M', 'F', 'M', 'F', 'F', 'M',\n",
       "       'F', 'F', 'M', 'F', 'M', 'M', 'M', 'M', 'F', 'F', 'F', 'M', 'M',\n",
       "       'M', 'M', 'M', 'F', 'F', 'F', 'F', 'F', 'F', 'M', 'M', 'F', 'F',\n",
       "       'M', 'M', 'F', 'F', 'F', 'M', 'F', 'F', 'F', 'F', 'M', 'M', 'M',\n",
       "       'M', 'M', 'F', 'M', 'M', 'F', 'M', 'F', 'M', 'M', 'M', 'F', 'M',\n",
       "       'M', 'F', 'F', 'F', 'F', 'F', 'F', 'M', 'M', 'F', 'M', 'M', 'F',\n",
       "       'M', 'F', 'M', 'M', 'F', 'F', 'F', 'F', 'M', 'F', 'F', 'M', 'M',\n",
       "       'M', 'M', 'M', 'M', 'M', 'M', 'M', 'F', 'F', 'F', 'M', 'F', 'F',\n",
       "       'M', 'F', 'F', 'F', 'F', 'M', 'M', 'F', 'F', 'M', 'M', 'F', 'M',\n",
       "       'F', 'M', 'F', 'F', 'F', 'F', 'F', 'F', 'F', 'M', 'M', 'M', 'F',\n",
       "       'M', 'M', 'M', 'M', 'M', 'M', 'M', 'F', 'M', 'F', 'F', 'F', 'F',\n",
       "       'F', 'F', 'F', 'M', 'F', 'F', 'F', 'M', 'F', 'M', 'F', 'F', 'M',\n",
       "       'M', 'M', 'M', 'M', 'M'], dtype='<U1')"
      ]
     },
     "execution_count": 29,
     "metadata": {},
     "output_type": "execute_result"
    }
   ],
   "source": [
    "genders = [\"F\", \"M\"]\n",
    "\n",
    "np.random.choice(genders, size=200)"
   ]
  },
  {
   "cell_type": "markdown",
   "metadata": {},
   "source": [
    "## Results"
   ]
  },
  {
   "cell_type": "markdown",
   "metadata": {},
   "source": []
  }
 ],
 "metadata": {
  "kernelspec": {
   "display_name": "Python 3",
   "language": "python",
   "name": "python3"
  },
  "language_info": {
   "codemirror_mode": {
    "name": "ipython",
    "version": 3
   },
   "file_extension": ".py",
   "mimetype": "text/x-python",
   "name": "python",
   "nbconvert_exporter": "python",
   "pygments_lexer": "ipython3",
   "version": "3.7.3"
  }
 },
 "nbformat": 4,
 "nbformat_minor": 4
}
